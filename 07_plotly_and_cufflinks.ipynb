{
 "cells": [
  {
   "cell_type": "markdown",
   "metadata": {},
   "source": [
    "Plotly is a library that allows you to create interactive plots that you can use in dashboards or websites (you can save them as html files or static images).\n",
    "\n",
    "## Installation\n",
    "\n",
    "In order for this all to work, you'll need to install plotly and cufflinks to call plots directly off of a pandas dataframe. These libraries are not currently available through **conda** but are available through **pip**. Install the libraries at your command line/terminal using:\n",
    "\n",
    "    pip install plotly\n",
    "    pip install cufflinks\n",
    "\n",
    "** NOTE: Make sure you only have one installation of Python on your computer when you do this, otherwise the installation may not work. **\n",
    "\n",
    "## Imports and Set-up"
   ]
  },
  {
   "cell_type": "code",
   "execution_count": 19,
   "metadata": {
    "collapsed": true
   },
   "outputs": [],
   "source": [
    "import pandas as pd\n",
    "import numpy as np\n",
    "%matplotlib inline"
   ]
  },
  {
   "cell_type": "code",
   "execution_count": 20,
   "metadata": {
    "collapsed": false
   },
   "outputs": [
    {
     "name": "stdout",
     "output_type": "stream",
     "text": [
      "5.22.0\n"
     ]
    }
   ],
   "source": [
    "from plotly import __version__\n",
    "from plotly.offline import download_plotlyjs, init_notebook_mode, plot, iplot\n",
    "\n",
    "print(__version__) # requires version >= 1.9.0"
   ]
  },
  {
   "cell_type": "code",
   "execution_count": 21,
   "metadata": {
    "collapsed": true
   },
   "outputs": [],
   "source": [
    "import cufflinks as cf"
   ]
  },
  {
   "cell_type": "code",
   "execution_count": 22,
   "metadata": {
    "collapsed": false
   },
   "outputs": [
    {
     "data": {
      "text/html": [
       "        <script type=\"text/javascript\">\n",
       "        window.PlotlyConfig = {MathJaxConfig: 'local'};\n",
       "        if (window.MathJax && window.MathJax.Hub && window.MathJax.Hub.Config) {window.MathJax.Hub.Config({SVG: {font: \"STIX-Web\"}});}\n",
       "        if (typeof require !== 'undefined') {\n",
       "        require.undef(\"plotly\");\n",
       "        requirejs.config({\n",
       "            paths: {\n",
       "                'plotly': ['https://cdn.plot.ly/plotly-2.32.0.min']\n",
       "            }\n",
       "        });\n",
       "        require(['plotly'], function(Plotly) {\n",
       "            window._Plotly = Plotly;\n",
       "        });\n",
       "        }\n",
       "        </script>\n",
       "        "
      ]
     },
     "metadata": {},
     "output_type": "display_data"
    }
   ],
   "source": [
    "# For Notebooks\n",
    "init_notebook_mode(connected=True)"
   ]
  },
  {
   "cell_type": "code",
   "execution_count": 23,
   "metadata": {
    "collapsed": false
   },
   "outputs": [
    {
     "data": {
      "text/html": [
       "        <script type=\"text/javascript\">\n",
       "        window.PlotlyConfig = {MathJaxConfig: 'local'};\n",
       "        if (window.MathJax && window.MathJax.Hub && window.MathJax.Hub.Config) {window.MathJax.Hub.Config({SVG: {font: \"STIX-Web\"}});}\n",
       "        if (typeof require !== 'undefined') {\n",
       "        require.undef(\"plotly\");\n",
       "        requirejs.config({\n",
       "            paths: {\n",
       "                'plotly': ['https://cdn.plot.ly/plotly-2.32.0.min']\n",
       "            }\n",
       "        });\n",
       "        require(['plotly'], function(Plotly) {\n",
       "            window._Plotly = Plotly;\n",
       "        });\n",
       "        }\n",
       "        </script>\n",
       "        "
      ]
     },
     "metadata": {},
     "output_type": "display_data"
    }
   ],
   "source": [
    "# For offline use\n",
    "cf.go_offline()"
   ]
  },
  {
   "cell_type": "markdown",
   "metadata": {},
   "source": [
    "### Fake Data"
   ]
  },
  {
   "cell_type": "code",
   "execution_count": 24,
   "metadata": {
    "collapsed": false
   },
   "outputs": [],
   "source": [
    "df = pd.DataFrame(np.random.randn(100,4),columns='A B C D'.split())"
   ]
  },
  {
   "cell_type": "code",
   "execution_count": 25,
   "metadata": {
    "collapsed": false
   },
   "outputs": [
    {
     "data": {
      "text/html": [
       "<div>\n",
       "<style scoped>\n",
       "    .dataframe tbody tr th:only-of-type {\n",
       "        vertical-align: middle;\n",
       "    }\n",
       "\n",
       "    .dataframe tbody tr th {\n",
       "        vertical-align: top;\n",
       "    }\n",
       "\n",
       "    .dataframe thead th {\n",
       "        text-align: right;\n",
       "    }\n",
       "</style>\n",
       "<table border=\"1\" class=\"dataframe\">\n",
       "  <thead>\n",
       "    <tr style=\"text-align: right;\">\n",
       "      <th></th>\n",
       "      <th>A</th>\n",
       "      <th>B</th>\n",
       "      <th>C</th>\n",
       "      <th>D</th>\n",
       "    </tr>\n",
       "  </thead>\n",
       "  <tbody>\n",
       "    <tr>\n",
       "      <th>0</th>\n",
       "      <td>-1.390195</td>\n",
       "      <td>-0.591340</td>\n",
       "      <td>-0.785875</td>\n",
       "      <td>0.605063</td>\n",
       "    </tr>\n",
       "    <tr>\n",
       "      <th>1</th>\n",
       "      <td>1.069923</td>\n",
       "      <td>1.291121</td>\n",
       "      <td>-0.416624</td>\n",
       "      <td>-0.534166</td>\n",
       "    </tr>\n",
       "    <tr>\n",
       "      <th>2</th>\n",
       "      <td>0.205503</td>\n",
       "      <td>-1.466747</td>\n",
       "      <td>-0.401263</td>\n",
       "      <td>-0.683695</td>\n",
       "    </tr>\n",
       "    <tr>\n",
       "      <th>3</th>\n",
       "      <td>-0.129137</td>\n",
       "      <td>-0.332297</td>\n",
       "      <td>0.354658</td>\n",
       "      <td>0.071502</td>\n",
       "    </tr>\n",
       "    <tr>\n",
       "      <th>4</th>\n",
       "      <td>1.194339</td>\n",
       "      <td>0.118770</td>\n",
       "      <td>-1.201072</td>\n",
       "      <td>-0.675077</td>\n",
       "    </tr>\n",
       "  </tbody>\n",
       "</table>\n",
       "</div>"
      ],
      "text/plain": [
       "          A         B         C         D\n",
       "0 -1.390195 -0.591340 -0.785875  0.605063\n",
       "1  1.069923  1.291121 -0.416624 -0.534166\n",
       "2  0.205503 -1.466747 -0.401263 -0.683695\n",
       "3 -0.129137 -0.332297  0.354658  0.071502\n",
       "4  1.194339  0.118770 -1.201072 -0.675077"
      ]
     },
     "execution_count": 25,
     "metadata": {},
     "output_type": "execute_result"
    }
   ],
   "source": [
    "df.head()"
   ]
  },
  {
   "cell_type": "code",
   "execution_count": 26,
   "metadata": {
    "collapsed": true
   },
   "outputs": [],
   "source": [
    "df2 = pd.DataFrame({'Category':['A','B','C'],'Values':[32,43,50]})"
   ]
  },
  {
   "cell_type": "code",
   "execution_count": 27,
   "metadata": {
    "collapsed": false
   },
   "outputs": [
    {
     "data": {
      "text/html": [
       "<div>\n",
       "<style scoped>\n",
       "    .dataframe tbody tr th:only-of-type {\n",
       "        vertical-align: middle;\n",
       "    }\n",
       "\n",
       "    .dataframe tbody tr th {\n",
       "        vertical-align: top;\n",
       "    }\n",
       "\n",
       "    .dataframe thead th {\n",
       "        text-align: right;\n",
       "    }\n",
       "</style>\n",
       "<table border=\"1\" class=\"dataframe\">\n",
       "  <thead>\n",
       "    <tr style=\"text-align: right;\">\n",
       "      <th></th>\n",
       "      <th>Category</th>\n",
       "      <th>Values</th>\n",
       "    </tr>\n",
       "  </thead>\n",
       "  <tbody>\n",
       "    <tr>\n",
       "      <th>0</th>\n",
       "      <td>A</td>\n",
       "      <td>32</td>\n",
       "    </tr>\n",
       "    <tr>\n",
       "      <th>1</th>\n",
       "      <td>B</td>\n",
       "      <td>43</td>\n",
       "    </tr>\n",
       "    <tr>\n",
       "      <th>2</th>\n",
       "      <td>C</td>\n",
       "      <td>50</td>\n",
       "    </tr>\n",
       "  </tbody>\n",
       "</table>\n",
       "</div>"
      ],
      "text/plain": [
       "  Category  Values\n",
       "0        A      32\n",
       "1        B      43\n",
       "2        C      50"
      ]
     },
     "execution_count": 27,
     "metadata": {},
     "output_type": "execute_result"
    }
   ],
   "source": [
    "df2.head()"
   ]
  },
  {
   "cell_type": "markdown",
   "metadata": {},
   "source": [
    "## Using Cufflinks and iplot()\n",
    "\n",
    "* scatter\n",
    "* bar\n",
    "* box\n",
    "* spread\n",
    "* ratio\n",
    "* heatmap\n",
    "* surface\n",
    "* histogram\n",
    "* bubble"
   ]
  },
  {
   "cell_type": "markdown",
   "metadata": {},
   "source": [
    "## Scatter"
   ]
  },
  {
   "cell_type": "code",
   "execution_count": 28,
   "metadata": {
    "collapsed": false
   },
   "outputs": [
    {
     "data": {
      "application/vnd.plotly.v1+json": {
       "config": {
        "linkText": "Export to plot.ly",
        "plotlyServerURL": "https://plot.ly",
        "showLink": true
       },
       "data": [
        {
         "line": {
          "color": "rgba(255, 153, 51, 1.0)",
          "dash": "solid",
          "shape": "linear",
          "width": 1.3
         },
         "marker": {
          "size": 10,
          "symbol": "circle"
         },
         "mode": "markers",
         "name": "B",
         "text": "",
         "type": "scatter",
         "x": [
          -1.3901949841581454,
          1.069922847106397,
          0.2055027592448163,
          -0.1291368074106173,
          1.1943389288630906,
          -1.3292319904526035,
          0.10172609409471008,
          -0.3221745473763238,
          -1.0933289223171323,
          0.8962065258841243,
          -0.7786362671054254,
          -0.011645302090516776,
          0.44924603650584644,
          -0.8256606600330482,
          0.4933240135491313,
          -1.425021249604569,
          -0.7980154456139854,
          1.2716639235371983,
          0.983634830370605,
          -0.0131853266453508,
          0.07970050864372122,
          -1.3183877932587922,
          -0.06041057639929024,
          -0.11134888702932266,
          -2.1499368132801058,
          -0.5514439544355939,
          0.3914604681738653,
          0.8890679991657041,
          0.28542034976793784,
          -0.6304761846712792,
          -0.1878088747248309,
          0.8889529698002793,
          0.45778071476476473,
          -0.12327331670334513,
          -0.29537435268245876,
          -0.08960332054704244,
          0.10432345628202129,
          0.8461532567992535,
          0.803601424416993,
          0.9491203637480421,
          -0.37765332489133335,
          -0.38752199701339685,
          0.8723021363291167,
          2.1204431464464233,
          2.0875076710319154,
          -0.26696339954003034,
          0.8106619705258042,
          -0.2214274625076834,
          -0.7118090777153491,
          -1.688032206163727,
          0.6028689425515956,
          -1.6958500587474632,
          0.2807016925333527,
          -1.0509375083617725,
          0.4448628824772095,
          1.3435148948892826,
          0.4203795505337432,
          -0.7635183838411761,
          -0.9406507307083636,
          0.09562761051184446,
          -1.272869074454918,
          1.0960340944547309,
          1.0625238646050967,
          -0.17771685453414426,
          1.845712049875227,
          0.14235070116325824,
          -0.7941112509036065,
          1.3529661858705617,
          0.9804622209996304,
          1.6876064912058704,
          -0.670156983203831,
          -1.3323507004611381,
          1.3730453556738749,
          0.7882964598361236,
          -1.0531434522638672,
          -0.3146275627267074,
          -3.0747599634463696,
          0.7359197646540324,
          0.3905846088913656,
          0.7562292950033769,
          2.0126903623388985,
          -0.9417501065215361,
          0.0605632892435693,
          0.7150989468002216,
          1.7112704379063017,
          -0.05141026396406195,
          0.746287932383283,
          0.049952739784688345,
          2.0393266553986016,
          -0.19115632906252,
          2.53897699824267,
          0.06677133714948412,
          0.18331594429555945,
          -0.28503842514401506,
          1.3961232808599877,
          -2.7523778166341635,
          0.08231536758941917,
          1.153297736148488,
          1.1121083772525953,
          -1.093043512712841
         ],
         "y": [
          -0.5913402385474351,
          1.291121332745925,
          -1.466747037145677,
          -0.3322969627060832,
          0.1187700874875702,
          -0.24207599262733395,
          -0.6226001284660565,
          1.272572536022268,
          -0.04171014781234873,
          0.18080898864233078,
          -1.2586879467504293,
          -0.5135337558658654,
          -0.8473200180220722,
          0.8604218703730332,
          -1.7856776836306145,
          -0.5919786283309229,
          -0.1359138565576188,
          0.601459009542728,
          -0.8431732058899216,
          0.9863151365620875,
          1.105404116926311,
          -2.30989555478306,
          0.6345142872351962,
          -0.8127965787904066,
          -1.2339041212978519,
          0.9146263775285808,
          -1.070146080674142,
          -0.2821436508345468,
          0.21783932695449573,
          -1.0377114276217354,
          2.551428546572451,
          -0.7394626721208684,
          -0.21305885706846572,
          -0.9914679216957235,
          -1.3556255372723736,
          -0.623899335595533,
          -1.4508558168496688,
          -0.9740248766369816,
          -1.9807426870934963,
          -0.3173781925508749,
          -1.8959224489347248,
          2.0313578713934053,
          -0.7251622914463774,
          0.008575265151005882,
          1.0438778960596895,
          0.2974943865792594,
          -0.33413957586703646,
          0.8044725946533433,
          -1.737641661567125,
          0.08412351848049478,
          1.336762991048388,
          -2.2746010546139583,
          -0.12327330870798514,
          0.821392336743205,
          0.5264790702487522,
          2.0717612284105895,
          0.6576114588811612,
          -0.41184883862426647,
          -0.16505253016242047,
          0.8468452828212563,
          -1.5274103886728592,
          0.6571478551011237,
          0.8391958399037819,
          -1.6519628230129517,
          0.012091368496789549,
          -0.28651555423397385,
          -0.0334744400687433,
          0.9048678102827954,
          0.03883455535784291,
          -1.369637488107185,
          -1.7295384107389804,
          -2.1987599151098713,
          0.73107072483283,
          0.9924865836621327,
          -0.22755603733200772,
          0.7116799179162969,
          1.8516026144301145,
          -0.24928062944149215,
          -2.27293167085413,
          1.3784823080181787,
          0.7086191282068263,
          1.3877586827610382,
          -1.1304517131677987,
          0.6464728780029316,
          2.070760542940685,
          -1.4634696830461231,
          0.6571830263885893,
          -2.2943196819244234,
          0.19188186933341375,
          -1.295083155007402,
          0.4119242303807797,
          -1.5338654192597836,
          0.0729083197894447,
          -0.5401987615233624,
          1.2712282833943516,
          -0.00030327787264339837,
          -0.3492774061960846,
          0.5559914807905486,
          -0.6696434699440698,
          -0.4733264851114375
         ]
        }
       ],
       "layout": {
        "legend": {
         "bgcolor": "#F5F6F9",
         "font": {
          "color": "#4D5663"
         }
        },
        "paper_bgcolor": "#F5F6F9",
        "plot_bgcolor": "#F5F6F9",
        "template": {
         "data": {
          "bar": [
           {
            "error_x": {
             "color": "#2a3f5f"
            },
            "error_y": {
             "color": "#2a3f5f"
            },
            "marker": {
             "line": {
              "color": "#E5ECF6",
              "width": 0.5
             },
             "pattern": {
              "fillmode": "overlay",
              "size": 10,
              "solidity": 0.2
             }
            },
            "type": "bar"
           }
          ],
          "barpolar": [
           {
            "marker": {
             "line": {
              "color": "#E5ECF6",
              "width": 0.5
             },
             "pattern": {
              "fillmode": "overlay",
              "size": 10,
              "solidity": 0.2
             }
            },
            "type": "barpolar"
           }
          ],
          "carpet": [
           {
            "aaxis": {
             "endlinecolor": "#2a3f5f",
             "gridcolor": "white",
             "linecolor": "white",
             "minorgridcolor": "white",
             "startlinecolor": "#2a3f5f"
            },
            "baxis": {
             "endlinecolor": "#2a3f5f",
             "gridcolor": "white",
             "linecolor": "white",
             "minorgridcolor": "white",
             "startlinecolor": "#2a3f5f"
            },
            "type": "carpet"
           }
          ],
          "choropleth": [
           {
            "colorbar": {
             "outlinewidth": 0,
             "ticks": ""
            },
            "type": "choropleth"
           }
          ],
          "contour": [
           {
            "colorbar": {
             "outlinewidth": 0,
             "ticks": ""
            },
            "colorscale": [
             [
              0,
              "#0d0887"
             ],
             [
              0.1111111111111111,
              "#46039f"
             ],
             [
              0.2222222222222222,
              "#7201a8"
             ],
             [
              0.3333333333333333,
              "#9c179e"
             ],
             [
              0.4444444444444444,
              "#bd3786"
             ],
             [
              0.5555555555555556,
              "#d8576b"
             ],
             [
              0.6666666666666666,
              "#ed7953"
             ],
             [
              0.7777777777777778,
              "#fb9f3a"
             ],
             [
              0.8888888888888888,
              "#fdca26"
             ],
             [
              1,
              "#f0f921"
             ]
            ],
            "type": "contour"
           }
          ],
          "contourcarpet": [
           {
            "colorbar": {
             "outlinewidth": 0,
             "ticks": ""
            },
            "type": "contourcarpet"
           }
          ],
          "heatmap": [
           {
            "colorbar": {
             "outlinewidth": 0,
             "ticks": ""
            },
            "colorscale": [
             [
              0,
              "#0d0887"
             ],
             [
              0.1111111111111111,
              "#46039f"
             ],
             [
              0.2222222222222222,
              "#7201a8"
             ],
             [
              0.3333333333333333,
              "#9c179e"
             ],
             [
              0.4444444444444444,
              "#bd3786"
             ],
             [
              0.5555555555555556,
              "#d8576b"
             ],
             [
              0.6666666666666666,
              "#ed7953"
             ],
             [
              0.7777777777777778,
              "#fb9f3a"
             ],
             [
              0.8888888888888888,
              "#fdca26"
             ],
             [
              1,
              "#f0f921"
             ]
            ],
            "type": "heatmap"
           }
          ],
          "heatmapgl": [
           {
            "colorbar": {
             "outlinewidth": 0,
             "ticks": ""
            },
            "colorscale": [
             [
              0,
              "#0d0887"
             ],
             [
              0.1111111111111111,
              "#46039f"
             ],
             [
              0.2222222222222222,
              "#7201a8"
             ],
             [
              0.3333333333333333,
              "#9c179e"
             ],
             [
              0.4444444444444444,
              "#bd3786"
             ],
             [
              0.5555555555555556,
              "#d8576b"
             ],
             [
              0.6666666666666666,
              "#ed7953"
             ],
             [
              0.7777777777777778,
              "#fb9f3a"
             ],
             [
              0.8888888888888888,
              "#fdca26"
             ],
             [
              1,
              "#f0f921"
             ]
            ],
            "type": "heatmapgl"
           }
          ],
          "histogram": [
           {
            "marker": {
             "pattern": {
              "fillmode": "overlay",
              "size": 10,
              "solidity": 0.2
             }
            },
            "type": "histogram"
           }
          ],
          "histogram2d": [
           {
            "colorbar": {
             "outlinewidth": 0,
             "ticks": ""
            },
            "colorscale": [
             [
              0,
              "#0d0887"
             ],
             [
              0.1111111111111111,
              "#46039f"
             ],
             [
              0.2222222222222222,
              "#7201a8"
             ],
             [
              0.3333333333333333,
              "#9c179e"
             ],
             [
              0.4444444444444444,
              "#bd3786"
             ],
             [
              0.5555555555555556,
              "#d8576b"
             ],
             [
              0.6666666666666666,
              "#ed7953"
             ],
             [
              0.7777777777777778,
              "#fb9f3a"
             ],
             [
              0.8888888888888888,
              "#fdca26"
             ],
             [
              1,
              "#f0f921"
             ]
            ],
            "type": "histogram2d"
           }
          ],
          "histogram2dcontour": [
           {
            "colorbar": {
             "outlinewidth": 0,
             "ticks": ""
            },
            "colorscale": [
             [
              0,
              "#0d0887"
             ],
             [
              0.1111111111111111,
              "#46039f"
             ],
             [
              0.2222222222222222,
              "#7201a8"
             ],
             [
              0.3333333333333333,
              "#9c179e"
             ],
             [
              0.4444444444444444,
              "#bd3786"
             ],
             [
              0.5555555555555556,
              "#d8576b"
             ],
             [
              0.6666666666666666,
              "#ed7953"
             ],
             [
              0.7777777777777778,
              "#fb9f3a"
             ],
             [
              0.8888888888888888,
              "#fdca26"
             ],
             [
              1,
              "#f0f921"
             ]
            ],
            "type": "histogram2dcontour"
           }
          ],
          "mesh3d": [
           {
            "colorbar": {
             "outlinewidth": 0,
             "ticks": ""
            },
            "type": "mesh3d"
           }
          ],
          "parcoords": [
           {
            "line": {
             "colorbar": {
              "outlinewidth": 0,
              "ticks": ""
             }
            },
            "type": "parcoords"
           }
          ],
          "pie": [
           {
            "automargin": true,
            "type": "pie"
           }
          ],
          "scatter": [
           {
            "fillpattern": {
             "fillmode": "overlay",
             "size": 10,
             "solidity": 0.2
            },
            "type": "scatter"
           }
          ],
          "scatter3d": [
           {
            "line": {
             "colorbar": {
              "outlinewidth": 0,
              "ticks": ""
             }
            },
            "marker": {
             "colorbar": {
              "outlinewidth": 0,
              "ticks": ""
             }
            },
            "type": "scatter3d"
           }
          ],
          "scattercarpet": [
           {
            "marker": {
             "colorbar": {
              "outlinewidth": 0,
              "ticks": ""
             }
            },
            "type": "scattercarpet"
           }
          ],
          "scattergeo": [
           {
            "marker": {
             "colorbar": {
              "outlinewidth": 0,
              "ticks": ""
             }
            },
            "type": "scattergeo"
           }
          ],
          "scattergl": [
           {
            "marker": {
             "colorbar": {
              "outlinewidth": 0,
              "ticks": ""
             }
            },
            "type": "scattergl"
           }
          ],
          "scattermapbox": [
           {
            "marker": {
             "colorbar": {
              "outlinewidth": 0,
              "ticks": ""
             }
            },
            "type": "scattermapbox"
           }
          ],
          "scatterpolar": [
           {
            "marker": {
             "colorbar": {
              "outlinewidth": 0,
              "ticks": ""
             }
            },
            "type": "scatterpolar"
           }
          ],
          "scatterpolargl": [
           {
            "marker": {
             "colorbar": {
              "outlinewidth": 0,
              "ticks": ""
             }
            },
            "type": "scatterpolargl"
           }
          ],
          "scatterternary": [
           {
            "marker": {
             "colorbar": {
              "outlinewidth": 0,
              "ticks": ""
             }
            },
            "type": "scatterternary"
           }
          ],
          "surface": [
           {
            "colorbar": {
             "outlinewidth": 0,
             "ticks": ""
            },
            "colorscale": [
             [
              0,
              "#0d0887"
             ],
             [
              0.1111111111111111,
              "#46039f"
             ],
             [
              0.2222222222222222,
              "#7201a8"
             ],
             [
              0.3333333333333333,
              "#9c179e"
             ],
             [
              0.4444444444444444,
              "#bd3786"
             ],
             [
              0.5555555555555556,
              "#d8576b"
             ],
             [
              0.6666666666666666,
              "#ed7953"
             ],
             [
              0.7777777777777778,
              "#fb9f3a"
             ],
             [
              0.8888888888888888,
              "#fdca26"
             ],
             [
              1,
              "#f0f921"
             ]
            ],
            "type": "surface"
           }
          ],
          "table": [
           {
            "cells": {
             "fill": {
              "color": "#EBF0F8"
             },
             "line": {
              "color": "white"
             }
            },
            "header": {
             "fill": {
              "color": "#C8D4E3"
             },
             "line": {
              "color": "white"
             }
            },
            "type": "table"
           }
          ]
         },
         "layout": {
          "annotationdefaults": {
           "arrowcolor": "#2a3f5f",
           "arrowhead": 0,
           "arrowwidth": 1
          },
          "autotypenumbers": "strict",
          "coloraxis": {
           "colorbar": {
            "outlinewidth": 0,
            "ticks": ""
           }
          },
          "colorscale": {
           "diverging": [
            [
             0,
             "#8e0152"
            ],
            [
             0.1,
             "#c51b7d"
            ],
            [
             0.2,
             "#de77ae"
            ],
            [
             0.3,
             "#f1b6da"
            ],
            [
             0.4,
             "#fde0ef"
            ],
            [
             0.5,
             "#f7f7f7"
            ],
            [
             0.6,
             "#e6f5d0"
            ],
            [
             0.7,
             "#b8e186"
            ],
            [
             0.8,
             "#7fbc41"
            ],
            [
             0.9,
             "#4d9221"
            ],
            [
             1,
             "#276419"
            ]
           ],
           "sequential": [
            [
             0,
             "#0d0887"
            ],
            [
             0.1111111111111111,
             "#46039f"
            ],
            [
             0.2222222222222222,
             "#7201a8"
            ],
            [
             0.3333333333333333,
             "#9c179e"
            ],
            [
             0.4444444444444444,
             "#bd3786"
            ],
            [
             0.5555555555555556,
             "#d8576b"
            ],
            [
             0.6666666666666666,
             "#ed7953"
            ],
            [
             0.7777777777777778,
             "#fb9f3a"
            ],
            [
             0.8888888888888888,
             "#fdca26"
            ],
            [
             1,
             "#f0f921"
            ]
           ],
           "sequentialminus": [
            [
             0,
             "#0d0887"
            ],
            [
             0.1111111111111111,
             "#46039f"
            ],
            [
             0.2222222222222222,
             "#7201a8"
            ],
            [
             0.3333333333333333,
             "#9c179e"
            ],
            [
             0.4444444444444444,
             "#bd3786"
            ],
            [
             0.5555555555555556,
             "#d8576b"
            ],
            [
             0.6666666666666666,
             "#ed7953"
            ],
            [
             0.7777777777777778,
             "#fb9f3a"
            ],
            [
             0.8888888888888888,
             "#fdca26"
            ],
            [
             1,
             "#f0f921"
            ]
           ]
          },
          "colorway": [
           "#636efa",
           "#EF553B",
           "#00cc96",
           "#ab63fa",
           "#FFA15A",
           "#19d3f3",
           "#FF6692",
           "#B6E880",
           "#FF97FF",
           "#FECB52"
          ],
          "font": {
           "color": "#2a3f5f"
          },
          "geo": {
           "bgcolor": "white",
           "lakecolor": "white",
           "landcolor": "#E5ECF6",
           "showlakes": true,
           "showland": true,
           "subunitcolor": "white"
          },
          "hoverlabel": {
           "align": "left"
          },
          "hovermode": "closest",
          "mapbox": {
           "style": "light"
          },
          "paper_bgcolor": "white",
          "plot_bgcolor": "#E5ECF6",
          "polar": {
           "angularaxis": {
            "gridcolor": "white",
            "linecolor": "white",
            "ticks": ""
           },
           "bgcolor": "#E5ECF6",
           "radialaxis": {
            "gridcolor": "white",
            "linecolor": "white",
            "ticks": ""
           }
          },
          "scene": {
           "xaxis": {
            "backgroundcolor": "#E5ECF6",
            "gridcolor": "white",
            "gridwidth": 2,
            "linecolor": "white",
            "showbackground": true,
            "ticks": "",
            "zerolinecolor": "white"
           },
           "yaxis": {
            "backgroundcolor": "#E5ECF6",
            "gridcolor": "white",
            "gridwidth": 2,
            "linecolor": "white",
            "showbackground": true,
            "ticks": "",
            "zerolinecolor": "white"
           },
           "zaxis": {
            "backgroundcolor": "#E5ECF6",
            "gridcolor": "white",
            "gridwidth": 2,
            "linecolor": "white",
            "showbackground": true,
            "ticks": "",
            "zerolinecolor": "white"
           }
          },
          "shapedefaults": {
           "line": {
            "color": "#2a3f5f"
           }
          },
          "ternary": {
           "aaxis": {
            "gridcolor": "white",
            "linecolor": "white",
            "ticks": ""
           },
           "baxis": {
            "gridcolor": "white",
            "linecolor": "white",
            "ticks": ""
           },
           "bgcolor": "#E5ECF6",
           "caxis": {
            "gridcolor": "white",
            "linecolor": "white",
            "ticks": ""
           }
          },
          "title": {
           "x": 0.05
          },
          "xaxis": {
           "automargin": true,
           "gridcolor": "white",
           "linecolor": "white",
           "ticks": "",
           "title": {
            "standoff": 15
           },
           "zerolinecolor": "white",
           "zerolinewidth": 2
          },
          "yaxis": {
           "automargin": true,
           "gridcolor": "white",
           "linecolor": "white",
           "ticks": "",
           "title": {
            "standoff": 15
           },
           "zerolinecolor": "white",
           "zerolinewidth": 2
          }
         }
        },
        "title": {
         "font": {
          "color": "#4D5663"
         }
        },
        "xaxis": {
         "gridcolor": "#E1E5ED",
         "showgrid": true,
         "tickfont": {
          "color": "#4D5663"
         },
         "title": {
          "font": {
           "color": "#4D5663"
          },
          "text": ""
         },
         "zerolinecolor": "#E1E5ED"
        },
        "yaxis": {
         "gridcolor": "#E1E5ED",
         "showgrid": true,
         "tickfont": {
          "color": "#4D5663"
         },
         "title": {
          "font": {
           "color": "#4D5663"
          },
          "text": ""
         },
         "zerolinecolor": "#E1E5ED"
        }
       }
      },
      "text/html": [
       "<div>                            <div id=\"dfdc7f0c-053b-42d2-8426-cd69f5e8063a\" class=\"plotly-graph-div\" style=\"height:525px; width:100%;\"></div>            <script type=\"text/javascript\">                require([\"plotly\"], function(Plotly) {                    window.PLOTLYENV=window.PLOTLYENV || {};\n",
       "                    window.PLOTLYENV.BASE_URL='https://plot.ly';                                    if (document.getElementById(\"dfdc7f0c-053b-42d2-8426-cd69f5e8063a\")) {                    Plotly.newPlot(                        \"dfdc7f0c-053b-42d2-8426-cd69f5e8063a\",                        [{\"line\":{\"color\":\"rgba(255, 153, 51, 1.0)\",\"dash\":\"solid\",\"shape\":\"linear\",\"width\":1.3},\"marker\":{\"size\":10,\"symbol\":\"circle\"},\"mode\":\"markers\",\"name\":\"B\",\"text\":\"\",\"x\":[-1.3901949841581454,1.069922847106397,0.2055027592448163,-0.1291368074106173,1.1943389288630906,-1.3292319904526035,0.10172609409471008,-0.3221745473763238,-1.0933289223171323,0.8962065258841243,-0.7786362671054254,-0.011645302090516776,0.44924603650584644,-0.8256606600330482,0.4933240135491313,-1.425021249604569,-0.7980154456139854,1.2716639235371983,0.983634830370605,-0.0131853266453508,0.07970050864372122,-1.3183877932587922,-0.06041057639929024,-0.11134888702932266,-2.1499368132801058,-0.5514439544355939,0.3914604681738653,0.8890679991657041,0.28542034976793784,-0.6304761846712792,-0.1878088747248309,0.8889529698002793,0.45778071476476473,-0.12327331670334513,-0.29537435268245876,-0.08960332054704244,0.10432345628202129,0.8461532567992535,0.803601424416993,0.9491203637480421,-0.37765332489133335,-0.38752199701339685,0.8723021363291167,2.1204431464464233,2.0875076710319154,-0.26696339954003034,0.8106619705258042,-0.2214274625076834,-0.7118090777153491,-1.688032206163727,0.6028689425515956,-1.6958500587474632,0.2807016925333527,-1.0509375083617725,0.4448628824772095,1.3435148948892826,0.4203795505337432,-0.7635183838411761,-0.9406507307083636,0.09562761051184446,-1.272869074454918,1.0960340944547309,1.0625238646050967,-0.17771685453414426,1.845712049875227,0.14235070116325824,-0.7941112509036065,1.3529661858705617,0.9804622209996304,1.6876064912058704,-0.670156983203831,-1.3323507004611381,1.3730453556738749,0.7882964598361236,-1.0531434522638672,-0.3146275627267074,-3.0747599634463696,0.7359197646540324,0.3905846088913656,0.7562292950033769,2.0126903623388985,-0.9417501065215361,0.0605632892435693,0.7150989468002216,1.7112704379063017,-0.05141026396406195,0.746287932383283,0.049952739784688345,2.0393266553986016,-0.19115632906252,2.53897699824267,0.06677133714948412,0.18331594429555945,-0.28503842514401506,1.3961232808599877,-2.7523778166341635,0.08231536758941917,1.153297736148488,1.1121083772525953,-1.093043512712841],\"y\":[-0.5913402385474351,1.291121332745925,-1.466747037145677,-0.3322969627060832,0.1187700874875702,-0.24207599262733395,-0.6226001284660565,1.272572536022268,-0.04171014781234873,0.18080898864233078,-1.2586879467504293,-0.5135337558658654,-0.8473200180220722,0.8604218703730332,-1.7856776836306145,-0.5919786283309229,-0.1359138565576188,0.601459009542728,-0.8431732058899216,0.9863151365620875,1.105404116926311,-2.30989555478306,0.6345142872351962,-0.8127965787904066,-1.2339041212978519,0.9146263775285808,-1.070146080674142,-0.2821436508345468,0.21783932695449573,-1.0377114276217354,2.551428546572451,-0.7394626721208684,-0.21305885706846572,-0.9914679216957235,-1.3556255372723736,-0.623899335595533,-1.4508558168496688,-0.9740248766369816,-1.9807426870934963,-0.3173781925508749,-1.8959224489347248,2.0313578713934053,-0.7251622914463774,0.008575265151005882,1.0438778960596895,0.2974943865792594,-0.33413957586703646,0.8044725946533433,-1.737641661567125,0.08412351848049478,1.336762991048388,-2.2746010546139583,-0.12327330870798514,0.821392336743205,0.5264790702487522,2.0717612284105895,0.6576114588811612,-0.41184883862426647,-0.16505253016242047,0.8468452828212563,-1.5274103886728592,0.6571478551011237,0.8391958399037819,-1.6519628230129517,0.012091368496789549,-0.28651555423397385,-0.0334744400687433,0.9048678102827954,0.03883455535784291,-1.369637488107185,-1.7295384107389804,-2.1987599151098713,0.73107072483283,0.9924865836621327,-0.22755603733200772,0.7116799179162969,1.8516026144301145,-0.24928062944149215,-2.27293167085413,1.3784823080181787,0.7086191282068263,1.3877586827610382,-1.1304517131677987,0.6464728780029316,2.070760542940685,-1.4634696830461231,0.6571830263885893,-2.2943196819244234,0.19188186933341375,-1.295083155007402,0.4119242303807797,-1.5338654192597836,0.0729083197894447,-0.5401987615233624,1.2712282833943516,-0.00030327787264339837,-0.3492774061960846,0.5559914807905486,-0.6696434699440698,-0.4733264851114375],\"type\":\"scatter\"}],                        {\"legend\":{\"bgcolor\":\"#F5F6F9\",\"font\":{\"color\":\"#4D5663\"}},\"paper_bgcolor\":\"#F5F6F9\",\"plot_bgcolor\":\"#F5F6F9\",\"template\":{\"data\":{\"barpolar\":[{\"marker\":{\"line\":{\"color\":\"#E5ECF6\",\"width\":0.5},\"pattern\":{\"fillmode\":\"overlay\",\"size\":10,\"solidity\":0.2}},\"type\":\"barpolar\"}],\"bar\":[{\"error_x\":{\"color\":\"#2a3f5f\"},\"error_y\":{\"color\":\"#2a3f5f\"},\"marker\":{\"line\":{\"color\":\"#E5ECF6\",\"width\":0.5},\"pattern\":{\"fillmode\":\"overlay\",\"size\":10,\"solidity\":0.2}},\"type\":\"bar\"}],\"carpet\":[{\"aaxis\":{\"endlinecolor\":\"#2a3f5f\",\"gridcolor\":\"white\",\"linecolor\":\"white\",\"minorgridcolor\":\"white\",\"startlinecolor\":\"#2a3f5f\"},\"baxis\":{\"endlinecolor\":\"#2a3f5f\",\"gridcolor\":\"white\",\"linecolor\":\"white\",\"minorgridcolor\":\"white\",\"startlinecolor\":\"#2a3f5f\"},\"type\":\"carpet\"}],\"choropleth\":[{\"colorbar\":{\"outlinewidth\":0,\"ticks\":\"\"},\"type\":\"choropleth\"}],\"contourcarpet\":[{\"colorbar\":{\"outlinewidth\":0,\"ticks\":\"\"},\"type\":\"contourcarpet\"}],\"contour\":[{\"colorbar\":{\"outlinewidth\":0,\"ticks\":\"\"},\"colorscale\":[[0.0,\"#0d0887\"],[0.1111111111111111,\"#46039f\"],[0.2222222222222222,\"#7201a8\"],[0.3333333333333333,\"#9c179e\"],[0.4444444444444444,\"#bd3786\"],[0.5555555555555556,\"#d8576b\"],[0.6666666666666666,\"#ed7953\"],[0.7777777777777778,\"#fb9f3a\"],[0.8888888888888888,\"#fdca26\"],[1.0,\"#f0f921\"]],\"type\":\"contour\"}],\"heatmapgl\":[{\"colorbar\":{\"outlinewidth\":0,\"ticks\":\"\"},\"colorscale\":[[0.0,\"#0d0887\"],[0.1111111111111111,\"#46039f\"],[0.2222222222222222,\"#7201a8\"],[0.3333333333333333,\"#9c179e\"],[0.4444444444444444,\"#bd3786\"],[0.5555555555555556,\"#d8576b\"],[0.6666666666666666,\"#ed7953\"],[0.7777777777777778,\"#fb9f3a\"],[0.8888888888888888,\"#fdca26\"],[1.0,\"#f0f921\"]],\"type\":\"heatmapgl\"}],\"heatmap\":[{\"colorbar\":{\"outlinewidth\":0,\"ticks\":\"\"},\"colorscale\":[[0.0,\"#0d0887\"],[0.1111111111111111,\"#46039f\"],[0.2222222222222222,\"#7201a8\"],[0.3333333333333333,\"#9c179e\"],[0.4444444444444444,\"#bd3786\"],[0.5555555555555556,\"#d8576b\"],[0.6666666666666666,\"#ed7953\"],[0.7777777777777778,\"#fb9f3a\"],[0.8888888888888888,\"#fdca26\"],[1.0,\"#f0f921\"]],\"type\":\"heatmap\"}],\"histogram2dcontour\":[{\"colorbar\":{\"outlinewidth\":0,\"ticks\":\"\"},\"colorscale\":[[0.0,\"#0d0887\"],[0.1111111111111111,\"#46039f\"],[0.2222222222222222,\"#7201a8\"],[0.3333333333333333,\"#9c179e\"],[0.4444444444444444,\"#bd3786\"],[0.5555555555555556,\"#d8576b\"],[0.6666666666666666,\"#ed7953\"],[0.7777777777777778,\"#fb9f3a\"],[0.8888888888888888,\"#fdca26\"],[1.0,\"#f0f921\"]],\"type\":\"histogram2dcontour\"}],\"histogram2d\":[{\"colorbar\":{\"outlinewidth\":0,\"ticks\":\"\"},\"colorscale\":[[0.0,\"#0d0887\"],[0.1111111111111111,\"#46039f\"],[0.2222222222222222,\"#7201a8\"],[0.3333333333333333,\"#9c179e\"],[0.4444444444444444,\"#bd3786\"],[0.5555555555555556,\"#d8576b\"],[0.6666666666666666,\"#ed7953\"],[0.7777777777777778,\"#fb9f3a\"],[0.8888888888888888,\"#fdca26\"],[1.0,\"#f0f921\"]],\"type\":\"histogram2d\"}],\"histogram\":[{\"marker\":{\"pattern\":{\"fillmode\":\"overlay\",\"size\":10,\"solidity\":0.2}},\"type\":\"histogram\"}],\"mesh3d\":[{\"colorbar\":{\"outlinewidth\":0,\"ticks\":\"\"},\"type\":\"mesh3d\"}],\"parcoords\":[{\"line\":{\"colorbar\":{\"outlinewidth\":0,\"ticks\":\"\"}},\"type\":\"parcoords\"}],\"pie\":[{\"automargin\":true,\"type\":\"pie\"}],\"scatter3d\":[{\"line\":{\"colorbar\":{\"outlinewidth\":0,\"ticks\":\"\"}},\"marker\":{\"colorbar\":{\"outlinewidth\":0,\"ticks\":\"\"}},\"type\":\"scatter3d\"}],\"scattercarpet\":[{\"marker\":{\"colorbar\":{\"outlinewidth\":0,\"ticks\":\"\"}},\"type\":\"scattercarpet\"}],\"scattergeo\":[{\"marker\":{\"colorbar\":{\"outlinewidth\":0,\"ticks\":\"\"}},\"type\":\"scattergeo\"}],\"scattergl\":[{\"marker\":{\"colorbar\":{\"outlinewidth\":0,\"ticks\":\"\"}},\"type\":\"scattergl\"}],\"scattermapbox\":[{\"marker\":{\"colorbar\":{\"outlinewidth\":0,\"ticks\":\"\"}},\"type\":\"scattermapbox\"}],\"scatterpolargl\":[{\"marker\":{\"colorbar\":{\"outlinewidth\":0,\"ticks\":\"\"}},\"type\":\"scatterpolargl\"}],\"scatterpolar\":[{\"marker\":{\"colorbar\":{\"outlinewidth\":0,\"ticks\":\"\"}},\"type\":\"scatterpolar\"}],\"scatter\":[{\"fillpattern\":{\"fillmode\":\"overlay\",\"size\":10,\"solidity\":0.2},\"type\":\"scatter\"}],\"scatterternary\":[{\"marker\":{\"colorbar\":{\"outlinewidth\":0,\"ticks\":\"\"}},\"type\":\"scatterternary\"}],\"surface\":[{\"colorbar\":{\"outlinewidth\":0,\"ticks\":\"\"},\"colorscale\":[[0.0,\"#0d0887\"],[0.1111111111111111,\"#46039f\"],[0.2222222222222222,\"#7201a8\"],[0.3333333333333333,\"#9c179e\"],[0.4444444444444444,\"#bd3786\"],[0.5555555555555556,\"#d8576b\"],[0.6666666666666666,\"#ed7953\"],[0.7777777777777778,\"#fb9f3a\"],[0.8888888888888888,\"#fdca26\"],[1.0,\"#f0f921\"]],\"type\":\"surface\"}],\"table\":[{\"cells\":{\"fill\":{\"color\":\"#EBF0F8\"},\"line\":{\"color\":\"white\"}},\"header\":{\"fill\":{\"color\":\"#C8D4E3\"},\"line\":{\"color\":\"white\"}},\"type\":\"table\"}]},\"layout\":{\"annotationdefaults\":{\"arrowcolor\":\"#2a3f5f\",\"arrowhead\":0,\"arrowwidth\":1},\"autotypenumbers\":\"strict\",\"coloraxis\":{\"colorbar\":{\"outlinewidth\":0,\"ticks\":\"\"}},\"colorscale\":{\"diverging\":[[0,\"#8e0152\"],[0.1,\"#c51b7d\"],[0.2,\"#de77ae\"],[0.3,\"#f1b6da\"],[0.4,\"#fde0ef\"],[0.5,\"#f7f7f7\"],[0.6,\"#e6f5d0\"],[0.7,\"#b8e186\"],[0.8,\"#7fbc41\"],[0.9,\"#4d9221\"],[1,\"#276419\"]],\"sequential\":[[0.0,\"#0d0887\"],[0.1111111111111111,\"#46039f\"],[0.2222222222222222,\"#7201a8\"],[0.3333333333333333,\"#9c179e\"],[0.4444444444444444,\"#bd3786\"],[0.5555555555555556,\"#d8576b\"],[0.6666666666666666,\"#ed7953\"],[0.7777777777777778,\"#fb9f3a\"],[0.8888888888888888,\"#fdca26\"],[1.0,\"#f0f921\"]],\"sequentialminus\":[[0.0,\"#0d0887\"],[0.1111111111111111,\"#46039f\"],[0.2222222222222222,\"#7201a8\"],[0.3333333333333333,\"#9c179e\"],[0.4444444444444444,\"#bd3786\"],[0.5555555555555556,\"#d8576b\"],[0.6666666666666666,\"#ed7953\"],[0.7777777777777778,\"#fb9f3a\"],[0.8888888888888888,\"#fdca26\"],[1.0,\"#f0f921\"]]},\"colorway\":[\"#636efa\",\"#EF553B\",\"#00cc96\",\"#ab63fa\",\"#FFA15A\",\"#19d3f3\",\"#FF6692\",\"#B6E880\",\"#FF97FF\",\"#FECB52\"],\"font\":{\"color\":\"#2a3f5f\"},\"geo\":{\"bgcolor\":\"white\",\"lakecolor\":\"white\",\"landcolor\":\"#E5ECF6\",\"showlakes\":true,\"showland\":true,\"subunitcolor\":\"white\"},\"hoverlabel\":{\"align\":\"left\"},\"hovermode\":\"closest\",\"mapbox\":{\"style\":\"light\"},\"paper_bgcolor\":\"white\",\"plot_bgcolor\":\"#E5ECF6\",\"polar\":{\"angularaxis\":{\"gridcolor\":\"white\",\"linecolor\":\"white\",\"ticks\":\"\"},\"bgcolor\":\"#E5ECF6\",\"radialaxis\":{\"gridcolor\":\"white\",\"linecolor\":\"white\",\"ticks\":\"\"}},\"scene\":{\"xaxis\":{\"backgroundcolor\":\"#E5ECF6\",\"gridcolor\":\"white\",\"gridwidth\":2,\"linecolor\":\"white\",\"showbackground\":true,\"ticks\":\"\",\"zerolinecolor\":\"white\"},\"yaxis\":{\"backgroundcolor\":\"#E5ECF6\",\"gridcolor\":\"white\",\"gridwidth\":2,\"linecolor\":\"white\",\"showbackground\":true,\"ticks\":\"\",\"zerolinecolor\":\"white\"},\"zaxis\":{\"backgroundcolor\":\"#E5ECF6\",\"gridcolor\":\"white\",\"gridwidth\":2,\"linecolor\":\"white\",\"showbackground\":true,\"ticks\":\"\",\"zerolinecolor\":\"white\"}},\"shapedefaults\":{\"line\":{\"color\":\"#2a3f5f\"}},\"ternary\":{\"aaxis\":{\"gridcolor\":\"white\",\"linecolor\":\"white\",\"ticks\":\"\"},\"baxis\":{\"gridcolor\":\"white\",\"linecolor\":\"white\",\"ticks\":\"\"},\"bgcolor\":\"#E5ECF6\",\"caxis\":{\"gridcolor\":\"white\",\"linecolor\":\"white\",\"ticks\":\"\"}},\"title\":{\"x\":0.05},\"xaxis\":{\"automargin\":true,\"gridcolor\":\"white\",\"linecolor\":\"white\",\"ticks\":\"\",\"title\":{\"standoff\":15},\"zerolinecolor\":\"white\",\"zerolinewidth\":2},\"yaxis\":{\"automargin\":true,\"gridcolor\":\"white\",\"linecolor\":\"white\",\"ticks\":\"\",\"title\":{\"standoff\":15},\"zerolinecolor\":\"white\",\"zerolinewidth\":2}}},\"title\":{\"font\":{\"color\":\"#4D5663\"}},\"xaxis\":{\"gridcolor\":\"#E1E5ED\",\"showgrid\":true,\"tickfont\":{\"color\":\"#4D5663\"},\"title\":{\"font\":{\"color\":\"#4D5663\"},\"text\":\"\"},\"zerolinecolor\":\"#E1E5ED\"},\"yaxis\":{\"gridcolor\":\"#E1E5ED\",\"showgrid\":true,\"tickfont\":{\"color\":\"#4D5663\"},\"title\":{\"font\":{\"color\":\"#4D5663\"},\"text\":\"\"},\"zerolinecolor\":\"#E1E5ED\"}},                        {\"showLink\": true, \"linkText\": \"Export to plot.ly\", \"plotlyServerURL\": \"https://plot.ly\", \"responsive\": true}                    ).then(function(){\n",
       "                            \n",
       "var gd = document.getElementById('dfdc7f0c-053b-42d2-8426-cd69f5e8063a');\n",
       "var x = new MutationObserver(function (mutations, observer) {{\n",
       "        var display = window.getComputedStyle(gd).display;\n",
       "        if (!display || display === 'none') {{\n",
       "            console.log([gd, 'removed!']);\n",
       "            Plotly.purge(gd);\n",
       "            observer.disconnect();\n",
       "        }}\n",
       "}});\n",
       "\n",
       "// Listen for the removal of the full notebook cells\n",
       "var notebookContainer = gd.closest('#notebook-container');\n",
       "if (notebookContainer) {{\n",
       "    x.observe(notebookContainer, {childList: true});\n",
       "}}\n",
       "\n",
       "// Listen for the clearing of the current output cell\n",
       "var outputEl = gd.closest('.output');\n",
       "if (outputEl) {{\n",
       "    x.observe(outputEl, {childList: true});\n",
       "}}\n",
       "\n",
       "                        })                };                });            </script>        </div>"
      ]
     },
     "metadata": {},
     "output_type": "display_data"
    }
   ],
   "source": [
    "df.iplot(kind='scatter',x='A',y='B',mode='markers',size=10)"
   ]
  },
  {
   "cell_type": "markdown",
   "metadata": {},
   "source": [
    "## Bar Plots"
   ]
  },
  {
   "cell_type": "code",
   "execution_count": 29,
   "metadata": {
    "collapsed": false
   },
   "outputs": [
    {
     "data": {
      "application/vnd.plotly.v1+json": {
       "config": {
        "linkText": "Export to plot.ly",
        "plotlyServerURL": "https://plot.ly",
        "showLink": true
       },
       "data": [
        {
         "marker": {
          "color": "rgba(255, 153, 51, 0.6)",
          "line": {
           "color": "rgba(255, 153, 51, 1.0)",
           "width": 1
          }
         },
         "name": "Values",
         "orientation": "v",
         "text": "",
         "type": "bar",
         "x": [
          "A",
          "B",
          "C"
         ],
         "y": [
          32,
          43,
          50
         ]
        }
       ],
       "layout": {
        "legend": {
         "bgcolor": "#F5F6F9",
         "font": {
          "color": "#4D5663"
         }
        },
        "paper_bgcolor": "#F5F6F9",
        "plot_bgcolor": "#F5F6F9",
        "template": {
         "data": {
          "bar": [
           {
            "error_x": {
             "color": "#2a3f5f"
            },
            "error_y": {
             "color": "#2a3f5f"
            },
            "marker": {
             "line": {
              "color": "#E5ECF6",
              "width": 0.5
             },
             "pattern": {
              "fillmode": "overlay",
              "size": 10,
              "solidity": 0.2
             }
            },
            "type": "bar"
           }
          ],
          "barpolar": [
           {
            "marker": {
             "line": {
              "color": "#E5ECF6",
              "width": 0.5
             },
             "pattern": {
              "fillmode": "overlay",
              "size": 10,
              "solidity": 0.2
             }
            },
            "type": "barpolar"
           }
          ],
          "carpet": [
           {
            "aaxis": {
             "endlinecolor": "#2a3f5f",
             "gridcolor": "white",
             "linecolor": "white",
             "minorgridcolor": "white",
             "startlinecolor": "#2a3f5f"
            },
            "baxis": {
             "endlinecolor": "#2a3f5f",
             "gridcolor": "white",
             "linecolor": "white",
             "minorgridcolor": "white",
             "startlinecolor": "#2a3f5f"
            },
            "type": "carpet"
           }
          ],
          "choropleth": [
           {
            "colorbar": {
             "outlinewidth": 0,
             "ticks": ""
            },
            "type": "choropleth"
           }
          ],
          "contour": [
           {
            "colorbar": {
             "outlinewidth": 0,
             "ticks": ""
            },
            "colorscale": [
             [
              0,
              "#0d0887"
             ],
             [
              0.1111111111111111,
              "#46039f"
             ],
             [
              0.2222222222222222,
              "#7201a8"
             ],
             [
              0.3333333333333333,
              "#9c179e"
             ],
             [
              0.4444444444444444,
              "#bd3786"
             ],
             [
              0.5555555555555556,
              "#d8576b"
             ],
             [
              0.6666666666666666,
              "#ed7953"
             ],
             [
              0.7777777777777778,
              "#fb9f3a"
             ],
             [
              0.8888888888888888,
              "#fdca26"
             ],
             [
              1,
              "#f0f921"
             ]
            ],
            "type": "contour"
           }
          ],
          "contourcarpet": [
           {
            "colorbar": {
             "outlinewidth": 0,
             "ticks": ""
            },
            "type": "contourcarpet"
           }
          ],
          "heatmap": [
           {
            "colorbar": {
             "outlinewidth": 0,
             "ticks": ""
            },
            "colorscale": [
             [
              0,
              "#0d0887"
             ],
             [
              0.1111111111111111,
              "#46039f"
             ],
             [
              0.2222222222222222,
              "#7201a8"
             ],
             [
              0.3333333333333333,
              "#9c179e"
             ],
             [
              0.4444444444444444,
              "#bd3786"
             ],
             [
              0.5555555555555556,
              "#d8576b"
             ],
             [
              0.6666666666666666,
              "#ed7953"
             ],
             [
              0.7777777777777778,
              "#fb9f3a"
             ],
             [
              0.8888888888888888,
              "#fdca26"
             ],
             [
              1,
              "#f0f921"
             ]
            ],
            "type": "heatmap"
           }
          ],
          "heatmapgl": [
           {
            "colorbar": {
             "outlinewidth": 0,
             "ticks": ""
            },
            "colorscale": [
             [
              0,
              "#0d0887"
             ],
             [
              0.1111111111111111,
              "#46039f"
             ],
             [
              0.2222222222222222,
              "#7201a8"
             ],
             [
              0.3333333333333333,
              "#9c179e"
             ],
             [
              0.4444444444444444,
              "#bd3786"
             ],
             [
              0.5555555555555556,
              "#d8576b"
             ],
             [
              0.6666666666666666,
              "#ed7953"
             ],
             [
              0.7777777777777778,
              "#fb9f3a"
             ],
             [
              0.8888888888888888,
              "#fdca26"
             ],
             [
              1,
              "#f0f921"
             ]
            ],
            "type": "heatmapgl"
           }
          ],
          "histogram": [
           {
            "marker": {
             "pattern": {
              "fillmode": "overlay",
              "size": 10,
              "solidity": 0.2
             }
            },
            "type": "histogram"
           }
          ],
          "histogram2d": [
           {
            "colorbar": {
             "outlinewidth": 0,
             "ticks": ""
            },
            "colorscale": [
             [
              0,
              "#0d0887"
             ],
             [
              0.1111111111111111,
              "#46039f"
             ],
             [
              0.2222222222222222,
              "#7201a8"
             ],
             [
              0.3333333333333333,
              "#9c179e"
             ],
             [
              0.4444444444444444,
              "#bd3786"
             ],
             [
              0.5555555555555556,
              "#d8576b"
             ],
             [
              0.6666666666666666,
              "#ed7953"
             ],
             [
              0.7777777777777778,
              "#fb9f3a"
             ],
             [
              0.8888888888888888,
              "#fdca26"
             ],
             [
              1,
              "#f0f921"
             ]
            ],
            "type": "histogram2d"
           }
          ],
          "histogram2dcontour": [
           {
            "colorbar": {
             "outlinewidth": 0,
             "ticks": ""
            },
            "colorscale": [
             [
              0,
              "#0d0887"
             ],
             [
              0.1111111111111111,
              "#46039f"
             ],
             [
              0.2222222222222222,
              "#7201a8"
             ],
             [
              0.3333333333333333,
              "#9c179e"
             ],
             [
              0.4444444444444444,
              "#bd3786"
             ],
             [
              0.5555555555555556,
              "#d8576b"
             ],
             [
              0.6666666666666666,
              "#ed7953"
             ],
             [
              0.7777777777777778,
              "#fb9f3a"
             ],
             [
              0.8888888888888888,
              "#fdca26"
             ],
             [
              1,
              "#f0f921"
             ]
            ],
            "type": "histogram2dcontour"
           }
          ],
          "mesh3d": [
           {
            "colorbar": {
             "outlinewidth": 0,
             "ticks": ""
            },
            "type": "mesh3d"
           }
          ],
          "parcoords": [
           {
            "line": {
             "colorbar": {
              "outlinewidth": 0,
              "ticks": ""
             }
            },
            "type": "parcoords"
           }
          ],
          "pie": [
           {
            "automargin": true,
            "type": "pie"
           }
          ],
          "scatter": [
           {
            "fillpattern": {
             "fillmode": "overlay",
             "size": 10,
             "solidity": 0.2
            },
            "type": "scatter"
           }
          ],
          "scatter3d": [
           {
            "line": {
             "colorbar": {
              "outlinewidth": 0,
              "ticks": ""
             }
            },
            "marker": {
             "colorbar": {
              "outlinewidth": 0,
              "ticks": ""
             }
            },
            "type": "scatter3d"
           }
          ],
          "scattercarpet": [
           {
            "marker": {
             "colorbar": {
              "outlinewidth": 0,
              "ticks": ""
             }
            },
            "type": "scattercarpet"
           }
          ],
          "scattergeo": [
           {
            "marker": {
             "colorbar": {
              "outlinewidth": 0,
              "ticks": ""
             }
            },
            "type": "scattergeo"
           }
          ],
          "scattergl": [
           {
            "marker": {
             "colorbar": {
              "outlinewidth": 0,
              "ticks": ""
             }
            },
            "type": "scattergl"
           }
          ],
          "scattermapbox": [
           {
            "marker": {
             "colorbar": {
              "outlinewidth": 0,
              "ticks": ""
             }
            },
            "type": "scattermapbox"
           }
          ],
          "scatterpolar": [
           {
            "marker": {
             "colorbar": {
              "outlinewidth": 0,
              "ticks": ""
             }
            },
            "type": "scatterpolar"
           }
          ],
          "scatterpolargl": [
           {
            "marker": {
             "colorbar": {
              "outlinewidth": 0,
              "ticks": ""
             }
            },
            "type": "scatterpolargl"
           }
          ],
          "scatterternary": [
           {
            "marker": {
             "colorbar": {
              "outlinewidth": 0,
              "ticks": ""
             }
            },
            "type": "scatterternary"
           }
          ],
          "surface": [
           {
            "colorbar": {
             "outlinewidth": 0,
             "ticks": ""
            },
            "colorscale": [
             [
              0,
              "#0d0887"
             ],
             [
              0.1111111111111111,
              "#46039f"
             ],
             [
              0.2222222222222222,
              "#7201a8"
             ],
             [
              0.3333333333333333,
              "#9c179e"
             ],
             [
              0.4444444444444444,
              "#bd3786"
             ],
             [
              0.5555555555555556,
              "#d8576b"
             ],
             [
              0.6666666666666666,
              "#ed7953"
             ],
             [
              0.7777777777777778,
              "#fb9f3a"
             ],
             [
              0.8888888888888888,
              "#fdca26"
             ],
             [
              1,
              "#f0f921"
             ]
            ],
            "type": "surface"
           }
          ],
          "table": [
           {
            "cells": {
             "fill": {
              "color": "#EBF0F8"
             },
             "line": {
              "color": "white"
             }
            },
            "header": {
             "fill": {
              "color": "#C8D4E3"
             },
             "line": {
              "color": "white"
             }
            },
            "type": "table"
           }
          ]
         },
         "layout": {
          "annotationdefaults": {
           "arrowcolor": "#2a3f5f",
           "arrowhead": 0,
           "arrowwidth": 1
          },
          "autotypenumbers": "strict",
          "coloraxis": {
           "colorbar": {
            "outlinewidth": 0,
            "ticks": ""
           }
          },
          "colorscale": {
           "diverging": [
            [
             0,
             "#8e0152"
            ],
            [
             0.1,
             "#c51b7d"
            ],
            [
             0.2,
             "#de77ae"
            ],
            [
             0.3,
             "#f1b6da"
            ],
            [
             0.4,
             "#fde0ef"
            ],
            [
             0.5,
             "#f7f7f7"
            ],
            [
             0.6,
             "#e6f5d0"
            ],
            [
             0.7,
             "#b8e186"
            ],
            [
             0.8,
             "#7fbc41"
            ],
            [
             0.9,
             "#4d9221"
            ],
            [
             1,
             "#276419"
            ]
           ],
           "sequential": [
            [
             0,
             "#0d0887"
            ],
            [
             0.1111111111111111,
             "#46039f"
            ],
            [
             0.2222222222222222,
             "#7201a8"
            ],
            [
             0.3333333333333333,
             "#9c179e"
            ],
            [
             0.4444444444444444,
             "#bd3786"
            ],
            [
             0.5555555555555556,
             "#d8576b"
            ],
            [
             0.6666666666666666,
             "#ed7953"
            ],
            [
             0.7777777777777778,
             "#fb9f3a"
            ],
            [
             0.8888888888888888,
             "#fdca26"
            ],
            [
             1,
             "#f0f921"
            ]
           ],
           "sequentialminus": [
            [
             0,
             "#0d0887"
            ],
            [
             0.1111111111111111,
             "#46039f"
            ],
            [
             0.2222222222222222,
             "#7201a8"
            ],
            [
             0.3333333333333333,
             "#9c179e"
            ],
            [
             0.4444444444444444,
             "#bd3786"
            ],
            [
             0.5555555555555556,
             "#d8576b"
            ],
            [
             0.6666666666666666,
             "#ed7953"
            ],
            [
             0.7777777777777778,
             "#fb9f3a"
            ],
            [
             0.8888888888888888,
             "#fdca26"
            ],
            [
             1,
             "#f0f921"
            ]
           ]
          },
          "colorway": [
           "#636efa",
           "#EF553B",
           "#00cc96",
           "#ab63fa",
           "#FFA15A",
           "#19d3f3",
           "#FF6692",
           "#B6E880",
           "#FF97FF",
           "#FECB52"
          ],
          "font": {
           "color": "#2a3f5f"
          },
          "geo": {
           "bgcolor": "white",
           "lakecolor": "white",
           "landcolor": "#E5ECF6",
           "showlakes": true,
           "showland": true,
           "subunitcolor": "white"
          },
          "hoverlabel": {
           "align": "left"
          },
          "hovermode": "closest",
          "mapbox": {
           "style": "light"
          },
          "paper_bgcolor": "white",
          "plot_bgcolor": "#E5ECF6",
          "polar": {
           "angularaxis": {
            "gridcolor": "white",
            "linecolor": "white",
            "ticks": ""
           },
           "bgcolor": "#E5ECF6",
           "radialaxis": {
            "gridcolor": "white",
            "linecolor": "white",
            "ticks": ""
           }
          },
          "scene": {
           "xaxis": {
            "backgroundcolor": "#E5ECF6",
            "gridcolor": "white",
            "gridwidth": 2,
            "linecolor": "white",
            "showbackground": true,
            "ticks": "",
            "zerolinecolor": "white"
           },
           "yaxis": {
            "backgroundcolor": "#E5ECF6",
            "gridcolor": "white",
            "gridwidth": 2,
            "linecolor": "white",
            "showbackground": true,
            "ticks": "",
            "zerolinecolor": "white"
           },
           "zaxis": {
            "backgroundcolor": "#E5ECF6",
            "gridcolor": "white",
            "gridwidth": 2,
            "linecolor": "white",
            "showbackground": true,
            "ticks": "",
            "zerolinecolor": "white"
           }
          },
          "shapedefaults": {
           "line": {
            "color": "#2a3f5f"
           }
          },
          "ternary": {
           "aaxis": {
            "gridcolor": "white",
            "linecolor": "white",
            "ticks": ""
           },
           "baxis": {
            "gridcolor": "white",
            "linecolor": "white",
            "ticks": ""
           },
           "bgcolor": "#E5ECF6",
           "caxis": {
            "gridcolor": "white",
            "linecolor": "white",
            "ticks": ""
           }
          },
          "title": {
           "x": 0.05
          },
          "xaxis": {
           "automargin": true,
           "gridcolor": "white",
           "linecolor": "white",
           "ticks": "",
           "title": {
            "standoff": 15
           },
           "zerolinecolor": "white",
           "zerolinewidth": 2
          },
          "yaxis": {
           "automargin": true,
           "gridcolor": "white",
           "linecolor": "white",
           "ticks": "",
           "title": {
            "standoff": 15
           },
           "zerolinecolor": "white",
           "zerolinewidth": 2
          }
         }
        },
        "title": {
         "font": {
          "color": "#4D5663"
         }
        },
        "xaxis": {
         "gridcolor": "#E1E5ED",
         "showgrid": true,
         "tickfont": {
          "color": "#4D5663"
         },
         "title": {
          "font": {
           "color": "#4D5663"
          },
          "text": ""
         },
         "zerolinecolor": "#E1E5ED"
        },
        "yaxis": {
         "gridcolor": "#E1E5ED",
         "showgrid": true,
         "tickfont": {
          "color": "#4D5663"
         },
         "title": {
          "font": {
           "color": "#4D5663"
          },
          "text": ""
         },
         "zerolinecolor": "#E1E5ED"
        }
       }
      },
      "text/html": [
       "<div>                            <div id=\"a76ea016-73c3-4ffa-b70b-de3e26f1cb7c\" class=\"plotly-graph-div\" style=\"height:525px; width:100%;\"></div>            <script type=\"text/javascript\">                require([\"plotly\"], function(Plotly) {                    window.PLOTLYENV=window.PLOTLYENV || {};\n",
       "                    window.PLOTLYENV.BASE_URL='https://plot.ly';                                    if (document.getElementById(\"a76ea016-73c3-4ffa-b70b-de3e26f1cb7c\")) {                    Plotly.newPlot(                        \"a76ea016-73c3-4ffa-b70b-de3e26f1cb7c\",                        [{\"marker\":{\"color\":\"rgba(255, 153, 51, 0.6)\",\"line\":{\"color\":\"rgba(255, 153, 51, 1.0)\",\"width\":1}},\"name\":\"Values\",\"orientation\":\"v\",\"text\":\"\",\"x\":[\"A\",\"B\",\"C\"],\"y\":[32,43,50],\"type\":\"bar\"}],                        {\"legend\":{\"bgcolor\":\"#F5F6F9\",\"font\":{\"color\":\"#4D5663\"}},\"paper_bgcolor\":\"#F5F6F9\",\"plot_bgcolor\":\"#F5F6F9\",\"template\":{\"data\":{\"barpolar\":[{\"marker\":{\"line\":{\"color\":\"#E5ECF6\",\"width\":0.5},\"pattern\":{\"fillmode\":\"overlay\",\"size\":10,\"solidity\":0.2}},\"type\":\"barpolar\"}],\"bar\":[{\"error_x\":{\"color\":\"#2a3f5f\"},\"error_y\":{\"color\":\"#2a3f5f\"},\"marker\":{\"line\":{\"color\":\"#E5ECF6\",\"width\":0.5},\"pattern\":{\"fillmode\":\"overlay\",\"size\":10,\"solidity\":0.2}},\"type\":\"bar\"}],\"carpet\":[{\"aaxis\":{\"endlinecolor\":\"#2a3f5f\",\"gridcolor\":\"white\",\"linecolor\":\"white\",\"minorgridcolor\":\"white\",\"startlinecolor\":\"#2a3f5f\"},\"baxis\":{\"endlinecolor\":\"#2a3f5f\",\"gridcolor\":\"white\",\"linecolor\":\"white\",\"minorgridcolor\":\"white\",\"startlinecolor\":\"#2a3f5f\"},\"type\":\"carpet\"}],\"choropleth\":[{\"colorbar\":{\"outlinewidth\":0,\"ticks\":\"\"},\"type\":\"choropleth\"}],\"contourcarpet\":[{\"colorbar\":{\"outlinewidth\":0,\"ticks\":\"\"},\"type\":\"contourcarpet\"}],\"contour\":[{\"colorbar\":{\"outlinewidth\":0,\"ticks\":\"\"},\"colorscale\":[[0.0,\"#0d0887\"],[0.1111111111111111,\"#46039f\"],[0.2222222222222222,\"#7201a8\"],[0.3333333333333333,\"#9c179e\"],[0.4444444444444444,\"#bd3786\"],[0.5555555555555556,\"#d8576b\"],[0.6666666666666666,\"#ed7953\"],[0.7777777777777778,\"#fb9f3a\"],[0.8888888888888888,\"#fdca26\"],[1.0,\"#f0f921\"]],\"type\":\"contour\"}],\"heatmapgl\":[{\"colorbar\":{\"outlinewidth\":0,\"ticks\":\"\"},\"colorscale\":[[0.0,\"#0d0887\"],[0.1111111111111111,\"#46039f\"],[0.2222222222222222,\"#7201a8\"],[0.3333333333333333,\"#9c179e\"],[0.4444444444444444,\"#bd3786\"],[0.5555555555555556,\"#d8576b\"],[0.6666666666666666,\"#ed7953\"],[0.7777777777777778,\"#fb9f3a\"],[0.8888888888888888,\"#fdca26\"],[1.0,\"#f0f921\"]],\"type\":\"heatmapgl\"}],\"heatmap\":[{\"colorbar\":{\"outlinewidth\":0,\"ticks\":\"\"},\"colorscale\":[[0.0,\"#0d0887\"],[0.1111111111111111,\"#46039f\"],[0.2222222222222222,\"#7201a8\"],[0.3333333333333333,\"#9c179e\"],[0.4444444444444444,\"#bd3786\"],[0.5555555555555556,\"#d8576b\"],[0.6666666666666666,\"#ed7953\"],[0.7777777777777778,\"#fb9f3a\"],[0.8888888888888888,\"#fdca26\"],[1.0,\"#f0f921\"]],\"type\":\"heatmap\"}],\"histogram2dcontour\":[{\"colorbar\":{\"outlinewidth\":0,\"ticks\":\"\"},\"colorscale\":[[0.0,\"#0d0887\"],[0.1111111111111111,\"#46039f\"],[0.2222222222222222,\"#7201a8\"],[0.3333333333333333,\"#9c179e\"],[0.4444444444444444,\"#bd3786\"],[0.5555555555555556,\"#d8576b\"],[0.6666666666666666,\"#ed7953\"],[0.7777777777777778,\"#fb9f3a\"],[0.8888888888888888,\"#fdca26\"],[1.0,\"#f0f921\"]],\"type\":\"histogram2dcontour\"}],\"histogram2d\":[{\"colorbar\":{\"outlinewidth\":0,\"ticks\":\"\"},\"colorscale\":[[0.0,\"#0d0887\"],[0.1111111111111111,\"#46039f\"],[0.2222222222222222,\"#7201a8\"],[0.3333333333333333,\"#9c179e\"],[0.4444444444444444,\"#bd3786\"],[0.5555555555555556,\"#d8576b\"],[0.6666666666666666,\"#ed7953\"],[0.7777777777777778,\"#fb9f3a\"],[0.8888888888888888,\"#fdca26\"],[1.0,\"#f0f921\"]],\"type\":\"histogram2d\"}],\"histogram\":[{\"marker\":{\"pattern\":{\"fillmode\":\"overlay\",\"size\":10,\"solidity\":0.2}},\"type\":\"histogram\"}],\"mesh3d\":[{\"colorbar\":{\"outlinewidth\":0,\"ticks\":\"\"},\"type\":\"mesh3d\"}],\"parcoords\":[{\"line\":{\"colorbar\":{\"outlinewidth\":0,\"ticks\":\"\"}},\"type\":\"parcoords\"}],\"pie\":[{\"automargin\":true,\"type\":\"pie\"}],\"scatter3d\":[{\"line\":{\"colorbar\":{\"outlinewidth\":0,\"ticks\":\"\"}},\"marker\":{\"colorbar\":{\"outlinewidth\":0,\"ticks\":\"\"}},\"type\":\"scatter3d\"}],\"scattercarpet\":[{\"marker\":{\"colorbar\":{\"outlinewidth\":0,\"ticks\":\"\"}},\"type\":\"scattercarpet\"}],\"scattergeo\":[{\"marker\":{\"colorbar\":{\"outlinewidth\":0,\"ticks\":\"\"}},\"type\":\"scattergeo\"}],\"scattergl\":[{\"marker\":{\"colorbar\":{\"outlinewidth\":0,\"ticks\":\"\"}},\"type\":\"scattergl\"}],\"scattermapbox\":[{\"marker\":{\"colorbar\":{\"outlinewidth\":0,\"ticks\":\"\"}},\"type\":\"scattermapbox\"}],\"scatterpolargl\":[{\"marker\":{\"colorbar\":{\"outlinewidth\":0,\"ticks\":\"\"}},\"type\":\"scatterpolargl\"}],\"scatterpolar\":[{\"marker\":{\"colorbar\":{\"outlinewidth\":0,\"ticks\":\"\"}},\"type\":\"scatterpolar\"}],\"scatter\":[{\"fillpattern\":{\"fillmode\":\"overlay\",\"size\":10,\"solidity\":0.2},\"type\":\"scatter\"}],\"scatterternary\":[{\"marker\":{\"colorbar\":{\"outlinewidth\":0,\"ticks\":\"\"}},\"type\":\"scatterternary\"}],\"surface\":[{\"colorbar\":{\"outlinewidth\":0,\"ticks\":\"\"},\"colorscale\":[[0.0,\"#0d0887\"],[0.1111111111111111,\"#46039f\"],[0.2222222222222222,\"#7201a8\"],[0.3333333333333333,\"#9c179e\"],[0.4444444444444444,\"#bd3786\"],[0.5555555555555556,\"#d8576b\"],[0.6666666666666666,\"#ed7953\"],[0.7777777777777778,\"#fb9f3a\"],[0.8888888888888888,\"#fdca26\"],[1.0,\"#f0f921\"]],\"type\":\"surface\"}],\"table\":[{\"cells\":{\"fill\":{\"color\":\"#EBF0F8\"},\"line\":{\"color\":\"white\"}},\"header\":{\"fill\":{\"color\":\"#C8D4E3\"},\"line\":{\"color\":\"white\"}},\"type\":\"table\"}]},\"layout\":{\"annotationdefaults\":{\"arrowcolor\":\"#2a3f5f\",\"arrowhead\":0,\"arrowwidth\":1},\"autotypenumbers\":\"strict\",\"coloraxis\":{\"colorbar\":{\"outlinewidth\":0,\"ticks\":\"\"}},\"colorscale\":{\"diverging\":[[0,\"#8e0152\"],[0.1,\"#c51b7d\"],[0.2,\"#de77ae\"],[0.3,\"#f1b6da\"],[0.4,\"#fde0ef\"],[0.5,\"#f7f7f7\"],[0.6,\"#e6f5d0\"],[0.7,\"#b8e186\"],[0.8,\"#7fbc41\"],[0.9,\"#4d9221\"],[1,\"#276419\"]],\"sequential\":[[0.0,\"#0d0887\"],[0.1111111111111111,\"#46039f\"],[0.2222222222222222,\"#7201a8\"],[0.3333333333333333,\"#9c179e\"],[0.4444444444444444,\"#bd3786\"],[0.5555555555555556,\"#d8576b\"],[0.6666666666666666,\"#ed7953\"],[0.7777777777777778,\"#fb9f3a\"],[0.8888888888888888,\"#fdca26\"],[1.0,\"#f0f921\"]],\"sequentialminus\":[[0.0,\"#0d0887\"],[0.1111111111111111,\"#46039f\"],[0.2222222222222222,\"#7201a8\"],[0.3333333333333333,\"#9c179e\"],[0.4444444444444444,\"#bd3786\"],[0.5555555555555556,\"#d8576b\"],[0.6666666666666666,\"#ed7953\"],[0.7777777777777778,\"#fb9f3a\"],[0.8888888888888888,\"#fdca26\"],[1.0,\"#f0f921\"]]},\"colorway\":[\"#636efa\",\"#EF553B\",\"#00cc96\",\"#ab63fa\",\"#FFA15A\",\"#19d3f3\",\"#FF6692\",\"#B6E880\",\"#FF97FF\",\"#FECB52\"],\"font\":{\"color\":\"#2a3f5f\"},\"geo\":{\"bgcolor\":\"white\",\"lakecolor\":\"white\",\"landcolor\":\"#E5ECF6\",\"showlakes\":true,\"showland\":true,\"subunitcolor\":\"white\"},\"hoverlabel\":{\"align\":\"left\"},\"hovermode\":\"closest\",\"mapbox\":{\"style\":\"light\"},\"paper_bgcolor\":\"white\",\"plot_bgcolor\":\"#E5ECF6\",\"polar\":{\"angularaxis\":{\"gridcolor\":\"white\",\"linecolor\":\"white\",\"ticks\":\"\"},\"bgcolor\":\"#E5ECF6\",\"radialaxis\":{\"gridcolor\":\"white\",\"linecolor\":\"white\",\"ticks\":\"\"}},\"scene\":{\"xaxis\":{\"backgroundcolor\":\"#E5ECF6\",\"gridcolor\":\"white\",\"gridwidth\":2,\"linecolor\":\"white\",\"showbackground\":true,\"ticks\":\"\",\"zerolinecolor\":\"white\"},\"yaxis\":{\"backgroundcolor\":\"#E5ECF6\",\"gridcolor\":\"white\",\"gridwidth\":2,\"linecolor\":\"white\",\"showbackground\":true,\"ticks\":\"\",\"zerolinecolor\":\"white\"},\"zaxis\":{\"backgroundcolor\":\"#E5ECF6\",\"gridcolor\":\"white\",\"gridwidth\":2,\"linecolor\":\"white\",\"showbackground\":true,\"ticks\":\"\",\"zerolinecolor\":\"white\"}},\"shapedefaults\":{\"line\":{\"color\":\"#2a3f5f\"}},\"ternary\":{\"aaxis\":{\"gridcolor\":\"white\",\"linecolor\":\"white\",\"ticks\":\"\"},\"baxis\":{\"gridcolor\":\"white\",\"linecolor\":\"white\",\"ticks\":\"\"},\"bgcolor\":\"#E5ECF6\",\"caxis\":{\"gridcolor\":\"white\",\"linecolor\":\"white\",\"ticks\":\"\"}},\"title\":{\"x\":0.05},\"xaxis\":{\"automargin\":true,\"gridcolor\":\"white\",\"linecolor\":\"white\",\"ticks\":\"\",\"title\":{\"standoff\":15},\"zerolinecolor\":\"white\",\"zerolinewidth\":2},\"yaxis\":{\"automargin\":true,\"gridcolor\":\"white\",\"linecolor\":\"white\",\"ticks\":\"\",\"title\":{\"standoff\":15},\"zerolinecolor\":\"white\",\"zerolinewidth\":2}}},\"title\":{\"font\":{\"color\":\"#4D5663\"}},\"xaxis\":{\"gridcolor\":\"#E1E5ED\",\"showgrid\":true,\"tickfont\":{\"color\":\"#4D5663\"},\"title\":{\"font\":{\"color\":\"#4D5663\"},\"text\":\"\"},\"zerolinecolor\":\"#E1E5ED\"},\"yaxis\":{\"gridcolor\":\"#E1E5ED\",\"showgrid\":true,\"tickfont\":{\"color\":\"#4D5663\"},\"title\":{\"font\":{\"color\":\"#4D5663\"},\"text\":\"\"},\"zerolinecolor\":\"#E1E5ED\"}},                        {\"showLink\": true, \"linkText\": \"Export to plot.ly\", \"plotlyServerURL\": \"https://plot.ly\", \"responsive\": true}                    ).then(function(){\n",
       "                            \n",
       "var gd = document.getElementById('a76ea016-73c3-4ffa-b70b-de3e26f1cb7c');\n",
       "var x = new MutationObserver(function (mutations, observer) {{\n",
       "        var display = window.getComputedStyle(gd).display;\n",
       "        if (!display || display === 'none') {{\n",
       "            console.log([gd, 'removed!']);\n",
       "            Plotly.purge(gd);\n",
       "            observer.disconnect();\n",
       "        }}\n",
       "}});\n",
       "\n",
       "// Listen for the removal of the full notebook cells\n",
       "var notebookContainer = gd.closest('#notebook-container');\n",
       "if (notebookContainer) {{\n",
       "    x.observe(notebookContainer, {childList: true});\n",
       "}}\n",
       "\n",
       "// Listen for the clearing of the current output cell\n",
       "var outputEl = gd.closest('.output');\n",
       "if (outputEl) {{\n",
       "    x.observe(outputEl, {childList: true});\n",
       "}}\n",
       "\n",
       "                        })                };                });            </script>        </div>"
      ]
     },
     "metadata": {},
     "output_type": "display_data"
    }
   ],
   "source": [
    "df2.iplot(kind='bar',x='Category',y='Values')"
   ]
  },
  {
   "cell_type": "code",
   "execution_count": 30,
   "metadata": {
    "collapsed": false
   },
   "outputs": [
    {
     "data": {
      "application/vnd.plotly.v1+json": {
       "config": {
        "linkText": "Export to plot.ly",
        "plotlyServerURL": "https://plot.ly",
        "showLink": true
       },
       "data": [
        {
         "marker": {
          "color": "rgba(255, 153, 51, 0.6)",
          "line": {
           "color": "rgba(255, 153, 51, 1.0)",
           "width": 1
          }
         },
         "name": "None",
         "orientation": "v",
         "text": "",
         "type": "bar",
         "x": [
          "A",
          "B",
          "C",
          "D"
         ],
         "y": [
          100,
          100,
          100,
          100
         ]
        }
       ],
       "layout": {
        "legend": {
         "bgcolor": "#F5F6F9",
         "font": {
          "color": "#4D5663"
         }
        },
        "paper_bgcolor": "#F5F6F9",
        "plot_bgcolor": "#F5F6F9",
        "template": {
         "data": {
          "bar": [
           {
            "error_x": {
             "color": "#2a3f5f"
            },
            "error_y": {
             "color": "#2a3f5f"
            },
            "marker": {
             "line": {
              "color": "#E5ECF6",
              "width": 0.5
             },
             "pattern": {
              "fillmode": "overlay",
              "size": 10,
              "solidity": 0.2
             }
            },
            "type": "bar"
           }
          ],
          "barpolar": [
           {
            "marker": {
             "line": {
              "color": "#E5ECF6",
              "width": 0.5
             },
             "pattern": {
              "fillmode": "overlay",
              "size": 10,
              "solidity": 0.2
             }
            },
            "type": "barpolar"
           }
          ],
          "carpet": [
           {
            "aaxis": {
             "endlinecolor": "#2a3f5f",
             "gridcolor": "white",
             "linecolor": "white",
             "minorgridcolor": "white",
             "startlinecolor": "#2a3f5f"
            },
            "baxis": {
             "endlinecolor": "#2a3f5f",
             "gridcolor": "white",
             "linecolor": "white",
             "minorgridcolor": "white",
             "startlinecolor": "#2a3f5f"
            },
            "type": "carpet"
           }
          ],
          "choropleth": [
           {
            "colorbar": {
             "outlinewidth": 0,
             "ticks": ""
            },
            "type": "choropleth"
           }
          ],
          "contour": [
           {
            "colorbar": {
             "outlinewidth": 0,
             "ticks": ""
            },
            "colorscale": [
             [
              0,
              "#0d0887"
             ],
             [
              0.1111111111111111,
              "#46039f"
             ],
             [
              0.2222222222222222,
              "#7201a8"
             ],
             [
              0.3333333333333333,
              "#9c179e"
             ],
             [
              0.4444444444444444,
              "#bd3786"
             ],
             [
              0.5555555555555556,
              "#d8576b"
             ],
             [
              0.6666666666666666,
              "#ed7953"
             ],
             [
              0.7777777777777778,
              "#fb9f3a"
             ],
             [
              0.8888888888888888,
              "#fdca26"
             ],
             [
              1,
              "#f0f921"
             ]
            ],
            "type": "contour"
           }
          ],
          "contourcarpet": [
           {
            "colorbar": {
             "outlinewidth": 0,
             "ticks": ""
            },
            "type": "contourcarpet"
           }
          ],
          "heatmap": [
           {
            "colorbar": {
             "outlinewidth": 0,
             "ticks": ""
            },
            "colorscale": [
             [
              0,
              "#0d0887"
             ],
             [
              0.1111111111111111,
              "#46039f"
             ],
             [
              0.2222222222222222,
              "#7201a8"
             ],
             [
              0.3333333333333333,
              "#9c179e"
             ],
             [
              0.4444444444444444,
              "#bd3786"
             ],
             [
              0.5555555555555556,
              "#d8576b"
             ],
             [
              0.6666666666666666,
              "#ed7953"
             ],
             [
              0.7777777777777778,
              "#fb9f3a"
             ],
             [
              0.8888888888888888,
              "#fdca26"
             ],
             [
              1,
              "#f0f921"
             ]
            ],
            "type": "heatmap"
           }
          ],
          "heatmapgl": [
           {
            "colorbar": {
             "outlinewidth": 0,
             "ticks": ""
            },
            "colorscale": [
             [
              0,
              "#0d0887"
             ],
             [
              0.1111111111111111,
              "#46039f"
             ],
             [
              0.2222222222222222,
              "#7201a8"
             ],
             [
              0.3333333333333333,
              "#9c179e"
             ],
             [
              0.4444444444444444,
              "#bd3786"
             ],
             [
              0.5555555555555556,
              "#d8576b"
             ],
             [
              0.6666666666666666,
              "#ed7953"
             ],
             [
              0.7777777777777778,
              "#fb9f3a"
             ],
             [
              0.8888888888888888,
              "#fdca26"
             ],
             [
              1,
              "#f0f921"
             ]
            ],
            "type": "heatmapgl"
           }
          ],
          "histogram": [
           {
            "marker": {
             "pattern": {
              "fillmode": "overlay",
              "size": 10,
              "solidity": 0.2
             }
            },
            "type": "histogram"
           }
          ],
          "histogram2d": [
           {
            "colorbar": {
             "outlinewidth": 0,
             "ticks": ""
            },
            "colorscale": [
             [
              0,
              "#0d0887"
             ],
             [
              0.1111111111111111,
              "#46039f"
             ],
             [
              0.2222222222222222,
              "#7201a8"
             ],
             [
              0.3333333333333333,
              "#9c179e"
             ],
             [
              0.4444444444444444,
              "#bd3786"
             ],
             [
              0.5555555555555556,
              "#d8576b"
             ],
             [
              0.6666666666666666,
              "#ed7953"
             ],
             [
              0.7777777777777778,
              "#fb9f3a"
             ],
             [
              0.8888888888888888,
              "#fdca26"
             ],
             [
              1,
              "#f0f921"
             ]
            ],
            "type": "histogram2d"
           }
          ],
          "histogram2dcontour": [
           {
            "colorbar": {
             "outlinewidth": 0,
             "ticks": ""
            },
            "colorscale": [
             [
              0,
              "#0d0887"
             ],
             [
              0.1111111111111111,
              "#46039f"
             ],
             [
              0.2222222222222222,
              "#7201a8"
             ],
             [
              0.3333333333333333,
              "#9c179e"
             ],
             [
              0.4444444444444444,
              "#bd3786"
             ],
             [
              0.5555555555555556,
              "#d8576b"
             ],
             [
              0.6666666666666666,
              "#ed7953"
             ],
             [
              0.7777777777777778,
              "#fb9f3a"
             ],
             [
              0.8888888888888888,
              "#fdca26"
             ],
             [
              1,
              "#f0f921"
             ]
            ],
            "type": "histogram2dcontour"
           }
          ],
          "mesh3d": [
           {
            "colorbar": {
             "outlinewidth": 0,
             "ticks": ""
            },
            "type": "mesh3d"
           }
          ],
          "parcoords": [
           {
            "line": {
             "colorbar": {
              "outlinewidth": 0,
              "ticks": ""
             }
            },
            "type": "parcoords"
           }
          ],
          "pie": [
           {
            "automargin": true,
            "type": "pie"
           }
          ],
          "scatter": [
           {
            "fillpattern": {
             "fillmode": "overlay",
             "size": 10,
             "solidity": 0.2
            },
            "type": "scatter"
           }
          ],
          "scatter3d": [
           {
            "line": {
             "colorbar": {
              "outlinewidth": 0,
              "ticks": ""
             }
            },
            "marker": {
             "colorbar": {
              "outlinewidth": 0,
              "ticks": ""
             }
            },
            "type": "scatter3d"
           }
          ],
          "scattercarpet": [
           {
            "marker": {
             "colorbar": {
              "outlinewidth": 0,
              "ticks": ""
             }
            },
            "type": "scattercarpet"
           }
          ],
          "scattergeo": [
           {
            "marker": {
             "colorbar": {
              "outlinewidth": 0,
              "ticks": ""
             }
            },
            "type": "scattergeo"
           }
          ],
          "scattergl": [
           {
            "marker": {
             "colorbar": {
              "outlinewidth": 0,
              "ticks": ""
             }
            },
            "type": "scattergl"
           }
          ],
          "scattermapbox": [
           {
            "marker": {
             "colorbar": {
              "outlinewidth": 0,
              "ticks": ""
             }
            },
            "type": "scattermapbox"
           }
          ],
          "scatterpolar": [
           {
            "marker": {
             "colorbar": {
              "outlinewidth": 0,
              "ticks": ""
             }
            },
            "type": "scatterpolar"
           }
          ],
          "scatterpolargl": [
           {
            "marker": {
             "colorbar": {
              "outlinewidth": 0,
              "ticks": ""
             }
            },
            "type": "scatterpolargl"
           }
          ],
          "scatterternary": [
           {
            "marker": {
             "colorbar": {
              "outlinewidth": 0,
              "ticks": ""
             }
            },
            "type": "scatterternary"
           }
          ],
          "surface": [
           {
            "colorbar": {
             "outlinewidth": 0,
             "ticks": ""
            },
            "colorscale": [
             [
              0,
              "#0d0887"
             ],
             [
              0.1111111111111111,
              "#46039f"
             ],
             [
              0.2222222222222222,
              "#7201a8"
             ],
             [
              0.3333333333333333,
              "#9c179e"
             ],
             [
              0.4444444444444444,
              "#bd3786"
             ],
             [
              0.5555555555555556,
              "#d8576b"
             ],
             [
              0.6666666666666666,
              "#ed7953"
             ],
             [
              0.7777777777777778,
              "#fb9f3a"
             ],
             [
              0.8888888888888888,
              "#fdca26"
             ],
             [
              1,
              "#f0f921"
             ]
            ],
            "type": "surface"
           }
          ],
          "table": [
           {
            "cells": {
             "fill": {
              "color": "#EBF0F8"
             },
             "line": {
              "color": "white"
             }
            },
            "header": {
             "fill": {
              "color": "#C8D4E3"
             },
             "line": {
              "color": "white"
             }
            },
            "type": "table"
           }
          ]
         },
         "layout": {
          "annotationdefaults": {
           "arrowcolor": "#2a3f5f",
           "arrowhead": 0,
           "arrowwidth": 1
          },
          "autotypenumbers": "strict",
          "coloraxis": {
           "colorbar": {
            "outlinewidth": 0,
            "ticks": ""
           }
          },
          "colorscale": {
           "diverging": [
            [
             0,
             "#8e0152"
            ],
            [
             0.1,
             "#c51b7d"
            ],
            [
             0.2,
             "#de77ae"
            ],
            [
             0.3,
             "#f1b6da"
            ],
            [
             0.4,
             "#fde0ef"
            ],
            [
             0.5,
             "#f7f7f7"
            ],
            [
             0.6,
             "#e6f5d0"
            ],
            [
             0.7,
             "#b8e186"
            ],
            [
             0.8,
             "#7fbc41"
            ],
            [
             0.9,
             "#4d9221"
            ],
            [
             1,
             "#276419"
            ]
           ],
           "sequential": [
            [
             0,
             "#0d0887"
            ],
            [
             0.1111111111111111,
             "#46039f"
            ],
            [
             0.2222222222222222,
             "#7201a8"
            ],
            [
             0.3333333333333333,
             "#9c179e"
            ],
            [
             0.4444444444444444,
             "#bd3786"
            ],
            [
             0.5555555555555556,
             "#d8576b"
            ],
            [
             0.6666666666666666,
             "#ed7953"
            ],
            [
             0.7777777777777778,
             "#fb9f3a"
            ],
            [
             0.8888888888888888,
             "#fdca26"
            ],
            [
             1,
             "#f0f921"
            ]
           ],
           "sequentialminus": [
            [
             0,
             "#0d0887"
            ],
            [
             0.1111111111111111,
             "#46039f"
            ],
            [
             0.2222222222222222,
             "#7201a8"
            ],
            [
             0.3333333333333333,
             "#9c179e"
            ],
            [
             0.4444444444444444,
             "#bd3786"
            ],
            [
             0.5555555555555556,
             "#d8576b"
            ],
            [
             0.6666666666666666,
             "#ed7953"
            ],
            [
             0.7777777777777778,
             "#fb9f3a"
            ],
            [
             0.8888888888888888,
             "#fdca26"
            ],
            [
             1,
             "#f0f921"
            ]
           ]
          },
          "colorway": [
           "#636efa",
           "#EF553B",
           "#00cc96",
           "#ab63fa",
           "#FFA15A",
           "#19d3f3",
           "#FF6692",
           "#B6E880",
           "#FF97FF",
           "#FECB52"
          ],
          "font": {
           "color": "#2a3f5f"
          },
          "geo": {
           "bgcolor": "white",
           "lakecolor": "white",
           "landcolor": "#E5ECF6",
           "showlakes": true,
           "showland": true,
           "subunitcolor": "white"
          },
          "hoverlabel": {
           "align": "left"
          },
          "hovermode": "closest",
          "mapbox": {
           "style": "light"
          },
          "paper_bgcolor": "white",
          "plot_bgcolor": "#E5ECF6",
          "polar": {
           "angularaxis": {
            "gridcolor": "white",
            "linecolor": "white",
            "ticks": ""
           },
           "bgcolor": "#E5ECF6",
           "radialaxis": {
            "gridcolor": "white",
            "linecolor": "white",
            "ticks": ""
           }
          },
          "scene": {
           "xaxis": {
            "backgroundcolor": "#E5ECF6",
            "gridcolor": "white",
            "gridwidth": 2,
            "linecolor": "white",
            "showbackground": true,
            "ticks": "",
            "zerolinecolor": "white"
           },
           "yaxis": {
            "backgroundcolor": "#E5ECF6",
            "gridcolor": "white",
            "gridwidth": 2,
            "linecolor": "white",
            "showbackground": true,
            "ticks": "",
            "zerolinecolor": "white"
           },
           "zaxis": {
            "backgroundcolor": "#E5ECF6",
            "gridcolor": "white",
            "gridwidth": 2,
            "linecolor": "white",
            "showbackground": true,
            "ticks": "",
            "zerolinecolor": "white"
           }
          },
          "shapedefaults": {
           "line": {
            "color": "#2a3f5f"
           }
          },
          "ternary": {
           "aaxis": {
            "gridcolor": "white",
            "linecolor": "white",
            "ticks": ""
           },
           "baxis": {
            "gridcolor": "white",
            "linecolor": "white",
            "ticks": ""
           },
           "bgcolor": "#E5ECF6",
           "caxis": {
            "gridcolor": "white",
            "linecolor": "white",
            "ticks": ""
           }
          },
          "title": {
           "x": 0.05
          },
          "xaxis": {
           "automargin": true,
           "gridcolor": "white",
           "linecolor": "white",
           "ticks": "",
           "title": {
            "standoff": 15
           },
           "zerolinecolor": "white",
           "zerolinewidth": 2
          },
          "yaxis": {
           "automargin": true,
           "gridcolor": "white",
           "linecolor": "white",
           "ticks": "",
           "title": {
            "standoff": 15
           },
           "zerolinecolor": "white",
           "zerolinewidth": 2
          }
         }
        },
        "title": {
         "font": {
          "color": "#4D5663"
         }
        },
        "xaxis": {
         "gridcolor": "#E1E5ED",
         "showgrid": true,
         "tickfont": {
          "color": "#4D5663"
         },
         "title": {
          "font": {
           "color": "#4D5663"
          },
          "text": ""
         },
         "zerolinecolor": "#E1E5ED"
        },
        "yaxis": {
         "gridcolor": "#E1E5ED",
         "showgrid": true,
         "tickfont": {
          "color": "#4D5663"
         },
         "title": {
          "font": {
           "color": "#4D5663"
          },
          "text": ""
         },
         "zerolinecolor": "#E1E5ED"
        }
       }
      },
      "text/html": [
       "<div>                            <div id=\"f30e2a8f-51ac-419f-af7a-c555082828ba\" class=\"plotly-graph-div\" style=\"height:525px; width:100%;\"></div>            <script type=\"text/javascript\">                require([\"plotly\"], function(Plotly) {                    window.PLOTLYENV=window.PLOTLYENV || {};\n",
       "                    window.PLOTLYENV.BASE_URL='https://plot.ly';                                    if (document.getElementById(\"f30e2a8f-51ac-419f-af7a-c555082828ba\")) {                    Plotly.newPlot(                        \"f30e2a8f-51ac-419f-af7a-c555082828ba\",                        [{\"marker\":{\"color\":\"rgba(255, 153, 51, 0.6)\",\"line\":{\"color\":\"rgba(255, 153, 51, 1.0)\",\"width\":1}},\"name\":\"None\",\"orientation\":\"v\",\"text\":\"\",\"x\":[\"A\",\"B\",\"C\",\"D\"],\"y\":[100,100,100,100],\"type\":\"bar\"}],                        {\"legend\":{\"bgcolor\":\"#F5F6F9\",\"font\":{\"color\":\"#4D5663\"}},\"paper_bgcolor\":\"#F5F6F9\",\"plot_bgcolor\":\"#F5F6F9\",\"template\":{\"data\":{\"barpolar\":[{\"marker\":{\"line\":{\"color\":\"#E5ECF6\",\"width\":0.5},\"pattern\":{\"fillmode\":\"overlay\",\"size\":10,\"solidity\":0.2}},\"type\":\"barpolar\"}],\"bar\":[{\"error_x\":{\"color\":\"#2a3f5f\"},\"error_y\":{\"color\":\"#2a3f5f\"},\"marker\":{\"line\":{\"color\":\"#E5ECF6\",\"width\":0.5},\"pattern\":{\"fillmode\":\"overlay\",\"size\":10,\"solidity\":0.2}},\"type\":\"bar\"}],\"carpet\":[{\"aaxis\":{\"endlinecolor\":\"#2a3f5f\",\"gridcolor\":\"white\",\"linecolor\":\"white\",\"minorgridcolor\":\"white\",\"startlinecolor\":\"#2a3f5f\"},\"baxis\":{\"endlinecolor\":\"#2a3f5f\",\"gridcolor\":\"white\",\"linecolor\":\"white\",\"minorgridcolor\":\"white\",\"startlinecolor\":\"#2a3f5f\"},\"type\":\"carpet\"}],\"choropleth\":[{\"colorbar\":{\"outlinewidth\":0,\"ticks\":\"\"},\"type\":\"choropleth\"}],\"contourcarpet\":[{\"colorbar\":{\"outlinewidth\":0,\"ticks\":\"\"},\"type\":\"contourcarpet\"}],\"contour\":[{\"colorbar\":{\"outlinewidth\":0,\"ticks\":\"\"},\"colorscale\":[[0.0,\"#0d0887\"],[0.1111111111111111,\"#46039f\"],[0.2222222222222222,\"#7201a8\"],[0.3333333333333333,\"#9c179e\"],[0.4444444444444444,\"#bd3786\"],[0.5555555555555556,\"#d8576b\"],[0.6666666666666666,\"#ed7953\"],[0.7777777777777778,\"#fb9f3a\"],[0.8888888888888888,\"#fdca26\"],[1.0,\"#f0f921\"]],\"type\":\"contour\"}],\"heatmapgl\":[{\"colorbar\":{\"outlinewidth\":0,\"ticks\":\"\"},\"colorscale\":[[0.0,\"#0d0887\"],[0.1111111111111111,\"#46039f\"],[0.2222222222222222,\"#7201a8\"],[0.3333333333333333,\"#9c179e\"],[0.4444444444444444,\"#bd3786\"],[0.5555555555555556,\"#d8576b\"],[0.6666666666666666,\"#ed7953\"],[0.7777777777777778,\"#fb9f3a\"],[0.8888888888888888,\"#fdca26\"],[1.0,\"#f0f921\"]],\"type\":\"heatmapgl\"}],\"heatmap\":[{\"colorbar\":{\"outlinewidth\":0,\"ticks\":\"\"},\"colorscale\":[[0.0,\"#0d0887\"],[0.1111111111111111,\"#46039f\"],[0.2222222222222222,\"#7201a8\"],[0.3333333333333333,\"#9c179e\"],[0.4444444444444444,\"#bd3786\"],[0.5555555555555556,\"#d8576b\"],[0.6666666666666666,\"#ed7953\"],[0.7777777777777778,\"#fb9f3a\"],[0.8888888888888888,\"#fdca26\"],[1.0,\"#f0f921\"]],\"type\":\"heatmap\"}],\"histogram2dcontour\":[{\"colorbar\":{\"outlinewidth\":0,\"ticks\":\"\"},\"colorscale\":[[0.0,\"#0d0887\"],[0.1111111111111111,\"#46039f\"],[0.2222222222222222,\"#7201a8\"],[0.3333333333333333,\"#9c179e\"],[0.4444444444444444,\"#bd3786\"],[0.5555555555555556,\"#d8576b\"],[0.6666666666666666,\"#ed7953\"],[0.7777777777777778,\"#fb9f3a\"],[0.8888888888888888,\"#fdca26\"],[1.0,\"#f0f921\"]],\"type\":\"histogram2dcontour\"}],\"histogram2d\":[{\"colorbar\":{\"outlinewidth\":0,\"ticks\":\"\"},\"colorscale\":[[0.0,\"#0d0887\"],[0.1111111111111111,\"#46039f\"],[0.2222222222222222,\"#7201a8\"],[0.3333333333333333,\"#9c179e\"],[0.4444444444444444,\"#bd3786\"],[0.5555555555555556,\"#d8576b\"],[0.6666666666666666,\"#ed7953\"],[0.7777777777777778,\"#fb9f3a\"],[0.8888888888888888,\"#fdca26\"],[1.0,\"#f0f921\"]],\"type\":\"histogram2d\"}],\"histogram\":[{\"marker\":{\"pattern\":{\"fillmode\":\"overlay\",\"size\":10,\"solidity\":0.2}},\"type\":\"histogram\"}],\"mesh3d\":[{\"colorbar\":{\"outlinewidth\":0,\"ticks\":\"\"},\"type\":\"mesh3d\"}],\"parcoords\":[{\"line\":{\"colorbar\":{\"outlinewidth\":0,\"ticks\":\"\"}},\"type\":\"parcoords\"}],\"pie\":[{\"automargin\":true,\"type\":\"pie\"}],\"scatter3d\":[{\"line\":{\"colorbar\":{\"outlinewidth\":0,\"ticks\":\"\"}},\"marker\":{\"colorbar\":{\"outlinewidth\":0,\"ticks\":\"\"}},\"type\":\"scatter3d\"}],\"scattercarpet\":[{\"marker\":{\"colorbar\":{\"outlinewidth\":0,\"ticks\":\"\"}},\"type\":\"scattercarpet\"}],\"scattergeo\":[{\"marker\":{\"colorbar\":{\"outlinewidth\":0,\"ticks\":\"\"}},\"type\":\"scattergeo\"}],\"scattergl\":[{\"marker\":{\"colorbar\":{\"outlinewidth\":0,\"ticks\":\"\"}},\"type\":\"scattergl\"}],\"scattermapbox\":[{\"marker\":{\"colorbar\":{\"outlinewidth\":0,\"ticks\":\"\"}},\"type\":\"scattermapbox\"}],\"scatterpolargl\":[{\"marker\":{\"colorbar\":{\"outlinewidth\":0,\"ticks\":\"\"}},\"type\":\"scatterpolargl\"}],\"scatterpolar\":[{\"marker\":{\"colorbar\":{\"outlinewidth\":0,\"ticks\":\"\"}},\"type\":\"scatterpolar\"}],\"scatter\":[{\"fillpattern\":{\"fillmode\":\"overlay\",\"size\":10,\"solidity\":0.2},\"type\":\"scatter\"}],\"scatterternary\":[{\"marker\":{\"colorbar\":{\"outlinewidth\":0,\"ticks\":\"\"}},\"type\":\"scatterternary\"}],\"surface\":[{\"colorbar\":{\"outlinewidth\":0,\"ticks\":\"\"},\"colorscale\":[[0.0,\"#0d0887\"],[0.1111111111111111,\"#46039f\"],[0.2222222222222222,\"#7201a8\"],[0.3333333333333333,\"#9c179e\"],[0.4444444444444444,\"#bd3786\"],[0.5555555555555556,\"#d8576b\"],[0.6666666666666666,\"#ed7953\"],[0.7777777777777778,\"#fb9f3a\"],[0.8888888888888888,\"#fdca26\"],[1.0,\"#f0f921\"]],\"type\":\"surface\"}],\"table\":[{\"cells\":{\"fill\":{\"color\":\"#EBF0F8\"},\"line\":{\"color\":\"white\"}},\"header\":{\"fill\":{\"color\":\"#C8D4E3\"},\"line\":{\"color\":\"white\"}},\"type\":\"table\"}]},\"layout\":{\"annotationdefaults\":{\"arrowcolor\":\"#2a3f5f\",\"arrowhead\":0,\"arrowwidth\":1},\"autotypenumbers\":\"strict\",\"coloraxis\":{\"colorbar\":{\"outlinewidth\":0,\"ticks\":\"\"}},\"colorscale\":{\"diverging\":[[0,\"#8e0152\"],[0.1,\"#c51b7d\"],[0.2,\"#de77ae\"],[0.3,\"#f1b6da\"],[0.4,\"#fde0ef\"],[0.5,\"#f7f7f7\"],[0.6,\"#e6f5d0\"],[0.7,\"#b8e186\"],[0.8,\"#7fbc41\"],[0.9,\"#4d9221\"],[1,\"#276419\"]],\"sequential\":[[0.0,\"#0d0887\"],[0.1111111111111111,\"#46039f\"],[0.2222222222222222,\"#7201a8\"],[0.3333333333333333,\"#9c179e\"],[0.4444444444444444,\"#bd3786\"],[0.5555555555555556,\"#d8576b\"],[0.6666666666666666,\"#ed7953\"],[0.7777777777777778,\"#fb9f3a\"],[0.8888888888888888,\"#fdca26\"],[1.0,\"#f0f921\"]],\"sequentialminus\":[[0.0,\"#0d0887\"],[0.1111111111111111,\"#46039f\"],[0.2222222222222222,\"#7201a8\"],[0.3333333333333333,\"#9c179e\"],[0.4444444444444444,\"#bd3786\"],[0.5555555555555556,\"#d8576b\"],[0.6666666666666666,\"#ed7953\"],[0.7777777777777778,\"#fb9f3a\"],[0.8888888888888888,\"#fdca26\"],[1.0,\"#f0f921\"]]},\"colorway\":[\"#636efa\",\"#EF553B\",\"#00cc96\",\"#ab63fa\",\"#FFA15A\",\"#19d3f3\",\"#FF6692\",\"#B6E880\",\"#FF97FF\",\"#FECB52\"],\"font\":{\"color\":\"#2a3f5f\"},\"geo\":{\"bgcolor\":\"white\",\"lakecolor\":\"white\",\"landcolor\":\"#E5ECF6\",\"showlakes\":true,\"showland\":true,\"subunitcolor\":\"white\"},\"hoverlabel\":{\"align\":\"left\"},\"hovermode\":\"closest\",\"mapbox\":{\"style\":\"light\"},\"paper_bgcolor\":\"white\",\"plot_bgcolor\":\"#E5ECF6\",\"polar\":{\"angularaxis\":{\"gridcolor\":\"white\",\"linecolor\":\"white\",\"ticks\":\"\"},\"bgcolor\":\"#E5ECF6\",\"radialaxis\":{\"gridcolor\":\"white\",\"linecolor\":\"white\",\"ticks\":\"\"}},\"scene\":{\"xaxis\":{\"backgroundcolor\":\"#E5ECF6\",\"gridcolor\":\"white\",\"gridwidth\":2,\"linecolor\":\"white\",\"showbackground\":true,\"ticks\":\"\",\"zerolinecolor\":\"white\"},\"yaxis\":{\"backgroundcolor\":\"#E5ECF6\",\"gridcolor\":\"white\",\"gridwidth\":2,\"linecolor\":\"white\",\"showbackground\":true,\"ticks\":\"\",\"zerolinecolor\":\"white\"},\"zaxis\":{\"backgroundcolor\":\"#E5ECF6\",\"gridcolor\":\"white\",\"gridwidth\":2,\"linecolor\":\"white\",\"showbackground\":true,\"ticks\":\"\",\"zerolinecolor\":\"white\"}},\"shapedefaults\":{\"line\":{\"color\":\"#2a3f5f\"}},\"ternary\":{\"aaxis\":{\"gridcolor\":\"white\",\"linecolor\":\"white\",\"ticks\":\"\"},\"baxis\":{\"gridcolor\":\"white\",\"linecolor\":\"white\",\"ticks\":\"\"},\"bgcolor\":\"#E5ECF6\",\"caxis\":{\"gridcolor\":\"white\",\"linecolor\":\"white\",\"ticks\":\"\"}},\"title\":{\"x\":0.05},\"xaxis\":{\"automargin\":true,\"gridcolor\":\"white\",\"linecolor\":\"white\",\"ticks\":\"\",\"title\":{\"standoff\":15},\"zerolinecolor\":\"white\",\"zerolinewidth\":2},\"yaxis\":{\"automargin\":true,\"gridcolor\":\"white\",\"linecolor\":\"white\",\"ticks\":\"\",\"title\":{\"standoff\":15},\"zerolinecolor\":\"white\",\"zerolinewidth\":2}}},\"title\":{\"font\":{\"color\":\"#4D5663\"}},\"xaxis\":{\"gridcolor\":\"#E1E5ED\",\"showgrid\":true,\"tickfont\":{\"color\":\"#4D5663\"},\"title\":{\"font\":{\"color\":\"#4D5663\"},\"text\":\"\"},\"zerolinecolor\":\"#E1E5ED\"},\"yaxis\":{\"gridcolor\":\"#E1E5ED\",\"showgrid\":true,\"tickfont\":{\"color\":\"#4D5663\"},\"title\":{\"font\":{\"color\":\"#4D5663\"},\"text\":\"\"},\"zerolinecolor\":\"#E1E5ED\"}},                        {\"showLink\": true, \"linkText\": \"Export to plot.ly\", \"plotlyServerURL\": \"https://plot.ly\", \"responsive\": true}                    ).then(function(){\n",
       "                            \n",
       "var gd = document.getElementById('f30e2a8f-51ac-419f-af7a-c555082828ba');\n",
       "var x = new MutationObserver(function (mutations, observer) {{\n",
       "        var display = window.getComputedStyle(gd).display;\n",
       "        if (!display || display === 'none') {{\n",
       "            console.log([gd, 'removed!']);\n",
       "            Plotly.purge(gd);\n",
       "            observer.disconnect();\n",
       "        }}\n",
       "}});\n",
       "\n",
       "// Listen for the removal of the full notebook cells\n",
       "var notebookContainer = gd.closest('#notebook-container');\n",
       "if (notebookContainer) {{\n",
       "    x.observe(notebookContainer, {childList: true});\n",
       "}}\n",
       "\n",
       "// Listen for the clearing of the current output cell\n",
       "var outputEl = gd.closest('.output');\n",
       "if (outputEl) {{\n",
       "    x.observe(outputEl, {childList: true});\n",
       "}}\n",
       "\n",
       "                        })                };                });            </script>        </div>"
      ]
     },
     "metadata": {},
     "output_type": "display_data"
    }
   ],
   "source": [
    "df.count().iplot(kind='bar')"
   ]
  },
  {
   "cell_type": "markdown",
   "metadata": {},
   "source": [
    "## Boxplots"
   ]
  },
  {
   "cell_type": "code",
   "execution_count": 31,
   "metadata": {
    "collapsed": false
   },
   "outputs": [
    {
     "data": {
      "application/vnd.plotly.v1+json": {
       "config": {
        "linkText": "Export to plot.ly",
        "plotlyServerURL": "https://plot.ly",
        "showLink": true
       },
       "data": [
        {
         "boxpoints": false,
         "line": {
          "width": 1.3
         },
         "marker": {
          "color": "rgba(255, 153, 51, 1.0)"
         },
         "name": "A",
         "orientation": "v",
         "type": "box",
         "y": [
          -1.3901949841581454,
          1.069922847106397,
          0.2055027592448163,
          -0.1291368074106173,
          1.1943389288630906,
          -1.3292319904526035,
          0.10172609409471008,
          -0.3221745473763238,
          -1.0933289223171323,
          0.8962065258841243,
          -0.7786362671054254,
          -0.011645302090516776,
          0.44924603650584644,
          -0.8256606600330482,
          0.4933240135491313,
          -1.425021249604569,
          -0.7980154456139854,
          1.2716639235371983,
          0.983634830370605,
          -0.0131853266453508,
          0.07970050864372122,
          -1.3183877932587922,
          -0.06041057639929024,
          -0.11134888702932266,
          -2.1499368132801058,
          -0.5514439544355939,
          0.3914604681738653,
          0.8890679991657041,
          0.28542034976793784,
          -0.6304761846712792,
          -0.1878088747248309,
          0.8889529698002793,
          0.45778071476476473,
          -0.12327331670334513,
          -0.29537435268245876,
          -0.08960332054704244,
          0.10432345628202129,
          0.8461532567992535,
          0.803601424416993,
          0.9491203637480421,
          -0.37765332489133335,
          -0.38752199701339685,
          0.8723021363291167,
          2.1204431464464233,
          2.0875076710319154,
          -0.26696339954003034,
          0.8106619705258042,
          -0.2214274625076834,
          -0.7118090777153491,
          -1.688032206163727,
          0.6028689425515956,
          -1.6958500587474632,
          0.2807016925333527,
          -1.0509375083617725,
          0.4448628824772095,
          1.3435148948892826,
          0.4203795505337432,
          -0.7635183838411761,
          -0.9406507307083636,
          0.09562761051184446,
          -1.272869074454918,
          1.0960340944547309,
          1.0625238646050967,
          -0.17771685453414426,
          1.845712049875227,
          0.14235070116325824,
          -0.7941112509036065,
          1.3529661858705617,
          0.9804622209996304,
          1.6876064912058704,
          -0.670156983203831,
          -1.3323507004611381,
          1.3730453556738749,
          0.7882964598361236,
          -1.0531434522638672,
          -0.3146275627267074,
          -3.0747599634463696,
          0.7359197646540324,
          0.3905846088913656,
          0.7562292950033769,
          2.0126903623388985,
          -0.9417501065215361,
          0.0605632892435693,
          0.7150989468002216,
          1.7112704379063017,
          -0.05141026396406195,
          0.746287932383283,
          0.049952739784688345,
          2.0393266553986016,
          -0.19115632906252,
          2.53897699824267,
          0.06677133714948412,
          0.18331594429555945,
          -0.28503842514401506,
          1.3961232808599877,
          -2.7523778166341635,
          0.08231536758941917,
          1.153297736148488,
          1.1121083772525953,
          -1.093043512712841
         ]
        },
        {
         "boxpoints": false,
         "line": {
          "width": 1.3
         },
         "marker": {
          "color": "rgba(55, 128, 191, 1.0)"
         },
         "name": "B",
         "orientation": "v",
         "type": "box",
         "y": [
          -0.5913402385474351,
          1.291121332745925,
          -1.466747037145677,
          -0.3322969627060832,
          0.1187700874875702,
          -0.24207599262733395,
          -0.6226001284660565,
          1.272572536022268,
          -0.04171014781234873,
          0.18080898864233078,
          -1.2586879467504293,
          -0.5135337558658654,
          -0.8473200180220722,
          0.8604218703730332,
          -1.7856776836306145,
          -0.5919786283309229,
          -0.1359138565576188,
          0.601459009542728,
          -0.8431732058899216,
          0.9863151365620875,
          1.105404116926311,
          -2.30989555478306,
          0.6345142872351962,
          -0.8127965787904066,
          -1.2339041212978519,
          0.9146263775285808,
          -1.070146080674142,
          -0.2821436508345468,
          0.21783932695449573,
          -1.0377114276217354,
          2.551428546572451,
          -0.7394626721208684,
          -0.21305885706846572,
          -0.9914679216957235,
          -1.3556255372723736,
          -0.623899335595533,
          -1.4508558168496688,
          -0.9740248766369816,
          -1.9807426870934963,
          -0.3173781925508749,
          -1.8959224489347248,
          2.0313578713934053,
          -0.7251622914463774,
          0.008575265151005882,
          1.0438778960596895,
          0.2974943865792594,
          -0.33413957586703646,
          0.8044725946533433,
          -1.737641661567125,
          0.08412351848049478,
          1.336762991048388,
          -2.2746010546139583,
          -0.12327330870798514,
          0.821392336743205,
          0.5264790702487522,
          2.0717612284105895,
          0.6576114588811612,
          -0.41184883862426647,
          -0.16505253016242047,
          0.8468452828212563,
          -1.5274103886728592,
          0.6571478551011237,
          0.8391958399037819,
          -1.6519628230129517,
          0.012091368496789549,
          -0.28651555423397385,
          -0.0334744400687433,
          0.9048678102827954,
          0.03883455535784291,
          -1.369637488107185,
          -1.7295384107389804,
          -2.1987599151098713,
          0.73107072483283,
          0.9924865836621327,
          -0.22755603733200772,
          0.7116799179162969,
          1.8516026144301145,
          -0.24928062944149215,
          -2.27293167085413,
          1.3784823080181787,
          0.7086191282068263,
          1.3877586827610382,
          -1.1304517131677987,
          0.6464728780029316,
          2.070760542940685,
          -1.4634696830461231,
          0.6571830263885893,
          -2.2943196819244234,
          0.19188186933341375,
          -1.295083155007402,
          0.4119242303807797,
          -1.5338654192597836,
          0.0729083197894447,
          -0.5401987615233624,
          1.2712282833943516,
          -0.00030327787264339837,
          -0.3492774061960846,
          0.5559914807905486,
          -0.6696434699440698,
          -0.4733264851114375
         ]
        },
        {
         "boxpoints": false,
         "line": {
          "width": 1.3
         },
         "marker": {
          "color": "rgba(50, 171, 96, 1.0)"
         },
         "name": "C",
         "orientation": "v",
         "type": "box",
         "y": [
          -0.785875264835871,
          -0.4166244994772151,
          -0.4012629913852263,
          0.35465776564303464,
          -1.2010715803387078,
          1.010132350569846,
          0.08525021904882284,
          0.9913068992278078,
          -0.20627625694363427,
          -0.39379874099348233,
          -1.9899711853240618,
          2.016902779986095,
          0.21942069768439904,
          0.9653599591543708,
          0.0650012377037777,
          0.5378866524312556,
          2.3117149167340547,
          -0.9952944400819026,
          -0.4906822422944613,
          0.027350439649948162,
          -0.24975107886428458,
          -0.09943026640522272,
          0.1123797297978677,
          0.9658136828196481,
          0.8259171327781375,
          -0.012058481482416512,
          -0.2930854867236735,
          0.9208286718468252,
          -0.08502981603455544,
          -0.29375019676428166,
          -0.4284820514392859,
          -0.5129567946473805,
          -0.29282711700748276,
          0.47092136047578004,
          -0.544370958359331,
          1.9593662159254581,
          0.8379813435248245,
          1.8980392668324881,
          -0.570786792976965,
          -1.2925657743793226,
          1.0274945865679836,
          0.9144373237751301,
          0.02602647005560698,
          1.117134203505103,
          1.1313721906937841,
          -0.954887378617882,
          -0.14066251211986164,
          -0.9863734091076309,
          1.2047248536631938,
          -0.9041105126871736,
          0.16770383911998366,
          -1.5653034756292863,
          0.9835094566234339,
          -1.674801747158713,
          1.2022417086271955,
          -1.4655095098476731,
          -0.8398975121203412,
          0.6885484042103989,
          1.4019715189660475,
          0.7628915097199818,
          0.9824134834001975,
          0.8703114682823871,
          -0.8791191144240288,
          -0.4406355814011222,
          1.9548440405419485,
          -0.6403966417549738,
          -0.3297421993455612,
          -0.9561112489200627,
          2.055600140616719,
          -0.1267334579223654,
          0.13527487498749208,
          -0.3502036685632511,
          0.07978188196264824,
          0.2793091064311869,
          -1.5161061990362936,
          2.938966979435973,
          1.1993617984043197,
          0.5552392402522058,
          0.6446907286033249,
          0.7951349393121572,
          -0.07119184948998257,
          -1.265494120750372,
          1.3671712228716615,
          1.5931754741367044,
          -0.8480960310505018,
          0.7359995323169594,
          1.7367807919619345,
          1.2641557614077659,
          0.9123431560252537,
          0.6599695965653736,
          0.35136142053164515,
          -1.3253365161436161,
          0.06942296767108237,
          -1.2371172251059135,
          -0.8267948125108647,
          0.3569766765432963,
          -0.5854897504987103,
          -1.0130185455299794,
          1.527728465225669,
          -0.5778727496641319
         ]
        },
        {
         "boxpoints": false,
         "line": {
          "width": 1.3
         },
         "marker": {
          "color": "rgba(128, 0, 128, 1.0)"
         },
         "name": "D",
         "orientation": "v",
         "type": "box",
         "y": [
          0.6050625689237626,
          -0.5341663568620643,
          -0.6836949044788398,
          0.07150173474630343,
          -0.6750773662024668,
          -0.7617086353343657,
          -0.5773269060577014,
          -0.6722108645091384,
          -0.21365651739078018,
          0.08682729857759316,
          -0.42508350521695254,
          0.6749641896212607,
          -1.235231847370315,
          0.36374581335936285,
          -0.25752850940387695,
          -2.1202163871461845,
          1.520144202197967,
          0.5748406590379539,
          2.1885070807222777,
          -0.5719225757321915,
          -1.2832582246004933,
          -0.795470339504796,
          -1.6144812112086262,
          -0.19476178681763415,
          -0.10823026798575994,
          0.15117885844929885,
          0.23676701823097215,
          0.1517495469501139,
          -0.0920543441173036,
          0.1907696921589052,
          -2.0227169531716775,
          0.4069550950745697,
          1.4073678829529794,
          1.0755130342966395,
          -0.6748849313815257,
          0.7241121487788296,
          0.863553959985662,
          -0.3520551664012393,
          -0.32412544887827355,
          1.958291163488966,
          1.5050110344534935,
          1.0415573936258324,
          2.4188972469130734,
          -0.5008774310667011,
          -1.234654098897178,
          0.8963305952098362,
          -0.9021216405790684,
          -0.6233881300300523,
          0.013337507707671902,
          -0.7730494125701088,
          1.1413394403500947,
          -1.0477589747661205,
          0.05053514181345651,
          -1.2503965871640315,
          1.2211793337128891,
          -1.5094149934599055,
          -1.0160217884134923,
          -0.20349728302467668,
          -0.07854718083733599,
          -0.9272529547141967,
          -0.3712332473269593,
          -1.0522604522758205,
          -1.917465889733078,
          0.2376742492853061,
          1.1519547703116644,
          -1.455124153601072,
          -0.6600537871647677,
          0.6678066605591857,
          -0.02877202928153565,
          -0.7813270767924949,
          -0.8952513220408085,
          -0.9295037537536113,
          0.41091166047020594,
          -0.05955577829210657,
          0.2592170670523021,
          -1.7424928776091053,
          0.23494228555283372,
          1.515295059959739,
          -2.3257581043745423,
          0.6916107794778338,
          0.07264730008617393,
          -2.024982315915042,
          -1.1130599114854702,
          0.7462155936941378,
          -1.1083276458838178,
          -1.3543272378931481,
          -0.0027816881168835636,
          -0.3244374967628371,
          1.3152082281893835,
          -0.35435184207843107,
          -0.9260684667348138,
          0.4217822715272979,
          0.3262246914125725,
          1.552240124004772,
          -0.9848880568637277,
          -0.2534404066650368,
          -0.9301474996295686,
          0.8632693660993879,
          0.36631334405918703,
          -0.41065888156248803
         ]
        }
       ],
       "layout": {
        "legend": {
         "bgcolor": "#F5F6F9",
         "font": {
          "color": "#4D5663"
         }
        },
        "paper_bgcolor": "#F5F6F9",
        "plot_bgcolor": "#F5F6F9",
        "template": {
         "data": {
          "bar": [
           {
            "error_x": {
             "color": "#2a3f5f"
            },
            "error_y": {
             "color": "#2a3f5f"
            },
            "marker": {
             "line": {
              "color": "#E5ECF6",
              "width": 0.5
             },
             "pattern": {
              "fillmode": "overlay",
              "size": 10,
              "solidity": 0.2
             }
            },
            "type": "bar"
           }
          ],
          "barpolar": [
           {
            "marker": {
             "line": {
              "color": "#E5ECF6",
              "width": 0.5
             },
             "pattern": {
              "fillmode": "overlay",
              "size": 10,
              "solidity": 0.2
             }
            },
            "type": "barpolar"
           }
          ],
          "carpet": [
           {
            "aaxis": {
             "endlinecolor": "#2a3f5f",
             "gridcolor": "white",
             "linecolor": "white",
             "minorgridcolor": "white",
             "startlinecolor": "#2a3f5f"
            },
            "baxis": {
             "endlinecolor": "#2a3f5f",
             "gridcolor": "white",
             "linecolor": "white",
             "minorgridcolor": "white",
             "startlinecolor": "#2a3f5f"
            },
            "type": "carpet"
           }
          ],
          "choropleth": [
           {
            "colorbar": {
             "outlinewidth": 0,
             "ticks": ""
            },
            "type": "choropleth"
           }
          ],
          "contour": [
           {
            "colorbar": {
             "outlinewidth": 0,
             "ticks": ""
            },
            "colorscale": [
             [
              0,
              "#0d0887"
             ],
             [
              0.1111111111111111,
              "#46039f"
             ],
             [
              0.2222222222222222,
              "#7201a8"
             ],
             [
              0.3333333333333333,
              "#9c179e"
             ],
             [
              0.4444444444444444,
              "#bd3786"
             ],
             [
              0.5555555555555556,
              "#d8576b"
             ],
             [
              0.6666666666666666,
              "#ed7953"
             ],
             [
              0.7777777777777778,
              "#fb9f3a"
             ],
             [
              0.8888888888888888,
              "#fdca26"
             ],
             [
              1,
              "#f0f921"
             ]
            ],
            "type": "contour"
           }
          ],
          "contourcarpet": [
           {
            "colorbar": {
             "outlinewidth": 0,
             "ticks": ""
            },
            "type": "contourcarpet"
           }
          ],
          "heatmap": [
           {
            "colorbar": {
             "outlinewidth": 0,
             "ticks": ""
            },
            "colorscale": [
             [
              0,
              "#0d0887"
             ],
             [
              0.1111111111111111,
              "#46039f"
             ],
             [
              0.2222222222222222,
              "#7201a8"
             ],
             [
              0.3333333333333333,
              "#9c179e"
             ],
             [
              0.4444444444444444,
              "#bd3786"
             ],
             [
              0.5555555555555556,
              "#d8576b"
             ],
             [
              0.6666666666666666,
              "#ed7953"
             ],
             [
              0.7777777777777778,
              "#fb9f3a"
             ],
             [
              0.8888888888888888,
              "#fdca26"
             ],
             [
              1,
              "#f0f921"
             ]
            ],
            "type": "heatmap"
           }
          ],
          "heatmapgl": [
           {
            "colorbar": {
             "outlinewidth": 0,
             "ticks": ""
            },
            "colorscale": [
             [
              0,
              "#0d0887"
             ],
             [
              0.1111111111111111,
              "#46039f"
             ],
             [
              0.2222222222222222,
              "#7201a8"
             ],
             [
              0.3333333333333333,
              "#9c179e"
             ],
             [
              0.4444444444444444,
              "#bd3786"
             ],
             [
              0.5555555555555556,
              "#d8576b"
             ],
             [
              0.6666666666666666,
              "#ed7953"
             ],
             [
              0.7777777777777778,
              "#fb9f3a"
             ],
             [
              0.8888888888888888,
              "#fdca26"
             ],
             [
              1,
              "#f0f921"
             ]
            ],
            "type": "heatmapgl"
           }
          ],
          "histogram": [
           {
            "marker": {
             "pattern": {
              "fillmode": "overlay",
              "size": 10,
              "solidity": 0.2
             }
            },
            "type": "histogram"
           }
          ],
          "histogram2d": [
           {
            "colorbar": {
             "outlinewidth": 0,
             "ticks": ""
            },
            "colorscale": [
             [
              0,
              "#0d0887"
             ],
             [
              0.1111111111111111,
              "#46039f"
             ],
             [
              0.2222222222222222,
              "#7201a8"
             ],
             [
              0.3333333333333333,
              "#9c179e"
             ],
             [
              0.4444444444444444,
              "#bd3786"
             ],
             [
              0.5555555555555556,
              "#d8576b"
             ],
             [
              0.6666666666666666,
              "#ed7953"
             ],
             [
              0.7777777777777778,
              "#fb9f3a"
             ],
             [
              0.8888888888888888,
              "#fdca26"
             ],
             [
              1,
              "#f0f921"
             ]
            ],
            "type": "histogram2d"
           }
          ],
          "histogram2dcontour": [
           {
            "colorbar": {
             "outlinewidth": 0,
             "ticks": ""
            },
            "colorscale": [
             [
              0,
              "#0d0887"
             ],
             [
              0.1111111111111111,
              "#46039f"
             ],
             [
              0.2222222222222222,
              "#7201a8"
             ],
             [
              0.3333333333333333,
              "#9c179e"
             ],
             [
              0.4444444444444444,
              "#bd3786"
             ],
             [
              0.5555555555555556,
              "#d8576b"
             ],
             [
              0.6666666666666666,
              "#ed7953"
             ],
             [
              0.7777777777777778,
              "#fb9f3a"
             ],
             [
              0.8888888888888888,
              "#fdca26"
             ],
             [
              1,
              "#f0f921"
             ]
            ],
            "type": "histogram2dcontour"
           }
          ],
          "mesh3d": [
           {
            "colorbar": {
             "outlinewidth": 0,
             "ticks": ""
            },
            "type": "mesh3d"
           }
          ],
          "parcoords": [
           {
            "line": {
             "colorbar": {
              "outlinewidth": 0,
              "ticks": ""
             }
            },
            "type": "parcoords"
           }
          ],
          "pie": [
           {
            "automargin": true,
            "type": "pie"
           }
          ],
          "scatter": [
           {
            "fillpattern": {
             "fillmode": "overlay",
             "size": 10,
             "solidity": 0.2
            },
            "type": "scatter"
           }
          ],
          "scatter3d": [
           {
            "line": {
             "colorbar": {
              "outlinewidth": 0,
              "ticks": ""
             }
            },
            "marker": {
             "colorbar": {
              "outlinewidth": 0,
              "ticks": ""
             }
            },
            "type": "scatter3d"
           }
          ],
          "scattercarpet": [
           {
            "marker": {
             "colorbar": {
              "outlinewidth": 0,
              "ticks": ""
             }
            },
            "type": "scattercarpet"
           }
          ],
          "scattergeo": [
           {
            "marker": {
             "colorbar": {
              "outlinewidth": 0,
              "ticks": ""
             }
            },
            "type": "scattergeo"
           }
          ],
          "scattergl": [
           {
            "marker": {
             "colorbar": {
              "outlinewidth": 0,
              "ticks": ""
             }
            },
            "type": "scattergl"
           }
          ],
          "scattermapbox": [
           {
            "marker": {
             "colorbar": {
              "outlinewidth": 0,
              "ticks": ""
             }
            },
            "type": "scattermapbox"
           }
          ],
          "scatterpolar": [
           {
            "marker": {
             "colorbar": {
              "outlinewidth": 0,
              "ticks": ""
             }
            },
            "type": "scatterpolar"
           }
          ],
          "scatterpolargl": [
           {
            "marker": {
             "colorbar": {
              "outlinewidth": 0,
              "ticks": ""
             }
            },
            "type": "scatterpolargl"
           }
          ],
          "scatterternary": [
           {
            "marker": {
             "colorbar": {
              "outlinewidth": 0,
              "ticks": ""
             }
            },
            "type": "scatterternary"
           }
          ],
          "surface": [
           {
            "colorbar": {
             "outlinewidth": 0,
             "ticks": ""
            },
            "colorscale": [
             [
              0,
              "#0d0887"
             ],
             [
              0.1111111111111111,
              "#46039f"
             ],
             [
              0.2222222222222222,
              "#7201a8"
             ],
             [
              0.3333333333333333,
              "#9c179e"
             ],
             [
              0.4444444444444444,
              "#bd3786"
             ],
             [
              0.5555555555555556,
              "#d8576b"
             ],
             [
              0.6666666666666666,
              "#ed7953"
             ],
             [
              0.7777777777777778,
              "#fb9f3a"
             ],
             [
              0.8888888888888888,
              "#fdca26"
             ],
             [
              1,
              "#f0f921"
             ]
            ],
            "type": "surface"
           }
          ],
          "table": [
           {
            "cells": {
             "fill": {
              "color": "#EBF0F8"
             },
             "line": {
              "color": "white"
             }
            },
            "header": {
             "fill": {
              "color": "#C8D4E3"
             },
             "line": {
              "color": "white"
             }
            },
            "type": "table"
           }
          ]
         },
         "layout": {
          "annotationdefaults": {
           "arrowcolor": "#2a3f5f",
           "arrowhead": 0,
           "arrowwidth": 1
          },
          "autotypenumbers": "strict",
          "coloraxis": {
           "colorbar": {
            "outlinewidth": 0,
            "ticks": ""
           }
          },
          "colorscale": {
           "diverging": [
            [
             0,
             "#8e0152"
            ],
            [
             0.1,
             "#c51b7d"
            ],
            [
             0.2,
             "#de77ae"
            ],
            [
             0.3,
             "#f1b6da"
            ],
            [
             0.4,
             "#fde0ef"
            ],
            [
             0.5,
             "#f7f7f7"
            ],
            [
             0.6,
             "#e6f5d0"
            ],
            [
             0.7,
             "#b8e186"
            ],
            [
             0.8,
             "#7fbc41"
            ],
            [
             0.9,
             "#4d9221"
            ],
            [
             1,
             "#276419"
            ]
           ],
           "sequential": [
            [
             0,
             "#0d0887"
            ],
            [
             0.1111111111111111,
             "#46039f"
            ],
            [
             0.2222222222222222,
             "#7201a8"
            ],
            [
             0.3333333333333333,
             "#9c179e"
            ],
            [
             0.4444444444444444,
             "#bd3786"
            ],
            [
             0.5555555555555556,
             "#d8576b"
            ],
            [
             0.6666666666666666,
             "#ed7953"
            ],
            [
             0.7777777777777778,
             "#fb9f3a"
            ],
            [
             0.8888888888888888,
             "#fdca26"
            ],
            [
             1,
             "#f0f921"
            ]
           ],
           "sequentialminus": [
            [
             0,
             "#0d0887"
            ],
            [
             0.1111111111111111,
             "#46039f"
            ],
            [
             0.2222222222222222,
             "#7201a8"
            ],
            [
             0.3333333333333333,
             "#9c179e"
            ],
            [
             0.4444444444444444,
             "#bd3786"
            ],
            [
             0.5555555555555556,
             "#d8576b"
            ],
            [
             0.6666666666666666,
             "#ed7953"
            ],
            [
             0.7777777777777778,
             "#fb9f3a"
            ],
            [
             0.8888888888888888,
             "#fdca26"
            ],
            [
             1,
             "#f0f921"
            ]
           ]
          },
          "colorway": [
           "#636efa",
           "#EF553B",
           "#00cc96",
           "#ab63fa",
           "#FFA15A",
           "#19d3f3",
           "#FF6692",
           "#B6E880",
           "#FF97FF",
           "#FECB52"
          ],
          "font": {
           "color": "#2a3f5f"
          },
          "geo": {
           "bgcolor": "white",
           "lakecolor": "white",
           "landcolor": "#E5ECF6",
           "showlakes": true,
           "showland": true,
           "subunitcolor": "white"
          },
          "hoverlabel": {
           "align": "left"
          },
          "hovermode": "closest",
          "mapbox": {
           "style": "light"
          },
          "paper_bgcolor": "white",
          "plot_bgcolor": "#E5ECF6",
          "polar": {
           "angularaxis": {
            "gridcolor": "white",
            "linecolor": "white",
            "ticks": ""
           },
           "bgcolor": "#E5ECF6",
           "radialaxis": {
            "gridcolor": "white",
            "linecolor": "white",
            "ticks": ""
           }
          },
          "scene": {
           "xaxis": {
            "backgroundcolor": "#E5ECF6",
            "gridcolor": "white",
            "gridwidth": 2,
            "linecolor": "white",
            "showbackground": true,
            "ticks": "",
            "zerolinecolor": "white"
           },
           "yaxis": {
            "backgroundcolor": "#E5ECF6",
            "gridcolor": "white",
            "gridwidth": 2,
            "linecolor": "white",
            "showbackground": true,
            "ticks": "",
            "zerolinecolor": "white"
           },
           "zaxis": {
            "backgroundcolor": "#E5ECF6",
            "gridcolor": "white",
            "gridwidth": 2,
            "linecolor": "white",
            "showbackground": true,
            "ticks": "",
            "zerolinecolor": "white"
           }
          },
          "shapedefaults": {
           "line": {
            "color": "#2a3f5f"
           }
          },
          "ternary": {
           "aaxis": {
            "gridcolor": "white",
            "linecolor": "white",
            "ticks": ""
           },
           "baxis": {
            "gridcolor": "white",
            "linecolor": "white",
            "ticks": ""
           },
           "bgcolor": "#E5ECF6",
           "caxis": {
            "gridcolor": "white",
            "linecolor": "white",
            "ticks": ""
           }
          },
          "title": {
           "x": 0.05
          },
          "xaxis": {
           "automargin": true,
           "gridcolor": "white",
           "linecolor": "white",
           "ticks": "",
           "title": {
            "standoff": 15
           },
           "zerolinecolor": "white",
           "zerolinewidth": 2
          },
          "yaxis": {
           "automargin": true,
           "gridcolor": "white",
           "linecolor": "white",
           "ticks": "",
           "title": {
            "standoff": 15
           },
           "zerolinecolor": "white",
           "zerolinewidth": 2
          }
         }
        },
        "title": {
         "font": {
          "color": "#4D5663"
         }
        },
        "xaxis": {
         "gridcolor": "#E1E5ED",
         "showgrid": true,
         "tickfont": {
          "color": "#4D5663"
         },
         "title": {
          "font": {
           "color": "#4D5663"
          },
          "text": ""
         },
         "zerolinecolor": "#E1E5ED"
        },
        "yaxis": {
         "gridcolor": "#E1E5ED",
         "showgrid": true,
         "tickfont": {
          "color": "#4D5663"
         },
         "title": {
          "font": {
           "color": "#4D5663"
          },
          "text": ""
         },
         "zerolinecolor": "#E1E5ED"
        }
       }
      },
      "text/html": [
       "<div>                            <div id=\"36e663f7-1acc-473b-a149-e6245030f697\" class=\"plotly-graph-div\" style=\"height:525px; width:100%;\"></div>            <script type=\"text/javascript\">                require([\"plotly\"], function(Plotly) {                    window.PLOTLYENV=window.PLOTLYENV || {};\n",
       "                    window.PLOTLYENV.BASE_URL='https://plot.ly';                                    if (document.getElementById(\"36e663f7-1acc-473b-a149-e6245030f697\")) {                    Plotly.newPlot(                        \"36e663f7-1acc-473b-a149-e6245030f697\",                        [{\"boxpoints\":false,\"line\":{\"width\":1.3},\"marker\":{\"color\":\"rgba(255, 153, 51, 1.0)\"},\"name\":\"A\",\"orientation\":\"v\",\"y\":[-1.3901949841581454,1.069922847106397,0.2055027592448163,-0.1291368074106173,1.1943389288630906,-1.3292319904526035,0.10172609409471008,-0.3221745473763238,-1.0933289223171323,0.8962065258841243,-0.7786362671054254,-0.011645302090516776,0.44924603650584644,-0.8256606600330482,0.4933240135491313,-1.425021249604569,-0.7980154456139854,1.2716639235371983,0.983634830370605,-0.0131853266453508,0.07970050864372122,-1.3183877932587922,-0.06041057639929024,-0.11134888702932266,-2.1499368132801058,-0.5514439544355939,0.3914604681738653,0.8890679991657041,0.28542034976793784,-0.6304761846712792,-0.1878088747248309,0.8889529698002793,0.45778071476476473,-0.12327331670334513,-0.29537435268245876,-0.08960332054704244,0.10432345628202129,0.8461532567992535,0.803601424416993,0.9491203637480421,-0.37765332489133335,-0.38752199701339685,0.8723021363291167,2.1204431464464233,2.0875076710319154,-0.26696339954003034,0.8106619705258042,-0.2214274625076834,-0.7118090777153491,-1.688032206163727,0.6028689425515956,-1.6958500587474632,0.2807016925333527,-1.0509375083617725,0.4448628824772095,1.3435148948892826,0.4203795505337432,-0.7635183838411761,-0.9406507307083636,0.09562761051184446,-1.272869074454918,1.0960340944547309,1.0625238646050967,-0.17771685453414426,1.845712049875227,0.14235070116325824,-0.7941112509036065,1.3529661858705617,0.9804622209996304,1.6876064912058704,-0.670156983203831,-1.3323507004611381,1.3730453556738749,0.7882964598361236,-1.0531434522638672,-0.3146275627267074,-3.0747599634463696,0.7359197646540324,0.3905846088913656,0.7562292950033769,2.0126903623388985,-0.9417501065215361,0.0605632892435693,0.7150989468002216,1.7112704379063017,-0.05141026396406195,0.746287932383283,0.049952739784688345,2.0393266553986016,-0.19115632906252,2.53897699824267,0.06677133714948412,0.18331594429555945,-0.28503842514401506,1.3961232808599877,-2.7523778166341635,0.08231536758941917,1.153297736148488,1.1121083772525953,-1.093043512712841],\"type\":\"box\"},{\"boxpoints\":false,\"line\":{\"width\":1.3},\"marker\":{\"color\":\"rgba(55, 128, 191, 1.0)\"},\"name\":\"B\",\"orientation\":\"v\",\"y\":[-0.5913402385474351,1.291121332745925,-1.466747037145677,-0.3322969627060832,0.1187700874875702,-0.24207599262733395,-0.6226001284660565,1.272572536022268,-0.04171014781234873,0.18080898864233078,-1.2586879467504293,-0.5135337558658654,-0.8473200180220722,0.8604218703730332,-1.7856776836306145,-0.5919786283309229,-0.1359138565576188,0.601459009542728,-0.8431732058899216,0.9863151365620875,1.105404116926311,-2.30989555478306,0.6345142872351962,-0.8127965787904066,-1.2339041212978519,0.9146263775285808,-1.070146080674142,-0.2821436508345468,0.21783932695449573,-1.0377114276217354,2.551428546572451,-0.7394626721208684,-0.21305885706846572,-0.9914679216957235,-1.3556255372723736,-0.623899335595533,-1.4508558168496688,-0.9740248766369816,-1.9807426870934963,-0.3173781925508749,-1.8959224489347248,2.0313578713934053,-0.7251622914463774,0.008575265151005882,1.0438778960596895,0.2974943865792594,-0.33413957586703646,0.8044725946533433,-1.737641661567125,0.08412351848049478,1.336762991048388,-2.2746010546139583,-0.12327330870798514,0.821392336743205,0.5264790702487522,2.0717612284105895,0.6576114588811612,-0.41184883862426647,-0.16505253016242047,0.8468452828212563,-1.5274103886728592,0.6571478551011237,0.8391958399037819,-1.6519628230129517,0.012091368496789549,-0.28651555423397385,-0.0334744400687433,0.9048678102827954,0.03883455535784291,-1.369637488107185,-1.7295384107389804,-2.1987599151098713,0.73107072483283,0.9924865836621327,-0.22755603733200772,0.7116799179162969,1.8516026144301145,-0.24928062944149215,-2.27293167085413,1.3784823080181787,0.7086191282068263,1.3877586827610382,-1.1304517131677987,0.6464728780029316,2.070760542940685,-1.4634696830461231,0.6571830263885893,-2.2943196819244234,0.19188186933341375,-1.295083155007402,0.4119242303807797,-1.5338654192597836,0.0729083197894447,-0.5401987615233624,1.2712282833943516,-0.00030327787264339837,-0.3492774061960846,0.5559914807905486,-0.6696434699440698,-0.4733264851114375],\"type\":\"box\"},{\"boxpoints\":false,\"line\":{\"width\":1.3},\"marker\":{\"color\":\"rgba(50, 171, 96, 1.0)\"},\"name\":\"C\",\"orientation\":\"v\",\"y\":[-0.785875264835871,-0.4166244994772151,-0.4012629913852263,0.35465776564303464,-1.2010715803387078,1.010132350569846,0.08525021904882284,0.9913068992278078,-0.20627625694363427,-0.39379874099348233,-1.9899711853240618,2.016902779986095,0.21942069768439904,0.9653599591543708,0.0650012377037777,0.5378866524312556,2.3117149167340547,-0.9952944400819026,-0.4906822422944613,0.027350439649948162,-0.24975107886428458,-0.09943026640522272,0.1123797297978677,0.9658136828196481,0.8259171327781375,-0.012058481482416512,-0.2930854867236735,0.9208286718468252,-0.08502981603455544,-0.29375019676428166,-0.4284820514392859,-0.5129567946473805,-0.29282711700748276,0.47092136047578004,-0.544370958359331,1.9593662159254581,0.8379813435248245,1.8980392668324881,-0.570786792976965,-1.2925657743793226,1.0274945865679836,0.9144373237751301,0.02602647005560698,1.117134203505103,1.1313721906937841,-0.954887378617882,-0.14066251211986164,-0.9863734091076309,1.2047248536631938,-0.9041105126871736,0.16770383911998366,-1.5653034756292863,0.9835094566234339,-1.674801747158713,1.2022417086271955,-1.4655095098476731,-0.8398975121203412,0.6885484042103989,1.4019715189660475,0.7628915097199818,0.9824134834001975,0.8703114682823871,-0.8791191144240288,-0.4406355814011222,1.9548440405419485,-0.6403966417549738,-0.3297421993455612,-0.9561112489200627,2.055600140616719,-0.1267334579223654,0.13527487498749208,-0.3502036685632511,0.07978188196264824,0.2793091064311869,-1.5161061990362936,2.938966979435973,1.1993617984043197,0.5552392402522058,0.6446907286033249,0.7951349393121572,-0.07119184948998257,-1.265494120750372,1.3671712228716615,1.5931754741367044,-0.8480960310505018,0.7359995323169594,1.7367807919619345,1.2641557614077659,0.9123431560252537,0.6599695965653736,0.35136142053164515,-1.3253365161436161,0.06942296767108237,-1.2371172251059135,-0.8267948125108647,0.3569766765432963,-0.5854897504987103,-1.0130185455299794,1.527728465225669,-0.5778727496641319],\"type\":\"box\"},{\"boxpoints\":false,\"line\":{\"width\":1.3},\"marker\":{\"color\":\"rgba(128, 0, 128, 1.0)\"},\"name\":\"D\",\"orientation\":\"v\",\"y\":[0.6050625689237626,-0.5341663568620643,-0.6836949044788398,0.07150173474630343,-0.6750773662024668,-0.7617086353343657,-0.5773269060577014,-0.6722108645091384,-0.21365651739078018,0.08682729857759316,-0.42508350521695254,0.6749641896212607,-1.235231847370315,0.36374581335936285,-0.25752850940387695,-2.1202163871461845,1.520144202197967,0.5748406590379539,2.1885070807222777,-0.5719225757321915,-1.2832582246004933,-0.795470339504796,-1.6144812112086262,-0.19476178681763415,-0.10823026798575994,0.15117885844929885,0.23676701823097215,0.1517495469501139,-0.0920543441173036,0.1907696921589052,-2.0227169531716775,0.4069550950745697,1.4073678829529794,1.0755130342966395,-0.6748849313815257,0.7241121487788296,0.863553959985662,-0.3520551664012393,-0.32412544887827355,1.958291163488966,1.5050110344534935,1.0415573936258324,2.4188972469130734,-0.5008774310667011,-1.234654098897178,0.8963305952098362,-0.9021216405790684,-0.6233881300300523,0.013337507707671902,-0.7730494125701088,1.1413394403500947,-1.0477589747661205,0.05053514181345651,-1.2503965871640315,1.2211793337128891,-1.5094149934599055,-1.0160217884134923,-0.20349728302467668,-0.07854718083733599,-0.9272529547141967,-0.3712332473269593,-1.0522604522758205,-1.917465889733078,0.2376742492853061,1.1519547703116644,-1.455124153601072,-0.6600537871647677,0.6678066605591857,-0.02877202928153565,-0.7813270767924949,-0.8952513220408085,-0.9295037537536113,0.41091166047020594,-0.05955577829210657,0.2592170670523021,-1.7424928776091053,0.23494228555283372,1.515295059959739,-2.3257581043745423,0.6916107794778338,0.07264730008617393,-2.024982315915042,-1.1130599114854702,0.7462155936941378,-1.1083276458838178,-1.3543272378931481,-0.0027816881168835636,-0.3244374967628371,1.3152082281893835,-0.35435184207843107,-0.9260684667348138,0.4217822715272979,0.3262246914125725,1.552240124004772,-0.9848880568637277,-0.2534404066650368,-0.9301474996295686,0.8632693660993879,0.36631334405918703,-0.41065888156248803],\"type\":\"box\"}],                        {\"legend\":{\"bgcolor\":\"#F5F6F9\",\"font\":{\"color\":\"#4D5663\"}},\"paper_bgcolor\":\"#F5F6F9\",\"plot_bgcolor\":\"#F5F6F9\",\"template\":{\"data\":{\"barpolar\":[{\"marker\":{\"line\":{\"color\":\"#E5ECF6\",\"width\":0.5},\"pattern\":{\"fillmode\":\"overlay\",\"size\":10,\"solidity\":0.2}},\"type\":\"barpolar\"}],\"bar\":[{\"error_x\":{\"color\":\"#2a3f5f\"},\"error_y\":{\"color\":\"#2a3f5f\"},\"marker\":{\"line\":{\"color\":\"#E5ECF6\",\"width\":0.5},\"pattern\":{\"fillmode\":\"overlay\",\"size\":10,\"solidity\":0.2}},\"type\":\"bar\"}],\"carpet\":[{\"aaxis\":{\"endlinecolor\":\"#2a3f5f\",\"gridcolor\":\"white\",\"linecolor\":\"white\",\"minorgridcolor\":\"white\",\"startlinecolor\":\"#2a3f5f\"},\"baxis\":{\"endlinecolor\":\"#2a3f5f\",\"gridcolor\":\"white\",\"linecolor\":\"white\",\"minorgridcolor\":\"white\",\"startlinecolor\":\"#2a3f5f\"},\"type\":\"carpet\"}],\"choropleth\":[{\"colorbar\":{\"outlinewidth\":0,\"ticks\":\"\"},\"type\":\"choropleth\"}],\"contourcarpet\":[{\"colorbar\":{\"outlinewidth\":0,\"ticks\":\"\"},\"type\":\"contourcarpet\"}],\"contour\":[{\"colorbar\":{\"outlinewidth\":0,\"ticks\":\"\"},\"colorscale\":[[0.0,\"#0d0887\"],[0.1111111111111111,\"#46039f\"],[0.2222222222222222,\"#7201a8\"],[0.3333333333333333,\"#9c179e\"],[0.4444444444444444,\"#bd3786\"],[0.5555555555555556,\"#d8576b\"],[0.6666666666666666,\"#ed7953\"],[0.7777777777777778,\"#fb9f3a\"],[0.8888888888888888,\"#fdca26\"],[1.0,\"#f0f921\"]],\"type\":\"contour\"}],\"heatmapgl\":[{\"colorbar\":{\"outlinewidth\":0,\"ticks\":\"\"},\"colorscale\":[[0.0,\"#0d0887\"],[0.1111111111111111,\"#46039f\"],[0.2222222222222222,\"#7201a8\"],[0.3333333333333333,\"#9c179e\"],[0.4444444444444444,\"#bd3786\"],[0.5555555555555556,\"#d8576b\"],[0.6666666666666666,\"#ed7953\"],[0.7777777777777778,\"#fb9f3a\"],[0.8888888888888888,\"#fdca26\"],[1.0,\"#f0f921\"]],\"type\":\"heatmapgl\"}],\"heatmap\":[{\"colorbar\":{\"outlinewidth\":0,\"ticks\":\"\"},\"colorscale\":[[0.0,\"#0d0887\"],[0.1111111111111111,\"#46039f\"],[0.2222222222222222,\"#7201a8\"],[0.3333333333333333,\"#9c179e\"],[0.4444444444444444,\"#bd3786\"],[0.5555555555555556,\"#d8576b\"],[0.6666666666666666,\"#ed7953\"],[0.7777777777777778,\"#fb9f3a\"],[0.8888888888888888,\"#fdca26\"],[1.0,\"#f0f921\"]],\"type\":\"heatmap\"}],\"histogram2dcontour\":[{\"colorbar\":{\"outlinewidth\":0,\"ticks\":\"\"},\"colorscale\":[[0.0,\"#0d0887\"],[0.1111111111111111,\"#46039f\"],[0.2222222222222222,\"#7201a8\"],[0.3333333333333333,\"#9c179e\"],[0.4444444444444444,\"#bd3786\"],[0.5555555555555556,\"#d8576b\"],[0.6666666666666666,\"#ed7953\"],[0.7777777777777778,\"#fb9f3a\"],[0.8888888888888888,\"#fdca26\"],[1.0,\"#f0f921\"]],\"type\":\"histogram2dcontour\"}],\"histogram2d\":[{\"colorbar\":{\"outlinewidth\":0,\"ticks\":\"\"},\"colorscale\":[[0.0,\"#0d0887\"],[0.1111111111111111,\"#46039f\"],[0.2222222222222222,\"#7201a8\"],[0.3333333333333333,\"#9c179e\"],[0.4444444444444444,\"#bd3786\"],[0.5555555555555556,\"#d8576b\"],[0.6666666666666666,\"#ed7953\"],[0.7777777777777778,\"#fb9f3a\"],[0.8888888888888888,\"#fdca26\"],[1.0,\"#f0f921\"]],\"type\":\"histogram2d\"}],\"histogram\":[{\"marker\":{\"pattern\":{\"fillmode\":\"overlay\",\"size\":10,\"solidity\":0.2}},\"type\":\"histogram\"}],\"mesh3d\":[{\"colorbar\":{\"outlinewidth\":0,\"ticks\":\"\"},\"type\":\"mesh3d\"}],\"parcoords\":[{\"line\":{\"colorbar\":{\"outlinewidth\":0,\"ticks\":\"\"}},\"type\":\"parcoords\"}],\"pie\":[{\"automargin\":true,\"type\":\"pie\"}],\"scatter3d\":[{\"line\":{\"colorbar\":{\"outlinewidth\":0,\"ticks\":\"\"}},\"marker\":{\"colorbar\":{\"outlinewidth\":0,\"ticks\":\"\"}},\"type\":\"scatter3d\"}],\"scattercarpet\":[{\"marker\":{\"colorbar\":{\"outlinewidth\":0,\"ticks\":\"\"}},\"type\":\"scattercarpet\"}],\"scattergeo\":[{\"marker\":{\"colorbar\":{\"outlinewidth\":0,\"ticks\":\"\"}},\"type\":\"scattergeo\"}],\"scattergl\":[{\"marker\":{\"colorbar\":{\"outlinewidth\":0,\"ticks\":\"\"}},\"type\":\"scattergl\"}],\"scattermapbox\":[{\"marker\":{\"colorbar\":{\"outlinewidth\":0,\"ticks\":\"\"}},\"type\":\"scattermapbox\"}],\"scatterpolargl\":[{\"marker\":{\"colorbar\":{\"outlinewidth\":0,\"ticks\":\"\"}},\"type\":\"scatterpolargl\"}],\"scatterpolar\":[{\"marker\":{\"colorbar\":{\"outlinewidth\":0,\"ticks\":\"\"}},\"type\":\"scatterpolar\"}],\"scatter\":[{\"fillpattern\":{\"fillmode\":\"overlay\",\"size\":10,\"solidity\":0.2},\"type\":\"scatter\"}],\"scatterternary\":[{\"marker\":{\"colorbar\":{\"outlinewidth\":0,\"ticks\":\"\"}},\"type\":\"scatterternary\"}],\"surface\":[{\"colorbar\":{\"outlinewidth\":0,\"ticks\":\"\"},\"colorscale\":[[0.0,\"#0d0887\"],[0.1111111111111111,\"#46039f\"],[0.2222222222222222,\"#7201a8\"],[0.3333333333333333,\"#9c179e\"],[0.4444444444444444,\"#bd3786\"],[0.5555555555555556,\"#d8576b\"],[0.6666666666666666,\"#ed7953\"],[0.7777777777777778,\"#fb9f3a\"],[0.8888888888888888,\"#fdca26\"],[1.0,\"#f0f921\"]],\"type\":\"surface\"}],\"table\":[{\"cells\":{\"fill\":{\"color\":\"#EBF0F8\"},\"line\":{\"color\":\"white\"}},\"header\":{\"fill\":{\"color\":\"#C8D4E3\"},\"line\":{\"color\":\"white\"}},\"type\":\"table\"}]},\"layout\":{\"annotationdefaults\":{\"arrowcolor\":\"#2a3f5f\",\"arrowhead\":0,\"arrowwidth\":1},\"autotypenumbers\":\"strict\",\"coloraxis\":{\"colorbar\":{\"outlinewidth\":0,\"ticks\":\"\"}},\"colorscale\":{\"diverging\":[[0,\"#8e0152\"],[0.1,\"#c51b7d\"],[0.2,\"#de77ae\"],[0.3,\"#f1b6da\"],[0.4,\"#fde0ef\"],[0.5,\"#f7f7f7\"],[0.6,\"#e6f5d0\"],[0.7,\"#b8e186\"],[0.8,\"#7fbc41\"],[0.9,\"#4d9221\"],[1,\"#276419\"]],\"sequential\":[[0.0,\"#0d0887\"],[0.1111111111111111,\"#46039f\"],[0.2222222222222222,\"#7201a8\"],[0.3333333333333333,\"#9c179e\"],[0.4444444444444444,\"#bd3786\"],[0.5555555555555556,\"#d8576b\"],[0.6666666666666666,\"#ed7953\"],[0.7777777777777778,\"#fb9f3a\"],[0.8888888888888888,\"#fdca26\"],[1.0,\"#f0f921\"]],\"sequentialminus\":[[0.0,\"#0d0887\"],[0.1111111111111111,\"#46039f\"],[0.2222222222222222,\"#7201a8\"],[0.3333333333333333,\"#9c179e\"],[0.4444444444444444,\"#bd3786\"],[0.5555555555555556,\"#d8576b\"],[0.6666666666666666,\"#ed7953\"],[0.7777777777777778,\"#fb9f3a\"],[0.8888888888888888,\"#fdca26\"],[1.0,\"#f0f921\"]]},\"colorway\":[\"#636efa\",\"#EF553B\",\"#00cc96\",\"#ab63fa\",\"#FFA15A\",\"#19d3f3\",\"#FF6692\",\"#B6E880\",\"#FF97FF\",\"#FECB52\"],\"font\":{\"color\":\"#2a3f5f\"},\"geo\":{\"bgcolor\":\"white\",\"lakecolor\":\"white\",\"landcolor\":\"#E5ECF6\",\"showlakes\":true,\"showland\":true,\"subunitcolor\":\"white\"},\"hoverlabel\":{\"align\":\"left\"},\"hovermode\":\"closest\",\"mapbox\":{\"style\":\"light\"},\"paper_bgcolor\":\"white\",\"plot_bgcolor\":\"#E5ECF6\",\"polar\":{\"angularaxis\":{\"gridcolor\":\"white\",\"linecolor\":\"white\",\"ticks\":\"\"},\"bgcolor\":\"#E5ECF6\",\"radialaxis\":{\"gridcolor\":\"white\",\"linecolor\":\"white\",\"ticks\":\"\"}},\"scene\":{\"xaxis\":{\"backgroundcolor\":\"#E5ECF6\",\"gridcolor\":\"white\",\"gridwidth\":2,\"linecolor\":\"white\",\"showbackground\":true,\"ticks\":\"\",\"zerolinecolor\":\"white\"},\"yaxis\":{\"backgroundcolor\":\"#E5ECF6\",\"gridcolor\":\"white\",\"gridwidth\":2,\"linecolor\":\"white\",\"showbackground\":true,\"ticks\":\"\",\"zerolinecolor\":\"white\"},\"zaxis\":{\"backgroundcolor\":\"#E5ECF6\",\"gridcolor\":\"white\",\"gridwidth\":2,\"linecolor\":\"white\",\"showbackground\":true,\"ticks\":\"\",\"zerolinecolor\":\"white\"}},\"shapedefaults\":{\"line\":{\"color\":\"#2a3f5f\"}},\"ternary\":{\"aaxis\":{\"gridcolor\":\"white\",\"linecolor\":\"white\",\"ticks\":\"\"},\"baxis\":{\"gridcolor\":\"white\",\"linecolor\":\"white\",\"ticks\":\"\"},\"bgcolor\":\"#E5ECF6\",\"caxis\":{\"gridcolor\":\"white\",\"linecolor\":\"white\",\"ticks\":\"\"}},\"title\":{\"x\":0.05},\"xaxis\":{\"automargin\":true,\"gridcolor\":\"white\",\"linecolor\":\"white\",\"ticks\":\"\",\"title\":{\"standoff\":15},\"zerolinecolor\":\"white\",\"zerolinewidth\":2},\"yaxis\":{\"automargin\":true,\"gridcolor\":\"white\",\"linecolor\":\"white\",\"ticks\":\"\",\"title\":{\"standoff\":15},\"zerolinecolor\":\"white\",\"zerolinewidth\":2}}},\"title\":{\"font\":{\"color\":\"#4D5663\"}},\"xaxis\":{\"gridcolor\":\"#E1E5ED\",\"showgrid\":true,\"tickfont\":{\"color\":\"#4D5663\"},\"title\":{\"font\":{\"color\":\"#4D5663\"},\"text\":\"\"},\"zerolinecolor\":\"#E1E5ED\"},\"yaxis\":{\"gridcolor\":\"#E1E5ED\",\"showgrid\":true,\"tickfont\":{\"color\":\"#4D5663\"},\"title\":{\"font\":{\"color\":\"#4D5663\"},\"text\":\"\"},\"zerolinecolor\":\"#E1E5ED\"}},                        {\"showLink\": true, \"linkText\": \"Export to plot.ly\", \"plotlyServerURL\": \"https://plot.ly\", \"responsive\": true}                    ).then(function(){\n",
       "                            \n",
       "var gd = document.getElementById('36e663f7-1acc-473b-a149-e6245030f697');\n",
       "var x = new MutationObserver(function (mutations, observer) {{\n",
       "        var display = window.getComputedStyle(gd).display;\n",
       "        if (!display || display === 'none') {{\n",
       "            console.log([gd, 'removed!']);\n",
       "            Plotly.purge(gd);\n",
       "            observer.disconnect();\n",
       "        }}\n",
       "}});\n",
       "\n",
       "// Listen for the removal of the full notebook cells\n",
       "var notebookContainer = gd.closest('#notebook-container');\n",
       "if (notebookContainer) {{\n",
       "    x.observe(notebookContainer, {childList: true});\n",
       "}}\n",
       "\n",
       "// Listen for the clearing of the current output cell\n",
       "var outputEl = gd.closest('.output');\n",
       "if (outputEl) {{\n",
       "    x.observe(outputEl, {childList: true});\n",
       "}}\n",
       "\n",
       "                        })                };                });            </script>        </div>"
      ]
     },
     "metadata": {},
     "output_type": "display_data"
    }
   ],
   "source": [
    "df.iplot(kind='box')"
   ]
  },
  {
   "cell_type": "markdown",
   "metadata": {},
   "source": [
    "## 3d Surface"
   ]
  },
  {
   "cell_type": "code",
   "execution_count": 32,
   "metadata": {
    "collapsed": false
   },
   "outputs": [
    {
     "data": {
      "application/vnd.plotly.v1+json": {
       "config": {
        "linkText": "Export to plot.ly",
        "plotlyServerURL": "https://plot.ly",
        "showLink": true
       },
       "data": [
        {
         "colorscale": [
          [
           0,
           "rgb(165,0,38)"
          ],
          [
           0.1,
           "rgb(215,48,39)"
          ],
          [
           0.2,
           "rgb(244,109,67)"
          ],
          [
           0.3,
           "rgb(253,174,97)"
          ],
          [
           0.4,
           "rgb(254,224,144)"
          ],
          [
           0.5,
           "rgb(255,255,191)"
          ],
          [
           0.6,
           "rgb(224,243,248)"
          ],
          [
           0.7,
           "rgb(171,217,233)"
          ],
          [
           0.8,
           "rgb(116,173,209)"
          ],
          [
           0.9,
           "rgb(69,117,180)"
          ],
          [
           1,
           "rgb(49,54,149)"
          ]
         ],
         "type": "surface",
         "x": [
          0,
          1,
          2,
          3,
          4
         ],
         "y": [
          "x",
          "y",
          "z"
         ],
         "z": [
          [
           1,
           2,
           3,
           4,
           5
          ],
          [
           10,
           20,
           30,
           20,
           10
          ],
          [
           5,
           4,
           3,
           2,
           1
          ]
         ]
        }
       ],
       "layout": {
        "legend": {
         "bgcolor": "#F5F6F9",
         "font": {
          "color": "#4D5663"
         }
        },
        "paper_bgcolor": "#F5F6F9",
        "plot_bgcolor": "#F5F6F9",
        "template": {
         "data": {
          "bar": [
           {
            "error_x": {
             "color": "#2a3f5f"
            },
            "error_y": {
             "color": "#2a3f5f"
            },
            "marker": {
             "line": {
              "color": "#E5ECF6",
              "width": 0.5
             },
             "pattern": {
              "fillmode": "overlay",
              "size": 10,
              "solidity": 0.2
             }
            },
            "type": "bar"
           }
          ],
          "barpolar": [
           {
            "marker": {
             "line": {
              "color": "#E5ECF6",
              "width": 0.5
             },
             "pattern": {
              "fillmode": "overlay",
              "size": 10,
              "solidity": 0.2
             }
            },
            "type": "barpolar"
           }
          ],
          "carpet": [
           {
            "aaxis": {
             "endlinecolor": "#2a3f5f",
             "gridcolor": "white",
             "linecolor": "white",
             "minorgridcolor": "white",
             "startlinecolor": "#2a3f5f"
            },
            "baxis": {
             "endlinecolor": "#2a3f5f",
             "gridcolor": "white",
             "linecolor": "white",
             "minorgridcolor": "white",
             "startlinecolor": "#2a3f5f"
            },
            "type": "carpet"
           }
          ],
          "choropleth": [
           {
            "colorbar": {
             "outlinewidth": 0,
             "ticks": ""
            },
            "type": "choropleth"
           }
          ],
          "contour": [
           {
            "colorbar": {
             "outlinewidth": 0,
             "ticks": ""
            },
            "colorscale": [
             [
              0,
              "#0d0887"
             ],
             [
              0.1111111111111111,
              "#46039f"
             ],
             [
              0.2222222222222222,
              "#7201a8"
             ],
             [
              0.3333333333333333,
              "#9c179e"
             ],
             [
              0.4444444444444444,
              "#bd3786"
             ],
             [
              0.5555555555555556,
              "#d8576b"
             ],
             [
              0.6666666666666666,
              "#ed7953"
             ],
             [
              0.7777777777777778,
              "#fb9f3a"
             ],
             [
              0.8888888888888888,
              "#fdca26"
             ],
             [
              1,
              "#f0f921"
             ]
            ],
            "type": "contour"
           }
          ],
          "contourcarpet": [
           {
            "colorbar": {
             "outlinewidth": 0,
             "ticks": ""
            },
            "type": "contourcarpet"
           }
          ],
          "heatmap": [
           {
            "colorbar": {
             "outlinewidth": 0,
             "ticks": ""
            },
            "colorscale": [
             [
              0,
              "#0d0887"
             ],
             [
              0.1111111111111111,
              "#46039f"
             ],
             [
              0.2222222222222222,
              "#7201a8"
             ],
             [
              0.3333333333333333,
              "#9c179e"
             ],
             [
              0.4444444444444444,
              "#bd3786"
             ],
             [
              0.5555555555555556,
              "#d8576b"
             ],
             [
              0.6666666666666666,
              "#ed7953"
             ],
             [
              0.7777777777777778,
              "#fb9f3a"
             ],
             [
              0.8888888888888888,
              "#fdca26"
             ],
             [
              1,
              "#f0f921"
             ]
            ],
            "type": "heatmap"
           }
          ],
          "heatmapgl": [
           {
            "colorbar": {
             "outlinewidth": 0,
             "ticks": ""
            },
            "colorscale": [
             [
              0,
              "#0d0887"
             ],
             [
              0.1111111111111111,
              "#46039f"
             ],
             [
              0.2222222222222222,
              "#7201a8"
             ],
             [
              0.3333333333333333,
              "#9c179e"
             ],
             [
              0.4444444444444444,
              "#bd3786"
             ],
             [
              0.5555555555555556,
              "#d8576b"
             ],
             [
              0.6666666666666666,
              "#ed7953"
             ],
             [
              0.7777777777777778,
              "#fb9f3a"
             ],
             [
              0.8888888888888888,
              "#fdca26"
             ],
             [
              1,
              "#f0f921"
             ]
            ],
            "type": "heatmapgl"
           }
          ],
          "histogram": [
           {
            "marker": {
             "pattern": {
              "fillmode": "overlay",
              "size": 10,
              "solidity": 0.2
             }
            },
            "type": "histogram"
           }
          ],
          "histogram2d": [
           {
            "colorbar": {
             "outlinewidth": 0,
             "ticks": ""
            },
            "colorscale": [
             [
              0,
              "#0d0887"
             ],
             [
              0.1111111111111111,
              "#46039f"
             ],
             [
              0.2222222222222222,
              "#7201a8"
             ],
             [
              0.3333333333333333,
              "#9c179e"
             ],
             [
              0.4444444444444444,
              "#bd3786"
             ],
             [
              0.5555555555555556,
              "#d8576b"
             ],
             [
              0.6666666666666666,
              "#ed7953"
             ],
             [
              0.7777777777777778,
              "#fb9f3a"
             ],
             [
              0.8888888888888888,
              "#fdca26"
             ],
             [
              1,
              "#f0f921"
             ]
            ],
            "type": "histogram2d"
           }
          ],
          "histogram2dcontour": [
           {
            "colorbar": {
             "outlinewidth": 0,
             "ticks": ""
            },
            "colorscale": [
             [
              0,
              "#0d0887"
             ],
             [
              0.1111111111111111,
              "#46039f"
             ],
             [
              0.2222222222222222,
              "#7201a8"
             ],
             [
              0.3333333333333333,
              "#9c179e"
             ],
             [
              0.4444444444444444,
              "#bd3786"
             ],
             [
              0.5555555555555556,
              "#d8576b"
             ],
             [
              0.6666666666666666,
              "#ed7953"
             ],
             [
              0.7777777777777778,
              "#fb9f3a"
             ],
             [
              0.8888888888888888,
              "#fdca26"
             ],
             [
              1,
              "#f0f921"
             ]
            ],
            "type": "histogram2dcontour"
           }
          ],
          "mesh3d": [
           {
            "colorbar": {
             "outlinewidth": 0,
             "ticks": ""
            },
            "type": "mesh3d"
           }
          ],
          "parcoords": [
           {
            "line": {
             "colorbar": {
              "outlinewidth": 0,
              "ticks": ""
             }
            },
            "type": "parcoords"
           }
          ],
          "pie": [
           {
            "automargin": true,
            "type": "pie"
           }
          ],
          "scatter": [
           {
            "fillpattern": {
             "fillmode": "overlay",
             "size": 10,
             "solidity": 0.2
            },
            "type": "scatter"
           }
          ],
          "scatter3d": [
           {
            "line": {
             "colorbar": {
              "outlinewidth": 0,
              "ticks": ""
             }
            },
            "marker": {
             "colorbar": {
              "outlinewidth": 0,
              "ticks": ""
             }
            },
            "type": "scatter3d"
           }
          ],
          "scattercarpet": [
           {
            "marker": {
             "colorbar": {
              "outlinewidth": 0,
              "ticks": ""
             }
            },
            "type": "scattercarpet"
           }
          ],
          "scattergeo": [
           {
            "marker": {
             "colorbar": {
              "outlinewidth": 0,
              "ticks": ""
             }
            },
            "type": "scattergeo"
           }
          ],
          "scattergl": [
           {
            "marker": {
             "colorbar": {
              "outlinewidth": 0,
              "ticks": ""
             }
            },
            "type": "scattergl"
           }
          ],
          "scattermapbox": [
           {
            "marker": {
             "colorbar": {
              "outlinewidth": 0,
              "ticks": ""
             }
            },
            "type": "scattermapbox"
           }
          ],
          "scatterpolar": [
           {
            "marker": {
             "colorbar": {
              "outlinewidth": 0,
              "ticks": ""
             }
            },
            "type": "scatterpolar"
           }
          ],
          "scatterpolargl": [
           {
            "marker": {
             "colorbar": {
              "outlinewidth": 0,
              "ticks": ""
             }
            },
            "type": "scatterpolargl"
           }
          ],
          "scatterternary": [
           {
            "marker": {
             "colorbar": {
              "outlinewidth": 0,
              "ticks": ""
             }
            },
            "type": "scatterternary"
           }
          ],
          "surface": [
           {
            "colorbar": {
             "outlinewidth": 0,
             "ticks": ""
            },
            "colorscale": [
             [
              0,
              "#0d0887"
             ],
             [
              0.1111111111111111,
              "#46039f"
             ],
             [
              0.2222222222222222,
              "#7201a8"
             ],
             [
              0.3333333333333333,
              "#9c179e"
             ],
             [
              0.4444444444444444,
              "#bd3786"
             ],
             [
              0.5555555555555556,
              "#d8576b"
             ],
             [
              0.6666666666666666,
              "#ed7953"
             ],
             [
              0.7777777777777778,
              "#fb9f3a"
             ],
             [
              0.8888888888888888,
              "#fdca26"
             ],
             [
              1,
              "#f0f921"
             ]
            ],
            "type": "surface"
           }
          ],
          "table": [
           {
            "cells": {
             "fill": {
              "color": "#EBF0F8"
             },
             "line": {
              "color": "white"
             }
            },
            "header": {
             "fill": {
              "color": "#C8D4E3"
             },
             "line": {
              "color": "white"
             }
            },
            "type": "table"
           }
          ]
         },
         "layout": {
          "annotationdefaults": {
           "arrowcolor": "#2a3f5f",
           "arrowhead": 0,
           "arrowwidth": 1
          },
          "autotypenumbers": "strict",
          "coloraxis": {
           "colorbar": {
            "outlinewidth": 0,
            "ticks": ""
           }
          },
          "colorscale": {
           "diverging": [
            [
             0,
             "#8e0152"
            ],
            [
             0.1,
             "#c51b7d"
            ],
            [
             0.2,
             "#de77ae"
            ],
            [
             0.3,
             "#f1b6da"
            ],
            [
             0.4,
             "#fde0ef"
            ],
            [
             0.5,
             "#f7f7f7"
            ],
            [
             0.6,
             "#e6f5d0"
            ],
            [
             0.7,
             "#b8e186"
            ],
            [
             0.8,
             "#7fbc41"
            ],
            [
             0.9,
             "#4d9221"
            ],
            [
             1,
             "#276419"
            ]
           ],
           "sequential": [
            [
             0,
             "#0d0887"
            ],
            [
             0.1111111111111111,
             "#46039f"
            ],
            [
             0.2222222222222222,
             "#7201a8"
            ],
            [
             0.3333333333333333,
             "#9c179e"
            ],
            [
             0.4444444444444444,
             "#bd3786"
            ],
            [
             0.5555555555555556,
             "#d8576b"
            ],
            [
             0.6666666666666666,
             "#ed7953"
            ],
            [
             0.7777777777777778,
             "#fb9f3a"
            ],
            [
             0.8888888888888888,
             "#fdca26"
            ],
            [
             1,
             "#f0f921"
            ]
           ],
           "sequentialminus": [
            [
             0,
             "#0d0887"
            ],
            [
             0.1111111111111111,
             "#46039f"
            ],
            [
             0.2222222222222222,
             "#7201a8"
            ],
            [
             0.3333333333333333,
             "#9c179e"
            ],
            [
             0.4444444444444444,
             "#bd3786"
            ],
            [
             0.5555555555555556,
             "#d8576b"
            ],
            [
             0.6666666666666666,
             "#ed7953"
            ],
            [
             0.7777777777777778,
             "#fb9f3a"
            ],
            [
             0.8888888888888888,
             "#fdca26"
            ],
            [
             1,
             "#f0f921"
            ]
           ]
          },
          "colorway": [
           "#636efa",
           "#EF553B",
           "#00cc96",
           "#ab63fa",
           "#FFA15A",
           "#19d3f3",
           "#FF6692",
           "#B6E880",
           "#FF97FF",
           "#FECB52"
          ],
          "font": {
           "color": "#2a3f5f"
          },
          "geo": {
           "bgcolor": "white",
           "lakecolor": "white",
           "landcolor": "#E5ECF6",
           "showlakes": true,
           "showland": true,
           "subunitcolor": "white"
          },
          "hoverlabel": {
           "align": "left"
          },
          "hovermode": "closest",
          "mapbox": {
           "style": "light"
          },
          "paper_bgcolor": "white",
          "plot_bgcolor": "#E5ECF6",
          "polar": {
           "angularaxis": {
            "gridcolor": "white",
            "linecolor": "white",
            "ticks": ""
           },
           "bgcolor": "#E5ECF6",
           "radialaxis": {
            "gridcolor": "white",
            "linecolor": "white",
            "ticks": ""
           }
          },
          "scene": {
           "xaxis": {
            "backgroundcolor": "#E5ECF6",
            "gridcolor": "white",
            "gridwidth": 2,
            "linecolor": "white",
            "showbackground": true,
            "ticks": "",
            "zerolinecolor": "white"
           },
           "yaxis": {
            "backgroundcolor": "#E5ECF6",
            "gridcolor": "white",
            "gridwidth": 2,
            "linecolor": "white",
            "showbackground": true,
            "ticks": "",
            "zerolinecolor": "white"
           },
           "zaxis": {
            "backgroundcolor": "#E5ECF6",
            "gridcolor": "white",
            "gridwidth": 2,
            "linecolor": "white",
            "showbackground": true,
            "ticks": "",
            "zerolinecolor": "white"
           }
          },
          "shapedefaults": {
           "line": {
            "color": "#2a3f5f"
           }
          },
          "ternary": {
           "aaxis": {
            "gridcolor": "white",
            "linecolor": "white",
            "ticks": ""
           },
           "baxis": {
            "gridcolor": "white",
            "linecolor": "white",
            "ticks": ""
           },
           "bgcolor": "#E5ECF6",
           "caxis": {
            "gridcolor": "white",
            "linecolor": "white",
            "ticks": ""
           }
          },
          "title": {
           "x": 0.05
          },
          "xaxis": {
           "automargin": true,
           "gridcolor": "white",
           "linecolor": "white",
           "ticks": "",
           "title": {
            "standoff": 15
           },
           "zerolinecolor": "white",
           "zerolinewidth": 2
          },
          "yaxis": {
           "automargin": true,
           "gridcolor": "white",
           "linecolor": "white",
           "ticks": "",
           "title": {
            "standoff": 15
           },
           "zerolinecolor": "white",
           "zerolinewidth": 2
          }
         }
        },
        "title": {
         "font": {
          "color": "#4D5663"
         }
        },
        "xaxis": {
         "gridcolor": "#E1E5ED",
         "showgrid": true,
         "tickfont": {
          "color": "#4D5663"
         },
         "title": {
          "font": {
           "color": "#4D5663"
          },
          "text": ""
         },
         "zerolinecolor": "#E1E5ED"
        },
        "yaxis": {
         "gridcolor": "#E1E5ED",
         "showgrid": true,
         "tickfont": {
          "color": "#4D5663"
         },
         "title": {
          "font": {
           "color": "#4D5663"
          },
          "text": ""
         },
         "zerolinecolor": "#E1E5ED"
        }
       }
      },
      "text/html": [
       "<div>                            <div id=\"adf1c9a1-0962-46d8-b586-80bbdfdd9dcd\" class=\"plotly-graph-div\" style=\"height:525px; width:100%;\"></div>            <script type=\"text/javascript\">                require([\"plotly\"], function(Plotly) {                    window.PLOTLYENV=window.PLOTLYENV || {};\n",
       "                    window.PLOTLYENV.BASE_URL='https://plot.ly';                                    if (document.getElementById(\"adf1c9a1-0962-46d8-b586-80bbdfdd9dcd\")) {                    Plotly.newPlot(                        \"adf1c9a1-0962-46d8-b586-80bbdfdd9dcd\",                        [{\"colorscale\":[[0.0,\"rgb(165,0,38)\"],[0.1,\"rgb(215,48,39)\"],[0.2,\"rgb(244,109,67)\"],[0.3,\"rgb(253,174,97)\"],[0.4,\"rgb(254,224,144)\"],[0.5,\"rgb(255,255,191)\"],[0.6,\"rgb(224,243,248)\"],[0.7,\"rgb(171,217,233)\"],[0.8,\"rgb(116,173,209)\"],[0.9,\"rgb(69,117,180)\"],[1.0,\"rgb(49,54,149)\"]],\"x\":[0,1,2,3,4],\"y\":[\"x\",\"y\",\"z\"],\"z\":[[1,2,3,4,5],[10,20,30,20,10],[5,4,3,2,1]],\"type\":\"surface\"}],                        {\"legend\":{\"bgcolor\":\"#F5F6F9\",\"font\":{\"color\":\"#4D5663\"}},\"paper_bgcolor\":\"#F5F6F9\",\"plot_bgcolor\":\"#F5F6F9\",\"template\":{\"data\":{\"barpolar\":[{\"marker\":{\"line\":{\"color\":\"#E5ECF6\",\"width\":0.5},\"pattern\":{\"fillmode\":\"overlay\",\"size\":10,\"solidity\":0.2}},\"type\":\"barpolar\"}],\"bar\":[{\"error_x\":{\"color\":\"#2a3f5f\"},\"error_y\":{\"color\":\"#2a3f5f\"},\"marker\":{\"line\":{\"color\":\"#E5ECF6\",\"width\":0.5},\"pattern\":{\"fillmode\":\"overlay\",\"size\":10,\"solidity\":0.2}},\"type\":\"bar\"}],\"carpet\":[{\"aaxis\":{\"endlinecolor\":\"#2a3f5f\",\"gridcolor\":\"white\",\"linecolor\":\"white\",\"minorgridcolor\":\"white\",\"startlinecolor\":\"#2a3f5f\"},\"baxis\":{\"endlinecolor\":\"#2a3f5f\",\"gridcolor\":\"white\",\"linecolor\":\"white\",\"minorgridcolor\":\"white\",\"startlinecolor\":\"#2a3f5f\"},\"type\":\"carpet\"}],\"choropleth\":[{\"colorbar\":{\"outlinewidth\":0,\"ticks\":\"\"},\"type\":\"choropleth\"}],\"contourcarpet\":[{\"colorbar\":{\"outlinewidth\":0,\"ticks\":\"\"},\"type\":\"contourcarpet\"}],\"contour\":[{\"colorbar\":{\"outlinewidth\":0,\"ticks\":\"\"},\"colorscale\":[[0.0,\"#0d0887\"],[0.1111111111111111,\"#46039f\"],[0.2222222222222222,\"#7201a8\"],[0.3333333333333333,\"#9c179e\"],[0.4444444444444444,\"#bd3786\"],[0.5555555555555556,\"#d8576b\"],[0.6666666666666666,\"#ed7953\"],[0.7777777777777778,\"#fb9f3a\"],[0.8888888888888888,\"#fdca26\"],[1.0,\"#f0f921\"]],\"type\":\"contour\"}],\"heatmapgl\":[{\"colorbar\":{\"outlinewidth\":0,\"ticks\":\"\"},\"colorscale\":[[0.0,\"#0d0887\"],[0.1111111111111111,\"#46039f\"],[0.2222222222222222,\"#7201a8\"],[0.3333333333333333,\"#9c179e\"],[0.4444444444444444,\"#bd3786\"],[0.5555555555555556,\"#d8576b\"],[0.6666666666666666,\"#ed7953\"],[0.7777777777777778,\"#fb9f3a\"],[0.8888888888888888,\"#fdca26\"],[1.0,\"#f0f921\"]],\"type\":\"heatmapgl\"}],\"heatmap\":[{\"colorbar\":{\"outlinewidth\":0,\"ticks\":\"\"},\"colorscale\":[[0.0,\"#0d0887\"],[0.1111111111111111,\"#46039f\"],[0.2222222222222222,\"#7201a8\"],[0.3333333333333333,\"#9c179e\"],[0.4444444444444444,\"#bd3786\"],[0.5555555555555556,\"#d8576b\"],[0.6666666666666666,\"#ed7953\"],[0.7777777777777778,\"#fb9f3a\"],[0.8888888888888888,\"#fdca26\"],[1.0,\"#f0f921\"]],\"type\":\"heatmap\"}],\"histogram2dcontour\":[{\"colorbar\":{\"outlinewidth\":0,\"ticks\":\"\"},\"colorscale\":[[0.0,\"#0d0887\"],[0.1111111111111111,\"#46039f\"],[0.2222222222222222,\"#7201a8\"],[0.3333333333333333,\"#9c179e\"],[0.4444444444444444,\"#bd3786\"],[0.5555555555555556,\"#d8576b\"],[0.6666666666666666,\"#ed7953\"],[0.7777777777777778,\"#fb9f3a\"],[0.8888888888888888,\"#fdca26\"],[1.0,\"#f0f921\"]],\"type\":\"histogram2dcontour\"}],\"histogram2d\":[{\"colorbar\":{\"outlinewidth\":0,\"ticks\":\"\"},\"colorscale\":[[0.0,\"#0d0887\"],[0.1111111111111111,\"#46039f\"],[0.2222222222222222,\"#7201a8\"],[0.3333333333333333,\"#9c179e\"],[0.4444444444444444,\"#bd3786\"],[0.5555555555555556,\"#d8576b\"],[0.6666666666666666,\"#ed7953\"],[0.7777777777777778,\"#fb9f3a\"],[0.8888888888888888,\"#fdca26\"],[1.0,\"#f0f921\"]],\"type\":\"histogram2d\"}],\"histogram\":[{\"marker\":{\"pattern\":{\"fillmode\":\"overlay\",\"size\":10,\"solidity\":0.2}},\"type\":\"histogram\"}],\"mesh3d\":[{\"colorbar\":{\"outlinewidth\":0,\"ticks\":\"\"},\"type\":\"mesh3d\"}],\"parcoords\":[{\"line\":{\"colorbar\":{\"outlinewidth\":0,\"ticks\":\"\"}},\"type\":\"parcoords\"}],\"pie\":[{\"automargin\":true,\"type\":\"pie\"}],\"scatter3d\":[{\"line\":{\"colorbar\":{\"outlinewidth\":0,\"ticks\":\"\"}},\"marker\":{\"colorbar\":{\"outlinewidth\":0,\"ticks\":\"\"}},\"type\":\"scatter3d\"}],\"scattercarpet\":[{\"marker\":{\"colorbar\":{\"outlinewidth\":0,\"ticks\":\"\"}},\"type\":\"scattercarpet\"}],\"scattergeo\":[{\"marker\":{\"colorbar\":{\"outlinewidth\":0,\"ticks\":\"\"}},\"type\":\"scattergeo\"}],\"scattergl\":[{\"marker\":{\"colorbar\":{\"outlinewidth\":0,\"ticks\":\"\"}},\"type\":\"scattergl\"}],\"scattermapbox\":[{\"marker\":{\"colorbar\":{\"outlinewidth\":0,\"ticks\":\"\"}},\"type\":\"scattermapbox\"}],\"scatterpolargl\":[{\"marker\":{\"colorbar\":{\"outlinewidth\":0,\"ticks\":\"\"}},\"type\":\"scatterpolargl\"}],\"scatterpolar\":[{\"marker\":{\"colorbar\":{\"outlinewidth\":0,\"ticks\":\"\"}},\"type\":\"scatterpolar\"}],\"scatter\":[{\"fillpattern\":{\"fillmode\":\"overlay\",\"size\":10,\"solidity\":0.2},\"type\":\"scatter\"}],\"scatterternary\":[{\"marker\":{\"colorbar\":{\"outlinewidth\":0,\"ticks\":\"\"}},\"type\":\"scatterternary\"}],\"surface\":[{\"colorbar\":{\"outlinewidth\":0,\"ticks\":\"\"},\"colorscale\":[[0.0,\"#0d0887\"],[0.1111111111111111,\"#46039f\"],[0.2222222222222222,\"#7201a8\"],[0.3333333333333333,\"#9c179e\"],[0.4444444444444444,\"#bd3786\"],[0.5555555555555556,\"#d8576b\"],[0.6666666666666666,\"#ed7953\"],[0.7777777777777778,\"#fb9f3a\"],[0.8888888888888888,\"#fdca26\"],[1.0,\"#f0f921\"]],\"type\":\"surface\"}],\"table\":[{\"cells\":{\"fill\":{\"color\":\"#EBF0F8\"},\"line\":{\"color\":\"white\"}},\"header\":{\"fill\":{\"color\":\"#C8D4E3\"},\"line\":{\"color\":\"white\"}},\"type\":\"table\"}]},\"layout\":{\"annotationdefaults\":{\"arrowcolor\":\"#2a3f5f\",\"arrowhead\":0,\"arrowwidth\":1},\"autotypenumbers\":\"strict\",\"coloraxis\":{\"colorbar\":{\"outlinewidth\":0,\"ticks\":\"\"}},\"colorscale\":{\"diverging\":[[0,\"#8e0152\"],[0.1,\"#c51b7d\"],[0.2,\"#de77ae\"],[0.3,\"#f1b6da\"],[0.4,\"#fde0ef\"],[0.5,\"#f7f7f7\"],[0.6,\"#e6f5d0\"],[0.7,\"#b8e186\"],[0.8,\"#7fbc41\"],[0.9,\"#4d9221\"],[1,\"#276419\"]],\"sequential\":[[0.0,\"#0d0887\"],[0.1111111111111111,\"#46039f\"],[0.2222222222222222,\"#7201a8\"],[0.3333333333333333,\"#9c179e\"],[0.4444444444444444,\"#bd3786\"],[0.5555555555555556,\"#d8576b\"],[0.6666666666666666,\"#ed7953\"],[0.7777777777777778,\"#fb9f3a\"],[0.8888888888888888,\"#fdca26\"],[1.0,\"#f0f921\"]],\"sequentialminus\":[[0.0,\"#0d0887\"],[0.1111111111111111,\"#46039f\"],[0.2222222222222222,\"#7201a8\"],[0.3333333333333333,\"#9c179e\"],[0.4444444444444444,\"#bd3786\"],[0.5555555555555556,\"#d8576b\"],[0.6666666666666666,\"#ed7953\"],[0.7777777777777778,\"#fb9f3a\"],[0.8888888888888888,\"#fdca26\"],[1.0,\"#f0f921\"]]},\"colorway\":[\"#636efa\",\"#EF553B\",\"#00cc96\",\"#ab63fa\",\"#FFA15A\",\"#19d3f3\",\"#FF6692\",\"#B6E880\",\"#FF97FF\",\"#FECB52\"],\"font\":{\"color\":\"#2a3f5f\"},\"geo\":{\"bgcolor\":\"white\",\"lakecolor\":\"white\",\"landcolor\":\"#E5ECF6\",\"showlakes\":true,\"showland\":true,\"subunitcolor\":\"white\"},\"hoverlabel\":{\"align\":\"left\"},\"hovermode\":\"closest\",\"mapbox\":{\"style\":\"light\"},\"paper_bgcolor\":\"white\",\"plot_bgcolor\":\"#E5ECF6\",\"polar\":{\"angularaxis\":{\"gridcolor\":\"white\",\"linecolor\":\"white\",\"ticks\":\"\"},\"bgcolor\":\"#E5ECF6\",\"radialaxis\":{\"gridcolor\":\"white\",\"linecolor\":\"white\",\"ticks\":\"\"}},\"scene\":{\"xaxis\":{\"backgroundcolor\":\"#E5ECF6\",\"gridcolor\":\"white\",\"gridwidth\":2,\"linecolor\":\"white\",\"showbackground\":true,\"ticks\":\"\",\"zerolinecolor\":\"white\"},\"yaxis\":{\"backgroundcolor\":\"#E5ECF6\",\"gridcolor\":\"white\",\"gridwidth\":2,\"linecolor\":\"white\",\"showbackground\":true,\"ticks\":\"\",\"zerolinecolor\":\"white\"},\"zaxis\":{\"backgroundcolor\":\"#E5ECF6\",\"gridcolor\":\"white\",\"gridwidth\":2,\"linecolor\":\"white\",\"showbackground\":true,\"ticks\":\"\",\"zerolinecolor\":\"white\"}},\"shapedefaults\":{\"line\":{\"color\":\"#2a3f5f\"}},\"ternary\":{\"aaxis\":{\"gridcolor\":\"white\",\"linecolor\":\"white\",\"ticks\":\"\"},\"baxis\":{\"gridcolor\":\"white\",\"linecolor\":\"white\",\"ticks\":\"\"},\"bgcolor\":\"#E5ECF6\",\"caxis\":{\"gridcolor\":\"white\",\"linecolor\":\"white\",\"ticks\":\"\"}},\"title\":{\"x\":0.05},\"xaxis\":{\"automargin\":true,\"gridcolor\":\"white\",\"linecolor\":\"white\",\"ticks\":\"\",\"title\":{\"standoff\":15},\"zerolinecolor\":\"white\",\"zerolinewidth\":2},\"yaxis\":{\"automargin\":true,\"gridcolor\":\"white\",\"linecolor\":\"white\",\"ticks\":\"\",\"title\":{\"standoff\":15},\"zerolinecolor\":\"white\",\"zerolinewidth\":2}}},\"title\":{\"font\":{\"color\":\"#4D5663\"}},\"xaxis\":{\"gridcolor\":\"#E1E5ED\",\"showgrid\":true,\"tickfont\":{\"color\":\"#4D5663\"},\"title\":{\"font\":{\"color\":\"#4D5663\"},\"text\":\"\"},\"zerolinecolor\":\"#E1E5ED\"},\"yaxis\":{\"gridcolor\":\"#E1E5ED\",\"showgrid\":true,\"tickfont\":{\"color\":\"#4D5663\"},\"title\":{\"font\":{\"color\":\"#4D5663\"},\"text\":\"\"},\"zerolinecolor\":\"#E1E5ED\"}},                        {\"showLink\": true, \"linkText\": \"Export to plot.ly\", \"plotlyServerURL\": \"https://plot.ly\", \"responsive\": true}                    ).then(function(){\n",
       "                            \n",
       "var gd = document.getElementById('adf1c9a1-0962-46d8-b586-80bbdfdd9dcd');\n",
       "var x = new MutationObserver(function (mutations, observer) {{\n",
       "        var display = window.getComputedStyle(gd).display;\n",
       "        if (!display || display === 'none') {{\n",
       "            console.log([gd, 'removed!']);\n",
       "            Plotly.purge(gd);\n",
       "            observer.disconnect();\n",
       "        }}\n",
       "}});\n",
       "\n",
       "// Listen for the removal of the full notebook cells\n",
       "var notebookContainer = gd.closest('#notebook-container');\n",
       "if (notebookContainer) {{\n",
       "    x.observe(notebookContainer, {childList: true});\n",
       "}}\n",
       "\n",
       "// Listen for the clearing of the current output cell\n",
       "var outputEl = gd.closest('.output');\n",
       "if (outputEl) {{\n",
       "    x.observe(outputEl, {childList: true});\n",
       "}}\n",
       "\n",
       "                        })                };                });            </script>        </div>"
      ]
     },
     "metadata": {},
     "output_type": "display_data"
    }
   ],
   "source": [
    "df3 = pd.DataFrame({'x':[1,2,3,4,5],'y':[10,20,30,20,10],'z':[5,4,3,2,1]})\n",
    "df3.iplot(kind='surface',colorscale='rdylbu')"
   ]
  },
  {
   "cell_type": "markdown",
   "metadata": {},
   "source": [
    "## histogram"
   ]
  },
  {
   "cell_type": "code",
   "execution_count": 33,
   "metadata": {
    "collapsed": false
   },
   "outputs": [
    {
     "data": {
      "application/vnd.plotly.v1+json": {
       "config": {
        "linkText": "Export to plot.ly",
        "plotlyServerURL": "https://plot.ly",
        "showLink": true
       },
       "data": [
        {
         "histfunc": "count",
         "histnorm": "",
         "marker": {
          "color": "rgba(255, 153, 51, 1.0)",
          "line": {
           "color": "#4D5663",
           "width": 1.3
          }
         },
         "name": "A",
         "nbinsx": 25,
         "opacity": 0.8,
         "orientation": "v",
         "type": "histogram",
         "x": [
          -1.3901949841581454,
          1.069922847106397,
          0.2055027592448163,
          -0.1291368074106173,
          1.1943389288630906,
          -1.3292319904526035,
          0.10172609409471008,
          -0.3221745473763238,
          -1.0933289223171323,
          0.8962065258841243,
          -0.7786362671054254,
          -0.011645302090516776,
          0.44924603650584644,
          -0.8256606600330482,
          0.4933240135491313,
          -1.425021249604569,
          -0.7980154456139854,
          1.2716639235371983,
          0.983634830370605,
          -0.0131853266453508,
          0.07970050864372122,
          -1.3183877932587922,
          -0.06041057639929024,
          -0.11134888702932266,
          -2.1499368132801058,
          -0.5514439544355939,
          0.3914604681738653,
          0.8890679991657041,
          0.28542034976793784,
          -0.6304761846712792,
          -0.1878088747248309,
          0.8889529698002793,
          0.45778071476476473,
          -0.12327331670334513,
          -0.29537435268245876,
          -0.08960332054704244,
          0.10432345628202129,
          0.8461532567992535,
          0.803601424416993,
          0.9491203637480421,
          -0.37765332489133335,
          -0.38752199701339685,
          0.8723021363291167,
          2.1204431464464233,
          2.0875076710319154,
          -0.26696339954003034,
          0.8106619705258042,
          -0.2214274625076834,
          -0.7118090777153491,
          -1.688032206163727,
          0.6028689425515956,
          -1.6958500587474632,
          0.2807016925333527,
          -1.0509375083617725,
          0.4448628824772095,
          1.3435148948892826,
          0.4203795505337432,
          -0.7635183838411761,
          -0.9406507307083636,
          0.09562761051184446,
          -1.272869074454918,
          1.0960340944547309,
          1.0625238646050967,
          -0.17771685453414426,
          1.845712049875227,
          0.14235070116325824,
          -0.7941112509036065,
          1.3529661858705617,
          0.9804622209996304,
          1.6876064912058704,
          -0.670156983203831,
          -1.3323507004611381,
          1.3730453556738749,
          0.7882964598361236,
          -1.0531434522638672,
          -0.3146275627267074,
          -3.0747599634463696,
          0.7359197646540324,
          0.3905846088913656,
          0.7562292950033769,
          2.0126903623388985,
          -0.9417501065215361,
          0.0605632892435693,
          0.7150989468002216,
          1.7112704379063017,
          -0.05141026396406195,
          0.746287932383283,
          0.049952739784688345,
          2.0393266553986016,
          -0.19115632906252,
          2.53897699824267,
          0.06677133714948412,
          0.18331594429555945,
          -0.28503842514401506,
          1.3961232808599877,
          -2.7523778166341635,
          0.08231536758941917,
          1.153297736148488,
          1.1121083772525953,
          -1.093043512712841
         ]
        }
       ],
       "layout": {
        "barmode": "overlay",
        "legend": {
         "bgcolor": "#F5F6F9",
         "font": {
          "color": "#4D5663"
         }
        },
        "paper_bgcolor": "#F5F6F9",
        "plot_bgcolor": "#F5F6F9",
        "template": {
         "data": {
          "bar": [
           {
            "error_x": {
             "color": "#2a3f5f"
            },
            "error_y": {
             "color": "#2a3f5f"
            },
            "marker": {
             "line": {
              "color": "#E5ECF6",
              "width": 0.5
             },
             "pattern": {
              "fillmode": "overlay",
              "size": 10,
              "solidity": 0.2
             }
            },
            "type": "bar"
           }
          ],
          "barpolar": [
           {
            "marker": {
             "line": {
              "color": "#E5ECF6",
              "width": 0.5
             },
             "pattern": {
              "fillmode": "overlay",
              "size": 10,
              "solidity": 0.2
             }
            },
            "type": "barpolar"
           }
          ],
          "carpet": [
           {
            "aaxis": {
             "endlinecolor": "#2a3f5f",
             "gridcolor": "white",
             "linecolor": "white",
             "minorgridcolor": "white",
             "startlinecolor": "#2a3f5f"
            },
            "baxis": {
             "endlinecolor": "#2a3f5f",
             "gridcolor": "white",
             "linecolor": "white",
             "minorgridcolor": "white",
             "startlinecolor": "#2a3f5f"
            },
            "type": "carpet"
           }
          ],
          "choropleth": [
           {
            "colorbar": {
             "outlinewidth": 0,
             "ticks": ""
            },
            "type": "choropleth"
           }
          ],
          "contour": [
           {
            "colorbar": {
             "outlinewidth": 0,
             "ticks": ""
            },
            "colorscale": [
             [
              0,
              "#0d0887"
             ],
             [
              0.1111111111111111,
              "#46039f"
             ],
             [
              0.2222222222222222,
              "#7201a8"
             ],
             [
              0.3333333333333333,
              "#9c179e"
             ],
             [
              0.4444444444444444,
              "#bd3786"
             ],
             [
              0.5555555555555556,
              "#d8576b"
             ],
             [
              0.6666666666666666,
              "#ed7953"
             ],
             [
              0.7777777777777778,
              "#fb9f3a"
             ],
             [
              0.8888888888888888,
              "#fdca26"
             ],
             [
              1,
              "#f0f921"
             ]
            ],
            "type": "contour"
           }
          ],
          "contourcarpet": [
           {
            "colorbar": {
             "outlinewidth": 0,
             "ticks": ""
            },
            "type": "contourcarpet"
           }
          ],
          "heatmap": [
           {
            "colorbar": {
             "outlinewidth": 0,
             "ticks": ""
            },
            "colorscale": [
             [
              0,
              "#0d0887"
             ],
             [
              0.1111111111111111,
              "#46039f"
             ],
             [
              0.2222222222222222,
              "#7201a8"
             ],
             [
              0.3333333333333333,
              "#9c179e"
             ],
             [
              0.4444444444444444,
              "#bd3786"
             ],
             [
              0.5555555555555556,
              "#d8576b"
             ],
             [
              0.6666666666666666,
              "#ed7953"
             ],
             [
              0.7777777777777778,
              "#fb9f3a"
             ],
             [
              0.8888888888888888,
              "#fdca26"
             ],
             [
              1,
              "#f0f921"
             ]
            ],
            "type": "heatmap"
           }
          ],
          "heatmapgl": [
           {
            "colorbar": {
             "outlinewidth": 0,
             "ticks": ""
            },
            "colorscale": [
             [
              0,
              "#0d0887"
             ],
             [
              0.1111111111111111,
              "#46039f"
             ],
             [
              0.2222222222222222,
              "#7201a8"
             ],
             [
              0.3333333333333333,
              "#9c179e"
             ],
             [
              0.4444444444444444,
              "#bd3786"
             ],
             [
              0.5555555555555556,
              "#d8576b"
             ],
             [
              0.6666666666666666,
              "#ed7953"
             ],
             [
              0.7777777777777778,
              "#fb9f3a"
             ],
             [
              0.8888888888888888,
              "#fdca26"
             ],
             [
              1,
              "#f0f921"
             ]
            ],
            "type": "heatmapgl"
           }
          ],
          "histogram": [
           {
            "marker": {
             "pattern": {
              "fillmode": "overlay",
              "size": 10,
              "solidity": 0.2
             }
            },
            "type": "histogram"
           }
          ],
          "histogram2d": [
           {
            "colorbar": {
             "outlinewidth": 0,
             "ticks": ""
            },
            "colorscale": [
             [
              0,
              "#0d0887"
             ],
             [
              0.1111111111111111,
              "#46039f"
             ],
             [
              0.2222222222222222,
              "#7201a8"
             ],
             [
              0.3333333333333333,
              "#9c179e"
             ],
             [
              0.4444444444444444,
              "#bd3786"
             ],
             [
              0.5555555555555556,
              "#d8576b"
             ],
             [
              0.6666666666666666,
              "#ed7953"
             ],
             [
              0.7777777777777778,
              "#fb9f3a"
             ],
             [
              0.8888888888888888,
              "#fdca26"
             ],
             [
              1,
              "#f0f921"
             ]
            ],
            "type": "histogram2d"
           }
          ],
          "histogram2dcontour": [
           {
            "colorbar": {
             "outlinewidth": 0,
             "ticks": ""
            },
            "colorscale": [
             [
              0,
              "#0d0887"
             ],
             [
              0.1111111111111111,
              "#46039f"
             ],
             [
              0.2222222222222222,
              "#7201a8"
             ],
             [
              0.3333333333333333,
              "#9c179e"
             ],
             [
              0.4444444444444444,
              "#bd3786"
             ],
             [
              0.5555555555555556,
              "#d8576b"
             ],
             [
              0.6666666666666666,
              "#ed7953"
             ],
             [
              0.7777777777777778,
              "#fb9f3a"
             ],
             [
              0.8888888888888888,
              "#fdca26"
             ],
             [
              1,
              "#f0f921"
             ]
            ],
            "type": "histogram2dcontour"
           }
          ],
          "mesh3d": [
           {
            "colorbar": {
             "outlinewidth": 0,
             "ticks": ""
            },
            "type": "mesh3d"
           }
          ],
          "parcoords": [
           {
            "line": {
             "colorbar": {
              "outlinewidth": 0,
              "ticks": ""
             }
            },
            "type": "parcoords"
           }
          ],
          "pie": [
           {
            "automargin": true,
            "type": "pie"
           }
          ],
          "scatter": [
           {
            "fillpattern": {
             "fillmode": "overlay",
             "size": 10,
             "solidity": 0.2
            },
            "type": "scatter"
           }
          ],
          "scatter3d": [
           {
            "line": {
             "colorbar": {
              "outlinewidth": 0,
              "ticks": ""
             }
            },
            "marker": {
             "colorbar": {
              "outlinewidth": 0,
              "ticks": ""
             }
            },
            "type": "scatter3d"
           }
          ],
          "scattercarpet": [
           {
            "marker": {
             "colorbar": {
              "outlinewidth": 0,
              "ticks": ""
             }
            },
            "type": "scattercarpet"
           }
          ],
          "scattergeo": [
           {
            "marker": {
             "colorbar": {
              "outlinewidth": 0,
              "ticks": ""
             }
            },
            "type": "scattergeo"
           }
          ],
          "scattergl": [
           {
            "marker": {
             "colorbar": {
              "outlinewidth": 0,
              "ticks": ""
             }
            },
            "type": "scattergl"
           }
          ],
          "scattermapbox": [
           {
            "marker": {
             "colorbar": {
              "outlinewidth": 0,
              "ticks": ""
             }
            },
            "type": "scattermapbox"
           }
          ],
          "scatterpolar": [
           {
            "marker": {
             "colorbar": {
              "outlinewidth": 0,
              "ticks": ""
             }
            },
            "type": "scatterpolar"
           }
          ],
          "scatterpolargl": [
           {
            "marker": {
             "colorbar": {
              "outlinewidth": 0,
              "ticks": ""
             }
            },
            "type": "scatterpolargl"
           }
          ],
          "scatterternary": [
           {
            "marker": {
             "colorbar": {
              "outlinewidth": 0,
              "ticks": ""
             }
            },
            "type": "scatterternary"
           }
          ],
          "surface": [
           {
            "colorbar": {
             "outlinewidth": 0,
             "ticks": ""
            },
            "colorscale": [
             [
              0,
              "#0d0887"
             ],
             [
              0.1111111111111111,
              "#46039f"
             ],
             [
              0.2222222222222222,
              "#7201a8"
             ],
             [
              0.3333333333333333,
              "#9c179e"
             ],
             [
              0.4444444444444444,
              "#bd3786"
             ],
             [
              0.5555555555555556,
              "#d8576b"
             ],
             [
              0.6666666666666666,
              "#ed7953"
             ],
             [
              0.7777777777777778,
              "#fb9f3a"
             ],
             [
              0.8888888888888888,
              "#fdca26"
             ],
             [
              1,
              "#f0f921"
             ]
            ],
            "type": "surface"
           }
          ],
          "table": [
           {
            "cells": {
             "fill": {
              "color": "#EBF0F8"
             },
             "line": {
              "color": "white"
             }
            },
            "header": {
             "fill": {
              "color": "#C8D4E3"
             },
             "line": {
              "color": "white"
             }
            },
            "type": "table"
           }
          ]
         },
         "layout": {
          "annotationdefaults": {
           "arrowcolor": "#2a3f5f",
           "arrowhead": 0,
           "arrowwidth": 1
          },
          "autotypenumbers": "strict",
          "coloraxis": {
           "colorbar": {
            "outlinewidth": 0,
            "ticks": ""
           }
          },
          "colorscale": {
           "diverging": [
            [
             0,
             "#8e0152"
            ],
            [
             0.1,
             "#c51b7d"
            ],
            [
             0.2,
             "#de77ae"
            ],
            [
             0.3,
             "#f1b6da"
            ],
            [
             0.4,
             "#fde0ef"
            ],
            [
             0.5,
             "#f7f7f7"
            ],
            [
             0.6,
             "#e6f5d0"
            ],
            [
             0.7,
             "#b8e186"
            ],
            [
             0.8,
             "#7fbc41"
            ],
            [
             0.9,
             "#4d9221"
            ],
            [
             1,
             "#276419"
            ]
           ],
           "sequential": [
            [
             0,
             "#0d0887"
            ],
            [
             0.1111111111111111,
             "#46039f"
            ],
            [
             0.2222222222222222,
             "#7201a8"
            ],
            [
             0.3333333333333333,
             "#9c179e"
            ],
            [
             0.4444444444444444,
             "#bd3786"
            ],
            [
             0.5555555555555556,
             "#d8576b"
            ],
            [
             0.6666666666666666,
             "#ed7953"
            ],
            [
             0.7777777777777778,
             "#fb9f3a"
            ],
            [
             0.8888888888888888,
             "#fdca26"
            ],
            [
             1,
             "#f0f921"
            ]
           ],
           "sequentialminus": [
            [
             0,
             "#0d0887"
            ],
            [
             0.1111111111111111,
             "#46039f"
            ],
            [
             0.2222222222222222,
             "#7201a8"
            ],
            [
             0.3333333333333333,
             "#9c179e"
            ],
            [
             0.4444444444444444,
             "#bd3786"
            ],
            [
             0.5555555555555556,
             "#d8576b"
            ],
            [
             0.6666666666666666,
             "#ed7953"
            ],
            [
             0.7777777777777778,
             "#fb9f3a"
            ],
            [
             0.8888888888888888,
             "#fdca26"
            ],
            [
             1,
             "#f0f921"
            ]
           ]
          },
          "colorway": [
           "#636efa",
           "#EF553B",
           "#00cc96",
           "#ab63fa",
           "#FFA15A",
           "#19d3f3",
           "#FF6692",
           "#B6E880",
           "#FF97FF",
           "#FECB52"
          ],
          "font": {
           "color": "#2a3f5f"
          },
          "geo": {
           "bgcolor": "white",
           "lakecolor": "white",
           "landcolor": "#E5ECF6",
           "showlakes": true,
           "showland": true,
           "subunitcolor": "white"
          },
          "hoverlabel": {
           "align": "left"
          },
          "hovermode": "closest",
          "mapbox": {
           "style": "light"
          },
          "paper_bgcolor": "white",
          "plot_bgcolor": "#E5ECF6",
          "polar": {
           "angularaxis": {
            "gridcolor": "white",
            "linecolor": "white",
            "ticks": ""
           },
           "bgcolor": "#E5ECF6",
           "radialaxis": {
            "gridcolor": "white",
            "linecolor": "white",
            "ticks": ""
           }
          },
          "scene": {
           "xaxis": {
            "backgroundcolor": "#E5ECF6",
            "gridcolor": "white",
            "gridwidth": 2,
            "linecolor": "white",
            "showbackground": true,
            "ticks": "",
            "zerolinecolor": "white"
           },
           "yaxis": {
            "backgroundcolor": "#E5ECF6",
            "gridcolor": "white",
            "gridwidth": 2,
            "linecolor": "white",
            "showbackground": true,
            "ticks": "",
            "zerolinecolor": "white"
           },
           "zaxis": {
            "backgroundcolor": "#E5ECF6",
            "gridcolor": "white",
            "gridwidth": 2,
            "linecolor": "white",
            "showbackground": true,
            "ticks": "",
            "zerolinecolor": "white"
           }
          },
          "shapedefaults": {
           "line": {
            "color": "#2a3f5f"
           }
          },
          "ternary": {
           "aaxis": {
            "gridcolor": "white",
            "linecolor": "white",
            "ticks": ""
           },
           "baxis": {
            "gridcolor": "white",
            "linecolor": "white",
            "ticks": ""
           },
           "bgcolor": "#E5ECF6",
           "caxis": {
            "gridcolor": "white",
            "linecolor": "white",
            "ticks": ""
           }
          },
          "title": {
           "x": 0.05
          },
          "xaxis": {
           "automargin": true,
           "gridcolor": "white",
           "linecolor": "white",
           "ticks": "",
           "title": {
            "standoff": 15
           },
           "zerolinecolor": "white",
           "zerolinewidth": 2
          },
          "yaxis": {
           "automargin": true,
           "gridcolor": "white",
           "linecolor": "white",
           "ticks": "",
           "title": {
            "standoff": 15
           },
           "zerolinecolor": "white",
           "zerolinewidth": 2
          }
         }
        },
        "title": {
         "font": {
          "color": "#4D5663"
         }
        },
        "xaxis": {
         "gridcolor": "#E1E5ED",
         "showgrid": true,
         "tickfont": {
          "color": "#4D5663"
         },
         "title": {
          "font": {
           "color": "#4D5663"
          },
          "text": ""
         },
         "zerolinecolor": "#E1E5ED"
        },
        "yaxis": {
         "gridcolor": "#E1E5ED",
         "showgrid": true,
         "tickfont": {
          "color": "#4D5663"
         },
         "title": {
          "font": {
           "color": "#4D5663"
          },
          "text": ""
         },
         "zerolinecolor": "#E1E5ED"
        }
       }
      },
      "text/html": [
       "<div>                            <div id=\"6f0b554a-80c5-4583-8db5-5fac4ad314b9\" class=\"plotly-graph-div\" style=\"height:525px; width:100%;\"></div>            <script type=\"text/javascript\">                require([\"plotly\"], function(Plotly) {                    window.PLOTLYENV=window.PLOTLYENV || {};\n",
       "                    window.PLOTLYENV.BASE_URL='https://plot.ly';                                    if (document.getElementById(\"6f0b554a-80c5-4583-8db5-5fac4ad314b9\")) {                    Plotly.newPlot(                        \"6f0b554a-80c5-4583-8db5-5fac4ad314b9\",                        [{\"histfunc\":\"count\",\"histnorm\":\"\",\"marker\":{\"color\":\"rgba(255, 153, 51, 1.0)\",\"line\":{\"color\":\"#4D5663\",\"width\":1.3}},\"name\":\"A\",\"nbinsx\":25,\"opacity\":0.8,\"orientation\":\"v\",\"x\":[-1.3901949841581454,1.069922847106397,0.2055027592448163,-0.1291368074106173,1.1943389288630906,-1.3292319904526035,0.10172609409471008,-0.3221745473763238,-1.0933289223171323,0.8962065258841243,-0.7786362671054254,-0.011645302090516776,0.44924603650584644,-0.8256606600330482,0.4933240135491313,-1.425021249604569,-0.7980154456139854,1.2716639235371983,0.983634830370605,-0.0131853266453508,0.07970050864372122,-1.3183877932587922,-0.06041057639929024,-0.11134888702932266,-2.1499368132801058,-0.5514439544355939,0.3914604681738653,0.8890679991657041,0.28542034976793784,-0.6304761846712792,-0.1878088747248309,0.8889529698002793,0.45778071476476473,-0.12327331670334513,-0.29537435268245876,-0.08960332054704244,0.10432345628202129,0.8461532567992535,0.803601424416993,0.9491203637480421,-0.37765332489133335,-0.38752199701339685,0.8723021363291167,2.1204431464464233,2.0875076710319154,-0.26696339954003034,0.8106619705258042,-0.2214274625076834,-0.7118090777153491,-1.688032206163727,0.6028689425515956,-1.6958500587474632,0.2807016925333527,-1.0509375083617725,0.4448628824772095,1.3435148948892826,0.4203795505337432,-0.7635183838411761,-0.9406507307083636,0.09562761051184446,-1.272869074454918,1.0960340944547309,1.0625238646050967,-0.17771685453414426,1.845712049875227,0.14235070116325824,-0.7941112509036065,1.3529661858705617,0.9804622209996304,1.6876064912058704,-0.670156983203831,-1.3323507004611381,1.3730453556738749,0.7882964598361236,-1.0531434522638672,-0.3146275627267074,-3.0747599634463696,0.7359197646540324,0.3905846088913656,0.7562292950033769,2.0126903623388985,-0.9417501065215361,0.0605632892435693,0.7150989468002216,1.7112704379063017,-0.05141026396406195,0.746287932383283,0.049952739784688345,2.0393266553986016,-0.19115632906252,2.53897699824267,0.06677133714948412,0.18331594429555945,-0.28503842514401506,1.3961232808599877,-2.7523778166341635,0.08231536758941917,1.153297736148488,1.1121083772525953,-1.093043512712841],\"type\":\"histogram\"}],                        {\"barmode\":\"overlay\",\"legend\":{\"bgcolor\":\"#F5F6F9\",\"font\":{\"color\":\"#4D5663\"}},\"paper_bgcolor\":\"#F5F6F9\",\"plot_bgcolor\":\"#F5F6F9\",\"template\":{\"data\":{\"barpolar\":[{\"marker\":{\"line\":{\"color\":\"#E5ECF6\",\"width\":0.5},\"pattern\":{\"fillmode\":\"overlay\",\"size\":10,\"solidity\":0.2}},\"type\":\"barpolar\"}],\"bar\":[{\"error_x\":{\"color\":\"#2a3f5f\"},\"error_y\":{\"color\":\"#2a3f5f\"},\"marker\":{\"line\":{\"color\":\"#E5ECF6\",\"width\":0.5},\"pattern\":{\"fillmode\":\"overlay\",\"size\":10,\"solidity\":0.2}},\"type\":\"bar\"}],\"carpet\":[{\"aaxis\":{\"endlinecolor\":\"#2a3f5f\",\"gridcolor\":\"white\",\"linecolor\":\"white\",\"minorgridcolor\":\"white\",\"startlinecolor\":\"#2a3f5f\"},\"baxis\":{\"endlinecolor\":\"#2a3f5f\",\"gridcolor\":\"white\",\"linecolor\":\"white\",\"minorgridcolor\":\"white\",\"startlinecolor\":\"#2a3f5f\"},\"type\":\"carpet\"}],\"choropleth\":[{\"colorbar\":{\"outlinewidth\":0,\"ticks\":\"\"},\"type\":\"choropleth\"}],\"contourcarpet\":[{\"colorbar\":{\"outlinewidth\":0,\"ticks\":\"\"},\"type\":\"contourcarpet\"}],\"contour\":[{\"colorbar\":{\"outlinewidth\":0,\"ticks\":\"\"},\"colorscale\":[[0.0,\"#0d0887\"],[0.1111111111111111,\"#46039f\"],[0.2222222222222222,\"#7201a8\"],[0.3333333333333333,\"#9c179e\"],[0.4444444444444444,\"#bd3786\"],[0.5555555555555556,\"#d8576b\"],[0.6666666666666666,\"#ed7953\"],[0.7777777777777778,\"#fb9f3a\"],[0.8888888888888888,\"#fdca26\"],[1.0,\"#f0f921\"]],\"type\":\"contour\"}],\"heatmapgl\":[{\"colorbar\":{\"outlinewidth\":0,\"ticks\":\"\"},\"colorscale\":[[0.0,\"#0d0887\"],[0.1111111111111111,\"#46039f\"],[0.2222222222222222,\"#7201a8\"],[0.3333333333333333,\"#9c179e\"],[0.4444444444444444,\"#bd3786\"],[0.5555555555555556,\"#d8576b\"],[0.6666666666666666,\"#ed7953\"],[0.7777777777777778,\"#fb9f3a\"],[0.8888888888888888,\"#fdca26\"],[1.0,\"#f0f921\"]],\"type\":\"heatmapgl\"}],\"heatmap\":[{\"colorbar\":{\"outlinewidth\":0,\"ticks\":\"\"},\"colorscale\":[[0.0,\"#0d0887\"],[0.1111111111111111,\"#46039f\"],[0.2222222222222222,\"#7201a8\"],[0.3333333333333333,\"#9c179e\"],[0.4444444444444444,\"#bd3786\"],[0.5555555555555556,\"#d8576b\"],[0.6666666666666666,\"#ed7953\"],[0.7777777777777778,\"#fb9f3a\"],[0.8888888888888888,\"#fdca26\"],[1.0,\"#f0f921\"]],\"type\":\"heatmap\"}],\"histogram2dcontour\":[{\"colorbar\":{\"outlinewidth\":0,\"ticks\":\"\"},\"colorscale\":[[0.0,\"#0d0887\"],[0.1111111111111111,\"#46039f\"],[0.2222222222222222,\"#7201a8\"],[0.3333333333333333,\"#9c179e\"],[0.4444444444444444,\"#bd3786\"],[0.5555555555555556,\"#d8576b\"],[0.6666666666666666,\"#ed7953\"],[0.7777777777777778,\"#fb9f3a\"],[0.8888888888888888,\"#fdca26\"],[1.0,\"#f0f921\"]],\"type\":\"histogram2dcontour\"}],\"histogram2d\":[{\"colorbar\":{\"outlinewidth\":0,\"ticks\":\"\"},\"colorscale\":[[0.0,\"#0d0887\"],[0.1111111111111111,\"#46039f\"],[0.2222222222222222,\"#7201a8\"],[0.3333333333333333,\"#9c179e\"],[0.4444444444444444,\"#bd3786\"],[0.5555555555555556,\"#d8576b\"],[0.6666666666666666,\"#ed7953\"],[0.7777777777777778,\"#fb9f3a\"],[0.8888888888888888,\"#fdca26\"],[1.0,\"#f0f921\"]],\"type\":\"histogram2d\"}],\"histogram\":[{\"marker\":{\"pattern\":{\"fillmode\":\"overlay\",\"size\":10,\"solidity\":0.2}},\"type\":\"histogram\"}],\"mesh3d\":[{\"colorbar\":{\"outlinewidth\":0,\"ticks\":\"\"},\"type\":\"mesh3d\"}],\"parcoords\":[{\"line\":{\"colorbar\":{\"outlinewidth\":0,\"ticks\":\"\"}},\"type\":\"parcoords\"}],\"pie\":[{\"automargin\":true,\"type\":\"pie\"}],\"scatter3d\":[{\"line\":{\"colorbar\":{\"outlinewidth\":0,\"ticks\":\"\"}},\"marker\":{\"colorbar\":{\"outlinewidth\":0,\"ticks\":\"\"}},\"type\":\"scatter3d\"}],\"scattercarpet\":[{\"marker\":{\"colorbar\":{\"outlinewidth\":0,\"ticks\":\"\"}},\"type\":\"scattercarpet\"}],\"scattergeo\":[{\"marker\":{\"colorbar\":{\"outlinewidth\":0,\"ticks\":\"\"}},\"type\":\"scattergeo\"}],\"scattergl\":[{\"marker\":{\"colorbar\":{\"outlinewidth\":0,\"ticks\":\"\"}},\"type\":\"scattergl\"}],\"scattermapbox\":[{\"marker\":{\"colorbar\":{\"outlinewidth\":0,\"ticks\":\"\"}},\"type\":\"scattermapbox\"}],\"scatterpolargl\":[{\"marker\":{\"colorbar\":{\"outlinewidth\":0,\"ticks\":\"\"}},\"type\":\"scatterpolargl\"}],\"scatterpolar\":[{\"marker\":{\"colorbar\":{\"outlinewidth\":0,\"ticks\":\"\"}},\"type\":\"scatterpolar\"}],\"scatter\":[{\"fillpattern\":{\"fillmode\":\"overlay\",\"size\":10,\"solidity\":0.2},\"type\":\"scatter\"}],\"scatterternary\":[{\"marker\":{\"colorbar\":{\"outlinewidth\":0,\"ticks\":\"\"}},\"type\":\"scatterternary\"}],\"surface\":[{\"colorbar\":{\"outlinewidth\":0,\"ticks\":\"\"},\"colorscale\":[[0.0,\"#0d0887\"],[0.1111111111111111,\"#46039f\"],[0.2222222222222222,\"#7201a8\"],[0.3333333333333333,\"#9c179e\"],[0.4444444444444444,\"#bd3786\"],[0.5555555555555556,\"#d8576b\"],[0.6666666666666666,\"#ed7953\"],[0.7777777777777778,\"#fb9f3a\"],[0.8888888888888888,\"#fdca26\"],[1.0,\"#f0f921\"]],\"type\":\"surface\"}],\"table\":[{\"cells\":{\"fill\":{\"color\":\"#EBF0F8\"},\"line\":{\"color\":\"white\"}},\"header\":{\"fill\":{\"color\":\"#C8D4E3\"},\"line\":{\"color\":\"white\"}},\"type\":\"table\"}]},\"layout\":{\"annotationdefaults\":{\"arrowcolor\":\"#2a3f5f\",\"arrowhead\":0,\"arrowwidth\":1},\"autotypenumbers\":\"strict\",\"coloraxis\":{\"colorbar\":{\"outlinewidth\":0,\"ticks\":\"\"}},\"colorscale\":{\"diverging\":[[0,\"#8e0152\"],[0.1,\"#c51b7d\"],[0.2,\"#de77ae\"],[0.3,\"#f1b6da\"],[0.4,\"#fde0ef\"],[0.5,\"#f7f7f7\"],[0.6,\"#e6f5d0\"],[0.7,\"#b8e186\"],[0.8,\"#7fbc41\"],[0.9,\"#4d9221\"],[1,\"#276419\"]],\"sequential\":[[0.0,\"#0d0887\"],[0.1111111111111111,\"#46039f\"],[0.2222222222222222,\"#7201a8\"],[0.3333333333333333,\"#9c179e\"],[0.4444444444444444,\"#bd3786\"],[0.5555555555555556,\"#d8576b\"],[0.6666666666666666,\"#ed7953\"],[0.7777777777777778,\"#fb9f3a\"],[0.8888888888888888,\"#fdca26\"],[1.0,\"#f0f921\"]],\"sequentialminus\":[[0.0,\"#0d0887\"],[0.1111111111111111,\"#46039f\"],[0.2222222222222222,\"#7201a8\"],[0.3333333333333333,\"#9c179e\"],[0.4444444444444444,\"#bd3786\"],[0.5555555555555556,\"#d8576b\"],[0.6666666666666666,\"#ed7953\"],[0.7777777777777778,\"#fb9f3a\"],[0.8888888888888888,\"#fdca26\"],[1.0,\"#f0f921\"]]},\"colorway\":[\"#636efa\",\"#EF553B\",\"#00cc96\",\"#ab63fa\",\"#FFA15A\",\"#19d3f3\",\"#FF6692\",\"#B6E880\",\"#FF97FF\",\"#FECB52\"],\"font\":{\"color\":\"#2a3f5f\"},\"geo\":{\"bgcolor\":\"white\",\"lakecolor\":\"white\",\"landcolor\":\"#E5ECF6\",\"showlakes\":true,\"showland\":true,\"subunitcolor\":\"white\"},\"hoverlabel\":{\"align\":\"left\"},\"hovermode\":\"closest\",\"mapbox\":{\"style\":\"light\"},\"paper_bgcolor\":\"white\",\"plot_bgcolor\":\"#E5ECF6\",\"polar\":{\"angularaxis\":{\"gridcolor\":\"white\",\"linecolor\":\"white\",\"ticks\":\"\"},\"bgcolor\":\"#E5ECF6\",\"radialaxis\":{\"gridcolor\":\"white\",\"linecolor\":\"white\",\"ticks\":\"\"}},\"scene\":{\"xaxis\":{\"backgroundcolor\":\"#E5ECF6\",\"gridcolor\":\"white\",\"gridwidth\":2,\"linecolor\":\"white\",\"showbackground\":true,\"ticks\":\"\",\"zerolinecolor\":\"white\"},\"yaxis\":{\"backgroundcolor\":\"#E5ECF6\",\"gridcolor\":\"white\",\"gridwidth\":2,\"linecolor\":\"white\",\"showbackground\":true,\"ticks\":\"\",\"zerolinecolor\":\"white\"},\"zaxis\":{\"backgroundcolor\":\"#E5ECF6\",\"gridcolor\":\"white\",\"gridwidth\":2,\"linecolor\":\"white\",\"showbackground\":true,\"ticks\":\"\",\"zerolinecolor\":\"white\"}},\"shapedefaults\":{\"line\":{\"color\":\"#2a3f5f\"}},\"ternary\":{\"aaxis\":{\"gridcolor\":\"white\",\"linecolor\":\"white\",\"ticks\":\"\"},\"baxis\":{\"gridcolor\":\"white\",\"linecolor\":\"white\",\"ticks\":\"\"},\"bgcolor\":\"#E5ECF6\",\"caxis\":{\"gridcolor\":\"white\",\"linecolor\":\"white\",\"ticks\":\"\"}},\"title\":{\"x\":0.05},\"xaxis\":{\"automargin\":true,\"gridcolor\":\"white\",\"linecolor\":\"white\",\"ticks\":\"\",\"title\":{\"standoff\":15},\"zerolinecolor\":\"white\",\"zerolinewidth\":2},\"yaxis\":{\"automargin\":true,\"gridcolor\":\"white\",\"linecolor\":\"white\",\"ticks\":\"\",\"title\":{\"standoff\":15},\"zerolinecolor\":\"white\",\"zerolinewidth\":2}}},\"title\":{\"font\":{\"color\":\"#4D5663\"}},\"xaxis\":{\"gridcolor\":\"#E1E5ED\",\"showgrid\":true,\"tickfont\":{\"color\":\"#4D5663\"},\"title\":{\"font\":{\"color\":\"#4D5663\"},\"text\":\"\"},\"zerolinecolor\":\"#E1E5ED\"},\"yaxis\":{\"gridcolor\":\"#E1E5ED\",\"showgrid\":true,\"tickfont\":{\"color\":\"#4D5663\"},\"title\":{\"font\":{\"color\":\"#4D5663\"},\"text\":\"\"},\"zerolinecolor\":\"#E1E5ED\"}},                        {\"showLink\": true, \"linkText\": \"Export to plot.ly\", \"plotlyServerURL\": \"https://plot.ly\", \"responsive\": true}                    ).then(function(){\n",
       "                            \n",
       "var gd = document.getElementById('6f0b554a-80c5-4583-8db5-5fac4ad314b9');\n",
       "var x = new MutationObserver(function (mutations, observer) {{\n",
       "        var display = window.getComputedStyle(gd).display;\n",
       "        if (!display || display === 'none') {{\n",
       "            console.log([gd, 'removed!']);\n",
       "            Plotly.purge(gd);\n",
       "            observer.disconnect();\n",
       "        }}\n",
       "}});\n",
       "\n",
       "// Listen for the removal of the full notebook cells\n",
       "var notebookContainer = gd.closest('#notebook-container');\n",
       "if (notebookContainer) {{\n",
       "    x.observe(notebookContainer, {childList: true});\n",
       "}}\n",
       "\n",
       "// Listen for the clearing of the current output cell\n",
       "var outputEl = gd.closest('.output');\n",
       "if (outputEl) {{\n",
       "    x.observe(outputEl, {childList: true});\n",
       "}}\n",
       "\n",
       "                        })                };                });            </script>        </div>"
      ]
     },
     "metadata": {},
     "output_type": "display_data"
    }
   ],
   "source": [
    "df['A'].iplot(kind='hist',bins=25)"
   ]
  },
  {
   "cell_type": "code",
   "execution_count": 34,
   "metadata": {
    "collapsed": false
   },
   "outputs": [
    {
     "data": {
      "application/vnd.plotly.v1+json": {
       "config": {
        "linkText": "Export to plot.ly",
        "plotlyServerURL": "https://plot.ly",
        "showLink": true
       },
       "data": [
        {
         "marker": {
          "color": [
           "rgb(255, 153, 51)",
           "rgb(55, 128, 191)",
           "rgb(50, 171, 96)",
           "rgb(128, 0, 128)",
           "rgb(219, 64, 82)",
           "rgb(0, 128, 128)",
           "rgb(255, 255, 51)",
           "rgb(128, 128, 0)",
           "rgb(251, 128, 114)",
           "rgb(128, 177, 211)"
          ],
          "line": {
           "width": 1.3
          },
          "size": [
           36,
           43,
           44,
           59,
           28,
           72,
           54,
           72,
           48,
           44,
           12,
           93,
           56,
           71,
           53,
           63,
           99,
           32,
           42,
           52,
           47,
           50,
           54,
           71,
           69,
           52,
           46,
           71,
           50,
           46,
           43,
           41,
           46,
           61,
           41,
           92,
           69,
           90,
           40,
           26,
           73,
           70,
           52,
           75,
           75,
           33,
           49,
           32,
           76,
           34,
           55,
           20,
           72,
           18,
           76,
           22,
           35,
           66,
           80,
           67,
           72,
           70,
           34,
           43,
           92,
           39,
           45,
           32,
           94,
           49,
           55,
           45,
           53,
           58,
           21,
           112,
           76,
           63,
           65,
           68,
           50,
           26,
           80,
           84,
           35,
           67,
           87,
           78,
           70,
           65,
           59,
           25,
           53,
           27,
           35,
           59,
           40,
           31,
           83,
           40
          ],
          "symbol": "circle"
         },
         "mode": "markers",
         "text": "",
         "type": "scatter",
         "x": [
          -1.3901949841581454,
          1.069922847106397,
          0.2055027592448163,
          -0.1291368074106173,
          1.1943389288630906,
          -1.3292319904526035,
          0.10172609409471008,
          -0.3221745473763238,
          -1.0933289223171323,
          0.8962065258841243,
          -0.7786362671054254,
          -0.011645302090516776,
          0.44924603650584644,
          -0.8256606600330482,
          0.4933240135491313,
          -1.425021249604569,
          -0.7980154456139854,
          1.2716639235371983,
          0.983634830370605,
          -0.0131853266453508,
          0.07970050864372122,
          -1.3183877932587922,
          -0.06041057639929024,
          -0.11134888702932266,
          -2.1499368132801058,
          -0.5514439544355939,
          0.3914604681738653,
          0.8890679991657041,
          0.28542034976793784,
          -0.6304761846712792,
          -0.1878088747248309,
          0.8889529698002793,
          0.45778071476476473,
          -0.12327331670334513,
          -0.29537435268245876,
          -0.08960332054704244,
          0.10432345628202129,
          0.8461532567992535,
          0.803601424416993,
          0.9491203637480421,
          -0.37765332489133335,
          -0.38752199701339685,
          0.8723021363291167,
          2.1204431464464233,
          2.0875076710319154,
          -0.26696339954003034,
          0.8106619705258042,
          -0.2214274625076834,
          -0.7118090777153491,
          -1.688032206163727,
          0.6028689425515956,
          -1.6958500587474632,
          0.2807016925333527,
          -1.0509375083617725,
          0.4448628824772095,
          1.3435148948892826,
          0.4203795505337432,
          -0.7635183838411761,
          -0.9406507307083636,
          0.09562761051184446,
          -1.272869074454918,
          1.0960340944547309,
          1.0625238646050967,
          -0.17771685453414426,
          1.845712049875227,
          0.14235070116325824,
          -0.7941112509036065,
          1.3529661858705617,
          0.9804622209996304,
          1.6876064912058704,
          -0.670156983203831,
          -1.3323507004611381,
          1.3730453556738749,
          0.7882964598361236,
          -1.0531434522638672,
          -0.3146275627267074,
          -3.0747599634463696,
          0.7359197646540324,
          0.3905846088913656,
          0.7562292950033769,
          2.0126903623388985,
          -0.9417501065215361,
          0.0605632892435693,
          0.7150989468002216,
          1.7112704379063017,
          -0.05141026396406195,
          0.746287932383283,
          0.049952739784688345,
          2.0393266553986016,
          -0.19115632906252,
          2.53897699824267,
          0.06677133714948412,
          0.18331594429555945,
          -0.28503842514401506,
          1.3961232808599877,
          -2.7523778166341635,
          0.08231536758941917,
          1.153297736148488,
          1.1121083772525953,
          -1.093043512712841
         ],
         "y": [
          -0.5913402385474351,
          1.291121332745925,
          -1.466747037145677,
          -0.3322969627060832,
          0.1187700874875702,
          -0.24207599262733395,
          -0.6226001284660565,
          1.272572536022268,
          -0.04171014781234873,
          0.18080898864233078,
          -1.2586879467504293,
          -0.5135337558658654,
          -0.8473200180220722,
          0.8604218703730332,
          -1.7856776836306145,
          -0.5919786283309229,
          -0.1359138565576188,
          0.601459009542728,
          -0.8431732058899216,
          0.9863151365620875,
          1.105404116926311,
          -2.30989555478306,
          0.6345142872351962,
          -0.8127965787904066,
          -1.2339041212978519,
          0.9146263775285808,
          -1.070146080674142,
          -0.2821436508345468,
          0.21783932695449573,
          -1.0377114276217354,
          2.551428546572451,
          -0.7394626721208684,
          -0.21305885706846572,
          -0.9914679216957235,
          -1.3556255372723736,
          -0.623899335595533,
          -1.4508558168496688,
          -0.9740248766369816,
          -1.9807426870934963,
          -0.3173781925508749,
          -1.8959224489347248,
          2.0313578713934053,
          -0.7251622914463774,
          0.008575265151005882,
          1.0438778960596895,
          0.2974943865792594,
          -0.33413957586703646,
          0.8044725946533433,
          -1.737641661567125,
          0.08412351848049478,
          1.336762991048388,
          -2.2746010546139583,
          -0.12327330870798514,
          0.821392336743205,
          0.5264790702487522,
          2.0717612284105895,
          0.6576114588811612,
          -0.41184883862426647,
          -0.16505253016242047,
          0.8468452828212563,
          -1.5274103886728592,
          0.6571478551011237,
          0.8391958399037819,
          -1.6519628230129517,
          0.012091368496789549,
          -0.28651555423397385,
          -0.0334744400687433,
          0.9048678102827954,
          0.03883455535784291,
          -1.369637488107185,
          -1.7295384107389804,
          -2.1987599151098713,
          0.73107072483283,
          0.9924865836621327,
          -0.22755603733200772,
          0.7116799179162969,
          1.8516026144301145,
          -0.24928062944149215,
          -2.27293167085413,
          1.3784823080181787,
          0.7086191282068263,
          1.3877586827610382,
          -1.1304517131677987,
          0.6464728780029316,
          2.070760542940685,
          -1.4634696830461231,
          0.6571830263885893,
          -2.2943196819244234,
          0.19188186933341375,
          -1.295083155007402,
          0.4119242303807797,
          -1.5338654192597836,
          0.0729083197894447,
          -0.5401987615233624,
          1.2712282833943516,
          -0.00030327787264339837,
          -0.3492774061960846,
          0.5559914807905486,
          -0.6696434699440698,
          -0.4733264851114375
         ]
        }
       ],
       "layout": {
        "legend": {
         "bgcolor": "#F5F6F9",
         "font": {
          "color": "#4D5663"
         }
        },
        "paper_bgcolor": "#F5F6F9",
        "plot_bgcolor": "#F5F6F9",
        "template": {
         "data": {
          "bar": [
           {
            "error_x": {
             "color": "#2a3f5f"
            },
            "error_y": {
             "color": "#2a3f5f"
            },
            "marker": {
             "line": {
              "color": "#E5ECF6",
              "width": 0.5
             },
             "pattern": {
              "fillmode": "overlay",
              "size": 10,
              "solidity": 0.2
             }
            },
            "type": "bar"
           }
          ],
          "barpolar": [
           {
            "marker": {
             "line": {
              "color": "#E5ECF6",
              "width": 0.5
             },
             "pattern": {
              "fillmode": "overlay",
              "size": 10,
              "solidity": 0.2
             }
            },
            "type": "barpolar"
           }
          ],
          "carpet": [
           {
            "aaxis": {
             "endlinecolor": "#2a3f5f",
             "gridcolor": "white",
             "linecolor": "white",
             "minorgridcolor": "white",
             "startlinecolor": "#2a3f5f"
            },
            "baxis": {
             "endlinecolor": "#2a3f5f",
             "gridcolor": "white",
             "linecolor": "white",
             "minorgridcolor": "white",
             "startlinecolor": "#2a3f5f"
            },
            "type": "carpet"
           }
          ],
          "choropleth": [
           {
            "colorbar": {
             "outlinewidth": 0,
             "ticks": ""
            },
            "type": "choropleth"
           }
          ],
          "contour": [
           {
            "colorbar": {
             "outlinewidth": 0,
             "ticks": ""
            },
            "colorscale": [
             [
              0,
              "#0d0887"
             ],
             [
              0.1111111111111111,
              "#46039f"
             ],
             [
              0.2222222222222222,
              "#7201a8"
             ],
             [
              0.3333333333333333,
              "#9c179e"
             ],
             [
              0.4444444444444444,
              "#bd3786"
             ],
             [
              0.5555555555555556,
              "#d8576b"
             ],
             [
              0.6666666666666666,
              "#ed7953"
             ],
             [
              0.7777777777777778,
              "#fb9f3a"
             ],
             [
              0.8888888888888888,
              "#fdca26"
             ],
             [
              1,
              "#f0f921"
             ]
            ],
            "type": "contour"
           }
          ],
          "contourcarpet": [
           {
            "colorbar": {
             "outlinewidth": 0,
             "ticks": ""
            },
            "type": "contourcarpet"
           }
          ],
          "heatmap": [
           {
            "colorbar": {
             "outlinewidth": 0,
             "ticks": ""
            },
            "colorscale": [
             [
              0,
              "#0d0887"
             ],
             [
              0.1111111111111111,
              "#46039f"
             ],
             [
              0.2222222222222222,
              "#7201a8"
             ],
             [
              0.3333333333333333,
              "#9c179e"
             ],
             [
              0.4444444444444444,
              "#bd3786"
             ],
             [
              0.5555555555555556,
              "#d8576b"
             ],
             [
              0.6666666666666666,
              "#ed7953"
             ],
             [
              0.7777777777777778,
              "#fb9f3a"
             ],
             [
              0.8888888888888888,
              "#fdca26"
             ],
             [
              1,
              "#f0f921"
             ]
            ],
            "type": "heatmap"
           }
          ],
          "heatmapgl": [
           {
            "colorbar": {
             "outlinewidth": 0,
             "ticks": ""
            },
            "colorscale": [
             [
              0,
              "#0d0887"
             ],
             [
              0.1111111111111111,
              "#46039f"
             ],
             [
              0.2222222222222222,
              "#7201a8"
             ],
             [
              0.3333333333333333,
              "#9c179e"
             ],
             [
              0.4444444444444444,
              "#bd3786"
             ],
             [
              0.5555555555555556,
              "#d8576b"
             ],
             [
              0.6666666666666666,
              "#ed7953"
             ],
             [
              0.7777777777777778,
              "#fb9f3a"
             ],
             [
              0.8888888888888888,
              "#fdca26"
             ],
             [
              1,
              "#f0f921"
             ]
            ],
            "type": "heatmapgl"
           }
          ],
          "histogram": [
           {
            "marker": {
             "pattern": {
              "fillmode": "overlay",
              "size": 10,
              "solidity": 0.2
             }
            },
            "type": "histogram"
           }
          ],
          "histogram2d": [
           {
            "colorbar": {
             "outlinewidth": 0,
             "ticks": ""
            },
            "colorscale": [
             [
              0,
              "#0d0887"
             ],
             [
              0.1111111111111111,
              "#46039f"
             ],
             [
              0.2222222222222222,
              "#7201a8"
             ],
             [
              0.3333333333333333,
              "#9c179e"
             ],
             [
              0.4444444444444444,
              "#bd3786"
             ],
             [
              0.5555555555555556,
              "#d8576b"
             ],
             [
              0.6666666666666666,
              "#ed7953"
             ],
             [
              0.7777777777777778,
              "#fb9f3a"
             ],
             [
              0.8888888888888888,
              "#fdca26"
             ],
             [
              1,
              "#f0f921"
             ]
            ],
            "type": "histogram2d"
           }
          ],
          "histogram2dcontour": [
           {
            "colorbar": {
             "outlinewidth": 0,
             "ticks": ""
            },
            "colorscale": [
             [
              0,
              "#0d0887"
             ],
             [
              0.1111111111111111,
              "#46039f"
             ],
             [
              0.2222222222222222,
              "#7201a8"
             ],
             [
              0.3333333333333333,
              "#9c179e"
             ],
             [
              0.4444444444444444,
              "#bd3786"
             ],
             [
              0.5555555555555556,
              "#d8576b"
             ],
             [
              0.6666666666666666,
              "#ed7953"
             ],
             [
              0.7777777777777778,
              "#fb9f3a"
             ],
             [
              0.8888888888888888,
              "#fdca26"
             ],
             [
              1,
              "#f0f921"
             ]
            ],
            "type": "histogram2dcontour"
           }
          ],
          "mesh3d": [
           {
            "colorbar": {
             "outlinewidth": 0,
             "ticks": ""
            },
            "type": "mesh3d"
           }
          ],
          "parcoords": [
           {
            "line": {
             "colorbar": {
              "outlinewidth": 0,
              "ticks": ""
             }
            },
            "type": "parcoords"
           }
          ],
          "pie": [
           {
            "automargin": true,
            "type": "pie"
           }
          ],
          "scatter": [
           {
            "fillpattern": {
             "fillmode": "overlay",
             "size": 10,
             "solidity": 0.2
            },
            "type": "scatter"
           }
          ],
          "scatter3d": [
           {
            "line": {
             "colorbar": {
              "outlinewidth": 0,
              "ticks": ""
             }
            },
            "marker": {
             "colorbar": {
              "outlinewidth": 0,
              "ticks": ""
             }
            },
            "type": "scatter3d"
           }
          ],
          "scattercarpet": [
           {
            "marker": {
             "colorbar": {
              "outlinewidth": 0,
              "ticks": ""
             }
            },
            "type": "scattercarpet"
           }
          ],
          "scattergeo": [
           {
            "marker": {
             "colorbar": {
              "outlinewidth": 0,
              "ticks": ""
             }
            },
            "type": "scattergeo"
           }
          ],
          "scattergl": [
           {
            "marker": {
             "colorbar": {
              "outlinewidth": 0,
              "ticks": ""
             }
            },
            "type": "scattergl"
           }
          ],
          "scattermapbox": [
           {
            "marker": {
             "colorbar": {
              "outlinewidth": 0,
              "ticks": ""
             }
            },
            "type": "scattermapbox"
           }
          ],
          "scatterpolar": [
           {
            "marker": {
             "colorbar": {
              "outlinewidth": 0,
              "ticks": ""
             }
            },
            "type": "scatterpolar"
           }
          ],
          "scatterpolargl": [
           {
            "marker": {
             "colorbar": {
              "outlinewidth": 0,
              "ticks": ""
             }
            },
            "type": "scatterpolargl"
           }
          ],
          "scatterternary": [
           {
            "marker": {
             "colorbar": {
              "outlinewidth": 0,
              "ticks": ""
             }
            },
            "type": "scatterternary"
           }
          ],
          "surface": [
           {
            "colorbar": {
             "outlinewidth": 0,
             "ticks": ""
            },
            "colorscale": [
             [
              0,
              "#0d0887"
             ],
             [
              0.1111111111111111,
              "#46039f"
             ],
             [
              0.2222222222222222,
              "#7201a8"
             ],
             [
              0.3333333333333333,
              "#9c179e"
             ],
             [
              0.4444444444444444,
              "#bd3786"
             ],
             [
              0.5555555555555556,
              "#d8576b"
             ],
             [
              0.6666666666666666,
              "#ed7953"
             ],
             [
              0.7777777777777778,
              "#fb9f3a"
             ],
             [
              0.8888888888888888,
              "#fdca26"
             ],
             [
              1,
              "#f0f921"
             ]
            ],
            "type": "surface"
           }
          ],
          "table": [
           {
            "cells": {
             "fill": {
              "color": "#EBF0F8"
             },
             "line": {
              "color": "white"
             }
            },
            "header": {
             "fill": {
              "color": "#C8D4E3"
             },
             "line": {
              "color": "white"
             }
            },
            "type": "table"
           }
          ]
         },
         "layout": {
          "annotationdefaults": {
           "arrowcolor": "#2a3f5f",
           "arrowhead": 0,
           "arrowwidth": 1
          },
          "autotypenumbers": "strict",
          "coloraxis": {
           "colorbar": {
            "outlinewidth": 0,
            "ticks": ""
           }
          },
          "colorscale": {
           "diverging": [
            [
             0,
             "#8e0152"
            ],
            [
             0.1,
             "#c51b7d"
            ],
            [
             0.2,
             "#de77ae"
            ],
            [
             0.3,
             "#f1b6da"
            ],
            [
             0.4,
             "#fde0ef"
            ],
            [
             0.5,
             "#f7f7f7"
            ],
            [
             0.6,
             "#e6f5d0"
            ],
            [
             0.7,
             "#b8e186"
            ],
            [
             0.8,
             "#7fbc41"
            ],
            [
             0.9,
             "#4d9221"
            ],
            [
             1,
             "#276419"
            ]
           ],
           "sequential": [
            [
             0,
             "#0d0887"
            ],
            [
             0.1111111111111111,
             "#46039f"
            ],
            [
             0.2222222222222222,
             "#7201a8"
            ],
            [
             0.3333333333333333,
             "#9c179e"
            ],
            [
             0.4444444444444444,
             "#bd3786"
            ],
            [
             0.5555555555555556,
             "#d8576b"
            ],
            [
             0.6666666666666666,
             "#ed7953"
            ],
            [
             0.7777777777777778,
             "#fb9f3a"
            ],
            [
             0.8888888888888888,
             "#fdca26"
            ],
            [
             1,
             "#f0f921"
            ]
           ],
           "sequentialminus": [
            [
             0,
             "#0d0887"
            ],
            [
             0.1111111111111111,
             "#46039f"
            ],
            [
             0.2222222222222222,
             "#7201a8"
            ],
            [
             0.3333333333333333,
             "#9c179e"
            ],
            [
             0.4444444444444444,
             "#bd3786"
            ],
            [
             0.5555555555555556,
             "#d8576b"
            ],
            [
             0.6666666666666666,
             "#ed7953"
            ],
            [
             0.7777777777777778,
             "#fb9f3a"
            ],
            [
             0.8888888888888888,
             "#fdca26"
            ],
            [
             1,
             "#f0f921"
            ]
           ]
          },
          "colorway": [
           "#636efa",
           "#EF553B",
           "#00cc96",
           "#ab63fa",
           "#FFA15A",
           "#19d3f3",
           "#FF6692",
           "#B6E880",
           "#FF97FF",
           "#FECB52"
          ],
          "font": {
           "color": "#2a3f5f"
          },
          "geo": {
           "bgcolor": "white",
           "lakecolor": "white",
           "landcolor": "#E5ECF6",
           "showlakes": true,
           "showland": true,
           "subunitcolor": "white"
          },
          "hoverlabel": {
           "align": "left"
          },
          "hovermode": "closest",
          "mapbox": {
           "style": "light"
          },
          "paper_bgcolor": "white",
          "plot_bgcolor": "#E5ECF6",
          "polar": {
           "angularaxis": {
            "gridcolor": "white",
            "linecolor": "white",
            "ticks": ""
           },
           "bgcolor": "#E5ECF6",
           "radialaxis": {
            "gridcolor": "white",
            "linecolor": "white",
            "ticks": ""
           }
          },
          "scene": {
           "xaxis": {
            "backgroundcolor": "#E5ECF6",
            "gridcolor": "white",
            "gridwidth": 2,
            "linecolor": "white",
            "showbackground": true,
            "ticks": "",
            "zerolinecolor": "white"
           },
           "yaxis": {
            "backgroundcolor": "#E5ECF6",
            "gridcolor": "white",
            "gridwidth": 2,
            "linecolor": "white",
            "showbackground": true,
            "ticks": "",
            "zerolinecolor": "white"
           },
           "zaxis": {
            "backgroundcolor": "#E5ECF6",
            "gridcolor": "white",
            "gridwidth": 2,
            "linecolor": "white",
            "showbackground": true,
            "ticks": "",
            "zerolinecolor": "white"
           }
          },
          "shapedefaults": {
           "line": {
            "color": "#2a3f5f"
           }
          },
          "ternary": {
           "aaxis": {
            "gridcolor": "white",
            "linecolor": "white",
            "ticks": ""
           },
           "baxis": {
            "gridcolor": "white",
            "linecolor": "white",
            "ticks": ""
           },
           "bgcolor": "#E5ECF6",
           "caxis": {
            "gridcolor": "white",
            "linecolor": "white",
            "ticks": ""
           }
          },
          "title": {
           "x": 0.05
          },
          "xaxis": {
           "automargin": true,
           "gridcolor": "white",
           "linecolor": "white",
           "ticks": "",
           "title": {
            "standoff": 15
           },
           "zerolinecolor": "white",
           "zerolinewidth": 2
          },
          "yaxis": {
           "automargin": true,
           "gridcolor": "white",
           "linecolor": "white",
           "ticks": "",
           "title": {
            "standoff": 15
           },
           "zerolinecolor": "white",
           "zerolinewidth": 2
          }
         }
        },
        "title": {
         "font": {
          "color": "#4D5663"
         }
        },
        "xaxis": {
         "gridcolor": "#E1E5ED",
         "showgrid": true,
         "tickfont": {
          "color": "#4D5663"
         },
         "title": {
          "font": {
           "color": "#4D5663"
          },
          "text": ""
         },
         "zerolinecolor": "#E1E5ED"
        },
        "yaxis": {
         "gridcolor": "#E1E5ED",
         "showgrid": true,
         "tickfont": {
          "color": "#4D5663"
         },
         "title": {
          "font": {
           "color": "#4D5663"
          },
          "text": ""
         },
         "zerolinecolor": "#E1E5ED"
        }
       }
      },
      "text/html": [
       "<div>                            <div id=\"7ce654e1-30da-4ab6-af3b-f468bbe8464d\" class=\"plotly-graph-div\" style=\"height:525px; width:100%;\"></div>            <script type=\"text/javascript\">                require([\"plotly\"], function(Plotly) {                    window.PLOTLYENV=window.PLOTLYENV || {};\n",
       "                    window.PLOTLYENV.BASE_URL='https://plot.ly';                                    if (document.getElementById(\"7ce654e1-30da-4ab6-af3b-f468bbe8464d\")) {                    Plotly.newPlot(                        \"7ce654e1-30da-4ab6-af3b-f468bbe8464d\",                        [{\"marker\":{\"color\":[\"rgb(255, 153, 51)\",\"rgb(55, 128, 191)\",\"rgb(50, 171, 96)\",\"rgb(128, 0, 128)\",\"rgb(219, 64, 82)\",\"rgb(0, 128, 128)\",\"rgb(255, 255, 51)\",\"rgb(128, 128, 0)\",\"rgb(251, 128, 114)\",\"rgb(128, 177, 211)\"],\"line\":{\"width\":1.3},\"size\":[36,43,44,59,28,72,54,72,48,44,12,93,56,71,53,63,99,32,42,52,47,50,54,71,69,52,46,71,50,46,43,41,46,61,41,92,69,90,40,26,73,70,52,75,75,33,49,32,76,34,55,20,72,18,76,22,35,66,80,67,72,70,34,43,92,39,45,32,94,49,55,45,53,58,21,112,76,63,65,68,50,26,80,84,35,67,87,78,70,65,59,25,53,27,35,59,40,31,83,40],\"symbol\":\"circle\"},\"mode\":\"markers\",\"text\":\"\",\"x\":[-1.3901949841581454,1.069922847106397,0.2055027592448163,-0.1291368074106173,1.1943389288630906,-1.3292319904526035,0.10172609409471008,-0.3221745473763238,-1.0933289223171323,0.8962065258841243,-0.7786362671054254,-0.011645302090516776,0.44924603650584644,-0.8256606600330482,0.4933240135491313,-1.425021249604569,-0.7980154456139854,1.2716639235371983,0.983634830370605,-0.0131853266453508,0.07970050864372122,-1.3183877932587922,-0.06041057639929024,-0.11134888702932266,-2.1499368132801058,-0.5514439544355939,0.3914604681738653,0.8890679991657041,0.28542034976793784,-0.6304761846712792,-0.1878088747248309,0.8889529698002793,0.45778071476476473,-0.12327331670334513,-0.29537435268245876,-0.08960332054704244,0.10432345628202129,0.8461532567992535,0.803601424416993,0.9491203637480421,-0.37765332489133335,-0.38752199701339685,0.8723021363291167,2.1204431464464233,2.0875076710319154,-0.26696339954003034,0.8106619705258042,-0.2214274625076834,-0.7118090777153491,-1.688032206163727,0.6028689425515956,-1.6958500587474632,0.2807016925333527,-1.0509375083617725,0.4448628824772095,1.3435148948892826,0.4203795505337432,-0.7635183838411761,-0.9406507307083636,0.09562761051184446,-1.272869074454918,1.0960340944547309,1.0625238646050967,-0.17771685453414426,1.845712049875227,0.14235070116325824,-0.7941112509036065,1.3529661858705617,0.9804622209996304,1.6876064912058704,-0.670156983203831,-1.3323507004611381,1.3730453556738749,0.7882964598361236,-1.0531434522638672,-0.3146275627267074,-3.0747599634463696,0.7359197646540324,0.3905846088913656,0.7562292950033769,2.0126903623388985,-0.9417501065215361,0.0605632892435693,0.7150989468002216,1.7112704379063017,-0.05141026396406195,0.746287932383283,0.049952739784688345,2.0393266553986016,-0.19115632906252,2.53897699824267,0.06677133714948412,0.18331594429555945,-0.28503842514401506,1.3961232808599877,-2.7523778166341635,0.08231536758941917,1.153297736148488,1.1121083772525953,-1.093043512712841],\"y\":[-0.5913402385474351,1.291121332745925,-1.466747037145677,-0.3322969627060832,0.1187700874875702,-0.24207599262733395,-0.6226001284660565,1.272572536022268,-0.04171014781234873,0.18080898864233078,-1.2586879467504293,-0.5135337558658654,-0.8473200180220722,0.8604218703730332,-1.7856776836306145,-0.5919786283309229,-0.1359138565576188,0.601459009542728,-0.8431732058899216,0.9863151365620875,1.105404116926311,-2.30989555478306,0.6345142872351962,-0.8127965787904066,-1.2339041212978519,0.9146263775285808,-1.070146080674142,-0.2821436508345468,0.21783932695449573,-1.0377114276217354,2.551428546572451,-0.7394626721208684,-0.21305885706846572,-0.9914679216957235,-1.3556255372723736,-0.623899335595533,-1.4508558168496688,-0.9740248766369816,-1.9807426870934963,-0.3173781925508749,-1.8959224489347248,2.0313578713934053,-0.7251622914463774,0.008575265151005882,1.0438778960596895,0.2974943865792594,-0.33413957586703646,0.8044725946533433,-1.737641661567125,0.08412351848049478,1.336762991048388,-2.2746010546139583,-0.12327330870798514,0.821392336743205,0.5264790702487522,2.0717612284105895,0.6576114588811612,-0.41184883862426647,-0.16505253016242047,0.8468452828212563,-1.5274103886728592,0.6571478551011237,0.8391958399037819,-1.6519628230129517,0.012091368496789549,-0.28651555423397385,-0.0334744400687433,0.9048678102827954,0.03883455535784291,-1.369637488107185,-1.7295384107389804,-2.1987599151098713,0.73107072483283,0.9924865836621327,-0.22755603733200772,0.7116799179162969,1.8516026144301145,-0.24928062944149215,-2.27293167085413,1.3784823080181787,0.7086191282068263,1.3877586827610382,-1.1304517131677987,0.6464728780029316,2.070760542940685,-1.4634696830461231,0.6571830263885893,-2.2943196819244234,0.19188186933341375,-1.295083155007402,0.4119242303807797,-1.5338654192597836,0.0729083197894447,-0.5401987615233624,1.2712282833943516,-0.00030327787264339837,-0.3492774061960846,0.5559914807905486,-0.6696434699440698,-0.4733264851114375],\"type\":\"scatter\"}],                        {\"legend\":{\"bgcolor\":\"#F5F6F9\",\"font\":{\"color\":\"#4D5663\"}},\"paper_bgcolor\":\"#F5F6F9\",\"plot_bgcolor\":\"#F5F6F9\",\"template\":{\"data\":{\"barpolar\":[{\"marker\":{\"line\":{\"color\":\"#E5ECF6\",\"width\":0.5},\"pattern\":{\"fillmode\":\"overlay\",\"size\":10,\"solidity\":0.2}},\"type\":\"barpolar\"}],\"bar\":[{\"error_x\":{\"color\":\"#2a3f5f\"},\"error_y\":{\"color\":\"#2a3f5f\"},\"marker\":{\"line\":{\"color\":\"#E5ECF6\",\"width\":0.5},\"pattern\":{\"fillmode\":\"overlay\",\"size\":10,\"solidity\":0.2}},\"type\":\"bar\"}],\"carpet\":[{\"aaxis\":{\"endlinecolor\":\"#2a3f5f\",\"gridcolor\":\"white\",\"linecolor\":\"white\",\"minorgridcolor\":\"white\",\"startlinecolor\":\"#2a3f5f\"},\"baxis\":{\"endlinecolor\":\"#2a3f5f\",\"gridcolor\":\"white\",\"linecolor\":\"white\",\"minorgridcolor\":\"white\",\"startlinecolor\":\"#2a3f5f\"},\"type\":\"carpet\"}],\"choropleth\":[{\"colorbar\":{\"outlinewidth\":0,\"ticks\":\"\"},\"type\":\"choropleth\"}],\"contourcarpet\":[{\"colorbar\":{\"outlinewidth\":0,\"ticks\":\"\"},\"type\":\"contourcarpet\"}],\"contour\":[{\"colorbar\":{\"outlinewidth\":0,\"ticks\":\"\"},\"colorscale\":[[0.0,\"#0d0887\"],[0.1111111111111111,\"#46039f\"],[0.2222222222222222,\"#7201a8\"],[0.3333333333333333,\"#9c179e\"],[0.4444444444444444,\"#bd3786\"],[0.5555555555555556,\"#d8576b\"],[0.6666666666666666,\"#ed7953\"],[0.7777777777777778,\"#fb9f3a\"],[0.8888888888888888,\"#fdca26\"],[1.0,\"#f0f921\"]],\"type\":\"contour\"}],\"heatmapgl\":[{\"colorbar\":{\"outlinewidth\":0,\"ticks\":\"\"},\"colorscale\":[[0.0,\"#0d0887\"],[0.1111111111111111,\"#46039f\"],[0.2222222222222222,\"#7201a8\"],[0.3333333333333333,\"#9c179e\"],[0.4444444444444444,\"#bd3786\"],[0.5555555555555556,\"#d8576b\"],[0.6666666666666666,\"#ed7953\"],[0.7777777777777778,\"#fb9f3a\"],[0.8888888888888888,\"#fdca26\"],[1.0,\"#f0f921\"]],\"type\":\"heatmapgl\"}],\"heatmap\":[{\"colorbar\":{\"outlinewidth\":0,\"ticks\":\"\"},\"colorscale\":[[0.0,\"#0d0887\"],[0.1111111111111111,\"#46039f\"],[0.2222222222222222,\"#7201a8\"],[0.3333333333333333,\"#9c179e\"],[0.4444444444444444,\"#bd3786\"],[0.5555555555555556,\"#d8576b\"],[0.6666666666666666,\"#ed7953\"],[0.7777777777777778,\"#fb9f3a\"],[0.8888888888888888,\"#fdca26\"],[1.0,\"#f0f921\"]],\"type\":\"heatmap\"}],\"histogram2dcontour\":[{\"colorbar\":{\"outlinewidth\":0,\"ticks\":\"\"},\"colorscale\":[[0.0,\"#0d0887\"],[0.1111111111111111,\"#46039f\"],[0.2222222222222222,\"#7201a8\"],[0.3333333333333333,\"#9c179e\"],[0.4444444444444444,\"#bd3786\"],[0.5555555555555556,\"#d8576b\"],[0.6666666666666666,\"#ed7953\"],[0.7777777777777778,\"#fb9f3a\"],[0.8888888888888888,\"#fdca26\"],[1.0,\"#f0f921\"]],\"type\":\"histogram2dcontour\"}],\"histogram2d\":[{\"colorbar\":{\"outlinewidth\":0,\"ticks\":\"\"},\"colorscale\":[[0.0,\"#0d0887\"],[0.1111111111111111,\"#46039f\"],[0.2222222222222222,\"#7201a8\"],[0.3333333333333333,\"#9c179e\"],[0.4444444444444444,\"#bd3786\"],[0.5555555555555556,\"#d8576b\"],[0.6666666666666666,\"#ed7953\"],[0.7777777777777778,\"#fb9f3a\"],[0.8888888888888888,\"#fdca26\"],[1.0,\"#f0f921\"]],\"type\":\"histogram2d\"}],\"histogram\":[{\"marker\":{\"pattern\":{\"fillmode\":\"overlay\",\"size\":10,\"solidity\":0.2}},\"type\":\"histogram\"}],\"mesh3d\":[{\"colorbar\":{\"outlinewidth\":0,\"ticks\":\"\"},\"type\":\"mesh3d\"}],\"parcoords\":[{\"line\":{\"colorbar\":{\"outlinewidth\":0,\"ticks\":\"\"}},\"type\":\"parcoords\"}],\"pie\":[{\"automargin\":true,\"type\":\"pie\"}],\"scatter3d\":[{\"line\":{\"colorbar\":{\"outlinewidth\":0,\"ticks\":\"\"}},\"marker\":{\"colorbar\":{\"outlinewidth\":0,\"ticks\":\"\"}},\"type\":\"scatter3d\"}],\"scattercarpet\":[{\"marker\":{\"colorbar\":{\"outlinewidth\":0,\"ticks\":\"\"}},\"type\":\"scattercarpet\"}],\"scattergeo\":[{\"marker\":{\"colorbar\":{\"outlinewidth\":0,\"ticks\":\"\"}},\"type\":\"scattergeo\"}],\"scattergl\":[{\"marker\":{\"colorbar\":{\"outlinewidth\":0,\"ticks\":\"\"}},\"type\":\"scattergl\"}],\"scattermapbox\":[{\"marker\":{\"colorbar\":{\"outlinewidth\":0,\"ticks\":\"\"}},\"type\":\"scattermapbox\"}],\"scatterpolargl\":[{\"marker\":{\"colorbar\":{\"outlinewidth\":0,\"ticks\":\"\"}},\"type\":\"scatterpolargl\"}],\"scatterpolar\":[{\"marker\":{\"colorbar\":{\"outlinewidth\":0,\"ticks\":\"\"}},\"type\":\"scatterpolar\"}],\"scatter\":[{\"fillpattern\":{\"fillmode\":\"overlay\",\"size\":10,\"solidity\":0.2},\"type\":\"scatter\"}],\"scatterternary\":[{\"marker\":{\"colorbar\":{\"outlinewidth\":0,\"ticks\":\"\"}},\"type\":\"scatterternary\"}],\"surface\":[{\"colorbar\":{\"outlinewidth\":0,\"ticks\":\"\"},\"colorscale\":[[0.0,\"#0d0887\"],[0.1111111111111111,\"#46039f\"],[0.2222222222222222,\"#7201a8\"],[0.3333333333333333,\"#9c179e\"],[0.4444444444444444,\"#bd3786\"],[0.5555555555555556,\"#d8576b\"],[0.6666666666666666,\"#ed7953\"],[0.7777777777777778,\"#fb9f3a\"],[0.8888888888888888,\"#fdca26\"],[1.0,\"#f0f921\"]],\"type\":\"surface\"}],\"table\":[{\"cells\":{\"fill\":{\"color\":\"#EBF0F8\"},\"line\":{\"color\":\"white\"}},\"header\":{\"fill\":{\"color\":\"#C8D4E3\"},\"line\":{\"color\":\"white\"}},\"type\":\"table\"}]},\"layout\":{\"annotationdefaults\":{\"arrowcolor\":\"#2a3f5f\",\"arrowhead\":0,\"arrowwidth\":1},\"autotypenumbers\":\"strict\",\"coloraxis\":{\"colorbar\":{\"outlinewidth\":0,\"ticks\":\"\"}},\"colorscale\":{\"diverging\":[[0,\"#8e0152\"],[0.1,\"#c51b7d\"],[0.2,\"#de77ae\"],[0.3,\"#f1b6da\"],[0.4,\"#fde0ef\"],[0.5,\"#f7f7f7\"],[0.6,\"#e6f5d0\"],[0.7,\"#b8e186\"],[0.8,\"#7fbc41\"],[0.9,\"#4d9221\"],[1,\"#276419\"]],\"sequential\":[[0.0,\"#0d0887\"],[0.1111111111111111,\"#46039f\"],[0.2222222222222222,\"#7201a8\"],[0.3333333333333333,\"#9c179e\"],[0.4444444444444444,\"#bd3786\"],[0.5555555555555556,\"#d8576b\"],[0.6666666666666666,\"#ed7953\"],[0.7777777777777778,\"#fb9f3a\"],[0.8888888888888888,\"#fdca26\"],[1.0,\"#f0f921\"]],\"sequentialminus\":[[0.0,\"#0d0887\"],[0.1111111111111111,\"#46039f\"],[0.2222222222222222,\"#7201a8\"],[0.3333333333333333,\"#9c179e\"],[0.4444444444444444,\"#bd3786\"],[0.5555555555555556,\"#d8576b\"],[0.6666666666666666,\"#ed7953\"],[0.7777777777777778,\"#fb9f3a\"],[0.8888888888888888,\"#fdca26\"],[1.0,\"#f0f921\"]]},\"colorway\":[\"#636efa\",\"#EF553B\",\"#00cc96\",\"#ab63fa\",\"#FFA15A\",\"#19d3f3\",\"#FF6692\",\"#B6E880\",\"#FF97FF\",\"#FECB52\"],\"font\":{\"color\":\"#2a3f5f\"},\"geo\":{\"bgcolor\":\"white\",\"lakecolor\":\"white\",\"landcolor\":\"#E5ECF6\",\"showlakes\":true,\"showland\":true,\"subunitcolor\":\"white\"},\"hoverlabel\":{\"align\":\"left\"},\"hovermode\":\"closest\",\"mapbox\":{\"style\":\"light\"},\"paper_bgcolor\":\"white\",\"plot_bgcolor\":\"#E5ECF6\",\"polar\":{\"angularaxis\":{\"gridcolor\":\"white\",\"linecolor\":\"white\",\"ticks\":\"\"},\"bgcolor\":\"#E5ECF6\",\"radialaxis\":{\"gridcolor\":\"white\",\"linecolor\":\"white\",\"ticks\":\"\"}},\"scene\":{\"xaxis\":{\"backgroundcolor\":\"#E5ECF6\",\"gridcolor\":\"white\",\"gridwidth\":2,\"linecolor\":\"white\",\"showbackground\":true,\"ticks\":\"\",\"zerolinecolor\":\"white\"},\"yaxis\":{\"backgroundcolor\":\"#E5ECF6\",\"gridcolor\":\"white\",\"gridwidth\":2,\"linecolor\":\"white\",\"showbackground\":true,\"ticks\":\"\",\"zerolinecolor\":\"white\"},\"zaxis\":{\"backgroundcolor\":\"#E5ECF6\",\"gridcolor\":\"white\",\"gridwidth\":2,\"linecolor\":\"white\",\"showbackground\":true,\"ticks\":\"\",\"zerolinecolor\":\"white\"}},\"shapedefaults\":{\"line\":{\"color\":\"#2a3f5f\"}},\"ternary\":{\"aaxis\":{\"gridcolor\":\"white\",\"linecolor\":\"white\",\"ticks\":\"\"},\"baxis\":{\"gridcolor\":\"white\",\"linecolor\":\"white\",\"ticks\":\"\"},\"bgcolor\":\"#E5ECF6\",\"caxis\":{\"gridcolor\":\"white\",\"linecolor\":\"white\",\"ticks\":\"\"}},\"title\":{\"x\":0.05},\"xaxis\":{\"automargin\":true,\"gridcolor\":\"white\",\"linecolor\":\"white\",\"ticks\":\"\",\"title\":{\"standoff\":15},\"zerolinecolor\":\"white\",\"zerolinewidth\":2},\"yaxis\":{\"automargin\":true,\"gridcolor\":\"white\",\"linecolor\":\"white\",\"ticks\":\"\",\"title\":{\"standoff\":15},\"zerolinecolor\":\"white\",\"zerolinewidth\":2}}},\"title\":{\"font\":{\"color\":\"#4D5663\"}},\"xaxis\":{\"gridcolor\":\"#E1E5ED\",\"showgrid\":true,\"tickfont\":{\"color\":\"#4D5663\"},\"title\":{\"font\":{\"color\":\"#4D5663\"},\"text\":\"\"},\"zerolinecolor\":\"#E1E5ED\"},\"yaxis\":{\"gridcolor\":\"#E1E5ED\",\"showgrid\":true,\"tickfont\":{\"color\":\"#4D5663\"},\"title\":{\"font\":{\"color\":\"#4D5663\"},\"text\":\"\"},\"zerolinecolor\":\"#E1E5ED\"}},                        {\"showLink\": true, \"linkText\": \"Export to plot.ly\", \"plotlyServerURL\": \"https://plot.ly\", \"responsive\": true}                    ).then(function(){\n",
       "                            \n",
       "var gd = document.getElementById('7ce654e1-30da-4ab6-af3b-f468bbe8464d');\n",
       "var x = new MutationObserver(function (mutations, observer) {{\n",
       "        var display = window.getComputedStyle(gd).display;\n",
       "        if (!display || display === 'none') {{\n",
       "            console.log([gd, 'removed!']);\n",
       "            Plotly.purge(gd);\n",
       "            observer.disconnect();\n",
       "        }}\n",
       "}});\n",
       "\n",
       "// Listen for the removal of the full notebook cells\n",
       "var notebookContainer = gd.closest('#notebook-container');\n",
       "if (notebookContainer) {{\n",
       "    x.observe(notebookContainer, {childList: true});\n",
       "}}\n",
       "\n",
       "// Listen for the clearing of the current output cell\n",
       "var outputEl = gd.closest('.output');\n",
       "if (outputEl) {{\n",
       "    x.observe(outputEl, {childList: true});\n",
       "}}\n",
       "\n",
       "                        })                };                });            </script>        </div>"
      ]
     },
     "metadata": {},
     "output_type": "display_data"
    }
   ],
   "source": [
    "df.iplot(kind='bubble',x='A',y='B',size='C')"
   ]
  },
  {
   "cell_type": "markdown",
   "metadata": {},
   "source": [
    "## scatter_matrix()\n",
    "\n",
    "Similar to sns.pairplot()"
   ]
  },
  {
   "cell_type": "code",
   "execution_count": 35,
   "metadata": {
    "collapsed": false
   },
   "outputs": [
    {
     "data": {
      "application/vnd.plotly.v1+json": {
       "config": {
        "linkText": "Export to plot.ly",
        "plotlyServerURL": "https://plot.ly",
        "showLink": true
       },
       "data": [
        {
         "histfunc": "count",
         "histnorm": "",
         "marker": {
          "color": "rgba(255, 153, 51, 1.0)",
          "line": {
           "color": "#4D5663",
           "width": 1.3
          }
         },
         "name": "A",
         "nbinsx": 10,
         "opacity": 0.8,
         "orientation": "v",
         "type": "histogram",
         "x": [
          -1.3901949841581454,
          1.069922847106397,
          0.2055027592448163,
          -0.1291368074106173,
          1.1943389288630906,
          -1.3292319904526035,
          0.10172609409471008,
          -0.3221745473763238,
          -1.0933289223171323,
          0.8962065258841243,
          -0.7786362671054254,
          -0.011645302090516776,
          0.44924603650584644,
          -0.8256606600330482,
          0.4933240135491313,
          -1.425021249604569,
          -0.7980154456139854,
          1.2716639235371983,
          0.983634830370605,
          -0.0131853266453508,
          0.07970050864372122,
          -1.3183877932587922,
          -0.06041057639929024,
          -0.11134888702932266,
          -2.1499368132801058,
          -0.5514439544355939,
          0.3914604681738653,
          0.8890679991657041,
          0.28542034976793784,
          -0.6304761846712792,
          -0.1878088747248309,
          0.8889529698002793,
          0.45778071476476473,
          -0.12327331670334513,
          -0.29537435268245876,
          -0.08960332054704244,
          0.10432345628202129,
          0.8461532567992535,
          0.803601424416993,
          0.9491203637480421,
          -0.37765332489133335,
          -0.38752199701339685,
          0.8723021363291167,
          2.1204431464464233,
          2.0875076710319154,
          -0.26696339954003034,
          0.8106619705258042,
          -0.2214274625076834,
          -0.7118090777153491,
          -1.688032206163727,
          0.6028689425515956,
          -1.6958500587474632,
          0.2807016925333527,
          -1.0509375083617725,
          0.4448628824772095,
          1.3435148948892826,
          0.4203795505337432,
          -0.7635183838411761,
          -0.9406507307083636,
          0.09562761051184446,
          -1.272869074454918,
          1.0960340944547309,
          1.0625238646050967,
          -0.17771685453414426,
          1.845712049875227,
          0.14235070116325824,
          -0.7941112509036065,
          1.3529661858705617,
          0.9804622209996304,
          1.6876064912058704,
          -0.670156983203831,
          -1.3323507004611381,
          1.3730453556738749,
          0.7882964598361236,
          -1.0531434522638672,
          -0.3146275627267074,
          -3.0747599634463696,
          0.7359197646540324,
          0.3905846088913656,
          0.7562292950033769,
          2.0126903623388985,
          -0.9417501065215361,
          0.0605632892435693,
          0.7150989468002216,
          1.7112704379063017,
          -0.05141026396406195,
          0.746287932383283,
          0.049952739784688345,
          2.0393266553986016,
          -0.19115632906252,
          2.53897699824267,
          0.06677133714948412,
          0.18331594429555945,
          -0.28503842514401506,
          1.3961232808599877,
          -2.7523778166341635,
          0.08231536758941917,
          1.153297736148488,
          1.1121083772525953,
          -1.093043512712841
         ],
         "xaxis": "x",
         "yaxis": "y"
        },
        {
         "line": {
          "color": "rgba(128, 128, 128, 1.0)",
          "dash": "solid",
          "shape": "linear",
          "width": 1.3
         },
         "marker": {
          "size": 2,
          "symbol": "circle"
         },
         "mode": "markers",
         "name": "A",
         "text": "",
         "type": "scatter",
         "x": [
          -0.5913402385474351,
          1.291121332745925,
          -1.466747037145677,
          -0.3322969627060832,
          0.1187700874875702,
          -0.24207599262733395,
          -0.6226001284660565,
          1.272572536022268,
          -0.04171014781234873,
          0.18080898864233078,
          -1.2586879467504293,
          -0.5135337558658654,
          -0.8473200180220722,
          0.8604218703730332,
          -1.7856776836306145,
          -0.5919786283309229,
          -0.1359138565576188,
          0.601459009542728,
          -0.8431732058899216,
          0.9863151365620875,
          1.105404116926311,
          -2.30989555478306,
          0.6345142872351962,
          -0.8127965787904066,
          -1.2339041212978519,
          0.9146263775285808,
          -1.070146080674142,
          -0.2821436508345468,
          0.21783932695449573,
          -1.0377114276217354,
          2.551428546572451,
          -0.7394626721208684,
          -0.21305885706846572,
          -0.9914679216957235,
          -1.3556255372723736,
          -0.623899335595533,
          -1.4508558168496688,
          -0.9740248766369816,
          -1.9807426870934963,
          -0.3173781925508749,
          -1.8959224489347248,
          2.0313578713934053,
          -0.7251622914463774,
          0.008575265151005882,
          1.0438778960596895,
          0.2974943865792594,
          -0.33413957586703646,
          0.8044725946533433,
          -1.737641661567125,
          0.08412351848049478,
          1.336762991048388,
          -2.2746010546139583,
          -0.12327330870798514,
          0.821392336743205,
          0.5264790702487522,
          2.0717612284105895,
          0.6576114588811612,
          -0.41184883862426647,
          -0.16505253016242047,
          0.8468452828212563,
          -1.5274103886728592,
          0.6571478551011237,
          0.8391958399037819,
          -1.6519628230129517,
          0.012091368496789549,
          -0.28651555423397385,
          -0.0334744400687433,
          0.9048678102827954,
          0.03883455535784291,
          -1.369637488107185,
          -1.7295384107389804,
          -2.1987599151098713,
          0.73107072483283,
          0.9924865836621327,
          -0.22755603733200772,
          0.7116799179162969,
          1.8516026144301145,
          -0.24928062944149215,
          -2.27293167085413,
          1.3784823080181787,
          0.7086191282068263,
          1.3877586827610382,
          -1.1304517131677987,
          0.6464728780029316,
          2.070760542940685,
          -1.4634696830461231,
          0.6571830263885893,
          -2.2943196819244234,
          0.19188186933341375,
          -1.295083155007402,
          0.4119242303807797,
          -1.5338654192597836,
          0.0729083197894447,
          -0.5401987615233624,
          1.2712282833943516,
          -0.00030327787264339837,
          -0.3492774061960846,
          0.5559914807905486,
          -0.6696434699440698,
          -0.4733264851114375
         ],
         "xaxis": "x2",
         "y": [
          -1.3901949841581454,
          1.069922847106397,
          0.2055027592448163,
          -0.1291368074106173,
          1.1943389288630906,
          -1.3292319904526035,
          0.10172609409471008,
          -0.3221745473763238,
          -1.0933289223171323,
          0.8962065258841243,
          -0.7786362671054254,
          -0.011645302090516776,
          0.44924603650584644,
          -0.8256606600330482,
          0.4933240135491313,
          -1.425021249604569,
          -0.7980154456139854,
          1.2716639235371983,
          0.983634830370605,
          -0.0131853266453508,
          0.07970050864372122,
          -1.3183877932587922,
          -0.06041057639929024,
          -0.11134888702932266,
          -2.1499368132801058,
          -0.5514439544355939,
          0.3914604681738653,
          0.8890679991657041,
          0.28542034976793784,
          -0.6304761846712792,
          -0.1878088747248309,
          0.8889529698002793,
          0.45778071476476473,
          -0.12327331670334513,
          -0.29537435268245876,
          -0.08960332054704244,
          0.10432345628202129,
          0.8461532567992535,
          0.803601424416993,
          0.9491203637480421,
          -0.37765332489133335,
          -0.38752199701339685,
          0.8723021363291167,
          2.1204431464464233,
          2.0875076710319154,
          -0.26696339954003034,
          0.8106619705258042,
          -0.2214274625076834,
          -0.7118090777153491,
          -1.688032206163727,
          0.6028689425515956,
          -1.6958500587474632,
          0.2807016925333527,
          -1.0509375083617725,
          0.4448628824772095,
          1.3435148948892826,
          0.4203795505337432,
          -0.7635183838411761,
          -0.9406507307083636,
          0.09562761051184446,
          -1.272869074454918,
          1.0960340944547309,
          1.0625238646050967,
          -0.17771685453414426,
          1.845712049875227,
          0.14235070116325824,
          -0.7941112509036065,
          1.3529661858705617,
          0.9804622209996304,
          1.6876064912058704,
          -0.670156983203831,
          -1.3323507004611381,
          1.3730453556738749,
          0.7882964598361236,
          -1.0531434522638672,
          -0.3146275627267074,
          -3.0747599634463696,
          0.7359197646540324,
          0.3905846088913656,
          0.7562292950033769,
          2.0126903623388985,
          -0.9417501065215361,
          0.0605632892435693,
          0.7150989468002216,
          1.7112704379063017,
          -0.05141026396406195,
          0.746287932383283,
          0.049952739784688345,
          2.0393266553986016,
          -0.19115632906252,
          2.53897699824267,
          0.06677133714948412,
          0.18331594429555945,
          -0.28503842514401506,
          1.3961232808599877,
          -2.7523778166341635,
          0.08231536758941917,
          1.153297736148488,
          1.1121083772525953,
          -1.093043512712841
         ],
         "yaxis": "y2"
        },
        {
         "line": {
          "color": "rgba(128, 128, 128, 1.0)",
          "dash": "solid",
          "shape": "linear",
          "width": 1.3
         },
         "marker": {
          "size": 2,
          "symbol": "circle"
         },
         "mode": "markers",
         "name": "A",
         "text": "",
         "type": "scatter",
         "x": [
          -0.785875264835871,
          -0.4166244994772151,
          -0.4012629913852263,
          0.35465776564303464,
          -1.2010715803387078,
          1.010132350569846,
          0.08525021904882284,
          0.9913068992278078,
          -0.20627625694363427,
          -0.39379874099348233,
          -1.9899711853240618,
          2.016902779986095,
          0.21942069768439904,
          0.9653599591543708,
          0.0650012377037777,
          0.5378866524312556,
          2.3117149167340547,
          -0.9952944400819026,
          -0.4906822422944613,
          0.027350439649948162,
          -0.24975107886428458,
          -0.09943026640522272,
          0.1123797297978677,
          0.9658136828196481,
          0.8259171327781375,
          -0.012058481482416512,
          -0.2930854867236735,
          0.9208286718468252,
          -0.08502981603455544,
          -0.29375019676428166,
          -0.4284820514392859,
          -0.5129567946473805,
          -0.29282711700748276,
          0.47092136047578004,
          -0.544370958359331,
          1.9593662159254581,
          0.8379813435248245,
          1.8980392668324881,
          -0.570786792976965,
          -1.2925657743793226,
          1.0274945865679836,
          0.9144373237751301,
          0.02602647005560698,
          1.117134203505103,
          1.1313721906937841,
          -0.954887378617882,
          -0.14066251211986164,
          -0.9863734091076309,
          1.2047248536631938,
          -0.9041105126871736,
          0.16770383911998366,
          -1.5653034756292863,
          0.9835094566234339,
          -1.674801747158713,
          1.2022417086271955,
          -1.4655095098476731,
          -0.8398975121203412,
          0.6885484042103989,
          1.4019715189660475,
          0.7628915097199818,
          0.9824134834001975,
          0.8703114682823871,
          -0.8791191144240288,
          -0.4406355814011222,
          1.9548440405419485,
          -0.6403966417549738,
          -0.3297421993455612,
          -0.9561112489200627,
          2.055600140616719,
          -0.1267334579223654,
          0.13527487498749208,
          -0.3502036685632511,
          0.07978188196264824,
          0.2793091064311869,
          -1.5161061990362936,
          2.938966979435973,
          1.1993617984043197,
          0.5552392402522058,
          0.6446907286033249,
          0.7951349393121572,
          -0.07119184948998257,
          -1.265494120750372,
          1.3671712228716615,
          1.5931754741367044,
          -0.8480960310505018,
          0.7359995323169594,
          1.7367807919619345,
          1.2641557614077659,
          0.9123431560252537,
          0.6599695965653736,
          0.35136142053164515,
          -1.3253365161436161,
          0.06942296767108237,
          -1.2371172251059135,
          -0.8267948125108647,
          0.3569766765432963,
          -0.5854897504987103,
          -1.0130185455299794,
          1.527728465225669,
          -0.5778727496641319
         ],
         "xaxis": "x3",
         "y": [
          -1.3901949841581454,
          1.069922847106397,
          0.2055027592448163,
          -0.1291368074106173,
          1.1943389288630906,
          -1.3292319904526035,
          0.10172609409471008,
          -0.3221745473763238,
          -1.0933289223171323,
          0.8962065258841243,
          -0.7786362671054254,
          -0.011645302090516776,
          0.44924603650584644,
          -0.8256606600330482,
          0.4933240135491313,
          -1.425021249604569,
          -0.7980154456139854,
          1.2716639235371983,
          0.983634830370605,
          -0.0131853266453508,
          0.07970050864372122,
          -1.3183877932587922,
          -0.06041057639929024,
          -0.11134888702932266,
          -2.1499368132801058,
          -0.5514439544355939,
          0.3914604681738653,
          0.8890679991657041,
          0.28542034976793784,
          -0.6304761846712792,
          -0.1878088747248309,
          0.8889529698002793,
          0.45778071476476473,
          -0.12327331670334513,
          -0.29537435268245876,
          -0.08960332054704244,
          0.10432345628202129,
          0.8461532567992535,
          0.803601424416993,
          0.9491203637480421,
          -0.37765332489133335,
          -0.38752199701339685,
          0.8723021363291167,
          2.1204431464464233,
          2.0875076710319154,
          -0.26696339954003034,
          0.8106619705258042,
          -0.2214274625076834,
          -0.7118090777153491,
          -1.688032206163727,
          0.6028689425515956,
          -1.6958500587474632,
          0.2807016925333527,
          -1.0509375083617725,
          0.4448628824772095,
          1.3435148948892826,
          0.4203795505337432,
          -0.7635183838411761,
          -0.9406507307083636,
          0.09562761051184446,
          -1.272869074454918,
          1.0960340944547309,
          1.0625238646050967,
          -0.17771685453414426,
          1.845712049875227,
          0.14235070116325824,
          -0.7941112509036065,
          1.3529661858705617,
          0.9804622209996304,
          1.6876064912058704,
          -0.670156983203831,
          -1.3323507004611381,
          1.3730453556738749,
          0.7882964598361236,
          -1.0531434522638672,
          -0.3146275627267074,
          -3.0747599634463696,
          0.7359197646540324,
          0.3905846088913656,
          0.7562292950033769,
          2.0126903623388985,
          -0.9417501065215361,
          0.0605632892435693,
          0.7150989468002216,
          1.7112704379063017,
          -0.05141026396406195,
          0.746287932383283,
          0.049952739784688345,
          2.0393266553986016,
          -0.19115632906252,
          2.53897699824267,
          0.06677133714948412,
          0.18331594429555945,
          -0.28503842514401506,
          1.3961232808599877,
          -2.7523778166341635,
          0.08231536758941917,
          1.153297736148488,
          1.1121083772525953,
          -1.093043512712841
         ],
         "yaxis": "y3"
        },
        {
         "line": {
          "color": "rgba(128, 128, 128, 1.0)",
          "dash": "solid",
          "shape": "linear",
          "width": 1.3
         },
         "marker": {
          "size": 2,
          "symbol": "circle"
         },
         "mode": "markers",
         "name": "A",
         "text": "",
         "type": "scatter",
         "x": [
          0.6050625689237626,
          -0.5341663568620643,
          -0.6836949044788398,
          0.07150173474630343,
          -0.6750773662024668,
          -0.7617086353343657,
          -0.5773269060577014,
          -0.6722108645091384,
          -0.21365651739078018,
          0.08682729857759316,
          -0.42508350521695254,
          0.6749641896212607,
          -1.235231847370315,
          0.36374581335936285,
          -0.25752850940387695,
          -2.1202163871461845,
          1.520144202197967,
          0.5748406590379539,
          2.1885070807222777,
          -0.5719225757321915,
          -1.2832582246004933,
          -0.795470339504796,
          -1.6144812112086262,
          -0.19476178681763415,
          -0.10823026798575994,
          0.15117885844929885,
          0.23676701823097215,
          0.1517495469501139,
          -0.0920543441173036,
          0.1907696921589052,
          -2.0227169531716775,
          0.4069550950745697,
          1.4073678829529794,
          1.0755130342966395,
          -0.6748849313815257,
          0.7241121487788296,
          0.863553959985662,
          -0.3520551664012393,
          -0.32412544887827355,
          1.958291163488966,
          1.5050110344534935,
          1.0415573936258324,
          2.4188972469130734,
          -0.5008774310667011,
          -1.234654098897178,
          0.8963305952098362,
          -0.9021216405790684,
          -0.6233881300300523,
          0.013337507707671902,
          -0.7730494125701088,
          1.1413394403500947,
          -1.0477589747661205,
          0.05053514181345651,
          -1.2503965871640315,
          1.2211793337128891,
          -1.5094149934599055,
          -1.0160217884134923,
          -0.20349728302467668,
          -0.07854718083733599,
          -0.9272529547141967,
          -0.3712332473269593,
          -1.0522604522758205,
          -1.917465889733078,
          0.2376742492853061,
          1.1519547703116644,
          -1.455124153601072,
          -0.6600537871647677,
          0.6678066605591857,
          -0.02877202928153565,
          -0.7813270767924949,
          -0.8952513220408085,
          -0.9295037537536113,
          0.41091166047020594,
          -0.05955577829210657,
          0.2592170670523021,
          -1.7424928776091053,
          0.23494228555283372,
          1.515295059959739,
          -2.3257581043745423,
          0.6916107794778338,
          0.07264730008617393,
          -2.024982315915042,
          -1.1130599114854702,
          0.7462155936941378,
          -1.1083276458838178,
          -1.3543272378931481,
          -0.0027816881168835636,
          -0.3244374967628371,
          1.3152082281893835,
          -0.35435184207843107,
          -0.9260684667348138,
          0.4217822715272979,
          0.3262246914125725,
          1.552240124004772,
          -0.9848880568637277,
          -0.2534404066650368,
          -0.9301474996295686,
          0.8632693660993879,
          0.36631334405918703,
          -0.41065888156248803
         ],
         "xaxis": "x4",
         "y": [
          -1.3901949841581454,
          1.069922847106397,
          0.2055027592448163,
          -0.1291368074106173,
          1.1943389288630906,
          -1.3292319904526035,
          0.10172609409471008,
          -0.3221745473763238,
          -1.0933289223171323,
          0.8962065258841243,
          -0.7786362671054254,
          -0.011645302090516776,
          0.44924603650584644,
          -0.8256606600330482,
          0.4933240135491313,
          -1.425021249604569,
          -0.7980154456139854,
          1.2716639235371983,
          0.983634830370605,
          -0.0131853266453508,
          0.07970050864372122,
          -1.3183877932587922,
          -0.06041057639929024,
          -0.11134888702932266,
          -2.1499368132801058,
          -0.5514439544355939,
          0.3914604681738653,
          0.8890679991657041,
          0.28542034976793784,
          -0.6304761846712792,
          -0.1878088747248309,
          0.8889529698002793,
          0.45778071476476473,
          -0.12327331670334513,
          -0.29537435268245876,
          -0.08960332054704244,
          0.10432345628202129,
          0.8461532567992535,
          0.803601424416993,
          0.9491203637480421,
          -0.37765332489133335,
          -0.38752199701339685,
          0.8723021363291167,
          2.1204431464464233,
          2.0875076710319154,
          -0.26696339954003034,
          0.8106619705258042,
          -0.2214274625076834,
          -0.7118090777153491,
          -1.688032206163727,
          0.6028689425515956,
          -1.6958500587474632,
          0.2807016925333527,
          -1.0509375083617725,
          0.4448628824772095,
          1.3435148948892826,
          0.4203795505337432,
          -0.7635183838411761,
          -0.9406507307083636,
          0.09562761051184446,
          -1.272869074454918,
          1.0960340944547309,
          1.0625238646050967,
          -0.17771685453414426,
          1.845712049875227,
          0.14235070116325824,
          -0.7941112509036065,
          1.3529661858705617,
          0.9804622209996304,
          1.6876064912058704,
          -0.670156983203831,
          -1.3323507004611381,
          1.3730453556738749,
          0.7882964598361236,
          -1.0531434522638672,
          -0.3146275627267074,
          -3.0747599634463696,
          0.7359197646540324,
          0.3905846088913656,
          0.7562292950033769,
          2.0126903623388985,
          -0.9417501065215361,
          0.0605632892435693,
          0.7150989468002216,
          1.7112704379063017,
          -0.05141026396406195,
          0.746287932383283,
          0.049952739784688345,
          2.0393266553986016,
          -0.19115632906252,
          2.53897699824267,
          0.06677133714948412,
          0.18331594429555945,
          -0.28503842514401506,
          1.3961232808599877,
          -2.7523778166341635,
          0.08231536758941917,
          1.153297736148488,
          1.1121083772525953,
          -1.093043512712841
         ],
         "yaxis": "y4"
        },
        {
         "line": {
          "color": "rgba(128, 128, 128, 1.0)",
          "dash": "solid",
          "shape": "linear",
          "width": 1.3
         },
         "marker": {
          "size": 2,
          "symbol": "circle"
         },
         "mode": "markers",
         "name": "B",
         "text": "",
         "type": "scatter",
         "x": [
          -1.3901949841581454,
          1.069922847106397,
          0.2055027592448163,
          -0.1291368074106173,
          1.1943389288630906,
          -1.3292319904526035,
          0.10172609409471008,
          -0.3221745473763238,
          -1.0933289223171323,
          0.8962065258841243,
          -0.7786362671054254,
          -0.011645302090516776,
          0.44924603650584644,
          -0.8256606600330482,
          0.4933240135491313,
          -1.425021249604569,
          -0.7980154456139854,
          1.2716639235371983,
          0.983634830370605,
          -0.0131853266453508,
          0.07970050864372122,
          -1.3183877932587922,
          -0.06041057639929024,
          -0.11134888702932266,
          -2.1499368132801058,
          -0.5514439544355939,
          0.3914604681738653,
          0.8890679991657041,
          0.28542034976793784,
          -0.6304761846712792,
          -0.1878088747248309,
          0.8889529698002793,
          0.45778071476476473,
          -0.12327331670334513,
          -0.29537435268245876,
          -0.08960332054704244,
          0.10432345628202129,
          0.8461532567992535,
          0.803601424416993,
          0.9491203637480421,
          -0.37765332489133335,
          -0.38752199701339685,
          0.8723021363291167,
          2.1204431464464233,
          2.0875076710319154,
          -0.26696339954003034,
          0.8106619705258042,
          -0.2214274625076834,
          -0.7118090777153491,
          -1.688032206163727,
          0.6028689425515956,
          -1.6958500587474632,
          0.2807016925333527,
          -1.0509375083617725,
          0.4448628824772095,
          1.3435148948892826,
          0.4203795505337432,
          -0.7635183838411761,
          -0.9406507307083636,
          0.09562761051184446,
          -1.272869074454918,
          1.0960340944547309,
          1.0625238646050967,
          -0.17771685453414426,
          1.845712049875227,
          0.14235070116325824,
          -0.7941112509036065,
          1.3529661858705617,
          0.9804622209996304,
          1.6876064912058704,
          -0.670156983203831,
          -1.3323507004611381,
          1.3730453556738749,
          0.7882964598361236,
          -1.0531434522638672,
          -0.3146275627267074,
          -3.0747599634463696,
          0.7359197646540324,
          0.3905846088913656,
          0.7562292950033769,
          2.0126903623388985,
          -0.9417501065215361,
          0.0605632892435693,
          0.7150989468002216,
          1.7112704379063017,
          -0.05141026396406195,
          0.746287932383283,
          0.049952739784688345,
          2.0393266553986016,
          -0.19115632906252,
          2.53897699824267,
          0.06677133714948412,
          0.18331594429555945,
          -0.28503842514401506,
          1.3961232808599877,
          -2.7523778166341635,
          0.08231536758941917,
          1.153297736148488,
          1.1121083772525953,
          -1.093043512712841
         ],
         "xaxis": "x5",
         "y": [
          -0.5913402385474351,
          1.291121332745925,
          -1.466747037145677,
          -0.3322969627060832,
          0.1187700874875702,
          -0.24207599262733395,
          -0.6226001284660565,
          1.272572536022268,
          -0.04171014781234873,
          0.18080898864233078,
          -1.2586879467504293,
          -0.5135337558658654,
          -0.8473200180220722,
          0.8604218703730332,
          -1.7856776836306145,
          -0.5919786283309229,
          -0.1359138565576188,
          0.601459009542728,
          -0.8431732058899216,
          0.9863151365620875,
          1.105404116926311,
          -2.30989555478306,
          0.6345142872351962,
          -0.8127965787904066,
          -1.2339041212978519,
          0.9146263775285808,
          -1.070146080674142,
          -0.2821436508345468,
          0.21783932695449573,
          -1.0377114276217354,
          2.551428546572451,
          -0.7394626721208684,
          -0.21305885706846572,
          -0.9914679216957235,
          -1.3556255372723736,
          -0.623899335595533,
          -1.4508558168496688,
          -0.9740248766369816,
          -1.9807426870934963,
          -0.3173781925508749,
          -1.8959224489347248,
          2.0313578713934053,
          -0.7251622914463774,
          0.008575265151005882,
          1.0438778960596895,
          0.2974943865792594,
          -0.33413957586703646,
          0.8044725946533433,
          -1.737641661567125,
          0.08412351848049478,
          1.336762991048388,
          -2.2746010546139583,
          -0.12327330870798514,
          0.821392336743205,
          0.5264790702487522,
          2.0717612284105895,
          0.6576114588811612,
          -0.41184883862426647,
          -0.16505253016242047,
          0.8468452828212563,
          -1.5274103886728592,
          0.6571478551011237,
          0.8391958399037819,
          -1.6519628230129517,
          0.012091368496789549,
          -0.28651555423397385,
          -0.0334744400687433,
          0.9048678102827954,
          0.03883455535784291,
          -1.369637488107185,
          -1.7295384107389804,
          -2.1987599151098713,
          0.73107072483283,
          0.9924865836621327,
          -0.22755603733200772,
          0.7116799179162969,
          1.8516026144301145,
          -0.24928062944149215,
          -2.27293167085413,
          1.3784823080181787,
          0.7086191282068263,
          1.3877586827610382,
          -1.1304517131677987,
          0.6464728780029316,
          2.070760542940685,
          -1.4634696830461231,
          0.6571830263885893,
          -2.2943196819244234,
          0.19188186933341375,
          -1.295083155007402,
          0.4119242303807797,
          -1.5338654192597836,
          0.0729083197894447,
          -0.5401987615233624,
          1.2712282833943516,
          -0.00030327787264339837,
          -0.3492774061960846,
          0.5559914807905486,
          -0.6696434699440698,
          -0.4733264851114375
         ],
         "yaxis": "y5"
        },
        {
         "histfunc": "count",
         "histnorm": "",
         "marker": {
          "color": "rgba(55, 128, 191, 1.0)",
          "line": {
           "color": "#4D5663",
           "width": 1.3
          }
         },
         "name": "B",
         "nbinsx": 10,
         "opacity": 0.8,
         "orientation": "v",
         "type": "histogram",
         "x": [
          -0.5913402385474351,
          1.291121332745925,
          -1.466747037145677,
          -0.3322969627060832,
          0.1187700874875702,
          -0.24207599262733395,
          -0.6226001284660565,
          1.272572536022268,
          -0.04171014781234873,
          0.18080898864233078,
          -1.2586879467504293,
          -0.5135337558658654,
          -0.8473200180220722,
          0.8604218703730332,
          -1.7856776836306145,
          -0.5919786283309229,
          -0.1359138565576188,
          0.601459009542728,
          -0.8431732058899216,
          0.9863151365620875,
          1.105404116926311,
          -2.30989555478306,
          0.6345142872351962,
          -0.8127965787904066,
          -1.2339041212978519,
          0.9146263775285808,
          -1.070146080674142,
          -0.2821436508345468,
          0.21783932695449573,
          -1.0377114276217354,
          2.551428546572451,
          -0.7394626721208684,
          -0.21305885706846572,
          -0.9914679216957235,
          -1.3556255372723736,
          -0.623899335595533,
          -1.4508558168496688,
          -0.9740248766369816,
          -1.9807426870934963,
          -0.3173781925508749,
          -1.8959224489347248,
          2.0313578713934053,
          -0.7251622914463774,
          0.008575265151005882,
          1.0438778960596895,
          0.2974943865792594,
          -0.33413957586703646,
          0.8044725946533433,
          -1.737641661567125,
          0.08412351848049478,
          1.336762991048388,
          -2.2746010546139583,
          -0.12327330870798514,
          0.821392336743205,
          0.5264790702487522,
          2.0717612284105895,
          0.6576114588811612,
          -0.41184883862426647,
          -0.16505253016242047,
          0.8468452828212563,
          -1.5274103886728592,
          0.6571478551011237,
          0.8391958399037819,
          -1.6519628230129517,
          0.012091368496789549,
          -0.28651555423397385,
          -0.0334744400687433,
          0.9048678102827954,
          0.03883455535784291,
          -1.369637488107185,
          -1.7295384107389804,
          -2.1987599151098713,
          0.73107072483283,
          0.9924865836621327,
          -0.22755603733200772,
          0.7116799179162969,
          1.8516026144301145,
          -0.24928062944149215,
          -2.27293167085413,
          1.3784823080181787,
          0.7086191282068263,
          1.3877586827610382,
          -1.1304517131677987,
          0.6464728780029316,
          2.070760542940685,
          -1.4634696830461231,
          0.6571830263885893,
          -2.2943196819244234,
          0.19188186933341375,
          -1.295083155007402,
          0.4119242303807797,
          -1.5338654192597836,
          0.0729083197894447,
          -0.5401987615233624,
          1.2712282833943516,
          -0.00030327787264339837,
          -0.3492774061960846,
          0.5559914807905486,
          -0.6696434699440698,
          -0.4733264851114375
         ],
         "xaxis": "x6",
         "yaxis": "y6"
        },
        {
         "line": {
          "color": "rgba(128, 128, 128, 1.0)",
          "dash": "solid",
          "shape": "linear",
          "width": 1.3
         },
         "marker": {
          "size": 2,
          "symbol": "circle"
         },
         "mode": "markers",
         "name": "B",
         "text": "",
         "type": "scatter",
         "x": [
          -0.785875264835871,
          -0.4166244994772151,
          -0.4012629913852263,
          0.35465776564303464,
          -1.2010715803387078,
          1.010132350569846,
          0.08525021904882284,
          0.9913068992278078,
          -0.20627625694363427,
          -0.39379874099348233,
          -1.9899711853240618,
          2.016902779986095,
          0.21942069768439904,
          0.9653599591543708,
          0.0650012377037777,
          0.5378866524312556,
          2.3117149167340547,
          -0.9952944400819026,
          -0.4906822422944613,
          0.027350439649948162,
          -0.24975107886428458,
          -0.09943026640522272,
          0.1123797297978677,
          0.9658136828196481,
          0.8259171327781375,
          -0.012058481482416512,
          -0.2930854867236735,
          0.9208286718468252,
          -0.08502981603455544,
          -0.29375019676428166,
          -0.4284820514392859,
          -0.5129567946473805,
          -0.29282711700748276,
          0.47092136047578004,
          -0.544370958359331,
          1.9593662159254581,
          0.8379813435248245,
          1.8980392668324881,
          -0.570786792976965,
          -1.2925657743793226,
          1.0274945865679836,
          0.9144373237751301,
          0.02602647005560698,
          1.117134203505103,
          1.1313721906937841,
          -0.954887378617882,
          -0.14066251211986164,
          -0.9863734091076309,
          1.2047248536631938,
          -0.9041105126871736,
          0.16770383911998366,
          -1.5653034756292863,
          0.9835094566234339,
          -1.674801747158713,
          1.2022417086271955,
          -1.4655095098476731,
          -0.8398975121203412,
          0.6885484042103989,
          1.4019715189660475,
          0.7628915097199818,
          0.9824134834001975,
          0.8703114682823871,
          -0.8791191144240288,
          -0.4406355814011222,
          1.9548440405419485,
          -0.6403966417549738,
          -0.3297421993455612,
          -0.9561112489200627,
          2.055600140616719,
          -0.1267334579223654,
          0.13527487498749208,
          -0.3502036685632511,
          0.07978188196264824,
          0.2793091064311869,
          -1.5161061990362936,
          2.938966979435973,
          1.1993617984043197,
          0.5552392402522058,
          0.6446907286033249,
          0.7951349393121572,
          -0.07119184948998257,
          -1.265494120750372,
          1.3671712228716615,
          1.5931754741367044,
          -0.8480960310505018,
          0.7359995323169594,
          1.7367807919619345,
          1.2641557614077659,
          0.9123431560252537,
          0.6599695965653736,
          0.35136142053164515,
          -1.3253365161436161,
          0.06942296767108237,
          -1.2371172251059135,
          -0.8267948125108647,
          0.3569766765432963,
          -0.5854897504987103,
          -1.0130185455299794,
          1.527728465225669,
          -0.5778727496641319
         ],
         "xaxis": "x7",
         "y": [
          -0.5913402385474351,
          1.291121332745925,
          -1.466747037145677,
          -0.3322969627060832,
          0.1187700874875702,
          -0.24207599262733395,
          -0.6226001284660565,
          1.272572536022268,
          -0.04171014781234873,
          0.18080898864233078,
          -1.2586879467504293,
          -0.5135337558658654,
          -0.8473200180220722,
          0.8604218703730332,
          -1.7856776836306145,
          -0.5919786283309229,
          -0.1359138565576188,
          0.601459009542728,
          -0.8431732058899216,
          0.9863151365620875,
          1.105404116926311,
          -2.30989555478306,
          0.6345142872351962,
          -0.8127965787904066,
          -1.2339041212978519,
          0.9146263775285808,
          -1.070146080674142,
          -0.2821436508345468,
          0.21783932695449573,
          -1.0377114276217354,
          2.551428546572451,
          -0.7394626721208684,
          -0.21305885706846572,
          -0.9914679216957235,
          -1.3556255372723736,
          -0.623899335595533,
          -1.4508558168496688,
          -0.9740248766369816,
          -1.9807426870934963,
          -0.3173781925508749,
          -1.8959224489347248,
          2.0313578713934053,
          -0.7251622914463774,
          0.008575265151005882,
          1.0438778960596895,
          0.2974943865792594,
          -0.33413957586703646,
          0.8044725946533433,
          -1.737641661567125,
          0.08412351848049478,
          1.336762991048388,
          -2.2746010546139583,
          -0.12327330870798514,
          0.821392336743205,
          0.5264790702487522,
          2.0717612284105895,
          0.6576114588811612,
          -0.41184883862426647,
          -0.16505253016242047,
          0.8468452828212563,
          -1.5274103886728592,
          0.6571478551011237,
          0.8391958399037819,
          -1.6519628230129517,
          0.012091368496789549,
          -0.28651555423397385,
          -0.0334744400687433,
          0.9048678102827954,
          0.03883455535784291,
          -1.369637488107185,
          -1.7295384107389804,
          -2.1987599151098713,
          0.73107072483283,
          0.9924865836621327,
          -0.22755603733200772,
          0.7116799179162969,
          1.8516026144301145,
          -0.24928062944149215,
          -2.27293167085413,
          1.3784823080181787,
          0.7086191282068263,
          1.3877586827610382,
          -1.1304517131677987,
          0.6464728780029316,
          2.070760542940685,
          -1.4634696830461231,
          0.6571830263885893,
          -2.2943196819244234,
          0.19188186933341375,
          -1.295083155007402,
          0.4119242303807797,
          -1.5338654192597836,
          0.0729083197894447,
          -0.5401987615233624,
          1.2712282833943516,
          -0.00030327787264339837,
          -0.3492774061960846,
          0.5559914807905486,
          -0.6696434699440698,
          -0.4733264851114375
         ],
         "yaxis": "y7"
        },
        {
         "line": {
          "color": "rgba(128, 128, 128, 1.0)",
          "dash": "solid",
          "shape": "linear",
          "width": 1.3
         },
         "marker": {
          "size": 2,
          "symbol": "circle"
         },
         "mode": "markers",
         "name": "B",
         "text": "",
         "type": "scatter",
         "x": [
          0.6050625689237626,
          -0.5341663568620643,
          -0.6836949044788398,
          0.07150173474630343,
          -0.6750773662024668,
          -0.7617086353343657,
          -0.5773269060577014,
          -0.6722108645091384,
          -0.21365651739078018,
          0.08682729857759316,
          -0.42508350521695254,
          0.6749641896212607,
          -1.235231847370315,
          0.36374581335936285,
          -0.25752850940387695,
          -2.1202163871461845,
          1.520144202197967,
          0.5748406590379539,
          2.1885070807222777,
          -0.5719225757321915,
          -1.2832582246004933,
          -0.795470339504796,
          -1.6144812112086262,
          -0.19476178681763415,
          -0.10823026798575994,
          0.15117885844929885,
          0.23676701823097215,
          0.1517495469501139,
          -0.0920543441173036,
          0.1907696921589052,
          -2.0227169531716775,
          0.4069550950745697,
          1.4073678829529794,
          1.0755130342966395,
          -0.6748849313815257,
          0.7241121487788296,
          0.863553959985662,
          -0.3520551664012393,
          -0.32412544887827355,
          1.958291163488966,
          1.5050110344534935,
          1.0415573936258324,
          2.4188972469130734,
          -0.5008774310667011,
          -1.234654098897178,
          0.8963305952098362,
          -0.9021216405790684,
          -0.6233881300300523,
          0.013337507707671902,
          -0.7730494125701088,
          1.1413394403500947,
          -1.0477589747661205,
          0.05053514181345651,
          -1.2503965871640315,
          1.2211793337128891,
          -1.5094149934599055,
          -1.0160217884134923,
          -0.20349728302467668,
          -0.07854718083733599,
          -0.9272529547141967,
          -0.3712332473269593,
          -1.0522604522758205,
          -1.917465889733078,
          0.2376742492853061,
          1.1519547703116644,
          -1.455124153601072,
          -0.6600537871647677,
          0.6678066605591857,
          -0.02877202928153565,
          -0.7813270767924949,
          -0.8952513220408085,
          -0.9295037537536113,
          0.41091166047020594,
          -0.05955577829210657,
          0.2592170670523021,
          -1.7424928776091053,
          0.23494228555283372,
          1.515295059959739,
          -2.3257581043745423,
          0.6916107794778338,
          0.07264730008617393,
          -2.024982315915042,
          -1.1130599114854702,
          0.7462155936941378,
          -1.1083276458838178,
          -1.3543272378931481,
          -0.0027816881168835636,
          -0.3244374967628371,
          1.3152082281893835,
          -0.35435184207843107,
          -0.9260684667348138,
          0.4217822715272979,
          0.3262246914125725,
          1.552240124004772,
          -0.9848880568637277,
          -0.2534404066650368,
          -0.9301474996295686,
          0.8632693660993879,
          0.36631334405918703,
          -0.41065888156248803
         ],
         "xaxis": "x8",
         "y": [
          -0.5913402385474351,
          1.291121332745925,
          -1.466747037145677,
          -0.3322969627060832,
          0.1187700874875702,
          -0.24207599262733395,
          -0.6226001284660565,
          1.272572536022268,
          -0.04171014781234873,
          0.18080898864233078,
          -1.2586879467504293,
          -0.5135337558658654,
          -0.8473200180220722,
          0.8604218703730332,
          -1.7856776836306145,
          -0.5919786283309229,
          -0.1359138565576188,
          0.601459009542728,
          -0.8431732058899216,
          0.9863151365620875,
          1.105404116926311,
          -2.30989555478306,
          0.6345142872351962,
          -0.8127965787904066,
          -1.2339041212978519,
          0.9146263775285808,
          -1.070146080674142,
          -0.2821436508345468,
          0.21783932695449573,
          -1.0377114276217354,
          2.551428546572451,
          -0.7394626721208684,
          -0.21305885706846572,
          -0.9914679216957235,
          -1.3556255372723736,
          -0.623899335595533,
          -1.4508558168496688,
          -0.9740248766369816,
          -1.9807426870934963,
          -0.3173781925508749,
          -1.8959224489347248,
          2.0313578713934053,
          -0.7251622914463774,
          0.008575265151005882,
          1.0438778960596895,
          0.2974943865792594,
          -0.33413957586703646,
          0.8044725946533433,
          -1.737641661567125,
          0.08412351848049478,
          1.336762991048388,
          -2.2746010546139583,
          -0.12327330870798514,
          0.821392336743205,
          0.5264790702487522,
          2.0717612284105895,
          0.6576114588811612,
          -0.41184883862426647,
          -0.16505253016242047,
          0.8468452828212563,
          -1.5274103886728592,
          0.6571478551011237,
          0.8391958399037819,
          -1.6519628230129517,
          0.012091368496789549,
          -0.28651555423397385,
          -0.0334744400687433,
          0.9048678102827954,
          0.03883455535784291,
          -1.369637488107185,
          -1.7295384107389804,
          -2.1987599151098713,
          0.73107072483283,
          0.9924865836621327,
          -0.22755603733200772,
          0.7116799179162969,
          1.8516026144301145,
          -0.24928062944149215,
          -2.27293167085413,
          1.3784823080181787,
          0.7086191282068263,
          1.3877586827610382,
          -1.1304517131677987,
          0.6464728780029316,
          2.070760542940685,
          -1.4634696830461231,
          0.6571830263885893,
          -2.2943196819244234,
          0.19188186933341375,
          -1.295083155007402,
          0.4119242303807797,
          -1.5338654192597836,
          0.0729083197894447,
          -0.5401987615233624,
          1.2712282833943516,
          -0.00030327787264339837,
          -0.3492774061960846,
          0.5559914807905486,
          -0.6696434699440698,
          -0.4733264851114375
         ],
         "yaxis": "y8"
        },
        {
         "line": {
          "color": "rgba(128, 128, 128, 1.0)",
          "dash": "solid",
          "shape": "linear",
          "width": 1.3
         },
         "marker": {
          "size": 2,
          "symbol": "circle"
         },
         "mode": "markers",
         "name": "C",
         "text": "",
         "type": "scatter",
         "x": [
          -1.3901949841581454,
          1.069922847106397,
          0.2055027592448163,
          -0.1291368074106173,
          1.1943389288630906,
          -1.3292319904526035,
          0.10172609409471008,
          -0.3221745473763238,
          -1.0933289223171323,
          0.8962065258841243,
          -0.7786362671054254,
          -0.011645302090516776,
          0.44924603650584644,
          -0.8256606600330482,
          0.4933240135491313,
          -1.425021249604569,
          -0.7980154456139854,
          1.2716639235371983,
          0.983634830370605,
          -0.0131853266453508,
          0.07970050864372122,
          -1.3183877932587922,
          -0.06041057639929024,
          -0.11134888702932266,
          -2.1499368132801058,
          -0.5514439544355939,
          0.3914604681738653,
          0.8890679991657041,
          0.28542034976793784,
          -0.6304761846712792,
          -0.1878088747248309,
          0.8889529698002793,
          0.45778071476476473,
          -0.12327331670334513,
          -0.29537435268245876,
          -0.08960332054704244,
          0.10432345628202129,
          0.8461532567992535,
          0.803601424416993,
          0.9491203637480421,
          -0.37765332489133335,
          -0.38752199701339685,
          0.8723021363291167,
          2.1204431464464233,
          2.0875076710319154,
          -0.26696339954003034,
          0.8106619705258042,
          -0.2214274625076834,
          -0.7118090777153491,
          -1.688032206163727,
          0.6028689425515956,
          -1.6958500587474632,
          0.2807016925333527,
          -1.0509375083617725,
          0.4448628824772095,
          1.3435148948892826,
          0.4203795505337432,
          -0.7635183838411761,
          -0.9406507307083636,
          0.09562761051184446,
          -1.272869074454918,
          1.0960340944547309,
          1.0625238646050967,
          -0.17771685453414426,
          1.845712049875227,
          0.14235070116325824,
          -0.7941112509036065,
          1.3529661858705617,
          0.9804622209996304,
          1.6876064912058704,
          -0.670156983203831,
          -1.3323507004611381,
          1.3730453556738749,
          0.7882964598361236,
          -1.0531434522638672,
          -0.3146275627267074,
          -3.0747599634463696,
          0.7359197646540324,
          0.3905846088913656,
          0.7562292950033769,
          2.0126903623388985,
          -0.9417501065215361,
          0.0605632892435693,
          0.7150989468002216,
          1.7112704379063017,
          -0.05141026396406195,
          0.746287932383283,
          0.049952739784688345,
          2.0393266553986016,
          -0.19115632906252,
          2.53897699824267,
          0.06677133714948412,
          0.18331594429555945,
          -0.28503842514401506,
          1.3961232808599877,
          -2.7523778166341635,
          0.08231536758941917,
          1.153297736148488,
          1.1121083772525953,
          -1.093043512712841
         ],
         "xaxis": "x9",
         "y": [
          -0.785875264835871,
          -0.4166244994772151,
          -0.4012629913852263,
          0.35465776564303464,
          -1.2010715803387078,
          1.010132350569846,
          0.08525021904882284,
          0.9913068992278078,
          -0.20627625694363427,
          -0.39379874099348233,
          -1.9899711853240618,
          2.016902779986095,
          0.21942069768439904,
          0.9653599591543708,
          0.0650012377037777,
          0.5378866524312556,
          2.3117149167340547,
          -0.9952944400819026,
          -0.4906822422944613,
          0.027350439649948162,
          -0.24975107886428458,
          -0.09943026640522272,
          0.1123797297978677,
          0.9658136828196481,
          0.8259171327781375,
          -0.012058481482416512,
          -0.2930854867236735,
          0.9208286718468252,
          -0.08502981603455544,
          -0.29375019676428166,
          -0.4284820514392859,
          -0.5129567946473805,
          -0.29282711700748276,
          0.47092136047578004,
          -0.544370958359331,
          1.9593662159254581,
          0.8379813435248245,
          1.8980392668324881,
          -0.570786792976965,
          -1.2925657743793226,
          1.0274945865679836,
          0.9144373237751301,
          0.02602647005560698,
          1.117134203505103,
          1.1313721906937841,
          -0.954887378617882,
          -0.14066251211986164,
          -0.9863734091076309,
          1.2047248536631938,
          -0.9041105126871736,
          0.16770383911998366,
          -1.5653034756292863,
          0.9835094566234339,
          -1.674801747158713,
          1.2022417086271955,
          -1.4655095098476731,
          -0.8398975121203412,
          0.6885484042103989,
          1.4019715189660475,
          0.7628915097199818,
          0.9824134834001975,
          0.8703114682823871,
          -0.8791191144240288,
          -0.4406355814011222,
          1.9548440405419485,
          -0.6403966417549738,
          -0.3297421993455612,
          -0.9561112489200627,
          2.055600140616719,
          -0.1267334579223654,
          0.13527487498749208,
          -0.3502036685632511,
          0.07978188196264824,
          0.2793091064311869,
          -1.5161061990362936,
          2.938966979435973,
          1.1993617984043197,
          0.5552392402522058,
          0.6446907286033249,
          0.7951349393121572,
          -0.07119184948998257,
          -1.265494120750372,
          1.3671712228716615,
          1.5931754741367044,
          -0.8480960310505018,
          0.7359995323169594,
          1.7367807919619345,
          1.2641557614077659,
          0.9123431560252537,
          0.6599695965653736,
          0.35136142053164515,
          -1.3253365161436161,
          0.06942296767108237,
          -1.2371172251059135,
          -0.8267948125108647,
          0.3569766765432963,
          -0.5854897504987103,
          -1.0130185455299794,
          1.527728465225669,
          -0.5778727496641319
         ],
         "yaxis": "y9"
        },
        {
         "line": {
          "color": "rgba(128, 128, 128, 1.0)",
          "dash": "solid",
          "shape": "linear",
          "width": 1.3
         },
         "marker": {
          "size": 2,
          "symbol": "circle"
         },
         "mode": "markers",
         "name": "C",
         "text": "",
         "type": "scatter",
         "x": [
          -0.5913402385474351,
          1.291121332745925,
          -1.466747037145677,
          -0.3322969627060832,
          0.1187700874875702,
          -0.24207599262733395,
          -0.6226001284660565,
          1.272572536022268,
          -0.04171014781234873,
          0.18080898864233078,
          -1.2586879467504293,
          -0.5135337558658654,
          -0.8473200180220722,
          0.8604218703730332,
          -1.7856776836306145,
          -0.5919786283309229,
          -0.1359138565576188,
          0.601459009542728,
          -0.8431732058899216,
          0.9863151365620875,
          1.105404116926311,
          -2.30989555478306,
          0.6345142872351962,
          -0.8127965787904066,
          -1.2339041212978519,
          0.9146263775285808,
          -1.070146080674142,
          -0.2821436508345468,
          0.21783932695449573,
          -1.0377114276217354,
          2.551428546572451,
          -0.7394626721208684,
          -0.21305885706846572,
          -0.9914679216957235,
          -1.3556255372723736,
          -0.623899335595533,
          -1.4508558168496688,
          -0.9740248766369816,
          -1.9807426870934963,
          -0.3173781925508749,
          -1.8959224489347248,
          2.0313578713934053,
          -0.7251622914463774,
          0.008575265151005882,
          1.0438778960596895,
          0.2974943865792594,
          -0.33413957586703646,
          0.8044725946533433,
          -1.737641661567125,
          0.08412351848049478,
          1.336762991048388,
          -2.2746010546139583,
          -0.12327330870798514,
          0.821392336743205,
          0.5264790702487522,
          2.0717612284105895,
          0.6576114588811612,
          -0.41184883862426647,
          -0.16505253016242047,
          0.8468452828212563,
          -1.5274103886728592,
          0.6571478551011237,
          0.8391958399037819,
          -1.6519628230129517,
          0.012091368496789549,
          -0.28651555423397385,
          -0.0334744400687433,
          0.9048678102827954,
          0.03883455535784291,
          -1.369637488107185,
          -1.7295384107389804,
          -2.1987599151098713,
          0.73107072483283,
          0.9924865836621327,
          -0.22755603733200772,
          0.7116799179162969,
          1.8516026144301145,
          -0.24928062944149215,
          -2.27293167085413,
          1.3784823080181787,
          0.7086191282068263,
          1.3877586827610382,
          -1.1304517131677987,
          0.6464728780029316,
          2.070760542940685,
          -1.4634696830461231,
          0.6571830263885893,
          -2.2943196819244234,
          0.19188186933341375,
          -1.295083155007402,
          0.4119242303807797,
          -1.5338654192597836,
          0.0729083197894447,
          -0.5401987615233624,
          1.2712282833943516,
          -0.00030327787264339837,
          -0.3492774061960846,
          0.5559914807905486,
          -0.6696434699440698,
          -0.4733264851114375
         ],
         "xaxis": "x10",
         "y": [
          -0.785875264835871,
          -0.4166244994772151,
          -0.4012629913852263,
          0.35465776564303464,
          -1.2010715803387078,
          1.010132350569846,
          0.08525021904882284,
          0.9913068992278078,
          -0.20627625694363427,
          -0.39379874099348233,
          -1.9899711853240618,
          2.016902779986095,
          0.21942069768439904,
          0.9653599591543708,
          0.0650012377037777,
          0.5378866524312556,
          2.3117149167340547,
          -0.9952944400819026,
          -0.4906822422944613,
          0.027350439649948162,
          -0.24975107886428458,
          -0.09943026640522272,
          0.1123797297978677,
          0.9658136828196481,
          0.8259171327781375,
          -0.012058481482416512,
          -0.2930854867236735,
          0.9208286718468252,
          -0.08502981603455544,
          -0.29375019676428166,
          -0.4284820514392859,
          -0.5129567946473805,
          -0.29282711700748276,
          0.47092136047578004,
          -0.544370958359331,
          1.9593662159254581,
          0.8379813435248245,
          1.8980392668324881,
          -0.570786792976965,
          -1.2925657743793226,
          1.0274945865679836,
          0.9144373237751301,
          0.02602647005560698,
          1.117134203505103,
          1.1313721906937841,
          -0.954887378617882,
          -0.14066251211986164,
          -0.9863734091076309,
          1.2047248536631938,
          -0.9041105126871736,
          0.16770383911998366,
          -1.5653034756292863,
          0.9835094566234339,
          -1.674801747158713,
          1.2022417086271955,
          -1.4655095098476731,
          -0.8398975121203412,
          0.6885484042103989,
          1.4019715189660475,
          0.7628915097199818,
          0.9824134834001975,
          0.8703114682823871,
          -0.8791191144240288,
          -0.4406355814011222,
          1.9548440405419485,
          -0.6403966417549738,
          -0.3297421993455612,
          -0.9561112489200627,
          2.055600140616719,
          -0.1267334579223654,
          0.13527487498749208,
          -0.3502036685632511,
          0.07978188196264824,
          0.2793091064311869,
          -1.5161061990362936,
          2.938966979435973,
          1.1993617984043197,
          0.5552392402522058,
          0.6446907286033249,
          0.7951349393121572,
          -0.07119184948998257,
          -1.265494120750372,
          1.3671712228716615,
          1.5931754741367044,
          -0.8480960310505018,
          0.7359995323169594,
          1.7367807919619345,
          1.2641557614077659,
          0.9123431560252537,
          0.6599695965653736,
          0.35136142053164515,
          -1.3253365161436161,
          0.06942296767108237,
          -1.2371172251059135,
          -0.8267948125108647,
          0.3569766765432963,
          -0.5854897504987103,
          -1.0130185455299794,
          1.527728465225669,
          -0.5778727496641319
         ],
         "yaxis": "y10"
        },
        {
         "histfunc": "count",
         "histnorm": "",
         "marker": {
          "color": "rgba(50, 171, 96, 1.0)",
          "line": {
           "color": "#4D5663",
           "width": 1.3
          }
         },
         "name": "C",
         "nbinsx": 10,
         "opacity": 0.8,
         "orientation": "v",
         "type": "histogram",
         "x": [
          -0.785875264835871,
          -0.4166244994772151,
          -0.4012629913852263,
          0.35465776564303464,
          -1.2010715803387078,
          1.010132350569846,
          0.08525021904882284,
          0.9913068992278078,
          -0.20627625694363427,
          -0.39379874099348233,
          -1.9899711853240618,
          2.016902779986095,
          0.21942069768439904,
          0.9653599591543708,
          0.0650012377037777,
          0.5378866524312556,
          2.3117149167340547,
          -0.9952944400819026,
          -0.4906822422944613,
          0.027350439649948162,
          -0.24975107886428458,
          -0.09943026640522272,
          0.1123797297978677,
          0.9658136828196481,
          0.8259171327781375,
          -0.012058481482416512,
          -0.2930854867236735,
          0.9208286718468252,
          -0.08502981603455544,
          -0.29375019676428166,
          -0.4284820514392859,
          -0.5129567946473805,
          -0.29282711700748276,
          0.47092136047578004,
          -0.544370958359331,
          1.9593662159254581,
          0.8379813435248245,
          1.8980392668324881,
          -0.570786792976965,
          -1.2925657743793226,
          1.0274945865679836,
          0.9144373237751301,
          0.02602647005560698,
          1.117134203505103,
          1.1313721906937841,
          -0.954887378617882,
          -0.14066251211986164,
          -0.9863734091076309,
          1.2047248536631938,
          -0.9041105126871736,
          0.16770383911998366,
          -1.5653034756292863,
          0.9835094566234339,
          -1.674801747158713,
          1.2022417086271955,
          -1.4655095098476731,
          -0.8398975121203412,
          0.6885484042103989,
          1.4019715189660475,
          0.7628915097199818,
          0.9824134834001975,
          0.8703114682823871,
          -0.8791191144240288,
          -0.4406355814011222,
          1.9548440405419485,
          -0.6403966417549738,
          -0.3297421993455612,
          -0.9561112489200627,
          2.055600140616719,
          -0.1267334579223654,
          0.13527487498749208,
          -0.3502036685632511,
          0.07978188196264824,
          0.2793091064311869,
          -1.5161061990362936,
          2.938966979435973,
          1.1993617984043197,
          0.5552392402522058,
          0.6446907286033249,
          0.7951349393121572,
          -0.07119184948998257,
          -1.265494120750372,
          1.3671712228716615,
          1.5931754741367044,
          -0.8480960310505018,
          0.7359995323169594,
          1.7367807919619345,
          1.2641557614077659,
          0.9123431560252537,
          0.6599695965653736,
          0.35136142053164515,
          -1.3253365161436161,
          0.06942296767108237,
          -1.2371172251059135,
          -0.8267948125108647,
          0.3569766765432963,
          -0.5854897504987103,
          -1.0130185455299794,
          1.527728465225669,
          -0.5778727496641319
         ],
         "xaxis": "x11",
         "yaxis": "y11"
        },
        {
         "line": {
          "color": "rgba(128, 128, 128, 1.0)",
          "dash": "solid",
          "shape": "linear",
          "width": 1.3
         },
         "marker": {
          "size": 2,
          "symbol": "circle"
         },
         "mode": "markers",
         "name": "C",
         "text": "",
         "type": "scatter",
         "x": [
          0.6050625689237626,
          -0.5341663568620643,
          -0.6836949044788398,
          0.07150173474630343,
          -0.6750773662024668,
          -0.7617086353343657,
          -0.5773269060577014,
          -0.6722108645091384,
          -0.21365651739078018,
          0.08682729857759316,
          -0.42508350521695254,
          0.6749641896212607,
          -1.235231847370315,
          0.36374581335936285,
          -0.25752850940387695,
          -2.1202163871461845,
          1.520144202197967,
          0.5748406590379539,
          2.1885070807222777,
          -0.5719225757321915,
          -1.2832582246004933,
          -0.795470339504796,
          -1.6144812112086262,
          -0.19476178681763415,
          -0.10823026798575994,
          0.15117885844929885,
          0.23676701823097215,
          0.1517495469501139,
          -0.0920543441173036,
          0.1907696921589052,
          -2.0227169531716775,
          0.4069550950745697,
          1.4073678829529794,
          1.0755130342966395,
          -0.6748849313815257,
          0.7241121487788296,
          0.863553959985662,
          -0.3520551664012393,
          -0.32412544887827355,
          1.958291163488966,
          1.5050110344534935,
          1.0415573936258324,
          2.4188972469130734,
          -0.5008774310667011,
          -1.234654098897178,
          0.8963305952098362,
          -0.9021216405790684,
          -0.6233881300300523,
          0.013337507707671902,
          -0.7730494125701088,
          1.1413394403500947,
          -1.0477589747661205,
          0.05053514181345651,
          -1.2503965871640315,
          1.2211793337128891,
          -1.5094149934599055,
          -1.0160217884134923,
          -0.20349728302467668,
          -0.07854718083733599,
          -0.9272529547141967,
          -0.3712332473269593,
          -1.0522604522758205,
          -1.917465889733078,
          0.2376742492853061,
          1.1519547703116644,
          -1.455124153601072,
          -0.6600537871647677,
          0.6678066605591857,
          -0.02877202928153565,
          -0.7813270767924949,
          -0.8952513220408085,
          -0.9295037537536113,
          0.41091166047020594,
          -0.05955577829210657,
          0.2592170670523021,
          -1.7424928776091053,
          0.23494228555283372,
          1.515295059959739,
          -2.3257581043745423,
          0.6916107794778338,
          0.07264730008617393,
          -2.024982315915042,
          -1.1130599114854702,
          0.7462155936941378,
          -1.1083276458838178,
          -1.3543272378931481,
          -0.0027816881168835636,
          -0.3244374967628371,
          1.3152082281893835,
          -0.35435184207843107,
          -0.9260684667348138,
          0.4217822715272979,
          0.3262246914125725,
          1.552240124004772,
          -0.9848880568637277,
          -0.2534404066650368,
          -0.9301474996295686,
          0.8632693660993879,
          0.36631334405918703,
          -0.41065888156248803
         ],
         "xaxis": "x12",
         "y": [
          -0.785875264835871,
          -0.4166244994772151,
          -0.4012629913852263,
          0.35465776564303464,
          -1.2010715803387078,
          1.010132350569846,
          0.08525021904882284,
          0.9913068992278078,
          -0.20627625694363427,
          -0.39379874099348233,
          -1.9899711853240618,
          2.016902779986095,
          0.21942069768439904,
          0.9653599591543708,
          0.0650012377037777,
          0.5378866524312556,
          2.3117149167340547,
          -0.9952944400819026,
          -0.4906822422944613,
          0.027350439649948162,
          -0.24975107886428458,
          -0.09943026640522272,
          0.1123797297978677,
          0.9658136828196481,
          0.8259171327781375,
          -0.012058481482416512,
          -0.2930854867236735,
          0.9208286718468252,
          -0.08502981603455544,
          -0.29375019676428166,
          -0.4284820514392859,
          -0.5129567946473805,
          -0.29282711700748276,
          0.47092136047578004,
          -0.544370958359331,
          1.9593662159254581,
          0.8379813435248245,
          1.8980392668324881,
          -0.570786792976965,
          -1.2925657743793226,
          1.0274945865679836,
          0.9144373237751301,
          0.02602647005560698,
          1.117134203505103,
          1.1313721906937841,
          -0.954887378617882,
          -0.14066251211986164,
          -0.9863734091076309,
          1.2047248536631938,
          -0.9041105126871736,
          0.16770383911998366,
          -1.5653034756292863,
          0.9835094566234339,
          -1.674801747158713,
          1.2022417086271955,
          -1.4655095098476731,
          -0.8398975121203412,
          0.6885484042103989,
          1.4019715189660475,
          0.7628915097199818,
          0.9824134834001975,
          0.8703114682823871,
          -0.8791191144240288,
          -0.4406355814011222,
          1.9548440405419485,
          -0.6403966417549738,
          -0.3297421993455612,
          -0.9561112489200627,
          2.055600140616719,
          -0.1267334579223654,
          0.13527487498749208,
          -0.3502036685632511,
          0.07978188196264824,
          0.2793091064311869,
          -1.5161061990362936,
          2.938966979435973,
          1.1993617984043197,
          0.5552392402522058,
          0.6446907286033249,
          0.7951349393121572,
          -0.07119184948998257,
          -1.265494120750372,
          1.3671712228716615,
          1.5931754741367044,
          -0.8480960310505018,
          0.7359995323169594,
          1.7367807919619345,
          1.2641557614077659,
          0.9123431560252537,
          0.6599695965653736,
          0.35136142053164515,
          -1.3253365161436161,
          0.06942296767108237,
          -1.2371172251059135,
          -0.8267948125108647,
          0.3569766765432963,
          -0.5854897504987103,
          -1.0130185455299794,
          1.527728465225669,
          -0.5778727496641319
         ],
         "yaxis": "y12"
        },
        {
         "line": {
          "color": "rgba(128, 128, 128, 1.0)",
          "dash": "solid",
          "shape": "linear",
          "width": 1.3
         },
         "marker": {
          "size": 2,
          "symbol": "circle"
         },
         "mode": "markers",
         "name": "D",
         "text": "",
         "type": "scatter",
         "x": [
          -1.3901949841581454,
          1.069922847106397,
          0.2055027592448163,
          -0.1291368074106173,
          1.1943389288630906,
          -1.3292319904526035,
          0.10172609409471008,
          -0.3221745473763238,
          -1.0933289223171323,
          0.8962065258841243,
          -0.7786362671054254,
          -0.011645302090516776,
          0.44924603650584644,
          -0.8256606600330482,
          0.4933240135491313,
          -1.425021249604569,
          -0.7980154456139854,
          1.2716639235371983,
          0.983634830370605,
          -0.0131853266453508,
          0.07970050864372122,
          -1.3183877932587922,
          -0.06041057639929024,
          -0.11134888702932266,
          -2.1499368132801058,
          -0.5514439544355939,
          0.3914604681738653,
          0.8890679991657041,
          0.28542034976793784,
          -0.6304761846712792,
          -0.1878088747248309,
          0.8889529698002793,
          0.45778071476476473,
          -0.12327331670334513,
          -0.29537435268245876,
          -0.08960332054704244,
          0.10432345628202129,
          0.8461532567992535,
          0.803601424416993,
          0.9491203637480421,
          -0.37765332489133335,
          -0.38752199701339685,
          0.8723021363291167,
          2.1204431464464233,
          2.0875076710319154,
          -0.26696339954003034,
          0.8106619705258042,
          -0.2214274625076834,
          -0.7118090777153491,
          -1.688032206163727,
          0.6028689425515956,
          -1.6958500587474632,
          0.2807016925333527,
          -1.0509375083617725,
          0.4448628824772095,
          1.3435148948892826,
          0.4203795505337432,
          -0.7635183838411761,
          -0.9406507307083636,
          0.09562761051184446,
          -1.272869074454918,
          1.0960340944547309,
          1.0625238646050967,
          -0.17771685453414426,
          1.845712049875227,
          0.14235070116325824,
          -0.7941112509036065,
          1.3529661858705617,
          0.9804622209996304,
          1.6876064912058704,
          -0.670156983203831,
          -1.3323507004611381,
          1.3730453556738749,
          0.7882964598361236,
          -1.0531434522638672,
          -0.3146275627267074,
          -3.0747599634463696,
          0.7359197646540324,
          0.3905846088913656,
          0.7562292950033769,
          2.0126903623388985,
          -0.9417501065215361,
          0.0605632892435693,
          0.7150989468002216,
          1.7112704379063017,
          -0.05141026396406195,
          0.746287932383283,
          0.049952739784688345,
          2.0393266553986016,
          -0.19115632906252,
          2.53897699824267,
          0.06677133714948412,
          0.18331594429555945,
          -0.28503842514401506,
          1.3961232808599877,
          -2.7523778166341635,
          0.08231536758941917,
          1.153297736148488,
          1.1121083772525953,
          -1.093043512712841
         ],
         "xaxis": "x13",
         "y": [
          0.6050625689237626,
          -0.5341663568620643,
          -0.6836949044788398,
          0.07150173474630343,
          -0.6750773662024668,
          -0.7617086353343657,
          -0.5773269060577014,
          -0.6722108645091384,
          -0.21365651739078018,
          0.08682729857759316,
          -0.42508350521695254,
          0.6749641896212607,
          -1.235231847370315,
          0.36374581335936285,
          -0.25752850940387695,
          -2.1202163871461845,
          1.520144202197967,
          0.5748406590379539,
          2.1885070807222777,
          -0.5719225757321915,
          -1.2832582246004933,
          -0.795470339504796,
          -1.6144812112086262,
          -0.19476178681763415,
          -0.10823026798575994,
          0.15117885844929885,
          0.23676701823097215,
          0.1517495469501139,
          -0.0920543441173036,
          0.1907696921589052,
          -2.0227169531716775,
          0.4069550950745697,
          1.4073678829529794,
          1.0755130342966395,
          -0.6748849313815257,
          0.7241121487788296,
          0.863553959985662,
          -0.3520551664012393,
          -0.32412544887827355,
          1.958291163488966,
          1.5050110344534935,
          1.0415573936258324,
          2.4188972469130734,
          -0.5008774310667011,
          -1.234654098897178,
          0.8963305952098362,
          -0.9021216405790684,
          -0.6233881300300523,
          0.013337507707671902,
          -0.7730494125701088,
          1.1413394403500947,
          -1.0477589747661205,
          0.05053514181345651,
          -1.2503965871640315,
          1.2211793337128891,
          -1.5094149934599055,
          -1.0160217884134923,
          -0.20349728302467668,
          -0.07854718083733599,
          -0.9272529547141967,
          -0.3712332473269593,
          -1.0522604522758205,
          -1.917465889733078,
          0.2376742492853061,
          1.1519547703116644,
          -1.455124153601072,
          -0.6600537871647677,
          0.6678066605591857,
          -0.02877202928153565,
          -0.7813270767924949,
          -0.8952513220408085,
          -0.9295037537536113,
          0.41091166047020594,
          -0.05955577829210657,
          0.2592170670523021,
          -1.7424928776091053,
          0.23494228555283372,
          1.515295059959739,
          -2.3257581043745423,
          0.6916107794778338,
          0.07264730008617393,
          -2.024982315915042,
          -1.1130599114854702,
          0.7462155936941378,
          -1.1083276458838178,
          -1.3543272378931481,
          -0.0027816881168835636,
          -0.3244374967628371,
          1.3152082281893835,
          -0.35435184207843107,
          -0.9260684667348138,
          0.4217822715272979,
          0.3262246914125725,
          1.552240124004772,
          -0.9848880568637277,
          -0.2534404066650368,
          -0.9301474996295686,
          0.8632693660993879,
          0.36631334405918703,
          -0.41065888156248803
         ],
         "yaxis": "y13"
        },
        {
         "line": {
          "color": "rgba(128, 128, 128, 1.0)",
          "dash": "solid",
          "shape": "linear",
          "width": 1.3
         },
         "marker": {
          "size": 2,
          "symbol": "circle"
         },
         "mode": "markers",
         "name": "D",
         "text": "",
         "type": "scatter",
         "x": [
          -0.5913402385474351,
          1.291121332745925,
          -1.466747037145677,
          -0.3322969627060832,
          0.1187700874875702,
          -0.24207599262733395,
          -0.6226001284660565,
          1.272572536022268,
          -0.04171014781234873,
          0.18080898864233078,
          -1.2586879467504293,
          -0.5135337558658654,
          -0.8473200180220722,
          0.8604218703730332,
          -1.7856776836306145,
          -0.5919786283309229,
          -0.1359138565576188,
          0.601459009542728,
          -0.8431732058899216,
          0.9863151365620875,
          1.105404116926311,
          -2.30989555478306,
          0.6345142872351962,
          -0.8127965787904066,
          -1.2339041212978519,
          0.9146263775285808,
          -1.070146080674142,
          -0.2821436508345468,
          0.21783932695449573,
          -1.0377114276217354,
          2.551428546572451,
          -0.7394626721208684,
          -0.21305885706846572,
          -0.9914679216957235,
          -1.3556255372723736,
          -0.623899335595533,
          -1.4508558168496688,
          -0.9740248766369816,
          -1.9807426870934963,
          -0.3173781925508749,
          -1.8959224489347248,
          2.0313578713934053,
          -0.7251622914463774,
          0.008575265151005882,
          1.0438778960596895,
          0.2974943865792594,
          -0.33413957586703646,
          0.8044725946533433,
          -1.737641661567125,
          0.08412351848049478,
          1.336762991048388,
          -2.2746010546139583,
          -0.12327330870798514,
          0.821392336743205,
          0.5264790702487522,
          2.0717612284105895,
          0.6576114588811612,
          -0.41184883862426647,
          -0.16505253016242047,
          0.8468452828212563,
          -1.5274103886728592,
          0.6571478551011237,
          0.8391958399037819,
          -1.6519628230129517,
          0.012091368496789549,
          -0.28651555423397385,
          -0.0334744400687433,
          0.9048678102827954,
          0.03883455535784291,
          -1.369637488107185,
          -1.7295384107389804,
          -2.1987599151098713,
          0.73107072483283,
          0.9924865836621327,
          -0.22755603733200772,
          0.7116799179162969,
          1.8516026144301145,
          -0.24928062944149215,
          -2.27293167085413,
          1.3784823080181787,
          0.7086191282068263,
          1.3877586827610382,
          -1.1304517131677987,
          0.6464728780029316,
          2.070760542940685,
          -1.4634696830461231,
          0.6571830263885893,
          -2.2943196819244234,
          0.19188186933341375,
          -1.295083155007402,
          0.4119242303807797,
          -1.5338654192597836,
          0.0729083197894447,
          -0.5401987615233624,
          1.2712282833943516,
          -0.00030327787264339837,
          -0.3492774061960846,
          0.5559914807905486,
          -0.6696434699440698,
          -0.4733264851114375
         ],
         "xaxis": "x14",
         "y": [
          0.6050625689237626,
          -0.5341663568620643,
          -0.6836949044788398,
          0.07150173474630343,
          -0.6750773662024668,
          -0.7617086353343657,
          -0.5773269060577014,
          -0.6722108645091384,
          -0.21365651739078018,
          0.08682729857759316,
          -0.42508350521695254,
          0.6749641896212607,
          -1.235231847370315,
          0.36374581335936285,
          -0.25752850940387695,
          -2.1202163871461845,
          1.520144202197967,
          0.5748406590379539,
          2.1885070807222777,
          -0.5719225757321915,
          -1.2832582246004933,
          -0.795470339504796,
          -1.6144812112086262,
          -0.19476178681763415,
          -0.10823026798575994,
          0.15117885844929885,
          0.23676701823097215,
          0.1517495469501139,
          -0.0920543441173036,
          0.1907696921589052,
          -2.0227169531716775,
          0.4069550950745697,
          1.4073678829529794,
          1.0755130342966395,
          -0.6748849313815257,
          0.7241121487788296,
          0.863553959985662,
          -0.3520551664012393,
          -0.32412544887827355,
          1.958291163488966,
          1.5050110344534935,
          1.0415573936258324,
          2.4188972469130734,
          -0.5008774310667011,
          -1.234654098897178,
          0.8963305952098362,
          -0.9021216405790684,
          -0.6233881300300523,
          0.013337507707671902,
          -0.7730494125701088,
          1.1413394403500947,
          -1.0477589747661205,
          0.05053514181345651,
          -1.2503965871640315,
          1.2211793337128891,
          -1.5094149934599055,
          -1.0160217884134923,
          -0.20349728302467668,
          -0.07854718083733599,
          -0.9272529547141967,
          -0.3712332473269593,
          -1.0522604522758205,
          -1.917465889733078,
          0.2376742492853061,
          1.1519547703116644,
          -1.455124153601072,
          -0.6600537871647677,
          0.6678066605591857,
          -0.02877202928153565,
          -0.7813270767924949,
          -0.8952513220408085,
          -0.9295037537536113,
          0.41091166047020594,
          -0.05955577829210657,
          0.2592170670523021,
          -1.7424928776091053,
          0.23494228555283372,
          1.515295059959739,
          -2.3257581043745423,
          0.6916107794778338,
          0.07264730008617393,
          -2.024982315915042,
          -1.1130599114854702,
          0.7462155936941378,
          -1.1083276458838178,
          -1.3543272378931481,
          -0.0027816881168835636,
          -0.3244374967628371,
          1.3152082281893835,
          -0.35435184207843107,
          -0.9260684667348138,
          0.4217822715272979,
          0.3262246914125725,
          1.552240124004772,
          -0.9848880568637277,
          -0.2534404066650368,
          -0.9301474996295686,
          0.8632693660993879,
          0.36631334405918703,
          -0.41065888156248803
         ],
         "yaxis": "y14"
        },
        {
         "line": {
          "color": "rgba(128, 128, 128, 1.0)",
          "dash": "solid",
          "shape": "linear",
          "width": 1.3
         },
         "marker": {
          "size": 2,
          "symbol": "circle"
         },
         "mode": "markers",
         "name": "D",
         "text": "",
         "type": "scatter",
         "x": [
          -0.785875264835871,
          -0.4166244994772151,
          -0.4012629913852263,
          0.35465776564303464,
          -1.2010715803387078,
          1.010132350569846,
          0.08525021904882284,
          0.9913068992278078,
          -0.20627625694363427,
          -0.39379874099348233,
          -1.9899711853240618,
          2.016902779986095,
          0.21942069768439904,
          0.9653599591543708,
          0.0650012377037777,
          0.5378866524312556,
          2.3117149167340547,
          -0.9952944400819026,
          -0.4906822422944613,
          0.027350439649948162,
          -0.24975107886428458,
          -0.09943026640522272,
          0.1123797297978677,
          0.9658136828196481,
          0.8259171327781375,
          -0.012058481482416512,
          -0.2930854867236735,
          0.9208286718468252,
          -0.08502981603455544,
          -0.29375019676428166,
          -0.4284820514392859,
          -0.5129567946473805,
          -0.29282711700748276,
          0.47092136047578004,
          -0.544370958359331,
          1.9593662159254581,
          0.8379813435248245,
          1.8980392668324881,
          -0.570786792976965,
          -1.2925657743793226,
          1.0274945865679836,
          0.9144373237751301,
          0.02602647005560698,
          1.117134203505103,
          1.1313721906937841,
          -0.954887378617882,
          -0.14066251211986164,
          -0.9863734091076309,
          1.2047248536631938,
          -0.9041105126871736,
          0.16770383911998366,
          -1.5653034756292863,
          0.9835094566234339,
          -1.674801747158713,
          1.2022417086271955,
          -1.4655095098476731,
          -0.8398975121203412,
          0.6885484042103989,
          1.4019715189660475,
          0.7628915097199818,
          0.9824134834001975,
          0.8703114682823871,
          -0.8791191144240288,
          -0.4406355814011222,
          1.9548440405419485,
          -0.6403966417549738,
          -0.3297421993455612,
          -0.9561112489200627,
          2.055600140616719,
          -0.1267334579223654,
          0.13527487498749208,
          -0.3502036685632511,
          0.07978188196264824,
          0.2793091064311869,
          -1.5161061990362936,
          2.938966979435973,
          1.1993617984043197,
          0.5552392402522058,
          0.6446907286033249,
          0.7951349393121572,
          -0.07119184948998257,
          -1.265494120750372,
          1.3671712228716615,
          1.5931754741367044,
          -0.8480960310505018,
          0.7359995323169594,
          1.7367807919619345,
          1.2641557614077659,
          0.9123431560252537,
          0.6599695965653736,
          0.35136142053164515,
          -1.3253365161436161,
          0.06942296767108237,
          -1.2371172251059135,
          -0.8267948125108647,
          0.3569766765432963,
          -0.5854897504987103,
          -1.0130185455299794,
          1.527728465225669,
          -0.5778727496641319
         ],
         "xaxis": "x15",
         "y": [
          0.6050625689237626,
          -0.5341663568620643,
          -0.6836949044788398,
          0.07150173474630343,
          -0.6750773662024668,
          -0.7617086353343657,
          -0.5773269060577014,
          -0.6722108645091384,
          -0.21365651739078018,
          0.08682729857759316,
          -0.42508350521695254,
          0.6749641896212607,
          -1.235231847370315,
          0.36374581335936285,
          -0.25752850940387695,
          -2.1202163871461845,
          1.520144202197967,
          0.5748406590379539,
          2.1885070807222777,
          -0.5719225757321915,
          -1.2832582246004933,
          -0.795470339504796,
          -1.6144812112086262,
          -0.19476178681763415,
          -0.10823026798575994,
          0.15117885844929885,
          0.23676701823097215,
          0.1517495469501139,
          -0.0920543441173036,
          0.1907696921589052,
          -2.0227169531716775,
          0.4069550950745697,
          1.4073678829529794,
          1.0755130342966395,
          -0.6748849313815257,
          0.7241121487788296,
          0.863553959985662,
          -0.3520551664012393,
          -0.32412544887827355,
          1.958291163488966,
          1.5050110344534935,
          1.0415573936258324,
          2.4188972469130734,
          -0.5008774310667011,
          -1.234654098897178,
          0.8963305952098362,
          -0.9021216405790684,
          -0.6233881300300523,
          0.013337507707671902,
          -0.7730494125701088,
          1.1413394403500947,
          -1.0477589747661205,
          0.05053514181345651,
          -1.2503965871640315,
          1.2211793337128891,
          -1.5094149934599055,
          -1.0160217884134923,
          -0.20349728302467668,
          -0.07854718083733599,
          -0.9272529547141967,
          -0.3712332473269593,
          -1.0522604522758205,
          -1.917465889733078,
          0.2376742492853061,
          1.1519547703116644,
          -1.455124153601072,
          -0.6600537871647677,
          0.6678066605591857,
          -0.02877202928153565,
          -0.7813270767924949,
          -0.8952513220408085,
          -0.9295037537536113,
          0.41091166047020594,
          -0.05955577829210657,
          0.2592170670523021,
          -1.7424928776091053,
          0.23494228555283372,
          1.515295059959739,
          -2.3257581043745423,
          0.6916107794778338,
          0.07264730008617393,
          -2.024982315915042,
          -1.1130599114854702,
          0.7462155936941378,
          -1.1083276458838178,
          -1.3543272378931481,
          -0.0027816881168835636,
          -0.3244374967628371,
          1.3152082281893835,
          -0.35435184207843107,
          -0.9260684667348138,
          0.4217822715272979,
          0.3262246914125725,
          1.552240124004772,
          -0.9848880568637277,
          -0.2534404066650368,
          -0.9301474996295686,
          0.8632693660993879,
          0.36631334405918703,
          -0.41065888156248803
         ],
         "yaxis": "y15"
        },
        {
         "histfunc": "count",
         "histnorm": "",
         "marker": {
          "color": "rgba(128, 0, 128, 1.0)",
          "line": {
           "color": "#4D5663",
           "width": 1.3
          }
         },
         "name": "D",
         "nbinsx": 10,
         "opacity": 0.8,
         "orientation": "v",
         "type": "histogram",
         "x": [
          0.6050625689237626,
          -0.5341663568620643,
          -0.6836949044788398,
          0.07150173474630343,
          -0.6750773662024668,
          -0.7617086353343657,
          -0.5773269060577014,
          -0.6722108645091384,
          -0.21365651739078018,
          0.08682729857759316,
          -0.42508350521695254,
          0.6749641896212607,
          -1.235231847370315,
          0.36374581335936285,
          -0.25752850940387695,
          -2.1202163871461845,
          1.520144202197967,
          0.5748406590379539,
          2.1885070807222777,
          -0.5719225757321915,
          -1.2832582246004933,
          -0.795470339504796,
          -1.6144812112086262,
          -0.19476178681763415,
          -0.10823026798575994,
          0.15117885844929885,
          0.23676701823097215,
          0.1517495469501139,
          -0.0920543441173036,
          0.1907696921589052,
          -2.0227169531716775,
          0.4069550950745697,
          1.4073678829529794,
          1.0755130342966395,
          -0.6748849313815257,
          0.7241121487788296,
          0.863553959985662,
          -0.3520551664012393,
          -0.32412544887827355,
          1.958291163488966,
          1.5050110344534935,
          1.0415573936258324,
          2.4188972469130734,
          -0.5008774310667011,
          -1.234654098897178,
          0.8963305952098362,
          -0.9021216405790684,
          -0.6233881300300523,
          0.013337507707671902,
          -0.7730494125701088,
          1.1413394403500947,
          -1.0477589747661205,
          0.05053514181345651,
          -1.2503965871640315,
          1.2211793337128891,
          -1.5094149934599055,
          -1.0160217884134923,
          -0.20349728302467668,
          -0.07854718083733599,
          -0.9272529547141967,
          -0.3712332473269593,
          -1.0522604522758205,
          -1.917465889733078,
          0.2376742492853061,
          1.1519547703116644,
          -1.455124153601072,
          -0.6600537871647677,
          0.6678066605591857,
          -0.02877202928153565,
          -0.7813270767924949,
          -0.8952513220408085,
          -0.9295037537536113,
          0.41091166047020594,
          -0.05955577829210657,
          0.2592170670523021,
          -1.7424928776091053,
          0.23494228555283372,
          1.515295059959739,
          -2.3257581043745423,
          0.6916107794778338,
          0.07264730008617393,
          -2.024982315915042,
          -1.1130599114854702,
          0.7462155936941378,
          -1.1083276458838178,
          -1.3543272378931481,
          -0.0027816881168835636,
          -0.3244374967628371,
          1.3152082281893835,
          -0.35435184207843107,
          -0.9260684667348138,
          0.4217822715272979,
          0.3262246914125725,
          1.552240124004772,
          -0.9848880568637277,
          -0.2534404066650368,
          -0.9301474996295686,
          0.8632693660993879,
          0.36631334405918703,
          -0.41065888156248803
         ],
         "xaxis": "x16",
         "yaxis": "y16"
        }
       ],
       "layout": {
        "bargap": 0.02,
        "legend": {
         "bgcolor": "#F5F6F9",
         "font": {
          "color": "#4D5663"
         }
        },
        "paper_bgcolor": "#F5F6F9",
        "plot_bgcolor": "#F5F6F9",
        "showlegend": false,
        "template": {
         "data": {
          "bar": [
           {
            "error_x": {
             "color": "#2a3f5f"
            },
            "error_y": {
             "color": "#2a3f5f"
            },
            "marker": {
             "line": {
              "color": "#E5ECF6",
              "width": 0.5
             },
             "pattern": {
              "fillmode": "overlay",
              "size": 10,
              "solidity": 0.2
             }
            },
            "type": "bar"
           }
          ],
          "barpolar": [
           {
            "marker": {
             "line": {
              "color": "#E5ECF6",
              "width": 0.5
             },
             "pattern": {
              "fillmode": "overlay",
              "size": 10,
              "solidity": 0.2
             }
            },
            "type": "barpolar"
           }
          ],
          "carpet": [
           {
            "aaxis": {
             "endlinecolor": "#2a3f5f",
             "gridcolor": "white",
             "linecolor": "white",
             "minorgridcolor": "white",
             "startlinecolor": "#2a3f5f"
            },
            "baxis": {
             "endlinecolor": "#2a3f5f",
             "gridcolor": "white",
             "linecolor": "white",
             "minorgridcolor": "white",
             "startlinecolor": "#2a3f5f"
            },
            "type": "carpet"
           }
          ],
          "choropleth": [
           {
            "colorbar": {
             "outlinewidth": 0,
             "ticks": ""
            },
            "type": "choropleth"
           }
          ],
          "contour": [
           {
            "colorbar": {
             "outlinewidth": 0,
             "ticks": ""
            },
            "colorscale": [
             [
              0,
              "#0d0887"
             ],
             [
              0.1111111111111111,
              "#46039f"
             ],
             [
              0.2222222222222222,
              "#7201a8"
             ],
             [
              0.3333333333333333,
              "#9c179e"
             ],
             [
              0.4444444444444444,
              "#bd3786"
             ],
             [
              0.5555555555555556,
              "#d8576b"
             ],
             [
              0.6666666666666666,
              "#ed7953"
             ],
             [
              0.7777777777777778,
              "#fb9f3a"
             ],
             [
              0.8888888888888888,
              "#fdca26"
             ],
             [
              1,
              "#f0f921"
             ]
            ],
            "type": "contour"
           }
          ],
          "contourcarpet": [
           {
            "colorbar": {
             "outlinewidth": 0,
             "ticks": ""
            },
            "type": "contourcarpet"
           }
          ],
          "heatmap": [
           {
            "colorbar": {
             "outlinewidth": 0,
             "ticks": ""
            },
            "colorscale": [
             [
              0,
              "#0d0887"
             ],
             [
              0.1111111111111111,
              "#46039f"
             ],
             [
              0.2222222222222222,
              "#7201a8"
             ],
             [
              0.3333333333333333,
              "#9c179e"
             ],
             [
              0.4444444444444444,
              "#bd3786"
             ],
             [
              0.5555555555555556,
              "#d8576b"
             ],
             [
              0.6666666666666666,
              "#ed7953"
             ],
             [
              0.7777777777777778,
              "#fb9f3a"
             ],
             [
              0.8888888888888888,
              "#fdca26"
             ],
             [
              1,
              "#f0f921"
             ]
            ],
            "type": "heatmap"
           }
          ],
          "heatmapgl": [
           {
            "colorbar": {
             "outlinewidth": 0,
             "ticks": ""
            },
            "colorscale": [
             [
              0,
              "#0d0887"
             ],
             [
              0.1111111111111111,
              "#46039f"
             ],
             [
              0.2222222222222222,
              "#7201a8"
             ],
             [
              0.3333333333333333,
              "#9c179e"
             ],
             [
              0.4444444444444444,
              "#bd3786"
             ],
             [
              0.5555555555555556,
              "#d8576b"
             ],
             [
              0.6666666666666666,
              "#ed7953"
             ],
             [
              0.7777777777777778,
              "#fb9f3a"
             ],
             [
              0.8888888888888888,
              "#fdca26"
             ],
             [
              1,
              "#f0f921"
             ]
            ],
            "type": "heatmapgl"
           }
          ],
          "histogram": [
           {
            "marker": {
             "pattern": {
              "fillmode": "overlay",
              "size": 10,
              "solidity": 0.2
             }
            },
            "type": "histogram"
           }
          ],
          "histogram2d": [
           {
            "colorbar": {
             "outlinewidth": 0,
             "ticks": ""
            },
            "colorscale": [
             [
              0,
              "#0d0887"
             ],
             [
              0.1111111111111111,
              "#46039f"
             ],
             [
              0.2222222222222222,
              "#7201a8"
             ],
             [
              0.3333333333333333,
              "#9c179e"
             ],
             [
              0.4444444444444444,
              "#bd3786"
             ],
             [
              0.5555555555555556,
              "#d8576b"
             ],
             [
              0.6666666666666666,
              "#ed7953"
             ],
             [
              0.7777777777777778,
              "#fb9f3a"
             ],
             [
              0.8888888888888888,
              "#fdca26"
             ],
             [
              1,
              "#f0f921"
             ]
            ],
            "type": "histogram2d"
           }
          ],
          "histogram2dcontour": [
           {
            "colorbar": {
             "outlinewidth": 0,
             "ticks": ""
            },
            "colorscale": [
             [
              0,
              "#0d0887"
             ],
             [
              0.1111111111111111,
              "#46039f"
             ],
             [
              0.2222222222222222,
              "#7201a8"
             ],
             [
              0.3333333333333333,
              "#9c179e"
             ],
             [
              0.4444444444444444,
              "#bd3786"
             ],
             [
              0.5555555555555556,
              "#d8576b"
             ],
             [
              0.6666666666666666,
              "#ed7953"
             ],
             [
              0.7777777777777778,
              "#fb9f3a"
             ],
             [
              0.8888888888888888,
              "#fdca26"
             ],
             [
              1,
              "#f0f921"
             ]
            ],
            "type": "histogram2dcontour"
           }
          ],
          "mesh3d": [
           {
            "colorbar": {
             "outlinewidth": 0,
             "ticks": ""
            },
            "type": "mesh3d"
           }
          ],
          "parcoords": [
           {
            "line": {
             "colorbar": {
              "outlinewidth": 0,
              "ticks": ""
             }
            },
            "type": "parcoords"
           }
          ],
          "pie": [
           {
            "automargin": true,
            "type": "pie"
           }
          ],
          "scatter": [
           {
            "fillpattern": {
             "fillmode": "overlay",
             "size": 10,
             "solidity": 0.2
            },
            "type": "scatter"
           }
          ],
          "scatter3d": [
           {
            "line": {
             "colorbar": {
              "outlinewidth": 0,
              "ticks": ""
             }
            },
            "marker": {
             "colorbar": {
              "outlinewidth": 0,
              "ticks": ""
             }
            },
            "type": "scatter3d"
           }
          ],
          "scattercarpet": [
           {
            "marker": {
             "colorbar": {
              "outlinewidth": 0,
              "ticks": ""
             }
            },
            "type": "scattercarpet"
           }
          ],
          "scattergeo": [
           {
            "marker": {
             "colorbar": {
              "outlinewidth": 0,
              "ticks": ""
             }
            },
            "type": "scattergeo"
           }
          ],
          "scattergl": [
           {
            "marker": {
             "colorbar": {
              "outlinewidth": 0,
              "ticks": ""
             }
            },
            "type": "scattergl"
           }
          ],
          "scattermapbox": [
           {
            "marker": {
             "colorbar": {
              "outlinewidth": 0,
              "ticks": ""
             }
            },
            "type": "scattermapbox"
           }
          ],
          "scatterpolar": [
           {
            "marker": {
             "colorbar": {
              "outlinewidth": 0,
              "ticks": ""
             }
            },
            "type": "scatterpolar"
           }
          ],
          "scatterpolargl": [
           {
            "marker": {
             "colorbar": {
              "outlinewidth": 0,
              "ticks": ""
             }
            },
            "type": "scatterpolargl"
           }
          ],
          "scatterternary": [
           {
            "marker": {
             "colorbar": {
              "outlinewidth": 0,
              "ticks": ""
             }
            },
            "type": "scatterternary"
           }
          ],
          "surface": [
           {
            "colorbar": {
             "outlinewidth": 0,
             "ticks": ""
            },
            "colorscale": [
             [
              0,
              "#0d0887"
             ],
             [
              0.1111111111111111,
              "#46039f"
             ],
             [
              0.2222222222222222,
              "#7201a8"
             ],
             [
              0.3333333333333333,
              "#9c179e"
             ],
             [
              0.4444444444444444,
              "#bd3786"
             ],
             [
              0.5555555555555556,
              "#d8576b"
             ],
             [
              0.6666666666666666,
              "#ed7953"
             ],
             [
              0.7777777777777778,
              "#fb9f3a"
             ],
             [
              0.8888888888888888,
              "#fdca26"
             ],
             [
              1,
              "#f0f921"
             ]
            ],
            "type": "surface"
           }
          ],
          "table": [
           {
            "cells": {
             "fill": {
              "color": "#EBF0F8"
             },
             "line": {
              "color": "white"
             }
            },
            "header": {
             "fill": {
              "color": "#C8D4E3"
             },
             "line": {
              "color": "white"
             }
            },
            "type": "table"
           }
          ]
         },
         "layout": {
          "annotationdefaults": {
           "arrowcolor": "#2a3f5f",
           "arrowhead": 0,
           "arrowwidth": 1
          },
          "autotypenumbers": "strict",
          "coloraxis": {
           "colorbar": {
            "outlinewidth": 0,
            "ticks": ""
           }
          },
          "colorscale": {
           "diverging": [
            [
             0,
             "#8e0152"
            ],
            [
             0.1,
             "#c51b7d"
            ],
            [
             0.2,
             "#de77ae"
            ],
            [
             0.3,
             "#f1b6da"
            ],
            [
             0.4,
             "#fde0ef"
            ],
            [
             0.5,
             "#f7f7f7"
            ],
            [
             0.6,
             "#e6f5d0"
            ],
            [
             0.7,
             "#b8e186"
            ],
            [
             0.8,
             "#7fbc41"
            ],
            [
             0.9,
             "#4d9221"
            ],
            [
             1,
             "#276419"
            ]
           ],
           "sequential": [
            [
             0,
             "#0d0887"
            ],
            [
             0.1111111111111111,
             "#46039f"
            ],
            [
             0.2222222222222222,
             "#7201a8"
            ],
            [
             0.3333333333333333,
             "#9c179e"
            ],
            [
             0.4444444444444444,
             "#bd3786"
            ],
            [
             0.5555555555555556,
             "#d8576b"
            ],
            [
             0.6666666666666666,
             "#ed7953"
            ],
            [
             0.7777777777777778,
             "#fb9f3a"
            ],
            [
             0.8888888888888888,
             "#fdca26"
            ],
            [
             1,
             "#f0f921"
            ]
           ],
           "sequentialminus": [
            [
             0,
             "#0d0887"
            ],
            [
             0.1111111111111111,
             "#46039f"
            ],
            [
             0.2222222222222222,
             "#7201a8"
            ],
            [
             0.3333333333333333,
             "#9c179e"
            ],
            [
             0.4444444444444444,
             "#bd3786"
            ],
            [
             0.5555555555555556,
             "#d8576b"
            ],
            [
             0.6666666666666666,
             "#ed7953"
            ],
            [
             0.7777777777777778,
             "#fb9f3a"
            ],
            [
             0.8888888888888888,
             "#fdca26"
            ],
            [
             1,
             "#f0f921"
            ]
           ]
          },
          "colorway": [
           "#636efa",
           "#EF553B",
           "#00cc96",
           "#ab63fa",
           "#FFA15A",
           "#19d3f3",
           "#FF6692",
           "#B6E880",
           "#FF97FF",
           "#FECB52"
          ],
          "font": {
           "color": "#2a3f5f"
          },
          "geo": {
           "bgcolor": "white",
           "lakecolor": "white",
           "landcolor": "#E5ECF6",
           "showlakes": true,
           "showland": true,
           "subunitcolor": "white"
          },
          "hoverlabel": {
           "align": "left"
          },
          "hovermode": "closest",
          "mapbox": {
           "style": "light"
          },
          "paper_bgcolor": "white",
          "plot_bgcolor": "#E5ECF6",
          "polar": {
           "angularaxis": {
            "gridcolor": "white",
            "linecolor": "white",
            "ticks": ""
           },
           "bgcolor": "#E5ECF6",
           "radialaxis": {
            "gridcolor": "white",
            "linecolor": "white",
            "ticks": ""
           }
          },
          "scene": {
           "xaxis": {
            "backgroundcolor": "#E5ECF6",
            "gridcolor": "white",
            "gridwidth": 2,
            "linecolor": "white",
            "showbackground": true,
            "ticks": "",
            "zerolinecolor": "white"
           },
           "yaxis": {
            "backgroundcolor": "#E5ECF6",
            "gridcolor": "white",
            "gridwidth": 2,
            "linecolor": "white",
            "showbackground": true,
            "ticks": "",
            "zerolinecolor": "white"
           },
           "zaxis": {
            "backgroundcolor": "#E5ECF6",
            "gridcolor": "white",
            "gridwidth": 2,
            "linecolor": "white",
            "showbackground": true,
            "ticks": "",
            "zerolinecolor": "white"
           }
          },
          "shapedefaults": {
           "line": {
            "color": "#2a3f5f"
           }
          },
          "ternary": {
           "aaxis": {
            "gridcolor": "white",
            "linecolor": "white",
            "ticks": ""
           },
           "baxis": {
            "gridcolor": "white",
            "linecolor": "white",
            "ticks": ""
           },
           "bgcolor": "#E5ECF6",
           "caxis": {
            "gridcolor": "white",
            "linecolor": "white",
            "ticks": ""
           }
          },
          "title": {
           "x": 0.05
          },
          "xaxis": {
           "automargin": true,
           "gridcolor": "white",
           "linecolor": "white",
           "ticks": "",
           "title": {
            "standoff": 15
           },
           "zerolinecolor": "white",
           "zerolinewidth": 2
          },
          "yaxis": {
           "automargin": true,
           "gridcolor": "white",
           "linecolor": "white",
           "ticks": "",
           "title": {
            "standoff": 15
           },
           "zerolinecolor": "white",
           "zerolinewidth": 2
          }
         }
        },
        "title": {
         "font": {
          "color": "#4D5663"
         }
        },
        "xaxis": {
         "anchor": "y",
         "domain": [
          0,
          0.2125
         ],
         "gridcolor": "#E1E5ED",
         "showgrid": false,
         "tickfont": {
          "color": "#4D5663"
         },
         "title": {
          "font": {
           "color": "#4D5663"
          },
          "text": ""
         },
         "zerolinecolor": "#E1E5ED"
        },
        "xaxis10": {
         "anchor": "y10",
         "domain": [
          0.2625,
          0.475
         ],
         "gridcolor": "#E1E5ED",
         "showgrid": false,
         "tickfont": {
          "color": "#4D5663"
         },
         "title": {
          "font": {
           "color": "#4D5663"
          },
          "text": ""
         },
         "zerolinecolor": "#E1E5ED"
        },
        "xaxis11": {
         "anchor": "y11",
         "domain": [
          0.525,
          0.7375
         ],
         "gridcolor": "#E1E5ED",
         "showgrid": false,
         "tickfont": {
          "color": "#4D5663"
         },
         "title": {
          "font": {
           "color": "#4D5663"
          },
          "text": ""
         },
         "zerolinecolor": "#E1E5ED"
        },
        "xaxis12": {
         "anchor": "y12",
         "domain": [
          0.7875,
          1
         ],
         "gridcolor": "#E1E5ED",
         "showgrid": false,
         "tickfont": {
          "color": "#4D5663"
         },
         "title": {
          "font": {
           "color": "#4D5663"
          },
          "text": ""
         },
         "zerolinecolor": "#E1E5ED"
        },
        "xaxis13": {
         "anchor": "y13",
         "domain": [
          0,
          0.2125
         ],
         "gridcolor": "#E1E5ED",
         "showgrid": false,
         "tickfont": {
          "color": "#4D5663"
         },
         "title": {
          "font": {
           "color": "#4D5663"
          },
          "text": ""
         },
         "zerolinecolor": "#E1E5ED"
        },
        "xaxis14": {
         "anchor": "y14",
         "domain": [
          0.2625,
          0.475
         ],
         "gridcolor": "#E1E5ED",
         "showgrid": false,
         "tickfont": {
          "color": "#4D5663"
         },
         "title": {
          "font": {
           "color": "#4D5663"
          },
          "text": ""
         },
         "zerolinecolor": "#E1E5ED"
        },
        "xaxis15": {
         "anchor": "y15",
         "domain": [
          0.525,
          0.7375
         ],
         "gridcolor": "#E1E5ED",
         "showgrid": false,
         "tickfont": {
          "color": "#4D5663"
         },
         "title": {
          "font": {
           "color": "#4D5663"
          },
          "text": ""
         },
         "zerolinecolor": "#E1E5ED"
        },
        "xaxis16": {
         "anchor": "y16",
         "domain": [
          0.7875,
          1
         ],
         "gridcolor": "#E1E5ED",
         "showgrid": false,
         "tickfont": {
          "color": "#4D5663"
         },
         "title": {
          "font": {
           "color": "#4D5663"
          },
          "text": ""
         },
         "zerolinecolor": "#E1E5ED"
        },
        "xaxis2": {
         "anchor": "y2",
         "domain": [
          0.2625,
          0.475
         ],
         "gridcolor": "#E1E5ED",
         "showgrid": false,
         "tickfont": {
          "color": "#4D5663"
         },
         "title": {
          "font": {
           "color": "#4D5663"
          },
          "text": ""
         },
         "zerolinecolor": "#E1E5ED"
        },
        "xaxis3": {
         "anchor": "y3",
         "domain": [
          0.525,
          0.7375
         ],
         "gridcolor": "#E1E5ED",
         "showgrid": false,
         "tickfont": {
          "color": "#4D5663"
         },
         "title": {
          "font": {
           "color": "#4D5663"
          },
          "text": ""
         },
         "zerolinecolor": "#E1E5ED"
        },
        "xaxis4": {
         "anchor": "y4",
         "domain": [
          0.7875,
          1
         ],
         "gridcolor": "#E1E5ED",
         "showgrid": false,
         "tickfont": {
          "color": "#4D5663"
         },
         "title": {
          "font": {
           "color": "#4D5663"
          },
          "text": ""
         },
         "zerolinecolor": "#E1E5ED"
        },
        "xaxis5": {
         "anchor": "y5",
         "domain": [
          0,
          0.2125
         ],
         "gridcolor": "#E1E5ED",
         "showgrid": false,
         "tickfont": {
          "color": "#4D5663"
         },
         "title": {
          "font": {
           "color": "#4D5663"
          },
          "text": ""
         },
         "zerolinecolor": "#E1E5ED"
        },
        "xaxis6": {
         "anchor": "y6",
         "domain": [
          0.2625,
          0.475
         ],
         "gridcolor": "#E1E5ED",
         "showgrid": false,
         "tickfont": {
          "color": "#4D5663"
         },
         "title": {
          "font": {
           "color": "#4D5663"
          },
          "text": ""
         },
         "zerolinecolor": "#E1E5ED"
        },
        "xaxis7": {
         "anchor": "y7",
         "domain": [
          0.525,
          0.7375
         ],
         "gridcolor": "#E1E5ED",
         "showgrid": false,
         "tickfont": {
          "color": "#4D5663"
         },
         "title": {
          "font": {
           "color": "#4D5663"
          },
          "text": ""
         },
         "zerolinecolor": "#E1E5ED"
        },
        "xaxis8": {
         "anchor": "y8",
         "domain": [
          0.7875,
          1
         ],
         "gridcolor": "#E1E5ED",
         "showgrid": false,
         "tickfont": {
          "color": "#4D5663"
         },
         "title": {
          "font": {
           "color": "#4D5663"
          },
          "text": ""
         },
         "zerolinecolor": "#E1E5ED"
        },
        "xaxis9": {
         "anchor": "y9",
         "domain": [
          0,
          0.2125
         ],
         "gridcolor": "#E1E5ED",
         "showgrid": false,
         "tickfont": {
          "color": "#4D5663"
         },
         "title": {
          "font": {
           "color": "#4D5663"
          },
          "text": ""
         },
         "zerolinecolor": "#E1E5ED"
        },
        "yaxis": {
         "anchor": "x",
         "domain": [
          0.8025,
          1
         ],
         "gridcolor": "#E1E5ED",
         "showgrid": false,
         "tickfont": {
          "color": "#4D5663"
         },
         "title": {
          "font": {
           "color": "#4D5663"
          },
          "text": ""
         },
         "zerolinecolor": "#E1E5ED"
        },
        "yaxis10": {
         "anchor": "x10",
         "domain": [
          0.2675,
          0.465
         ],
         "gridcolor": "#E1E5ED",
         "showgrid": false,
         "tickfont": {
          "color": "#4D5663"
         },
         "title": {
          "font": {
           "color": "#4D5663"
          },
          "text": ""
         },
         "zerolinecolor": "#E1E5ED"
        },
        "yaxis11": {
         "anchor": "x11",
         "domain": [
          0.2675,
          0.465
         ],
         "gridcolor": "#E1E5ED",
         "showgrid": false,
         "tickfont": {
          "color": "#4D5663"
         },
         "title": {
          "font": {
           "color": "#4D5663"
          },
          "text": ""
         },
         "zerolinecolor": "#E1E5ED"
        },
        "yaxis12": {
         "anchor": "x12",
         "domain": [
          0.2675,
          0.465
         ],
         "gridcolor": "#E1E5ED",
         "showgrid": false,
         "tickfont": {
          "color": "#4D5663"
         },
         "title": {
          "font": {
           "color": "#4D5663"
          },
          "text": ""
         },
         "zerolinecolor": "#E1E5ED"
        },
        "yaxis13": {
         "anchor": "x13",
         "domain": [
          0,
          0.1975
         ],
         "gridcolor": "#E1E5ED",
         "showgrid": false,
         "tickfont": {
          "color": "#4D5663"
         },
         "title": {
          "font": {
           "color": "#4D5663"
          },
          "text": ""
         },
         "zerolinecolor": "#E1E5ED"
        },
        "yaxis14": {
         "anchor": "x14",
         "domain": [
          0,
          0.1975
         ],
         "gridcolor": "#E1E5ED",
         "showgrid": false,
         "tickfont": {
          "color": "#4D5663"
         },
         "title": {
          "font": {
           "color": "#4D5663"
          },
          "text": ""
         },
         "zerolinecolor": "#E1E5ED"
        },
        "yaxis15": {
         "anchor": "x15",
         "domain": [
          0,
          0.1975
         ],
         "gridcolor": "#E1E5ED",
         "showgrid": false,
         "tickfont": {
          "color": "#4D5663"
         },
         "title": {
          "font": {
           "color": "#4D5663"
          },
          "text": ""
         },
         "zerolinecolor": "#E1E5ED"
        },
        "yaxis16": {
         "anchor": "x16",
         "domain": [
          0,
          0.1975
         ],
         "gridcolor": "#E1E5ED",
         "showgrid": false,
         "tickfont": {
          "color": "#4D5663"
         },
         "title": {
          "font": {
           "color": "#4D5663"
          },
          "text": ""
         },
         "zerolinecolor": "#E1E5ED"
        },
        "yaxis2": {
         "anchor": "x2",
         "domain": [
          0.8025,
          1
         ],
         "gridcolor": "#E1E5ED",
         "showgrid": false,
         "tickfont": {
          "color": "#4D5663"
         },
         "title": {
          "font": {
           "color": "#4D5663"
          },
          "text": ""
         },
         "zerolinecolor": "#E1E5ED"
        },
        "yaxis3": {
         "anchor": "x3",
         "domain": [
          0.8025,
          1
         ],
         "gridcolor": "#E1E5ED",
         "showgrid": false,
         "tickfont": {
          "color": "#4D5663"
         },
         "title": {
          "font": {
           "color": "#4D5663"
          },
          "text": ""
         },
         "zerolinecolor": "#E1E5ED"
        },
        "yaxis4": {
         "anchor": "x4",
         "domain": [
          0.8025,
          1
         ],
         "gridcolor": "#E1E5ED",
         "showgrid": false,
         "tickfont": {
          "color": "#4D5663"
         },
         "title": {
          "font": {
           "color": "#4D5663"
          },
          "text": ""
         },
         "zerolinecolor": "#E1E5ED"
        },
        "yaxis5": {
         "anchor": "x5",
         "domain": [
          0.535,
          0.7325
         ],
         "gridcolor": "#E1E5ED",
         "showgrid": false,
         "tickfont": {
          "color": "#4D5663"
         },
         "title": {
          "font": {
           "color": "#4D5663"
          },
          "text": ""
         },
         "zerolinecolor": "#E1E5ED"
        },
        "yaxis6": {
         "anchor": "x6",
         "domain": [
          0.535,
          0.7325
         ],
         "gridcolor": "#E1E5ED",
         "showgrid": false,
         "tickfont": {
          "color": "#4D5663"
         },
         "title": {
          "font": {
           "color": "#4D5663"
          },
          "text": ""
         },
         "zerolinecolor": "#E1E5ED"
        },
        "yaxis7": {
         "anchor": "x7",
         "domain": [
          0.535,
          0.7325
         ],
         "gridcolor": "#E1E5ED",
         "showgrid": false,
         "tickfont": {
          "color": "#4D5663"
         },
         "title": {
          "font": {
           "color": "#4D5663"
          },
          "text": ""
         },
         "zerolinecolor": "#E1E5ED"
        },
        "yaxis8": {
         "anchor": "x8",
         "domain": [
          0.535,
          0.7325
         ],
         "gridcolor": "#E1E5ED",
         "showgrid": false,
         "tickfont": {
          "color": "#4D5663"
         },
         "title": {
          "font": {
           "color": "#4D5663"
          },
          "text": ""
         },
         "zerolinecolor": "#E1E5ED"
        },
        "yaxis9": {
         "anchor": "x9",
         "domain": [
          0.2675,
          0.465
         ],
         "gridcolor": "#E1E5ED",
         "showgrid": false,
         "tickfont": {
          "color": "#4D5663"
         },
         "title": {
          "font": {
           "color": "#4D5663"
          },
          "text": ""
         },
         "zerolinecolor": "#E1E5ED"
        }
       }
      },
      "text/html": [
       "<div>                            <div id=\"1d92898e-da16-4ccb-a764-bb584a135097\" class=\"plotly-graph-div\" style=\"height:525px; width:100%;\"></div>            <script type=\"text/javascript\">                require([\"plotly\"], function(Plotly) {                    window.PLOTLYENV=window.PLOTLYENV || {};\n",
       "                    window.PLOTLYENV.BASE_URL='https://plot.ly';                                    if (document.getElementById(\"1d92898e-da16-4ccb-a764-bb584a135097\")) {                    Plotly.newPlot(                        \"1d92898e-da16-4ccb-a764-bb584a135097\",                        [{\"histfunc\":\"count\",\"histnorm\":\"\",\"marker\":{\"color\":\"rgba(255, 153, 51, 1.0)\",\"line\":{\"color\":\"#4D5663\",\"width\":1.3}},\"name\":\"A\",\"nbinsx\":10,\"opacity\":0.8,\"orientation\":\"v\",\"x\":[-1.3901949841581454,1.069922847106397,0.2055027592448163,-0.1291368074106173,1.1943389288630906,-1.3292319904526035,0.10172609409471008,-0.3221745473763238,-1.0933289223171323,0.8962065258841243,-0.7786362671054254,-0.011645302090516776,0.44924603650584644,-0.8256606600330482,0.4933240135491313,-1.425021249604569,-0.7980154456139854,1.2716639235371983,0.983634830370605,-0.0131853266453508,0.07970050864372122,-1.3183877932587922,-0.06041057639929024,-0.11134888702932266,-2.1499368132801058,-0.5514439544355939,0.3914604681738653,0.8890679991657041,0.28542034976793784,-0.6304761846712792,-0.1878088747248309,0.8889529698002793,0.45778071476476473,-0.12327331670334513,-0.29537435268245876,-0.08960332054704244,0.10432345628202129,0.8461532567992535,0.803601424416993,0.9491203637480421,-0.37765332489133335,-0.38752199701339685,0.8723021363291167,2.1204431464464233,2.0875076710319154,-0.26696339954003034,0.8106619705258042,-0.2214274625076834,-0.7118090777153491,-1.688032206163727,0.6028689425515956,-1.6958500587474632,0.2807016925333527,-1.0509375083617725,0.4448628824772095,1.3435148948892826,0.4203795505337432,-0.7635183838411761,-0.9406507307083636,0.09562761051184446,-1.272869074454918,1.0960340944547309,1.0625238646050967,-0.17771685453414426,1.845712049875227,0.14235070116325824,-0.7941112509036065,1.3529661858705617,0.9804622209996304,1.6876064912058704,-0.670156983203831,-1.3323507004611381,1.3730453556738749,0.7882964598361236,-1.0531434522638672,-0.3146275627267074,-3.0747599634463696,0.7359197646540324,0.3905846088913656,0.7562292950033769,2.0126903623388985,-0.9417501065215361,0.0605632892435693,0.7150989468002216,1.7112704379063017,-0.05141026396406195,0.746287932383283,0.049952739784688345,2.0393266553986016,-0.19115632906252,2.53897699824267,0.06677133714948412,0.18331594429555945,-0.28503842514401506,1.3961232808599877,-2.7523778166341635,0.08231536758941917,1.153297736148488,1.1121083772525953,-1.093043512712841],\"xaxis\":\"x\",\"yaxis\":\"y\",\"type\":\"histogram\"},{\"line\":{\"color\":\"rgba(128, 128, 128, 1.0)\",\"dash\":\"solid\",\"shape\":\"linear\",\"width\":1.3},\"marker\":{\"size\":2,\"symbol\":\"circle\"},\"mode\":\"markers\",\"name\":\"A\",\"text\":\"\",\"x\":[-0.5913402385474351,1.291121332745925,-1.466747037145677,-0.3322969627060832,0.1187700874875702,-0.24207599262733395,-0.6226001284660565,1.272572536022268,-0.04171014781234873,0.18080898864233078,-1.2586879467504293,-0.5135337558658654,-0.8473200180220722,0.8604218703730332,-1.7856776836306145,-0.5919786283309229,-0.1359138565576188,0.601459009542728,-0.8431732058899216,0.9863151365620875,1.105404116926311,-2.30989555478306,0.6345142872351962,-0.8127965787904066,-1.2339041212978519,0.9146263775285808,-1.070146080674142,-0.2821436508345468,0.21783932695449573,-1.0377114276217354,2.551428546572451,-0.7394626721208684,-0.21305885706846572,-0.9914679216957235,-1.3556255372723736,-0.623899335595533,-1.4508558168496688,-0.9740248766369816,-1.9807426870934963,-0.3173781925508749,-1.8959224489347248,2.0313578713934053,-0.7251622914463774,0.008575265151005882,1.0438778960596895,0.2974943865792594,-0.33413957586703646,0.8044725946533433,-1.737641661567125,0.08412351848049478,1.336762991048388,-2.2746010546139583,-0.12327330870798514,0.821392336743205,0.5264790702487522,2.0717612284105895,0.6576114588811612,-0.41184883862426647,-0.16505253016242047,0.8468452828212563,-1.5274103886728592,0.6571478551011237,0.8391958399037819,-1.6519628230129517,0.012091368496789549,-0.28651555423397385,-0.0334744400687433,0.9048678102827954,0.03883455535784291,-1.369637488107185,-1.7295384107389804,-2.1987599151098713,0.73107072483283,0.9924865836621327,-0.22755603733200772,0.7116799179162969,1.8516026144301145,-0.24928062944149215,-2.27293167085413,1.3784823080181787,0.7086191282068263,1.3877586827610382,-1.1304517131677987,0.6464728780029316,2.070760542940685,-1.4634696830461231,0.6571830263885893,-2.2943196819244234,0.19188186933341375,-1.295083155007402,0.4119242303807797,-1.5338654192597836,0.0729083197894447,-0.5401987615233624,1.2712282833943516,-0.00030327787264339837,-0.3492774061960846,0.5559914807905486,-0.6696434699440698,-0.4733264851114375],\"xaxis\":\"x2\",\"y\":[-1.3901949841581454,1.069922847106397,0.2055027592448163,-0.1291368074106173,1.1943389288630906,-1.3292319904526035,0.10172609409471008,-0.3221745473763238,-1.0933289223171323,0.8962065258841243,-0.7786362671054254,-0.011645302090516776,0.44924603650584644,-0.8256606600330482,0.4933240135491313,-1.425021249604569,-0.7980154456139854,1.2716639235371983,0.983634830370605,-0.0131853266453508,0.07970050864372122,-1.3183877932587922,-0.06041057639929024,-0.11134888702932266,-2.1499368132801058,-0.5514439544355939,0.3914604681738653,0.8890679991657041,0.28542034976793784,-0.6304761846712792,-0.1878088747248309,0.8889529698002793,0.45778071476476473,-0.12327331670334513,-0.29537435268245876,-0.08960332054704244,0.10432345628202129,0.8461532567992535,0.803601424416993,0.9491203637480421,-0.37765332489133335,-0.38752199701339685,0.8723021363291167,2.1204431464464233,2.0875076710319154,-0.26696339954003034,0.8106619705258042,-0.2214274625076834,-0.7118090777153491,-1.688032206163727,0.6028689425515956,-1.6958500587474632,0.2807016925333527,-1.0509375083617725,0.4448628824772095,1.3435148948892826,0.4203795505337432,-0.7635183838411761,-0.9406507307083636,0.09562761051184446,-1.272869074454918,1.0960340944547309,1.0625238646050967,-0.17771685453414426,1.845712049875227,0.14235070116325824,-0.7941112509036065,1.3529661858705617,0.9804622209996304,1.6876064912058704,-0.670156983203831,-1.3323507004611381,1.3730453556738749,0.7882964598361236,-1.0531434522638672,-0.3146275627267074,-3.0747599634463696,0.7359197646540324,0.3905846088913656,0.7562292950033769,2.0126903623388985,-0.9417501065215361,0.0605632892435693,0.7150989468002216,1.7112704379063017,-0.05141026396406195,0.746287932383283,0.049952739784688345,2.0393266553986016,-0.19115632906252,2.53897699824267,0.06677133714948412,0.18331594429555945,-0.28503842514401506,1.3961232808599877,-2.7523778166341635,0.08231536758941917,1.153297736148488,1.1121083772525953,-1.093043512712841],\"yaxis\":\"y2\",\"type\":\"scatter\"},{\"line\":{\"color\":\"rgba(128, 128, 128, 1.0)\",\"dash\":\"solid\",\"shape\":\"linear\",\"width\":1.3},\"marker\":{\"size\":2,\"symbol\":\"circle\"},\"mode\":\"markers\",\"name\":\"A\",\"text\":\"\",\"x\":[-0.785875264835871,-0.4166244994772151,-0.4012629913852263,0.35465776564303464,-1.2010715803387078,1.010132350569846,0.08525021904882284,0.9913068992278078,-0.20627625694363427,-0.39379874099348233,-1.9899711853240618,2.016902779986095,0.21942069768439904,0.9653599591543708,0.0650012377037777,0.5378866524312556,2.3117149167340547,-0.9952944400819026,-0.4906822422944613,0.027350439649948162,-0.24975107886428458,-0.09943026640522272,0.1123797297978677,0.9658136828196481,0.8259171327781375,-0.012058481482416512,-0.2930854867236735,0.9208286718468252,-0.08502981603455544,-0.29375019676428166,-0.4284820514392859,-0.5129567946473805,-0.29282711700748276,0.47092136047578004,-0.544370958359331,1.9593662159254581,0.8379813435248245,1.8980392668324881,-0.570786792976965,-1.2925657743793226,1.0274945865679836,0.9144373237751301,0.02602647005560698,1.117134203505103,1.1313721906937841,-0.954887378617882,-0.14066251211986164,-0.9863734091076309,1.2047248536631938,-0.9041105126871736,0.16770383911998366,-1.5653034756292863,0.9835094566234339,-1.674801747158713,1.2022417086271955,-1.4655095098476731,-0.8398975121203412,0.6885484042103989,1.4019715189660475,0.7628915097199818,0.9824134834001975,0.8703114682823871,-0.8791191144240288,-0.4406355814011222,1.9548440405419485,-0.6403966417549738,-0.3297421993455612,-0.9561112489200627,2.055600140616719,-0.1267334579223654,0.13527487498749208,-0.3502036685632511,0.07978188196264824,0.2793091064311869,-1.5161061990362936,2.938966979435973,1.1993617984043197,0.5552392402522058,0.6446907286033249,0.7951349393121572,-0.07119184948998257,-1.265494120750372,1.3671712228716615,1.5931754741367044,-0.8480960310505018,0.7359995323169594,1.7367807919619345,1.2641557614077659,0.9123431560252537,0.6599695965653736,0.35136142053164515,-1.3253365161436161,0.06942296767108237,-1.2371172251059135,-0.8267948125108647,0.3569766765432963,-0.5854897504987103,-1.0130185455299794,1.527728465225669,-0.5778727496641319],\"xaxis\":\"x3\",\"y\":[-1.3901949841581454,1.069922847106397,0.2055027592448163,-0.1291368074106173,1.1943389288630906,-1.3292319904526035,0.10172609409471008,-0.3221745473763238,-1.0933289223171323,0.8962065258841243,-0.7786362671054254,-0.011645302090516776,0.44924603650584644,-0.8256606600330482,0.4933240135491313,-1.425021249604569,-0.7980154456139854,1.2716639235371983,0.983634830370605,-0.0131853266453508,0.07970050864372122,-1.3183877932587922,-0.06041057639929024,-0.11134888702932266,-2.1499368132801058,-0.5514439544355939,0.3914604681738653,0.8890679991657041,0.28542034976793784,-0.6304761846712792,-0.1878088747248309,0.8889529698002793,0.45778071476476473,-0.12327331670334513,-0.29537435268245876,-0.08960332054704244,0.10432345628202129,0.8461532567992535,0.803601424416993,0.9491203637480421,-0.37765332489133335,-0.38752199701339685,0.8723021363291167,2.1204431464464233,2.0875076710319154,-0.26696339954003034,0.8106619705258042,-0.2214274625076834,-0.7118090777153491,-1.688032206163727,0.6028689425515956,-1.6958500587474632,0.2807016925333527,-1.0509375083617725,0.4448628824772095,1.3435148948892826,0.4203795505337432,-0.7635183838411761,-0.9406507307083636,0.09562761051184446,-1.272869074454918,1.0960340944547309,1.0625238646050967,-0.17771685453414426,1.845712049875227,0.14235070116325824,-0.7941112509036065,1.3529661858705617,0.9804622209996304,1.6876064912058704,-0.670156983203831,-1.3323507004611381,1.3730453556738749,0.7882964598361236,-1.0531434522638672,-0.3146275627267074,-3.0747599634463696,0.7359197646540324,0.3905846088913656,0.7562292950033769,2.0126903623388985,-0.9417501065215361,0.0605632892435693,0.7150989468002216,1.7112704379063017,-0.05141026396406195,0.746287932383283,0.049952739784688345,2.0393266553986016,-0.19115632906252,2.53897699824267,0.06677133714948412,0.18331594429555945,-0.28503842514401506,1.3961232808599877,-2.7523778166341635,0.08231536758941917,1.153297736148488,1.1121083772525953,-1.093043512712841],\"yaxis\":\"y3\",\"type\":\"scatter\"},{\"line\":{\"color\":\"rgba(128, 128, 128, 1.0)\",\"dash\":\"solid\",\"shape\":\"linear\",\"width\":1.3},\"marker\":{\"size\":2,\"symbol\":\"circle\"},\"mode\":\"markers\",\"name\":\"A\",\"text\":\"\",\"x\":[0.6050625689237626,-0.5341663568620643,-0.6836949044788398,0.07150173474630343,-0.6750773662024668,-0.7617086353343657,-0.5773269060577014,-0.6722108645091384,-0.21365651739078018,0.08682729857759316,-0.42508350521695254,0.6749641896212607,-1.235231847370315,0.36374581335936285,-0.25752850940387695,-2.1202163871461845,1.520144202197967,0.5748406590379539,2.1885070807222777,-0.5719225757321915,-1.2832582246004933,-0.795470339504796,-1.6144812112086262,-0.19476178681763415,-0.10823026798575994,0.15117885844929885,0.23676701823097215,0.1517495469501139,-0.0920543441173036,0.1907696921589052,-2.0227169531716775,0.4069550950745697,1.4073678829529794,1.0755130342966395,-0.6748849313815257,0.7241121487788296,0.863553959985662,-0.3520551664012393,-0.32412544887827355,1.958291163488966,1.5050110344534935,1.0415573936258324,2.4188972469130734,-0.5008774310667011,-1.234654098897178,0.8963305952098362,-0.9021216405790684,-0.6233881300300523,0.013337507707671902,-0.7730494125701088,1.1413394403500947,-1.0477589747661205,0.05053514181345651,-1.2503965871640315,1.2211793337128891,-1.5094149934599055,-1.0160217884134923,-0.20349728302467668,-0.07854718083733599,-0.9272529547141967,-0.3712332473269593,-1.0522604522758205,-1.917465889733078,0.2376742492853061,1.1519547703116644,-1.455124153601072,-0.6600537871647677,0.6678066605591857,-0.02877202928153565,-0.7813270767924949,-0.8952513220408085,-0.9295037537536113,0.41091166047020594,-0.05955577829210657,0.2592170670523021,-1.7424928776091053,0.23494228555283372,1.515295059959739,-2.3257581043745423,0.6916107794778338,0.07264730008617393,-2.024982315915042,-1.1130599114854702,0.7462155936941378,-1.1083276458838178,-1.3543272378931481,-0.0027816881168835636,-0.3244374967628371,1.3152082281893835,-0.35435184207843107,-0.9260684667348138,0.4217822715272979,0.3262246914125725,1.552240124004772,-0.9848880568637277,-0.2534404066650368,-0.9301474996295686,0.8632693660993879,0.36631334405918703,-0.41065888156248803],\"xaxis\":\"x4\",\"y\":[-1.3901949841581454,1.069922847106397,0.2055027592448163,-0.1291368074106173,1.1943389288630906,-1.3292319904526035,0.10172609409471008,-0.3221745473763238,-1.0933289223171323,0.8962065258841243,-0.7786362671054254,-0.011645302090516776,0.44924603650584644,-0.8256606600330482,0.4933240135491313,-1.425021249604569,-0.7980154456139854,1.2716639235371983,0.983634830370605,-0.0131853266453508,0.07970050864372122,-1.3183877932587922,-0.06041057639929024,-0.11134888702932266,-2.1499368132801058,-0.5514439544355939,0.3914604681738653,0.8890679991657041,0.28542034976793784,-0.6304761846712792,-0.1878088747248309,0.8889529698002793,0.45778071476476473,-0.12327331670334513,-0.29537435268245876,-0.08960332054704244,0.10432345628202129,0.8461532567992535,0.803601424416993,0.9491203637480421,-0.37765332489133335,-0.38752199701339685,0.8723021363291167,2.1204431464464233,2.0875076710319154,-0.26696339954003034,0.8106619705258042,-0.2214274625076834,-0.7118090777153491,-1.688032206163727,0.6028689425515956,-1.6958500587474632,0.2807016925333527,-1.0509375083617725,0.4448628824772095,1.3435148948892826,0.4203795505337432,-0.7635183838411761,-0.9406507307083636,0.09562761051184446,-1.272869074454918,1.0960340944547309,1.0625238646050967,-0.17771685453414426,1.845712049875227,0.14235070116325824,-0.7941112509036065,1.3529661858705617,0.9804622209996304,1.6876064912058704,-0.670156983203831,-1.3323507004611381,1.3730453556738749,0.7882964598361236,-1.0531434522638672,-0.3146275627267074,-3.0747599634463696,0.7359197646540324,0.3905846088913656,0.7562292950033769,2.0126903623388985,-0.9417501065215361,0.0605632892435693,0.7150989468002216,1.7112704379063017,-0.05141026396406195,0.746287932383283,0.049952739784688345,2.0393266553986016,-0.19115632906252,2.53897699824267,0.06677133714948412,0.18331594429555945,-0.28503842514401506,1.3961232808599877,-2.7523778166341635,0.08231536758941917,1.153297736148488,1.1121083772525953,-1.093043512712841],\"yaxis\":\"y4\",\"type\":\"scatter\"},{\"line\":{\"color\":\"rgba(128, 128, 128, 1.0)\",\"dash\":\"solid\",\"shape\":\"linear\",\"width\":1.3},\"marker\":{\"size\":2,\"symbol\":\"circle\"},\"mode\":\"markers\",\"name\":\"B\",\"text\":\"\",\"x\":[-1.3901949841581454,1.069922847106397,0.2055027592448163,-0.1291368074106173,1.1943389288630906,-1.3292319904526035,0.10172609409471008,-0.3221745473763238,-1.0933289223171323,0.8962065258841243,-0.7786362671054254,-0.011645302090516776,0.44924603650584644,-0.8256606600330482,0.4933240135491313,-1.425021249604569,-0.7980154456139854,1.2716639235371983,0.983634830370605,-0.0131853266453508,0.07970050864372122,-1.3183877932587922,-0.06041057639929024,-0.11134888702932266,-2.1499368132801058,-0.5514439544355939,0.3914604681738653,0.8890679991657041,0.28542034976793784,-0.6304761846712792,-0.1878088747248309,0.8889529698002793,0.45778071476476473,-0.12327331670334513,-0.29537435268245876,-0.08960332054704244,0.10432345628202129,0.8461532567992535,0.803601424416993,0.9491203637480421,-0.37765332489133335,-0.38752199701339685,0.8723021363291167,2.1204431464464233,2.0875076710319154,-0.26696339954003034,0.8106619705258042,-0.2214274625076834,-0.7118090777153491,-1.688032206163727,0.6028689425515956,-1.6958500587474632,0.2807016925333527,-1.0509375083617725,0.4448628824772095,1.3435148948892826,0.4203795505337432,-0.7635183838411761,-0.9406507307083636,0.09562761051184446,-1.272869074454918,1.0960340944547309,1.0625238646050967,-0.17771685453414426,1.845712049875227,0.14235070116325824,-0.7941112509036065,1.3529661858705617,0.9804622209996304,1.6876064912058704,-0.670156983203831,-1.3323507004611381,1.3730453556738749,0.7882964598361236,-1.0531434522638672,-0.3146275627267074,-3.0747599634463696,0.7359197646540324,0.3905846088913656,0.7562292950033769,2.0126903623388985,-0.9417501065215361,0.0605632892435693,0.7150989468002216,1.7112704379063017,-0.05141026396406195,0.746287932383283,0.049952739784688345,2.0393266553986016,-0.19115632906252,2.53897699824267,0.06677133714948412,0.18331594429555945,-0.28503842514401506,1.3961232808599877,-2.7523778166341635,0.08231536758941917,1.153297736148488,1.1121083772525953,-1.093043512712841],\"xaxis\":\"x5\",\"y\":[-0.5913402385474351,1.291121332745925,-1.466747037145677,-0.3322969627060832,0.1187700874875702,-0.24207599262733395,-0.6226001284660565,1.272572536022268,-0.04171014781234873,0.18080898864233078,-1.2586879467504293,-0.5135337558658654,-0.8473200180220722,0.8604218703730332,-1.7856776836306145,-0.5919786283309229,-0.1359138565576188,0.601459009542728,-0.8431732058899216,0.9863151365620875,1.105404116926311,-2.30989555478306,0.6345142872351962,-0.8127965787904066,-1.2339041212978519,0.9146263775285808,-1.070146080674142,-0.2821436508345468,0.21783932695449573,-1.0377114276217354,2.551428546572451,-0.7394626721208684,-0.21305885706846572,-0.9914679216957235,-1.3556255372723736,-0.623899335595533,-1.4508558168496688,-0.9740248766369816,-1.9807426870934963,-0.3173781925508749,-1.8959224489347248,2.0313578713934053,-0.7251622914463774,0.008575265151005882,1.0438778960596895,0.2974943865792594,-0.33413957586703646,0.8044725946533433,-1.737641661567125,0.08412351848049478,1.336762991048388,-2.2746010546139583,-0.12327330870798514,0.821392336743205,0.5264790702487522,2.0717612284105895,0.6576114588811612,-0.41184883862426647,-0.16505253016242047,0.8468452828212563,-1.5274103886728592,0.6571478551011237,0.8391958399037819,-1.6519628230129517,0.012091368496789549,-0.28651555423397385,-0.0334744400687433,0.9048678102827954,0.03883455535784291,-1.369637488107185,-1.7295384107389804,-2.1987599151098713,0.73107072483283,0.9924865836621327,-0.22755603733200772,0.7116799179162969,1.8516026144301145,-0.24928062944149215,-2.27293167085413,1.3784823080181787,0.7086191282068263,1.3877586827610382,-1.1304517131677987,0.6464728780029316,2.070760542940685,-1.4634696830461231,0.6571830263885893,-2.2943196819244234,0.19188186933341375,-1.295083155007402,0.4119242303807797,-1.5338654192597836,0.0729083197894447,-0.5401987615233624,1.2712282833943516,-0.00030327787264339837,-0.3492774061960846,0.5559914807905486,-0.6696434699440698,-0.4733264851114375],\"yaxis\":\"y5\",\"type\":\"scatter\"},{\"histfunc\":\"count\",\"histnorm\":\"\",\"marker\":{\"color\":\"rgba(55, 128, 191, 1.0)\",\"line\":{\"color\":\"#4D5663\",\"width\":1.3}},\"name\":\"B\",\"nbinsx\":10,\"opacity\":0.8,\"orientation\":\"v\",\"x\":[-0.5913402385474351,1.291121332745925,-1.466747037145677,-0.3322969627060832,0.1187700874875702,-0.24207599262733395,-0.6226001284660565,1.272572536022268,-0.04171014781234873,0.18080898864233078,-1.2586879467504293,-0.5135337558658654,-0.8473200180220722,0.8604218703730332,-1.7856776836306145,-0.5919786283309229,-0.1359138565576188,0.601459009542728,-0.8431732058899216,0.9863151365620875,1.105404116926311,-2.30989555478306,0.6345142872351962,-0.8127965787904066,-1.2339041212978519,0.9146263775285808,-1.070146080674142,-0.2821436508345468,0.21783932695449573,-1.0377114276217354,2.551428546572451,-0.7394626721208684,-0.21305885706846572,-0.9914679216957235,-1.3556255372723736,-0.623899335595533,-1.4508558168496688,-0.9740248766369816,-1.9807426870934963,-0.3173781925508749,-1.8959224489347248,2.0313578713934053,-0.7251622914463774,0.008575265151005882,1.0438778960596895,0.2974943865792594,-0.33413957586703646,0.8044725946533433,-1.737641661567125,0.08412351848049478,1.336762991048388,-2.2746010546139583,-0.12327330870798514,0.821392336743205,0.5264790702487522,2.0717612284105895,0.6576114588811612,-0.41184883862426647,-0.16505253016242047,0.8468452828212563,-1.5274103886728592,0.6571478551011237,0.8391958399037819,-1.6519628230129517,0.012091368496789549,-0.28651555423397385,-0.0334744400687433,0.9048678102827954,0.03883455535784291,-1.369637488107185,-1.7295384107389804,-2.1987599151098713,0.73107072483283,0.9924865836621327,-0.22755603733200772,0.7116799179162969,1.8516026144301145,-0.24928062944149215,-2.27293167085413,1.3784823080181787,0.7086191282068263,1.3877586827610382,-1.1304517131677987,0.6464728780029316,2.070760542940685,-1.4634696830461231,0.6571830263885893,-2.2943196819244234,0.19188186933341375,-1.295083155007402,0.4119242303807797,-1.5338654192597836,0.0729083197894447,-0.5401987615233624,1.2712282833943516,-0.00030327787264339837,-0.3492774061960846,0.5559914807905486,-0.6696434699440698,-0.4733264851114375],\"xaxis\":\"x6\",\"yaxis\":\"y6\",\"type\":\"histogram\"},{\"line\":{\"color\":\"rgba(128, 128, 128, 1.0)\",\"dash\":\"solid\",\"shape\":\"linear\",\"width\":1.3},\"marker\":{\"size\":2,\"symbol\":\"circle\"},\"mode\":\"markers\",\"name\":\"B\",\"text\":\"\",\"x\":[-0.785875264835871,-0.4166244994772151,-0.4012629913852263,0.35465776564303464,-1.2010715803387078,1.010132350569846,0.08525021904882284,0.9913068992278078,-0.20627625694363427,-0.39379874099348233,-1.9899711853240618,2.016902779986095,0.21942069768439904,0.9653599591543708,0.0650012377037777,0.5378866524312556,2.3117149167340547,-0.9952944400819026,-0.4906822422944613,0.027350439649948162,-0.24975107886428458,-0.09943026640522272,0.1123797297978677,0.9658136828196481,0.8259171327781375,-0.012058481482416512,-0.2930854867236735,0.9208286718468252,-0.08502981603455544,-0.29375019676428166,-0.4284820514392859,-0.5129567946473805,-0.29282711700748276,0.47092136047578004,-0.544370958359331,1.9593662159254581,0.8379813435248245,1.8980392668324881,-0.570786792976965,-1.2925657743793226,1.0274945865679836,0.9144373237751301,0.02602647005560698,1.117134203505103,1.1313721906937841,-0.954887378617882,-0.14066251211986164,-0.9863734091076309,1.2047248536631938,-0.9041105126871736,0.16770383911998366,-1.5653034756292863,0.9835094566234339,-1.674801747158713,1.2022417086271955,-1.4655095098476731,-0.8398975121203412,0.6885484042103989,1.4019715189660475,0.7628915097199818,0.9824134834001975,0.8703114682823871,-0.8791191144240288,-0.4406355814011222,1.9548440405419485,-0.6403966417549738,-0.3297421993455612,-0.9561112489200627,2.055600140616719,-0.1267334579223654,0.13527487498749208,-0.3502036685632511,0.07978188196264824,0.2793091064311869,-1.5161061990362936,2.938966979435973,1.1993617984043197,0.5552392402522058,0.6446907286033249,0.7951349393121572,-0.07119184948998257,-1.265494120750372,1.3671712228716615,1.5931754741367044,-0.8480960310505018,0.7359995323169594,1.7367807919619345,1.2641557614077659,0.9123431560252537,0.6599695965653736,0.35136142053164515,-1.3253365161436161,0.06942296767108237,-1.2371172251059135,-0.8267948125108647,0.3569766765432963,-0.5854897504987103,-1.0130185455299794,1.527728465225669,-0.5778727496641319],\"xaxis\":\"x7\",\"y\":[-0.5913402385474351,1.291121332745925,-1.466747037145677,-0.3322969627060832,0.1187700874875702,-0.24207599262733395,-0.6226001284660565,1.272572536022268,-0.04171014781234873,0.18080898864233078,-1.2586879467504293,-0.5135337558658654,-0.8473200180220722,0.8604218703730332,-1.7856776836306145,-0.5919786283309229,-0.1359138565576188,0.601459009542728,-0.8431732058899216,0.9863151365620875,1.105404116926311,-2.30989555478306,0.6345142872351962,-0.8127965787904066,-1.2339041212978519,0.9146263775285808,-1.070146080674142,-0.2821436508345468,0.21783932695449573,-1.0377114276217354,2.551428546572451,-0.7394626721208684,-0.21305885706846572,-0.9914679216957235,-1.3556255372723736,-0.623899335595533,-1.4508558168496688,-0.9740248766369816,-1.9807426870934963,-0.3173781925508749,-1.8959224489347248,2.0313578713934053,-0.7251622914463774,0.008575265151005882,1.0438778960596895,0.2974943865792594,-0.33413957586703646,0.8044725946533433,-1.737641661567125,0.08412351848049478,1.336762991048388,-2.2746010546139583,-0.12327330870798514,0.821392336743205,0.5264790702487522,2.0717612284105895,0.6576114588811612,-0.41184883862426647,-0.16505253016242047,0.8468452828212563,-1.5274103886728592,0.6571478551011237,0.8391958399037819,-1.6519628230129517,0.012091368496789549,-0.28651555423397385,-0.0334744400687433,0.9048678102827954,0.03883455535784291,-1.369637488107185,-1.7295384107389804,-2.1987599151098713,0.73107072483283,0.9924865836621327,-0.22755603733200772,0.7116799179162969,1.8516026144301145,-0.24928062944149215,-2.27293167085413,1.3784823080181787,0.7086191282068263,1.3877586827610382,-1.1304517131677987,0.6464728780029316,2.070760542940685,-1.4634696830461231,0.6571830263885893,-2.2943196819244234,0.19188186933341375,-1.295083155007402,0.4119242303807797,-1.5338654192597836,0.0729083197894447,-0.5401987615233624,1.2712282833943516,-0.00030327787264339837,-0.3492774061960846,0.5559914807905486,-0.6696434699440698,-0.4733264851114375],\"yaxis\":\"y7\",\"type\":\"scatter\"},{\"line\":{\"color\":\"rgba(128, 128, 128, 1.0)\",\"dash\":\"solid\",\"shape\":\"linear\",\"width\":1.3},\"marker\":{\"size\":2,\"symbol\":\"circle\"},\"mode\":\"markers\",\"name\":\"B\",\"text\":\"\",\"x\":[0.6050625689237626,-0.5341663568620643,-0.6836949044788398,0.07150173474630343,-0.6750773662024668,-0.7617086353343657,-0.5773269060577014,-0.6722108645091384,-0.21365651739078018,0.08682729857759316,-0.42508350521695254,0.6749641896212607,-1.235231847370315,0.36374581335936285,-0.25752850940387695,-2.1202163871461845,1.520144202197967,0.5748406590379539,2.1885070807222777,-0.5719225757321915,-1.2832582246004933,-0.795470339504796,-1.6144812112086262,-0.19476178681763415,-0.10823026798575994,0.15117885844929885,0.23676701823097215,0.1517495469501139,-0.0920543441173036,0.1907696921589052,-2.0227169531716775,0.4069550950745697,1.4073678829529794,1.0755130342966395,-0.6748849313815257,0.7241121487788296,0.863553959985662,-0.3520551664012393,-0.32412544887827355,1.958291163488966,1.5050110344534935,1.0415573936258324,2.4188972469130734,-0.5008774310667011,-1.234654098897178,0.8963305952098362,-0.9021216405790684,-0.6233881300300523,0.013337507707671902,-0.7730494125701088,1.1413394403500947,-1.0477589747661205,0.05053514181345651,-1.2503965871640315,1.2211793337128891,-1.5094149934599055,-1.0160217884134923,-0.20349728302467668,-0.07854718083733599,-0.9272529547141967,-0.3712332473269593,-1.0522604522758205,-1.917465889733078,0.2376742492853061,1.1519547703116644,-1.455124153601072,-0.6600537871647677,0.6678066605591857,-0.02877202928153565,-0.7813270767924949,-0.8952513220408085,-0.9295037537536113,0.41091166047020594,-0.05955577829210657,0.2592170670523021,-1.7424928776091053,0.23494228555283372,1.515295059959739,-2.3257581043745423,0.6916107794778338,0.07264730008617393,-2.024982315915042,-1.1130599114854702,0.7462155936941378,-1.1083276458838178,-1.3543272378931481,-0.0027816881168835636,-0.3244374967628371,1.3152082281893835,-0.35435184207843107,-0.9260684667348138,0.4217822715272979,0.3262246914125725,1.552240124004772,-0.9848880568637277,-0.2534404066650368,-0.9301474996295686,0.8632693660993879,0.36631334405918703,-0.41065888156248803],\"xaxis\":\"x8\",\"y\":[-0.5913402385474351,1.291121332745925,-1.466747037145677,-0.3322969627060832,0.1187700874875702,-0.24207599262733395,-0.6226001284660565,1.272572536022268,-0.04171014781234873,0.18080898864233078,-1.2586879467504293,-0.5135337558658654,-0.8473200180220722,0.8604218703730332,-1.7856776836306145,-0.5919786283309229,-0.1359138565576188,0.601459009542728,-0.8431732058899216,0.9863151365620875,1.105404116926311,-2.30989555478306,0.6345142872351962,-0.8127965787904066,-1.2339041212978519,0.9146263775285808,-1.070146080674142,-0.2821436508345468,0.21783932695449573,-1.0377114276217354,2.551428546572451,-0.7394626721208684,-0.21305885706846572,-0.9914679216957235,-1.3556255372723736,-0.623899335595533,-1.4508558168496688,-0.9740248766369816,-1.9807426870934963,-0.3173781925508749,-1.8959224489347248,2.0313578713934053,-0.7251622914463774,0.008575265151005882,1.0438778960596895,0.2974943865792594,-0.33413957586703646,0.8044725946533433,-1.737641661567125,0.08412351848049478,1.336762991048388,-2.2746010546139583,-0.12327330870798514,0.821392336743205,0.5264790702487522,2.0717612284105895,0.6576114588811612,-0.41184883862426647,-0.16505253016242047,0.8468452828212563,-1.5274103886728592,0.6571478551011237,0.8391958399037819,-1.6519628230129517,0.012091368496789549,-0.28651555423397385,-0.0334744400687433,0.9048678102827954,0.03883455535784291,-1.369637488107185,-1.7295384107389804,-2.1987599151098713,0.73107072483283,0.9924865836621327,-0.22755603733200772,0.7116799179162969,1.8516026144301145,-0.24928062944149215,-2.27293167085413,1.3784823080181787,0.7086191282068263,1.3877586827610382,-1.1304517131677987,0.6464728780029316,2.070760542940685,-1.4634696830461231,0.6571830263885893,-2.2943196819244234,0.19188186933341375,-1.295083155007402,0.4119242303807797,-1.5338654192597836,0.0729083197894447,-0.5401987615233624,1.2712282833943516,-0.00030327787264339837,-0.3492774061960846,0.5559914807905486,-0.6696434699440698,-0.4733264851114375],\"yaxis\":\"y8\",\"type\":\"scatter\"},{\"line\":{\"color\":\"rgba(128, 128, 128, 1.0)\",\"dash\":\"solid\",\"shape\":\"linear\",\"width\":1.3},\"marker\":{\"size\":2,\"symbol\":\"circle\"},\"mode\":\"markers\",\"name\":\"C\",\"text\":\"\",\"x\":[-1.3901949841581454,1.069922847106397,0.2055027592448163,-0.1291368074106173,1.1943389288630906,-1.3292319904526035,0.10172609409471008,-0.3221745473763238,-1.0933289223171323,0.8962065258841243,-0.7786362671054254,-0.011645302090516776,0.44924603650584644,-0.8256606600330482,0.4933240135491313,-1.425021249604569,-0.7980154456139854,1.2716639235371983,0.983634830370605,-0.0131853266453508,0.07970050864372122,-1.3183877932587922,-0.06041057639929024,-0.11134888702932266,-2.1499368132801058,-0.5514439544355939,0.3914604681738653,0.8890679991657041,0.28542034976793784,-0.6304761846712792,-0.1878088747248309,0.8889529698002793,0.45778071476476473,-0.12327331670334513,-0.29537435268245876,-0.08960332054704244,0.10432345628202129,0.8461532567992535,0.803601424416993,0.9491203637480421,-0.37765332489133335,-0.38752199701339685,0.8723021363291167,2.1204431464464233,2.0875076710319154,-0.26696339954003034,0.8106619705258042,-0.2214274625076834,-0.7118090777153491,-1.688032206163727,0.6028689425515956,-1.6958500587474632,0.2807016925333527,-1.0509375083617725,0.4448628824772095,1.3435148948892826,0.4203795505337432,-0.7635183838411761,-0.9406507307083636,0.09562761051184446,-1.272869074454918,1.0960340944547309,1.0625238646050967,-0.17771685453414426,1.845712049875227,0.14235070116325824,-0.7941112509036065,1.3529661858705617,0.9804622209996304,1.6876064912058704,-0.670156983203831,-1.3323507004611381,1.3730453556738749,0.7882964598361236,-1.0531434522638672,-0.3146275627267074,-3.0747599634463696,0.7359197646540324,0.3905846088913656,0.7562292950033769,2.0126903623388985,-0.9417501065215361,0.0605632892435693,0.7150989468002216,1.7112704379063017,-0.05141026396406195,0.746287932383283,0.049952739784688345,2.0393266553986016,-0.19115632906252,2.53897699824267,0.06677133714948412,0.18331594429555945,-0.28503842514401506,1.3961232808599877,-2.7523778166341635,0.08231536758941917,1.153297736148488,1.1121083772525953,-1.093043512712841],\"xaxis\":\"x9\",\"y\":[-0.785875264835871,-0.4166244994772151,-0.4012629913852263,0.35465776564303464,-1.2010715803387078,1.010132350569846,0.08525021904882284,0.9913068992278078,-0.20627625694363427,-0.39379874099348233,-1.9899711853240618,2.016902779986095,0.21942069768439904,0.9653599591543708,0.0650012377037777,0.5378866524312556,2.3117149167340547,-0.9952944400819026,-0.4906822422944613,0.027350439649948162,-0.24975107886428458,-0.09943026640522272,0.1123797297978677,0.9658136828196481,0.8259171327781375,-0.012058481482416512,-0.2930854867236735,0.9208286718468252,-0.08502981603455544,-0.29375019676428166,-0.4284820514392859,-0.5129567946473805,-0.29282711700748276,0.47092136047578004,-0.544370958359331,1.9593662159254581,0.8379813435248245,1.8980392668324881,-0.570786792976965,-1.2925657743793226,1.0274945865679836,0.9144373237751301,0.02602647005560698,1.117134203505103,1.1313721906937841,-0.954887378617882,-0.14066251211986164,-0.9863734091076309,1.2047248536631938,-0.9041105126871736,0.16770383911998366,-1.5653034756292863,0.9835094566234339,-1.674801747158713,1.2022417086271955,-1.4655095098476731,-0.8398975121203412,0.6885484042103989,1.4019715189660475,0.7628915097199818,0.9824134834001975,0.8703114682823871,-0.8791191144240288,-0.4406355814011222,1.9548440405419485,-0.6403966417549738,-0.3297421993455612,-0.9561112489200627,2.055600140616719,-0.1267334579223654,0.13527487498749208,-0.3502036685632511,0.07978188196264824,0.2793091064311869,-1.5161061990362936,2.938966979435973,1.1993617984043197,0.5552392402522058,0.6446907286033249,0.7951349393121572,-0.07119184948998257,-1.265494120750372,1.3671712228716615,1.5931754741367044,-0.8480960310505018,0.7359995323169594,1.7367807919619345,1.2641557614077659,0.9123431560252537,0.6599695965653736,0.35136142053164515,-1.3253365161436161,0.06942296767108237,-1.2371172251059135,-0.8267948125108647,0.3569766765432963,-0.5854897504987103,-1.0130185455299794,1.527728465225669,-0.5778727496641319],\"yaxis\":\"y9\",\"type\":\"scatter\"},{\"line\":{\"color\":\"rgba(128, 128, 128, 1.0)\",\"dash\":\"solid\",\"shape\":\"linear\",\"width\":1.3},\"marker\":{\"size\":2,\"symbol\":\"circle\"},\"mode\":\"markers\",\"name\":\"C\",\"text\":\"\",\"x\":[-0.5913402385474351,1.291121332745925,-1.466747037145677,-0.3322969627060832,0.1187700874875702,-0.24207599262733395,-0.6226001284660565,1.272572536022268,-0.04171014781234873,0.18080898864233078,-1.2586879467504293,-0.5135337558658654,-0.8473200180220722,0.8604218703730332,-1.7856776836306145,-0.5919786283309229,-0.1359138565576188,0.601459009542728,-0.8431732058899216,0.9863151365620875,1.105404116926311,-2.30989555478306,0.6345142872351962,-0.8127965787904066,-1.2339041212978519,0.9146263775285808,-1.070146080674142,-0.2821436508345468,0.21783932695449573,-1.0377114276217354,2.551428546572451,-0.7394626721208684,-0.21305885706846572,-0.9914679216957235,-1.3556255372723736,-0.623899335595533,-1.4508558168496688,-0.9740248766369816,-1.9807426870934963,-0.3173781925508749,-1.8959224489347248,2.0313578713934053,-0.7251622914463774,0.008575265151005882,1.0438778960596895,0.2974943865792594,-0.33413957586703646,0.8044725946533433,-1.737641661567125,0.08412351848049478,1.336762991048388,-2.2746010546139583,-0.12327330870798514,0.821392336743205,0.5264790702487522,2.0717612284105895,0.6576114588811612,-0.41184883862426647,-0.16505253016242047,0.8468452828212563,-1.5274103886728592,0.6571478551011237,0.8391958399037819,-1.6519628230129517,0.012091368496789549,-0.28651555423397385,-0.0334744400687433,0.9048678102827954,0.03883455535784291,-1.369637488107185,-1.7295384107389804,-2.1987599151098713,0.73107072483283,0.9924865836621327,-0.22755603733200772,0.7116799179162969,1.8516026144301145,-0.24928062944149215,-2.27293167085413,1.3784823080181787,0.7086191282068263,1.3877586827610382,-1.1304517131677987,0.6464728780029316,2.070760542940685,-1.4634696830461231,0.6571830263885893,-2.2943196819244234,0.19188186933341375,-1.295083155007402,0.4119242303807797,-1.5338654192597836,0.0729083197894447,-0.5401987615233624,1.2712282833943516,-0.00030327787264339837,-0.3492774061960846,0.5559914807905486,-0.6696434699440698,-0.4733264851114375],\"xaxis\":\"x10\",\"y\":[-0.785875264835871,-0.4166244994772151,-0.4012629913852263,0.35465776564303464,-1.2010715803387078,1.010132350569846,0.08525021904882284,0.9913068992278078,-0.20627625694363427,-0.39379874099348233,-1.9899711853240618,2.016902779986095,0.21942069768439904,0.9653599591543708,0.0650012377037777,0.5378866524312556,2.3117149167340547,-0.9952944400819026,-0.4906822422944613,0.027350439649948162,-0.24975107886428458,-0.09943026640522272,0.1123797297978677,0.9658136828196481,0.8259171327781375,-0.012058481482416512,-0.2930854867236735,0.9208286718468252,-0.08502981603455544,-0.29375019676428166,-0.4284820514392859,-0.5129567946473805,-0.29282711700748276,0.47092136047578004,-0.544370958359331,1.9593662159254581,0.8379813435248245,1.8980392668324881,-0.570786792976965,-1.2925657743793226,1.0274945865679836,0.9144373237751301,0.02602647005560698,1.117134203505103,1.1313721906937841,-0.954887378617882,-0.14066251211986164,-0.9863734091076309,1.2047248536631938,-0.9041105126871736,0.16770383911998366,-1.5653034756292863,0.9835094566234339,-1.674801747158713,1.2022417086271955,-1.4655095098476731,-0.8398975121203412,0.6885484042103989,1.4019715189660475,0.7628915097199818,0.9824134834001975,0.8703114682823871,-0.8791191144240288,-0.4406355814011222,1.9548440405419485,-0.6403966417549738,-0.3297421993455612,-0.9561112489200627,2.055600140616719,-0.1267334579223654,0.13527487498749208,-0.3502036685632511,0.07978188196264824,0.2793091064311869,-1.5161061990362936,2.938966979435973,1.1993617984043197,0.5552392402522058,0.6446907286033249,0.7951349393121572,-0.07119184948998257,-1.265494120750372,1.3671712228716615,1.5931754741367044,-0.8480960310505018,0.7359995323169594,1.7367807919619345,1.2641557614077659,0.9123431560252537,0.6599695965653736,0.35136142053164515,-1.3253365161436161,0.06942296767108237,-1.2371172251059135,-0.8267948125108647,0.3569766765432963,-0.5854897504987103,-1.0130185455299794,1.527728465225669,-0.5778727496641319],\"yaxis\":\"y10\",\"type\":\"scatter\"},{\"histfunc\":\"count\",\"histnorm\":\"\",\"marker\":{\"color\":\"rgba(50, 171, 96, 1.0)\",\"line\":{\"color\":\"#4D5663\",\"width\":1.3}},\"name\":\"C\",\"nbinsx\":10,\"opacity\":0.8,\"orientation\":\"v\",\"x\":[-0.785875264835871,-0.4166244994772151,-0.4012629913852263,0.35465776564303464,-1.2010715803387078,1.010132350569846,0.08525021904882284,0.9913068992278078,-0.20627625694363427,-0.39379874099348233,-1.9899711853240618,2.016902779986095,0.21942069768439904,0.9653599591543708,0.0650012377037777,0.5378866524312556,2.3117149167340547,-0.9952944400819026,-0.4906822422944613,0.027350439649948162,-0.24975107886428458,-0.09943026640522272,0.1123797297978677,0.9658136828196481,0.8259171327781375,-0.012058481482416512,-0.2930854867236735,0.9208286718468252,-0.08502981603455544,-0.29375019676428166,-0.4284820514392859,-0.5129567946473805,-0.29282711700748276,0.47092136047578004,-0.544370958359331,1.9593662159254581,0.8379813435248245,1.8980392668324881,-0.570786792976965,-1.2925657743793226,1.0274945865679836,0.9144373237751301,0.02602647005560698,1.117134203505103,1.1313721906937841,-0.954887378617882,-0.14066251211986164,-0.9863734091076309,1.2047248536631938,-0.9041105126871736,0.16770383911998366,-1.5653034756292863,0.9835094566234339,-1.674801747158713,1.2022417086271955,-1.4655095098476731,-0.8398975121203412,0.6885484042103989,1.4019715189660475,0.7628915097199818,0.9824134834001975,0.8703114682823871,-0.8791191144240288,-0.4406355814011222,1.9548440405419485,-0.6403966417549738,-0.3297421993455612,-0.9561112489200627,2.055600140616719,-0.1267334579223654,0.13527487498749208,-0.3502036685632511,0.07978188196264824,0.2793091064311869,-1.5161061990362936,2.938966979435973,1.1993617984043197,0.5552392402522058,0.6446907286033249,0.7951349393121572,-0.07119184948998257,-1.265494120750372,1.3671712228716615,1.5931754741367044,-0.8480960310505018,0.7359995323169594,1.7367807919619345,1.2641557614077659,0.9123431560252537,0.6599695965653736,0.35136142053164515,-1.3253365161436161,0.06942296767108237,-1.2371172251059135,-0.8267948125108647,0.3569766765432963,-0.5854897504987103,-1.0130185455299794,1.527728465225669,-0.5778727496641319],\"xaxis\":\"x11\",\"yaxis\":\"y11\",\"type\":\"histogram\"},{\"line\":{\"color\":\"rgba(128, 128, 128, 1.0)\",\"dash\":\"solid\",\"shape\":\"linear\",\"width\":1.3},\"marker\":{\"size\":2,\"symbol\":\"circle\"},\"mode\":\"markers\",\"name\":\"C\",\"text\":\"\",\"x\":[0.6050625689237626,-0.5341663568620643,-0.6836949044788398,0.07150173474630343,-0.6750773662024668,-0.7617086353343657,-0.5773269060577014,-0.6722108645091384,-0.21365651739078018,0.08682729857759316,-0.42508350521695254,0.6749641896212607,-1.235231847370315,0.36374581335936285,-0.25752850940387695,-2.1202163871461845,1.520144202197967,0.5748406590379539,2.1885070807222777,-0.5719225757321915,-1.2832582246004933,-0.795470339504796,-1.6144812112086262,-0.19476178681763415,-0.10823026798575994,0.15117885844929885,0.23676701823097215,0.1517495469501139,-0.0920543441173036,0.1907696921589052,-2.0227169531716775,0.4069550950745697,1.4073678829529794,1.0755130342966395,-0.6748849313815257,0.7241121487788296,0.863553959985662,-0.3520551664012393,-0.32412544887827355,1.958291163488966,1.5050110344534935,1.0415573936258324,2.4188972469130734,-0.5008774310667011,-1.234654098897178,0.8963305952098362,-0.9021216405790684,-0.6233881300300523,0.013337507707671902,-0.7730494125701088,1.1413394403500947,-1.0477589747661205,0.05053514181345651,-1.2503965871640315,1.2211793337128891,-1.5094149934599055,-1.0160217884134923,-0.20349728302467668,-0.07854718083733599,-0.9272529547141967,-0.3712332473269593,-1.0522604522758205,-1.917465889733078,0.2376742492853061,1.1519547703116644,-1.455124153601072,-0.6600537871647677,0.6678066605591857,-0.02877202928153565,-0.7813270767924949,-0.8952513220408085,-0.9295037537536113,0.41091166047020594,-0.05955577829210657,0.2592170670523021,-1.7424928776091053,0.23494228555283372,1.515295059959739,-2.3257581043745423,0.6916107794778338,0.07264730008617393,-2.024982315915042,-1.1130599114854702,0.7462155936941378,-1.1083276458838178,-1.3543272378931481,-0.0027816881168835636,-0.3244374967628371,1.3152082281893835,-0.35435184207843107,-0.9260684667348138,0.4217822715272979,0.3262246914125725,1.552240124004772,-0.9848880568637277,-0.2534404066650368,-0.9301474996295686,0.8632693660993879,0.36631334405918703,-0.41065888156248803],\"xaxis\":\"x12\",\"y\":[-0.785875264835871,-0.4166244994772151,-0.4012629913852263,0.35465776564303464,-1.2010715803387078,1.010132350569846,0.08525021904882284,0.9913068992278078,-0.20627625694363427,-0.39379874099348233,-1.9899711853240618,2.016902779986095,0.21942069768439904,0.9653599591543708,0.0650012377037777,0.5378866524312556,2.3117149167340547,-0.9952944400819026,-0.4906822422944613,0.027350439649948162,-0.24975107886428458,-0.09943026640522272,0.1123797297978677,0.9658136828196481,0.8259171327781375,-0.012058481482416512,-0.2930854867236735,0.9208286718468252,-0.08502981603455544,-0.29375019676428166,-0.4284820514392859,-0.5129567946473805,-0.29282711700748276,0.47092136047578004,-0.544370958359331,1.9593662159254581,0.8379813435248245,1.8980392668324881,-0.570786792976965,-1.2925657743793226,1.0274945865679836,0.9144373237751301,0.02602647005560698,1.117134203505103,1.1313721906937841,-0.954887378617882,-0.14066251211986164,-0.9863734091076309,1.2047248536631938,-0.9041105126871736,0.16770383911998366,-1.5653034756292863,0.9835094566234339,-1.674801747158713,1.2022417086271955,-1.4655095098476731,-0.8398975121203412,0.6885484042103989,1.4019715189660475,0.7628915097199818,0.9824134834001975,0.8703114682823871,-0.8791191144240288,-0.4406355814011222,1.9548440405419485,-0.6403966417549738,-0.3297421993455612,-0.9561112489200627,2.055600140616719,-0.1267334579223654,0.13527487498749208,-0.3502036685632511,0.07978188196264824,0.2793091064311869,-1.5161061990362936,2.938966979435973,1.1993617984043197,0.5552392402522058,0.6446907286033249,0.7951349393121572,-0.07119184948998257,-1.265494120750372,1.3671712228716615,1.5931754741367044,-0.8480960310505018,0.7359995323169594,1.7367807919619345,1.2641557614077659,0.9123431560252537,0.6599695965653736,0.35136142053164515,-1.3253365161436161,0.06942296767108237,-1.2371172251059135,-0.8267948125108647,0.3569766765432963,-0.5854897504987103,-1.0130185455299794,1.527728465225669,-0.5778727496641319],\"yaxis\":\"y12\",\"type\":\"scatter\"},{\"line\":{\"color\":\"rgba(128, 128, 128, 1.0)\",\"dash\":\"solid\",\"shape\":\"linear\",\"width\":1.3},\"marker\":{\"size\":2,\"symbol\":\"circle\"},\"mode\":\"markers\",\"name\":\"D\",\"text\":\"\",\"x\":[-1.3901949841581454,1.069922847106397,0.2055027592448163,-0.1291368074106173,1.1943389288630906,-1.3292319904526035,0.10172609409471008,-0.3221745473763238,-1.0933289223171323,0.8962065258841243,-0.7786362671054254,-0.011645302090516776,0.44924603650584644,-0.8256606600330482,0.4933240135491313,-1.425021249604569,-0.7980154456139854,1.2716639235371983,0.983634830370605,-0.0131853266453508,0.07970050864372122,-1.3183877932587922,-0.06041057639929024,-0.11134888702932266,-2.1499368132801058,-0.5514439544355939,0.3914604681738653,0.8890679991657041,0.28542034976793784,-0.6304761846712792,-0.1878088747248309,0.8889529698002793,0.45778071476476473,-0.12327331670334513,-0.29537435268245876,-0.08960332054704244,0.10432345628202129,0.8461532567992535,0.803601424416993,0.9491203637480421,-0.37765332489133335,-0.38752199701339685,0.8723021363291167,2.1204431464464233,2.0875076710319154,-0.26696339954003034,0.8106619705258042,-0.2214274625076834,-0.7118090777153491,-1.688032206163727,0.6028689425515956,-1.6958500587474632,0.2807016925333527,-1.0509375083617725,0.4448628824772095,1.3435148948892826,0.4203795505337432,-0.7635183838411761,-0.9406507307083636,0.09562761051184446,-1.272869074454918,1.0960340944547309,1.0625238646050967,-0.17771685453414426,1.845712049875227,0.14235070116325824,-0.7941112509036065,1.3529661858705617,0.9804622209996304,1.6876064912058704,-0.670156983203831,-1.3323507004611381,1.3730453556738749,0.7882964598361236,-1.0531434522638672,-0.3146275627267074,-3.0747599634463696,0.7359197646540324,0.3905846088913656,0.7562292950033769,2.0126903623388985,-0.9417501065215361,0.0605632892435693,0.7150989468002216,1.7112704379063017,-0.05141026396406195,0.746287932383283,0.049952739784688345,2.0393266553986016,-0.19115632906252,2.53897699824267,0.06677133714948412,0.18331594429555945,-0.28503842514401506,1.3961232808599877,-2.7523778166341635,0.08231536758941917,1.153297736148488,1.1121083772525953,-1.093043512712841],\"xaxis\":\"x13\",\"y\":[0.6050625689237626,-0.5341663568620643,-0.6836949044788398,0.07150173474630343,-0.6750773662024668,-0.7617086353343657,-0.5773269060577014,-0.6722108645091384,-0.21365651739078018,0.08682729857759316,-0.42508350521695254,0.6749641896212607,-1.235231847370315,0.36374581335936285,-0.25752850940387695,-2.1202163871461845,1.520144202197967,0.5748406590379539,2.1885070807222777,-0.5719225757321915,-1.2832582246004933,-0.795470339504796,-1.6144812112086262,-0.19476178681763415,-0.10823026798575994,0.15117885844929885,0.23676701823097215,0.1517495469501139,-0.0920543441173036,0.1907696921589052,-2.0227169531716775,0.4069550950745697,1.4073678829529794,1.0755130342966395,-0.6748849313815257,0.7241121487788296,0.863553959985662,-0.3520551664012393,-0.32412544887827355,1.958291163488966,1.5050110344534935,1.0415573936258324,2.4188972469130734,-0.5008774310667011,-1.234654098897178,0.8963305952098362,-0.9021216405790684,-0.6233881300300523,0.013337507707671902,-0.7730494125701088,1.1413394403500947,-1.0477589747661205,0.05053514181345651,-1.2503965871640315,1.2211793337128891,-1.5094149934599055,-1.0160217884134923,-0.20349728302467668,-0.07854718083733599,-0.9272529547141967,-0.3712332473269593,-1.0522604522758205,-1.917465889733078,0.2376742492853061,1.1519547703116644,-1.455124153601072,-0.6600537871647677,0.6678066605591857,-0.02877202928153565,-0.7813270767924949,-0.8952513220408085,-0.9295037537536113,0.41091166047020594,-0.05955577829210657,0.2592170670523021,-1.7424928776091053,0.23494228555283372,1.515295059959739,-2.3257581043745423,0.6916107794778338,0.07264730008617393,-2.024982315915042,-1.1130599114854702,0.7462155936941378,-1.1083276458838178,-1.3543272378931481,-0.0027816881168835636,-0.3244374967628371,1.3152082281893835,-0.35435184207843107,-0.9260684667348138,0.4217822715272979,0.3262246914125725,1.552240124004772,-0.9848880568637277,-0.2534404066650368,-0.9301474996295686,0.8632693660993879,0.36631334405918703,-0.41065888156248803],\"yaxis\":\"y13\",\"type\":\"scatter\"},{\"line\":{\"color\":\"rgba(128, 128, 128, 1.0)\",\"dash\":\"solid\",\"shape\":\"linear\",\"width\":1.3},\"marker\":{\"size\":2,\"symbol\":\"circle\"},\"mode\":\"markers\",\"name\":\"D\",\"text\":\"\",\"x\":[-0.5913402385474351,1.291121332745925,-1.466747037145677,-0.3322969627060832,0.1187700874875702,-0.24207599262733395,-0.6226001284660565,1.272572536022268,-0.04171014781234873,0.18080898864233078,-1.2586879467504293,-0.5135337558658654,-0.8473200180220722,0.8604218703730332,-1.7856776836306145,-0.5919786283309229,-0.1359138565576188,0.601459009542728,-0.8431732058899216,0.9863151365620875,1.105404116926311,-2.30989555478306,0.6345142872351962,-0.8127965787904066,-1.2339041212978519,0.9146263775285808,-1.070146080674142,-0.2821436508345468,0.21783932695449573,-1.0377114276217354,2.551428546572451,-0.7394626721208684,-0.21305885706846572,-0.9914679216957235,-1.3556255372723736,-0.623899335595533,-1.4508558168496688,-0.9740248766369816,-1.9807426870934963,-0.3173781925508749,-1.8959224489347248,2.0313578713934053,-0.7251622914463774,0.008575265151005882,1.0438778960596895,0.2974943865792594,-0.33413957586703646,0.8044725946533433,-1.737641661567125,0.08412351848049478,1.336762991048388,-2.2746010546139583,-0.12327330870798514,0.821392336743205,0.5264790702487522,2.0717612284105895,0.6576114588811612,-0.41184883862426647,-0.16505253016242047,0.8468452828212563,-1.5274103886728592,0.6571478551011237,0.8391958399037819,-1.6519628230129517,0.012091368496789549,-0.28651555423397385,-0.0334744400687433,0.9048678102827954,0.03883455535784291,-1.369637488107185,-1.7295384107389804,-2.1987599151098713,0.73107072483283,0.9924865836621327,-0.22755603733200772,0.7116799179162969,1.8516026144301145,-0.24928062944149215,-2.27293167085413,1.3784823080181787,0.7086191282068263,1.3877586827610382,-1.1304517131677987,0.6464728780029316,2.070760542940685,-1.4634696830461231,0.6571830263885893,-2.2943196819244234,0.19188186933341375,-1.295083155007402,0.4119242303807797,-1.5338654192597836,0.0729083197894447,-0.5401987615233624,1.2712282833943516,-0.00030327787264339837,-0.3492774061960846,0.5559914807905486,-0.6696434699440698,-0.4733264851114375],\"xaxis\":\"x14\",\"y\":[0.6050625689237626,-0.5341663568620643,-0.6836949044788398,0.07150173474630343,-0.6750773662024668,-0.7617086353343657,-0.5773269060577014,-0.6722108645091384,-0.21365651739078018,0.08682729857759316,-0.42508350521695254,0.6749641896212607,-1.235231847370315,0.36374581335936285,-0.25752850940387695,-2.1202163871461845,1.520144202197967,0.5748406590379539,2.1885070807222777,-0.5719225757321915,-1.2832582246004933,-0.795470339504796,-1.6144812112086262,-0.19476178681763415,-0.10823026798575994,0.15117885844929885,0.23676701823097215,0.1517495469501139,-0.0920543441173036,0.1907696921589052,-2.0227169531716775,0.4069550950745697,1.4073678829529794,1.0755130342966395,-0.6748849313815257,0.7241121487788296,0.863553959985662,-0.3520551664012393,-0.32412544887827355,1.958291163488966,1.5050110344534935,1.0415573936258324,2.4188972469130734,-0.5008774310667011,-1.234654098897178,0.8963305952098362,-0.9021216405790684,-0.6233881300300523,0.013337507707671902,-0.7730494125701088,1.1413394403500947,-1.0477589747661205,0.05053514181345651,-1.2503965871640315,1.2211793337128891,-1.5094149934599055,-1.0160217884134923,-0.20349728302467668,-0.07854718083733599,-0.9272529547141967,-0.3712332473269593,-1.0522604522758205,-1.917465889733078,0.2376742492853061,1.1519547703116644,-1.455124153601072,-0.6600537871647677,0.6678066605591857,-0.02877202928153565,-0.7813270767924949,-0.8952513220408085,-0.9295037537536113,0.41091166047020594,-0.05955577829210657,0.2592170670523021,-1.7424928776091053,0.23494228555283372,1.515295059959739,-2.3257581043745423,0.6916107794778338,0.07264730008617393,-2.024982315915042,-1.1130599114854702,0.7462155936941378,-1.1083276458838178,-1.3543272378931481,-0.0027816881168835636,-0.3244374967628371,1.3152082281893835,-0.35435184207843107,-0.9260684667348138,0.4217822715272979,0.3262246914125725,1.552240124004772,-0.9848880568637277,-0.2534404066650368,-0.9301474996295686,0.8632693660993879,0.36631334405918703,-0.41065888156248803],\"yaxis\":\"y14\",\"type\":\"scatter\"},{\"line\":{\"color\":\"rgba(128, 128, 128, 1.0)\",\"dash\":\"solid\",\"shape\":\"linear\",\"width\":1.3},\"marker\":{\"size\":2,\"symbol\":\"circle\"},\"mode\":\"markers\",\"name\":\"D\",\"text\":\"\",\"x\":[-0.785875264835871,-0.4166244994772151,-0.4012629913852263,0.35465776564303464,-1.2010715803387078,1.010132350569846,0.08525021904882284,0.9913068992278078,-0.20627625694363427,-0.39379874099348233,-1.9899711853240618,2.016902779986095,0.21942069768439904,0.9653599591543708,0.0650012377037777,0.5378866524312556,2.3117149167340547,-0.9952944400819026,-0.4906822422944613,0.027350439649948162,-0.24975107886428458,-0.09943026640522272,0.1123797297978677,0.9658136828196481,0.8259171327781375,-0.012058481482416512,-0.2930854867236735,0.9208286718468252,-0.08502981603455544,-0.29375019676428166,-0.4284820514392859,-0.5129567946473805,-0.29282711700748276,0.47092136047578004,-0.544370958359331,1.9593662159254581,0.8379813435248245,1.8980392668324881,-0.570786792976965,-1.2925657743793226,1.0274945865679836,0.9144373237751301,0.02602647005560698,1.117134203505103,1.1313721906937841,-0.954887378617882,-0.14066251211986164,-0.9863734091076309,1.2047248536631938,-0.9041105126871736,0.16770383911998366,-1.5653034756292863,0.9835094566234339,-1.674801747158713,1.2022417086271955,-1.4655095098476731,-0.8398975121203412,0.6885484042103989,1.4019715189660475,0.7628915097199818,0.9824134834001975,0.8703114682823871,-0.8791191144240288,-0.4406355814011222,1.9548440405419485,-0.6403966417549738,-0.3297421993455612,-0.9561112489200627,2.055600140616719,-0.1267334579223654,0.13527487498749208,-0.3502036685632511,0.07978188196264824,0.2793091064311869,-1.5161061990362936,2.938966979435973,1.1993617984043197,0.5552392402522058,0.6446907286033249,0.7951349393121572,-0.07119184948998257,-1.265494120750372,1.3671712228716615,1.5931754741367044,-0.8480960310505018,0.7359995323169594,1.7367807919619345,1.2641557614077659,0.9123431560252537,0.6599695965653736,0.35136142053164515,-1.3253365161436161,0.06942296767108237,-1.2371172251059135,-0.8267948125108647,0.3569766765432963,-0.5854897504987103,-1.0130185455299794,1.527728465225669,-0.5778727496641319],\"xaxis\":\"x15\",\"y\":[0.6050625689237626,-0.5341663568620643,-0.6836949044788398,0.07150173474630343,-0.6750773662024668,-0.7617086353343657,-0.5773269060577014,-0.6722108645091384,-0.21365651739078018,0.08682729857759316,-0.42508350521695254,0.6749641896212607,-1.235231847370315,0.36374581335936285,-0.25752850940387695,-2.1202163871461845,1.520144202197967,0.5748406590379539,2.1885070807222777,-0.5719225757321915,-1.2832582246004933,-0.795470339504796,-1.6144812112086262,-0.19476178681763415,-0.10823026798575994,0.15117885844929885,0.23676701823097215,0.1517495469501139,-0.0920543441173036,0.1907696921589052,-2.0227169531716775,0.4069550950745697,1.4073678829529794,1.0755130342966395,-0.6748849313815257,0.7241121487788296,0.863553959985662,-0.3520551664012393,-0.32412544887827355,1.958291163488966,1.5050110344534935,1.0415573936258324,2.4188972469130734,-0.5008774310667011,-1.234654098897178,0.8963305952098362,-0.9021216405790684,-0.6233881300300523,0.013337507707671902,-0.7730494125701088,1.1413394403500947,-1.0477589747661205,0.05053514181345651,-1.2503965871640315,1.2211793337128891,-1.5094149934599055,-1.0160217884134923,-0.20349728302467668,-0.07854718083733599,-0.9272529547141967,-0.3712332473269593,-1.0522604522758205,-1.917465889733078,0.2376742492853061,1.1519547703116644,-1.455124153601072,-0.6600537871647677,0.6678066605591857,-0.02877202928153565,-0.7813270767924949,-0.8952513220408085,-0.9295037537536113,0.41091166047020594,-0.05955577829210657,0.2592170670523021,-1.7424928776091053,0.23494228555283372,1.515295059959739,-2.3257581043745423,0.6916107794778338,0.07264730008617393,-2.024982315915042,-1.1130599114854702,0.7462155936941378,-1.1083276458838178,-1.3543272378931481,-0.0027816881168835636,-0.3244374967628371,1.3152082281893835,-0.35435184207843107,-0.9260684667348138,0.4217822715272979,0.3262246914125725,1.552240124004772,-0.9848880568637277,-0.2534404066650368,-0.9301474996295686,0.8632693660993879,0.36631334405918703,-0.41065888156248803],\"yaxis\":\"y15\",\"type\":\"scatter\"},{\"histfunc\":\"count\",\"histnorm\":\"\",\"marker\":{\"color\":\"rgba(128, 0, 128, 1.0)\",\"line\":{\"color\":\"#4D5663\",\"width\":1.3}},\"name\":\"D\",\"nbinsx\":10,\"opacity\":0.8,\"orientation\":\"v\",\"x\":[0.6050625689237626,-0.5341663568620643,-0.6836949044788398,0.07150173474630343,-0.6750773662024668,-0.7617086353343657,-0.5773269060577014,-0.6722108645091384,-0.21365651739078018,0.08682729857759316,-0.42508350521695254,0.6749641896212607,-1.235231847370315,0.36374581335936285,-0.25752850940387695,-2.1202163871461845,1.520144202197967,0.5748406590379539,2.1885070807222777,-0.5719225757321915,-1.2832582246004933,-0.795470339504796,-1.6144812112086262,-0.19476178681763415,-0.10823026798575994,0.15117885844929885,0.23676701823097215,0.1517495469501139,-0.0920543441173036,0.1907696921589052,-2.0227169531716775,0.4069550950745697,1.4073678829529794,1.0755130342966395,-0.6748849313815257,0.7241121487788296,0.863553959985662,-0.3520551664012393,-0.32412544887827355,1.958291163488966,1.5050110344534935,1.0415573936258324,2.4188972469130734,-0.5008774310667011,-1.234654098897178,0.8963305952098362,-0.9021216405790684,-0.6233881300300523,0.013337507707671902,-0.7730494125701088,1.1413394403500947,-1.0477589747661205,0.05053514181345651,-1.2503965871640315,1.2211793337128891,-1.5094149934599055,-1.0160217884134923,-0.20349728302467668,-0.07854718083733599,-0.9272529547141967,-0.3712332473269593,-1.0522604522758205,-1.917465889733078,0.2376742492853061,1.1519547703116644,-1.455124153601072,-0.6600537871647677,0.6678066605591857,-0.02877202928153565,-0.7813270767924949,-0.8952513220408085,-0.9295037537536113,0.41091166047020594,-0.05955577829210657,0.2592170670523021,-1.7424928776091053,0.23494228555283372,1.515295059959739,-2.3257581043745423,0.6916107794778338,0.07264730008617393,-2.024982315915042,-1.1130599114854702,0.7462155936941378,-1.1083276458838178,-1.3543272378931481,-0.0027816881168835636,-0.3244374967628371,1.3152082281893835,-0.35435184207843107,-0.9260684667348138,0.4217822715272979,0.3262246914125725,1.552240124004772,-0.9848880568637277,-0.2534404066650368,-0.9301474996295686,0.8632693660993879,0.36631334405918703,-0.41065888156248803],\"xaxis\":\"x16\",\"yaxis\":\"y16\",\"type\":\"histogram\"}],                        {\"bargap\":0.02,\"legend\":{\"bgcolor\":\"#F5F6F9\",\"font\":{\"color\":\"#4D5663\"}},\"paper_bgcolor\":\"#F5F6F9\",\"plot_bgcolor\":\"#F5F6F9\",\"showlegend\":false,\"template\":{\"data\":{\"barpolar\":[{\"marker\":{\"line\":{\"color\":\"#E5ECF6\",\"width\":0.5},\"pattern\":{\"fillmode\":\"overlay\",\"size\":10,\"solidity\":0.2}},\"type\":\"barpolar\"}],\"bar\":[{\"error_x\":{\"color\":\"#2a3f5f\"},\"error_y\":{\"color\":\"#2a3f5f\"},\"marker\":{\"line\":{\"color\":\"#E5ECF6\",\"width\":0.5},\"pattern\":{\"fillmode\":\"overlay\",\"size\":10,\"solidity\":0.2}},\"type\":\"bar\"}],\"carpet\":[{\"aaxis\":{\"endlinecolor\":\"#2a3f5f\",\"gridcolor\":\"white\",\"linecolor\":\"white\",\"minorgridcolor\":\"white\",\"startlinecolor\":\"#2a3f5f\"},\"baxis\":{\"endlinecolor\":\"#2a3f5f\",\"gridcolor\":\"white\",\"linecolor\":\"white\",\"minorgridcolor\":\"white\",\"startlinecolor\":\"#2a3f5f\"},\"type\":\"carpet\"}],\"choropleth\":[{\"colorbar\":{\"outlinewidth\":0,\"ticks\":\"\"},\"type\":\"choropleth\"}],\"contourcarpet\":[{\"colorbar\":{\"outlinewidth\":0,\"ticks\":\"\"},\"type\":\"contourcarpet\"}],\"contour\":[{\"colorbar\":{\"outlinewidth\":0,\"ticks\":\"\"},\"colorscale\":[[0.0,\"#0d0887\"],[0.1111111111111111,\"#46039f\"],[0.2222222222222222,\"#7201a8\"],[0.3333333333333333,\"#9c179e\"],[0.4444444444444444,\"#bd3786\"],[0.5555555555555556,\"#d8576b\"],[0.6666666666666666,\"#ed7953\"],[0.7777777777777778,\"#fb9f3a\"],[0.8888888888888888,\"#fdca26\"],[1.0,\"#f0f921\"]],\"type\":\"contour\"}],\"heatmapgl\":[{\"colorbar\":{\"outlinewidth\":0,\"ticks\":\"\"},\"colorscale\":[[0.0,\"#0d0887\"],[0.1111111111111111,\"#46039f\"],[0.2222222222222222,\"#7201a8\"],[0.3333333333333333,\"#9c179e\"],[0.4444444444444444,\"#bd3786\"],[0.5555555555555556,\"#d8576b\"],[0.6666666666666666,\"#ed7953\"],[0.7777777777777778,\"#fb9f3a\"],[0.8888888888888888,\"#fdca26\"],[1.0,\"#f0f921\"]],\"type\":\"heatmapgl\"}],\"heatmap\":[{\"colorbar\":{\"outlinewidth\":0,\"ticks\":\"\"},\"colorscale\":[[0.0,\"#0d0887\"],[0.1111111111111111,\"#46039f\"],[0.2222222222222222,\"#7201a8\"],[0.3333333333333333,\"#9c179e\"],[0.4444444444444444,\"#bd3786\"],[0.5555555555555556,\"#d8576b\"],[0.6666666666666666,\"#ed7953\"],[0.7777777777777778,\"#fb9f3a\"],[0.8888888888888888,\"#fdca26\"],[1.0,\"#f0f921\"]],\"type\":\"heatmap\"}],\"histogram2dcontour\":[{\"colorbar\":{\"outlinewidth\":0,\"ticks\":\"\"},\"colorscale\":[[0.0,\"#0d0887\"],[0.1111111111111111,\"#46039f\"],[0.2222222222222222,\"#7201a8\"],[0.3333333333333333,\"#9c179e\"],[0.4444444444444444,\"#bd3786\"],[0.5555555555555556,\"#d8576b\"],[0.6666666666666666,\"#ed7953\"],[0.7777777777777778,\"#fb9f3a\"],[0.8888888888888888,\"#fdca26\"],[1.0,\"#f0f921\"]],\"type\":\"histogram2dcontour\"}],\"histogram2d\":[{\"colorbar\":{\"outlinewidth\":0,\"ticks\":\"\"},\"colorscale\":[[0.0,\"#0d0887\"],[0.1111111111111111,\"#46039f\"],[0.2222222222222222,\"#7201a8\"],[0.3333333333333333,\"#9c179e\"],[0.4444444444444444,\"#bd3786\"],[0.5555555555555556,\"#d8576b\"],[0.6666666666666666,\"#ed7953\"],[0.7777777777777778,\"#fb9f3a\"],[0.8888888888888888,\"#fdca26\"],[1.0,\"#f0f921\"]],\"type\":\"histogram2d\"}],\"histogram\":[{\"marker\":{\"pattern\":{\"fillmode\":\"overlay\",\"size\":10,\"solidity\":0.2}},\"type\":\"histogram\"}],\"mesh3d\":[{\"colorbar\":{\"outlinewidth\":0,\"ticks\":\"\"},\"type\":\"mesh3d\"}],\"parcoords\":[{\"line\":{\"colorbar\":{\"outlinewidth\":0,\"ticks\":\"\"}},\"type\":\"parcoords\"}],\"pie\":[{\"automargin\":true,\"type\":\"pie\"}],\"scatter3d\":[{\"line\":{\"colorbar\":{\"outlinewidth\":0,\"ticks\":\"\"}},\"marker\":{\"colorbar\":{\"outlinewidth\":0,\"ticks\":\"\"}},\"type\":\"scatter3d\"}],\"scattercarpet\":[{\"marker\":{\"colorbar\":{\"outlinewidth\":0,\"ticks\":\"\"}},\"type\":\"scattercarpet\"}],\"scattergeo\":[{\"marker\":{\"colorbar\":{\"outlinewidth\":0,\"ticks\":\"\"}},\"type\":\"scattergeo\"}],\"scattergl\":[{\"marker\":{\"colorbar\":{\"outlinewidth\":0,\"ticks\":\"\"}},\"type\":\"scattergl\"}],\"scattermapbox\":[{\"marker\":{\"colorbar\":{\"outlinewidth\":0,\"ticks\":\"\"}},\"type\":\"scattermapbox\"}],\"scatterpolargl\":[{\"marker\":{\"colorbar\":{\"outlinewidth\":0,\"ticks\":\"\"}},\"type\":\"scatterpolargl\"}],\"scatterpolar\":[{\"marker\":{\"colorbar\":{\"outlinewidth\":0,\"ticks\":\"\"}},\"type\":\"scatterpolar\"}],\"scatter\":[{\"fillpattern\":{\"fillmode\":\"overlay\",\"size\":10,\"solidity\":0.2},\"type\":\"scatter\"}],\"scatterternary\":[{\"marker\":{\"colorbar\":{\"outlinewidth\":0,\"ticks\":\"\"}},\"type\":\"scatterternary\"}],\"surface\":[{\"colorbar\":{\"outlinewidth\":0,\"ticks\":\"\"},\"colorscale\":[[0.0,\"#0d0887\"],[0.1111111111111111,\"#46039f\"],[0.2222222222222222,\"#7201a8\"],[0.3333333333333333,\"#9c179e\"],[0.4444444444444444,\"#bd3786\"],[0.5555555555555556,\"#d8576b\"],[0.6666666666666666,\"#ed7953\"],[0.7777777777777778,\"#fb9f3a\"],[0.8888888888888888,\"#fdca26\"],[1.0,\"#f0f921\"]],\"type\":\"surface\"}],\"table\":[{\"cells\":{\"fill\":{\"color\":\"#EBF0F8\"},\"line\":{\"color\":\"white\"}},\"header\":{\"fill\":{\"color\":\"#C8D4E3\"},\"line\":{\"color\":\"white\"}},\"type\":\"table\"}]},\"layout\":{\"annotationdefaults\":{\"arrowcolor\":\"#2a3f5f\",\"arrowhead\":0,\"arrowwidth\":1},\"autotypenumbers\":\"strict\",\"coloraxis\":{\"colorbar\":{\"outlinewidth\":0,\"ticks\":\"\"}},\"colorscale\":{\"diverging\":[[0,\"#8e0152\"],[0.1,\"#c51b7d\"],[0.2,\"#de77ae\"],[0.3,\"#f1b6da\"],[0.4,\"#fde0ef\"],[0.5,\"#f7f7f7\"],[0.6,\"#e6f5d0\"],[0.7,\"#b8e186\"],[0.8,\"#7fbc41\"],[0.9,\"#4d9221\"],[1,\"#276419\"]],\"sequential\":[[0.0,\"#0d0887\"],[0.1111111111111111,\"#46039f\"],[0.2222222222222222,\"#7201a8\"],[0.3333333333333333,\"#9c179e\"],[0.4444444444444444,\"#bd3786\"],[0.5555555555555556,\"#d8576b\"],[0.6666666666666666,\"#ed7953\"],[0.7777777777777778,\"#fb9f3a\"],[0.8888888888888888,\"#fdca26\"],[1.0,\"#f0f921\"]],\"sequentialminus\":[[0.0,\"#0d0887\"],[0.1111111111111111,\"#46039f\"],[0.2222222222222222,\"#7201a8\"],[0.3333333333333333,\"#9c179e\"],[0.4444444444444444,\"#bd3786\"],[0.5555555555555556,\"#d8576b\"],[0.6666666666666666,\"#ed7953\"],[0.7777777777777778,\"#fb9f3a\"],[0.8888888888888888,\"#fdca26\"],[1.0,\"#f0f921\"]]},\"colorway\":[\"#636efa\",\"#EF553B\",\"#00cc96\",\"#ab63fa\",\"#FFA15A\",\"#19d3f3\",\"#FF6692\",\"#B6E880\",\"#FF97FF\",\"#FECB52\"],\"font\":{\"color\":\"#2a3f5f\"},\"geo\":{\"bgcolor\":\"white\",\"lakecolor\":\"white\",\"landcolor\":\"#E5ECF6\",\"showlakes\":true,\"showland\":true,\"subunitcolor\":\"white\"},\"hoverlabel\":{\"align\":\"left\"},\"hovermode\":\"closest\",\"mapbox\":{\"style\":\"light\"},\"paper_bgcolor\":\"white\",\"plot_bgcolor\":\"#E5ECF6\",\"polar\":{\"angularaxis\":{\"gridcolor\":\"white\",\"linecolor\":\"white\",\"ticks\":\"\"},\"bgcolor\":\"#E5ECF6\",\"radialaxis\":{\"gridcolor\":\"white\",\"linecolor\":\"white\",\"ticks\":\"\"}},\"scene\":{\"xaxis\":{\"backgroundcolor\":\"#E5ECF6\",\"gridcolor\":\"white\",\"gridwidth\":2,\"linecolor\":\"white\",\"showbackground\":true,\"ticks\":\"\",\"zerolinecolor\":\"white\"},\"yaxis\":{\"backgroundcolor\":\"#E5ECF6\",\"gridcolor\":\"white\",\"gridwidth\":2,\"linecolor\":\"white\",\"showbackground\":true,\"ticks\":\"\",\"zerolinecolor\":\"white\"},\"zaxis\":{\"backgroundcolor\":\"#E5ECF6\",\"gridcolor\":\"white\",\"gridwidth\":2,\"linecolor\":\"white\",\"showbackground\":true,\"ticks\":\"\",\"zerolinecolor\":\"white\"}},\"shapedefaults\":{\"line\":{\"color\":\"#2a3f5f\"}},\"ternary\":{\"aaxis\":{\"gridcolor\":\"white\",\"linecolor\":\"white\",\"ticks\":\"\"},\"baxis\":{\"gridcolor\":\"white\",\"linecolor\":\"white\",\"ticks\":\"\"},\"bgcolor\":\"#E5ECF6\",\"caxis\":{\"gridcolor\":\"white\",\"linecolor\":\"white\",\"ticks\":\"\"}},\"title\":{\"x\":0.05},\"xaxis\":{\"automargin\":true,\"gridcolor\":\"white\",\"linecolor\":\"white\",\"ticks\":\"\",\"title\":{\"standoff\":15},\"zerolinecolor\":\"white\",\"zerolinewidth\":2},\"yaxis\":{\"automargin\":true,\"gridcolor\":\"white\",\"linecolor\":\"white\",\"ticks\":\"\",\"title\":{\"standoff\":15},\"zerolinecolor\":\"white\",\"zerolinewidth\":2}}},\"title\":{\"font\":{\"color\":\"#4D5663\"}},\"xaxis\":{\"anchor\":\"y\",\"domain\":[0.0,0.2125],\"gridcolor\":\"#E1E5ED\",\"showgrid\":false,\"tickfont\":{\"color\":\"#4D5663\"},\"title\":{\"font\":{\"color\":\"#4D5663\"},\"text\":\"\"},\"zerolinecolor\":\"#E1E5ED\"},\"yaxis\":{\"anchor\":\"x\",\"domain\":[0.8025,1.0],\"gridcolor\":\"#E1E5ED\",\"showgrid\":false,\"tickfont\":{\"color\":\"#4D5663\"},\"title\":{\"font\":{\"color\":\"#4D5663\"},\"text\":\"\"},\"zerolinecolor\":\"#E1E5ED\"},\"xaxis2\":{\"anchor\":\"y2\",\"domain\":[0.2625,0.475],\"gridcolor\":\"#E1E5ED\",\"showgrid\":false,\"tickfont\":{\"color\":\"#4D5663\"},\"title\":{\"font\":{\"color\":\"#4D5663\"},\"text\":\"\"},\"zerolinecolor\":\"#E1E5ED\"},\"yaxis2\":{\"anchor\":\"x2\",\"domain\":[0.8025,1.0],\"gridcolor\":\"#E1E5ED\",\"showgrid\":false,\"tickfont\":{\"color\":\"#4D5663\"},\"title\":{\"font\":{\"color\":\"#4D5663\"},\"text\":\"\"},\"zerolinecolor\":\"#E1E5ED\"},\"xaxis3\":{\"anchor\":\"y3\",\"domain\":[0.525,0.7375],\"gridcolor\":\"#E1E5ED\",\"showgrid\":false,\"tickfont\":{\"color\":\"#4D5663\"},\"title\":{\"font\":{\"color\":\"#4D5663\"},\"text\":\"\"},\"zerolinecolor\":\"#E1E5ED\"},\"yaxis3\":{\"anchor\":\"x3\",\"domain\":[0.8025,1.0],\"gridcolor\":\"#E1E5ED\",\"showgrid\":false,\"tickfont\":{\"color\":\"#4D5663\"},\"title\":{\"font\":{\"color\":\"#4D5663\"},\"text\":\"\"},\"zerolinecolor\":\"#E1E5ED\"},\"xaxis4\":{\"anchor\":\"y4\",\"domain\":[0.7875,1.0],\"gridcolor\":\"#E1E5ED\",\"showgrid\":false,\"tickfont\":{\"color\":\"#4D5663\"},\"title\":{\"font\":{\"color\":\"#4D5663\"},\"text\":\"\"},\"zerolinecolor\":\"#E1E5ED\"},\"yaxis4\":{\"anchor\":\"x4\",\"domain\":[0.8025,1.0],\"gridcolor\":\"#E1E5ED\",\"showgrid\":false,\"tickfont\":{\"color\":\"#4D5663\"},\"title\":{\"font\":{\"color\":\"#4D5663\"},\"text\":\"\"},\"zerolinecolor\":\"#E1E5ED\"},\"xaxis5\":{\"anchor\":\"y5\",\"domain\":[0.0,0.2125],\"gridcolor\":\"#E1E5ED\",\"showgrid\":false,\"tickfont\":{\"color\":\"#4D5663\"},\"title\":{\"font\":{\"color\":\"#4D5663\"},\"text\":\"\"},\"zerolinecolor\":\"#E1E5ED\"},\"yaxis5\":{\"anchor\":\"x5\",\"domain\":[0.535,0.7325],\"gridcolor\":\"#E1E5ED\",\"showgrid\":false,\"tickfont\":{\"color\":\"#4D5663\"},\"title\":{\"font\":{\"color\":\"#4D5663\"},\"text\":\"\"},\"zerolinecolor\":\"#E1E5ED\"},\"xaxis6\":{\"anchor\":\"y6\",\"domain\":[0.2625,0.475],\"gridcolor\":\"#E1E5ED\",\"showgrid\":false,\"tickfont\":{\"color\":\"#4D5663\"},\"title\":{\"font\":{\"color\":\"#4D5663\"},\"text\":\"\"},\"zerolinecolor\":\"#E1E5ED\"},\"yaxis6\":{\"anchor\":\"x6\",\"domain\":[0.535,0.7325],\"gridcolor\":\"#E1E5ED\",\"showgrid\":false,\"tickfont\":{\"color\":\"#4D5663\"},\"title\":{\"font\":{\"color\":\"#4D5663\"},\"text\":\"\"},\"zerolinecolor\":\"#E1E5ED\"},\"xaxis7\":{\"anchor\":\"y7\",\"domain\":[0.525,0.7375],\"gridcolor\":\"#E1E5ED\",\"showgrid\":false,\"tickfont\":{\"color\":\"#4D5663\"},\"title\":{\"font\":{\"color\":\"#4D5663\"},\"text\":\"\"},\"zerolinecolor\":\"#E1E5ED\"},\"yaxis7\":{\"anchor\":\"x7\",\"domain\":[0.535,0.7325],\"gridcolor\":\"#E1E5ED\",\"showgrid\":false,\"tickfont\":{\"color\":\"#4D5663\"},\"title\":{\"font\":{\"color\":\"#4D5663\"},\"text\":\"\"},\"zerolinecolor\":\"#E1E5ED\"},\"xaxis8\":{\"anchor\":\"y8\",\"domain\":[0.7875,1.0],\"gridcolor\":\"#E1E5ED\",\"showgrid\":false,\"tickfont\":{\"color\":\"#4D5663\"},\"title\":{\"font\":{\"color\":\"#4D5663\"},\"text\":\"\"},\"zerolinecolor\":\"#E1E5ED\"},\"yaxis8\":{\"anchor\":\"x8\",\"domain\":[0.535,0.7325],\"gridcolor\":\"#E1E5ED\",\"showgrid\":false,\"tickfont\":{\"color\":\"#4D5663\"},\"title\":{\"font\":{\"color\":\"#4D5663\"},\"text\":\"\"},\"zerolinecolor\":\"#E1E5ED\"},\"xaxis9\":{\"anchor\":\"y9\",\"domain\":[0.0,0.2125],\"gridcolor\":\"#E1E5ED\",\"showgrid\":false,\"tickfont\":{\"color\":\"#4D5663\"},\"title\":{\"font\":{\"color\":\"#4D5663\"},\"text\":\"\"},\"zerolinecolor\":\"#E1E5ED\"},\"yaxis9\":{\"anchor\":\"x9\",\"domain\":[0.2675,0.465],\"gridcolor\":\"#E1E5ED\",\"showgrid\":false,\"tickfont\":{\"color\":\"#4D5663\"},\"title\":{\"font\":{\"color\":\"#4D5663\"},\"text\":\"\"},\"zerolinecolor\":\"#E1E5ED\"},\"xaxis10\":{\"anchor\":\"y10\",\"domain\":[0.2625,0.475],\"gridcolor\":\"#E1E5ED\",\"showgrid\":false,\"tickfont\":{\"color\":\"#4D5663\"},\"title\":{\"font\":{\"color\":\"#4D5663\"},\"text\":\"\"},\"zerolinecolor\":\"#E1E5ED\"},\"yaxis10\":{\"anchor\":\"x10\",\"domain\":[0.2675,0.465],\"gridcolor\":\"#E1E5ED\",\"showgrid\":false,\"tickfont\":{\"color\":\"#4D5663\"},\"title\":{\"font\":{\"color\":\"#4D5663\"},\"text\":\"\"},\"zerolinecolor\":\"#E1E5ED\"},\"xaxis11\":{\"anchor\":\"y11\",\"domain\":[0.525,0.7375],\"gridcolor\":\"#E1E5ED\",\"showgrid\":false,\"tickfont\":{\"color\":\"#4D5663\"},\"title\":{\"font\":{\"color\":\"#4D5663\"},\"text\":\"\"},\"zerolinecolor\":\"#E1E5ED\"},\"yaxis11\":{\"anchor\":\"x11\",\"domain\":[0.2675,0.465],\"gridcolor\":\"#E1E5ED\",\"showgrid\":false,\"tickfont\":{\"color\":\"#4D5663\"},\"title\":{\"font\":{\"color\":\"#4D5663\"},\"text\":\"\"},\"zerolinecolor\":\"#E1E5ED\"},\"xaxis12\":{\"anchor\":\"y12\",\"domain\":[0.7875,1.0],\"gridcolor\":\"#E1E5ED\",\"showgrid\":false,\"tickfont\":{\"color\":\"#4D5663\"},\"title\":{\"font\":{\"color\":\"#4D5663\"},\"text\":\"\"},\"zerolinecolor\":\"#E1E5ED\"},\"yaxis12\":{\"anchor\":\"x12\",\"domain\":[0.2675,0.465],\"gridcolor\":\"#E1E5ED\",\"showgrid\":false,\"tickfont\":{\"color\":\"#4D5663\"},\"title\":{\"font\":{\"color\":\"#4D5663\"},\"text\":\"\"},\"zerolinecolor\":\"#E1E5ED\"},\"xaxis13\":{\"anchor\":\"y13\",\"domain\":[0.0,0.2125],\"gridcolor\":\"#E1E5ED\",\"showgrid\":false,\"tickfont\":{\"color\":\"#4D5663\"},\"title\":{\"font\":{\"color\":\"#4D5663\"},\"text\":\"\"},\"zerolinecolor\":\"#E1E5ED\"},\"yaxis13\":{\"anchor\":\"x13\",\"domain\":[0.0,0.1975],\"gridcolor\":\"#E1E5ED\",\"showgrid\":false,\"tickfont\":{\"color\":\"#4D5663\"},\"title\":{\"font\":{\"color\":\"#4D5663\"},\"text\":\"\"},\"zerolinecolor\":\"#E1E5ED\"},\"xaxis14\":{\"anchor\":\"y14\",\"domain\":[0.2625,0.475],\"gridcolor\":\"#E1E5ED\",\"showgrid\":false,\"tickfont\":{\"color\":\"#4D5663\"},\"title\":{\"font\":{\"color\":\"#4D5663\"},\"text\":\"\"},\"zerolinecolor\":\"#E1E5ED\"},\"yaxis14\":{\"anchor\":\"x14\",\"domain\":[0.0,0.1975],\"gridcolor\":\"#E1E5ED\",\"showgrid\":false,\"tickfont\":{\"color\":\"#4D5663\"},\"title\":{\"font\":{\"color\":\"#4D5663\"},\"text\":\"\"},\"zerolinecolor\":\"#E1E5ED\"},\"xaxis15\":{\"anchor\":\"y15\",\"domain\":[0.525,0.7375],\"gridcolor\":\"#E1E5ED\",\"showgrid\":false,\"tickfont\":{\"color\":\"#4D5663\"},\"title\":{\"font\":{\"color\":\"#4D5663\"},\"text\":\"\"},\"zerolinecolor\":\"#E1E5ED\"},\"yaxis15\":{\"anchor\":\"x15\",\"domain\":[0.0,0.1975],\"gridcolor\":\"#E1E5ED\",\"showgrid\":false,\"tickfont\":{\"color\":\"#4D5663\"},\"title\":{\"font\":{\"color\":\"#4D5663\"},\"text\":\"\"},\"zerolinecolor\":\"#E1E5ED\"},\"xaxis16\":{\"anchor\":\"y16\",\"domain\":[0.7875,1.0],\"gridcolor\":\"#E1E5ED\",\"showgrid\":false,\"tickfont\":{\"color\":\"#4D5663\"},\"title\":{\"font\":{\"color\":\"#4D5663\"},\"text\":\"\"},\"zerolinecolor\":\"#E1E5ED\"},\"yaxis16\":{\"anchor\":\"x16\",\"domain\":[0.0,0.1975],\"gridcolor\":\"#E1E5ED\",\"showgrid\":false,\"tickfont\":{\"color\":\"#4D5663\"},\"title\":{\"font\":{\"color\":\"#4D5663\"},\"text\":\"\"},\"zerolinecolor\":\"#E1E5ED\"}},                        {\"showLink\": true, \"linkText\": \"Export to plot.ly\", \"plotlyServerURL\": \"https://plot.ly\", \"responsive\": true}                    ).then(function(){\n",
       "                            \n",
       "var gd = document.getElementById('1d92898e-da16-4ccb-a764-bb584a135097');\n",
       "var x = new MutationObserver(function (mutations, observer) {{\n",
       "        var display = window.getComputedStyle(gd).display;\n",
       "        if (!display || display === 'none') {{\n",
       "            console.log([gd, 'removed!']);\n",
       "            Plotly.purge(gd);\n",
       "            observer.disconnect();\n",
       "        }}\n",
       "}});\n",
       "\n",
       "// Listen for the removal of the full notebook cells\n",
       "var notebookContainer = gd.closest('#notebook-container');\n",
       "if (notebookContainer) {{\n",
       "    x.observe(notebookContainer, {childList: true});\n",
       "}}\n",
       "\n",
       "// Listen for the clearing of the current output cell\n",
       "var outputEl = gd.closest('.output');\n",
       "if (outputEl) {{\n",
       "    x.observe(outputEl, {childList: true});\n",
       "}}\n",
       "\n",
       "                        })                };                });            </script>        </div>"
      ]
     },
     "metadata": {},
     "output_type": "display_data"
    }
   ],
   "source": [
    "df.scatter_matrix()"
   ]
  }
 ],
 "metadata": {
  "kernelspec": {
   "display_name": "dsml_practice_env",
   "language": "python",
   "name": "python3"
  },
  "language_info": {
   "codemirror_mode": {
    "name": "ipython",
    "version": 3
   },
   "file_extension": ".py",
   "mimetype": "text/x-python",
   "name": "python",
   "nbconvert_exporter": "python",
   "pygments_lexer": "ipython3",
   "version": "3.13.1"
  }
 },
 "nbformat": 4,
 "nbformat_minor": 0
}
